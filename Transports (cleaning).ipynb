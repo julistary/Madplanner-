{
 "cells": [
  {
   "cell_type": "code",
   "execution_count": 1,
   "metadata": {},
   "outputs": [],
   "source": [
    "import pandas as pd\n",
    "import src.transport as t"
   ]
  },
  {
   "cell_type": "code",
   "execution_count": 2,
   "metadata": {},
   "outputs": [],
   "source": [
    "transports = [ \"stops_autobuses_urbanos\", \"stops_emt\", \"stops_interurbanos\", \"stops_metro\",  \"stops_metro_ligero\"]"
   ]
  },
  {
   "cell_type": "code",
   "execution_count": 3,
   "metadata": {},
   "outputs": [],
   "source": [
    "for tr in transports:\n",
    "    name = \"transporte/\" + tr + \".csv\"\n",
    "    locals()[tr] = pd.read_csv(name, index_col=0)"
   ]
  },
  {
   "cell_type": "code",
   "execution_count": 4,
   "metadata": {},
   "outputs": [],
   "source": [
    "parking = pd.read_csv(\"transporte/parking.csv\", index_col=0, sep=\";\", encoding = \"ISO-8859-1\")"
   ]
  },
  {
   "cell_type": "code",
   "execution_count": 5,
   "metadata": {},
   "outputs": [],
   "source": [
    "for transport in transports:\n",
    "    locals()[transport] = t.limpito(locals()[transport])"
   ]
  },
  {
   "cell_type": "code",
   "execution_count": 6,
   "metadata": {},
   "outputs": [
    {
     "data": {
      "text/html": [
       "<div>\n",
       "<style scoped>\n",
       "    .dataframe tbody tr th:only-of-type {\n",
       "        vertical-align: middle;\n",
       "    }\n",
       "\n",
       "    .dataframe tbody tr th {\n",
       "        vertical-align: top;\n",
       "    }\n",
       "\n",
       "    .dataframe thead th {\n",
       "        text-align: right;\n",
       "    }\n",
       "</style>\n",
       "<table border=\"1\" class=\"dataframe\">\n",
       "  <thead>\n",
       "    <tr style=\"text-align: right;\">\n",
       "      <th></th>\n",
       "      <th>stop_name</th>\n",
       "      <th>stop_desc</th>\n",
       "      <th>stop_lat</th>\n",
       "      <th>stop_lon</th>\n",
       "      <th>geometry</th>\n",
       "    </tr>\n",
       "    <tr>\n",
       "      <th>stop_id</th>\n",
       "      <th></th>\n",
       "      <th></th>\n",
       "      <th></th>\n",
       "      <th></th>\n",
       "      <th></th>\n",
       "    </tr>\n",
       "  </thead>\n",
       "  <tbody>\n",
       "    <tr>\n",
       "      <th>par_4_1</th>\n",
       "      <td>PLAZA DE CASTILLA</td>\n",
       "      <td>Paseo de la Castellana 189</td>\n",
       "      <td>40.46690</td>\n",
       "      <td>-3.68917</td>\n",
       "      <td>{'type': 'Point', 'coordinates': [40.4669, -3....</td>\n",
       "    </tr>\n",
       "    <tr>\n",
       "      <th>acc_4_1_1</th>\n",
       "      <td>Plaza de Castilla</td>\n",
       "      <td>Paseo de la Castellana 189</td>\n",
       "      <td>40.46682</td>\n",
       "      <td>-3.68918</td>\n",
       "      <td>{'type': 'Point', 'coordinates': [40.46682, -3...</td>\n",
       "    </tr>\n",
       "    <tr>\n",
       "      <th>acc_4_1_1040</th>\n",
       "      <td>Ascensor</td>\n",
       "      <td>Plaza de Castilla 9</td>\n",
       "      <td>40.46555</td>\n",
       "      <td>-3.68877</td>\n",
       "      <td>{'type': 'Point', 'coordinates': [40.46555, -3...</td>\n",
       "    </tr>\n",
       "    <tr>\n",
       "      <th>acc_4_1_1043</th>\n",
       "      <td>Intercambiador Superficie</td>\n",
       "      <td>Paseo de la Castellana 191 B</td>\n",
       "      <td>40.46728</td>\n",
       "      <td>-3.68915</td>\n",
       "      <td>{'type': 'Point', 'coordinates': [40.46728, -3...</td>\n",
       "    </tr>\n",
       "    <tr>\n",
       "      <th>acc_4_1_1044</th>\n",
       "      <td>Ascensor</td>\n",
       "      <td>Paseo de la Castellana 189</td>\n",
       "      <td>40.46702</td>\n",
       "      <td>-3.68918</td>\n",
       "      <td>{'type': 'Point', 'coordinates': [40.46702, -3...</td>\n",
       "    </tr>\n",
       "  </tbody>\n",
       "</table>\n",
       "</div>"
      ],
      "text/plain": [
       "                              stop_name                     stop_desc  \\\n",
       "stop_id                                                                 \n",
       "par_4_1               PLAZA DE CASTILLA    Paseo de la Castellana 189   \n",
       "acc_4_1_1             Plaza de Castilla    Paseo de la Castellana 189   \n",
       "acc_4_1_1040                   Ascensor           Plaza de Castilla 9   \n",
       "acc_4_1_1043  Intercambiador Superficie  Paseo de la Castellana 191 B   \n",
       "acc_4_1_1044                   Ascensor    Paseo de la Castellana 189   \n",
       "\n",
       "              stop_lat  stop_lon  \\\n",
       "stop_id                            \n",
       "par_4_1       40.46690  -3.68917   \n",
       "acc_4_1_1     40.46682  -3.68918   \n",
       "acc_4_1_1040  40.46555  -3.68877   \n",
       "acc_4_1_1043  40.46728  -3.68915   \n",
       "acc_4_1_1044  40.46702  -3.68918   \n",
       "\n",
       "                                                       geometry  \n",
       "stop_id                                                          \n",
       "par_4_1       {'type': 'Point', 'coordinates': [40.4669, -3....  \n",
       "acc_4_1_1     {'type': 'Point', 'coordinates': [40.46682, -3...  \n",
       "acc_4_1_1040  {'type': 'Point', 'coordinates': [40.46555, -3...  \n",
       "acc_4_1_1043  {'type': 'Point', 'coordinates': [40.46728, -3...  \n",
       "acc_4_1_1044  {'type': 'Point', 'coordinates': [40.46702, -3...  "
      ]
     },
     "execution_count": 6,
     "metadata": {},
     "output_type": "execute_result"
    }
   ],
   "source": [
    "stops_metro.head()"
   ]
  },
  {
   "cell_type": "code",
   "execution_count": 7,
   "metadata": {},
   "outputs": [],
   "source": [
    "parking = t.limpito_parking(parking)"
   ]
  },
  {
   "cell_type": "code",
   "execution_count": 8,
   "metadata": {},
   "outputs": [
    {
     "data": {
      "text/html": [
       "<div>\n",
       "<style scoped>\n",
       "    .dataframe tbody tr th:only-of-type {\n",
       "        vertical-align: middle;\n",
       "    }\n",
       "\n",
       "    .dataframe tbody tr th {\n",
       "        vertical-align: top;\n",
       "    }\n",
       "\n",
       "    .dataframe thead th {\n",
       "        text-align: right;\n",
       "    }\n",
       "</style>\n",
       "<table border=\"1\" class=\"dataframe\">\n",
       "  <thead>\n",
       "    <tr style=\"text-align: right;\">\n",
       "      <th></th>\n",
       "      <th>NOMBRE</th>\n",
       "      <th>BARRIO</th>\n",
       "      <th>DISTRITO</th>\n",
       "      <th>LATITUD</th>\n",
       "      <th>LONGITUD</th>\n",
       "      <th>geometry</th>\n",
       "    </tr>\n",
       "    <tr>\n",
       "      <th>PK</th>\n",
       "      <th></th>\n",
       "      <th></th>\n",
       "      <th></th>\n",
       "      <th></th>\n",
       "      <th></th>\n",
       "      <th></th>\n",
       "    </tr>\n",
       "  </thead>\n",
       "  <tbody>\n",
       "    <tr>\n",
       "      <th>13470</th>\n",
       "      <td>Aparcamiento mixto. Arquitecto Ribera</td>\n",
       "      <td>JUSTICIA</td>\n",
       "      <td>CENTRO</td>\n",
       "      <td>40.426688</td>\n",
       "      <td>-3.699617</td>\n",
       "      <td>{'type': 'Point', 'coordinates': [40.426687899...</td>\n",
       "    </tr>\n",
       "    <tr>\n",
       "      <th>59060</th>\n",
       "      <td>Aparcamiento mixto. Avenida de América (interc...</td>\n",
       "      <td>PROSPERIDAD</td>\n",
       "      <td>CHAMARTIN</td>\n",
       "      <td>40.438861</td>\n",
       "      <td>-3.676622</td>\n",
       "      <td>{'type': 'Point', 'coordinates': [40.438860831...</td>\n",
       "    </tr>\n",
       "    <tr>\n",
       "      <th>13475</th>\n",
       "      <td>Aparcamiento mixto. Brasil</td>\n",
       "      <td>CUATRO CAMINOS</td>\n",
       "      <td>TETUAN</td>\n",
       "      <td>40.456108</td>\n",
       "      <td>-3.694132</td>\n",
       "      <td>{'type': 'Point', 'coordinates': [40.456108349...</td>\n",
       "    </tr>\n",
       "    <tr>\n",
       "      <th>183747</th>\n",
       "      <td>Aparcamiento mixto. Casino de la Reina</td>\n",
       "      <td>EMBAJADORES</td>\n",
       "      <td>CENTRO</td>\n",
       "      <td>40.406793</td>\n",
       "      <td>-3.704609</td>\n",
       "      <td>{'type': 'Point', 'coordinates': [40.406792648...</td>\n",
       "    </tr>\n",
       "    <tr>\n",
       "      <th>13477</th>\n",
       "      <td>Aparcamiento mixto. Condesa de Gavia</td>\n",
       "      <td>CUATRO CAMINOS</td>\n",
       "      <td>TETUAN</td>\n",
       "      <td>40.449386</td>\n",
       "      <td>-3.701916</td>\n",
       "      <td>{'type': 'Point', 'coordinates': [40.449385679...</td>\n",
       "    </tr>\n",
       "  </tbody>\n",
       "</table>\n",
       "</div>"
      ],
      "text/plain": [
       "                                                   NOMBRE          BARRIO  \\\n",
       "PK                                                                          \n",
       "13470               Aparcamiento mixto. Arquitecto Ribera        JUSTICIA   \n",
       "59060   Aparcamiento mixto. Avenida de América (interc...     PROSPERIDAD   \n",
       "13475                          Aparcamiento mixto. Brasil  CUATRO CAMINOS   \n",
       "183747             Aparcamiento mixto. Casino de la Reina     EMBAJADORES   \n",
       "13477                Aparcamiento mixto. Condesa de Gavia  CUATRO CAMINOS   \n",
       "\n",
       "         DISTRITO    LATITUD  LONGITUD  \\\n",
       "PK                                       \n",
       "13470      CENTRO  40.426688 -3.699617   \n",
       "59060   CHAMARTIN  40.438861 -3.676622   \n",
       "13475      TETUAN  40.456108 -3.694132   \n",
       "183747     CENTRO  40.406793 -3.704609   \n",
       "13477      TETUAN  40.449386 -3.701916   \n",
       "\n",
       "                                                 geometry  \n",
       "PK                                                         \n",
       "13470   {'type': 'Point', 'coordinates': [40.426687899...  \n",
       "59060   {'type': 'Point', 'coordinates': [40.438860831...  \n",
       "13475   {'type': 'Point', 'coordinates': [40.456108349...  \n",
       "183747  {'type': 'Point', 'coordinates': [40.406792648...  \n",
       "13477   {'type': 'Point', 'coordinates': [40.449385679...  "
      ]
     },
     "execution_count": 8,
     "metadata": {},
     "output_type": "execute_result"
    }
   ],
   "source": [
    "parking.head()"
   ]
  },
  {
   "cell_type": "code",
   "execution_count": null,
   "metadata": {},
   "outputs": [],
   "source": []
  }
 ],
 "metadata": {
  "kernelspec": {
   "display_name": "plan",
   "language": "python",
   "name": "plan"
  },
  "language_info": {
   "codemirror_mode": {
    "name": "ipython",
    "version": 3
   },
   "file_extension": ".py",
   "mimetype": "text/x-python",
   "name": "python",
   "nbconvert_exporter": "python",
   "pygments_lexer": "ipython3",
   "version": "3.8.8"
  }
 },
 "nbformat": 4,
 "nbformat_minor": 4
}
