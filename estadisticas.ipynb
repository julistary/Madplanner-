{
 "cells": [
  {
   "cell_type": "code",
   "execution_count": 1,
   "metadata": {},
   "outputs": [],
   "source": [
    "import pandas as pd"
   ]
  },
  {
   "cell_type": "code",
   "execution_count": 2,
   "metadata": {},
   "outputs": [],
   "source": [
    "df_cat = pd.read_csv(\"preferences/cat.csv\")\n",
    "df_loc =  pd.read_csv(\"preferences/loc.csv\")\n",
    "df_price =  pd.read_csv(\"preferences/price.csv\")\n",
    "df_rat =  pd.read_csv(\"preferences/rat.csv\")\n",
    "df_type =  pd.read_csv(\"preferences/type.csv\")"
   ]
  },
  {
   "cell_type": "markdown",
   "metadata": {},
   "source": [
    "## Categories"
   ]
  },
  {
   "cell_type": "code",
   "execution_count": 3,
   "metadata": {},
   "outputs": [
    {
     "data": {
      "text/html": [
       "<div>\n",
       "<style scoped>\n",
       "    .dataframe tbody tr th:only-of-type {\n",
       "        vertical-align: middle;\n",
       "    }\n",
       "\n",
       "    .dataframe tbody tr th {\n",
       "        vertical-align: top;\n",
       "    }\n",
       "\n",
       "    .dataframe thead th {\n",
       "        text-align: right;\n",
       "    }\n",
       "</style>\n",
       "<table border=\"1\" class=\"dataframe\">\n",
       "  <thead>\n",
       "    <tr style=\"text-align: right;\">\n",
       "      <th></th>\n",
       "      <th>name</th>\n",
       "      <th>age</th>\n",
       "      <th>category</th>\n",
       "      <th>subcategory</th>\n",
       "      <th>filter</th>\n",
       "      <th>time</th>\n",
       "    </tr>\n",
       "  </thead>\n",
       "  <tbody>\n",
       "    <tr>\n",
       "      <th>0</th>\n",
       "      <td>Julieta</td>\n",
       "      <td>23.0</td>\n",
       "      <td>select..</td>\n",
       "      <td>select..</td>\n",
       "      <td>category</td>\n",
       "      <td>2021-05-17 19:05:23.584347</td>\n",
       "    </tr>\n",
       "    <tr>\n",
       "      <th>1</th>\n",
       "      <td>Julieta</td>\n",
       "      <td>23.0</td>\n",
       "      <td>party</td>\n",
       "      <td>select..</td>\n",
       "      <td>category</td>\n",
       "      <td>2021-05-17 19:05:26.649778</td>\n",
       "    </tr>\n",
       "    <tr>\n",
       "      <th>2</th>\n",
       "      <td>Julieta</td>\n",
       "      <td>23.0</td>\n",
       "      <td>party</td>\n",
       "      <td>dancing</td>\n",
       "      <td>category</td>\n",
       "      <td>2021-05-17 19:05:30.102997</td>\n",
       "    </tr>\n",
       "  </tbody>\n",
       "</table>\n",
       "</div>"
      ],
      "text/plain": [
       "      name   age  category subcategory    filter                        time\n",
       "0  Julieta  23.0  select..    select..  category  2021-05-17 19:05:23.584347\n",
       "1  Julieta  23.0     party    select..  category  2021-05-17 19:05:26.649778\n",
       "2  Julieta  23.0     party     dancing  category  2021-05-17 19:05:30.102997"
      ]
     },
     "execution_count": 3,
     "metadata": {},
     "output_type": "execute_result"
    }
   ],
   "source": [
    "df_cat.head()"
   ]
  },
  {
   "cell_type": "code",
   "execution_count": 4,
   "metadata": {},
   "outputs": [],
   "source": [
    "df_cat.drop(df_cat[df_cat.category == \"select..\"].index, inplace=True)\n",
    "df_cat.drop(df_cat[df_cat.subcategory == \"select..\"].index, inplace=True)\n",
    "df_cat = df_cat.reset_index()\n",
    "df_cat.drop([\"index\"],axis=1,inplace=True)"
   ]
  },
  {
   "cell_type": "code",
   "execution_count": 5,
   "metadata": {},
   "outputs": [
    {
     "data": {
      "text/html": [
       "<div>\n",
       "<style scoped>\n",
       "    .dataframe tbody tr th:only-of-type {\n",
       "        vertical-align: middle;\n",
       "    }\n",
       "\n",
       "    .dataframe tbody tr th {\n",
       "        vertical-align: top;\n",
       "    }\n",
       "\n",
       "    .dataframe thead th {\n",
       "        text-align: right;\n",
       "    }\n",
       "</style>\n",
       "<table border=\"1\" class=\"dataframe\">\n",
       "  <thead>\n",
       "    <tr style=\"text-align: right;\">\n",
       "      <th></th>\n",
       "      <th>name</th>\n",
       "      <th>age</th>\n",
       "      <th>category</th>\n",
       "      <th>subcategory</th>\n",
       "      <th>filter</th>\n",
       "      <th>time</th>\n",
       "    </tr>\n",
       "  </thead>\n",
       "  <tbody>\n",
       "    <tr>\n",
       "      <th>0</th>\n",
       "      <td>Julieta</td>\n",
       "      <td>23.0</td>\n",
       "      <td>party</td>\n",
       "      <td>dancing</td>\n",
       "      <td>category</td>\n",
       "      <td>2021-05-17 19:05:30.102997</td>\n",
       "    </tr>\n",
       "  </tbody>\n",
       "</table>\n",
       "</div>"
      ],
      "text/plain": [
       "      name   age category subcategory    filter                        time\n",
       "0  Julieta  23.0    party     dancing  category  2021-05-17 19:05:30.102997"
      ]
     },
     "execution_count": 5,
     "metadata": {},
     "output_type": "execute_result"
    }
   ],
   "source": [
    "df_cat"
   ]
  },
  {
   "cell_type": "markdown",
   "metadata": {},
   "source": [
    "## Location"
   ]
  },
  {
   "cell_type": "code",
   "execution_count": 6,
   "metadata": {},
   "outputs": [
    {
     "data": {
      "text/html": [
       "<div>\n",
       "<style scoped>\n",
       "    .dataframe tbody tr th:only-of-type {\n",
       "        vertical-align: middle;\n",
       "    }\n",
       "\n",
       "    .dataframe tbody tr th {\n",
       "        vertical-align: top;\n",
       "    }\n",
       "\n",
       "    .dataframe thead th {\n",
       "        text-align: right;\n",
       "    }\n",
       "</style>\n",
       "<table border=\"1\" class=\"dataframe\">\n",
       "  <thead>\n",
       "    <tr style=\"text-align: right;\">\n",
       "      <th></th>\n",
       "      <th>name</th>\n",
       "      <th>age</th>\n",
       "      <th>where</th>\n",
       "      <th>district</th>\n",
       "      <th>filter</th>\n",
       "      <th>time</th>\n",
       "    </tr>\n",
       "  </thead>\n",
       "  <tbody>\n",
       "    <tr>\n",
       "      <th>0</th>\n",
       "      <td>Julieta</td>\n",
       "      <td>23.0</td>\n",
       "      <td>Madrid</td>\n",
       "      <td>Chamartín</td>\n",
       "      <td>location</td>\n",
       "      <td>2021-05-17 19:05:48.343924</td>\n",
       "    </tr>\n",
       "    <tr>\n",
       "      <th>1</th>\n",
       "      <td>Gala</td>\n",
       "      <td>3.0</td>\n",
       "      <td>Other towns in Madrid</td>\n",
       "      <td>Alcobendas</td>\n",
       "      <td>location</td>\n",
       "      <td>2021-05-17 19:14:37.002046</td>\n",
       "    </tr>\n",
       "    <tr>\n",
       "      <th>2</th>\n",
       "      <td>Juli</td>\n",
       "      <td>23.0</td>\n",
       "      <td>Other towns in Madrid</td>\n",
       "      <td>Alcobendas</td>\n",
       "      <td>location</td>\n",
       "      <td>2021-05-17 19:15:22.709230</td>\n",
       "    </tr>\n",
       "  </tbody>\n",
       "</table>\n",
       "</div>"
      ],
      "text/plain": [
       "      name   age                  where    district    filter  \\\n",
       "0  Julieta  23.0                 Madrid   Chamartín  location   \n",
       "1     Gala   3.0  Other towns in Madrid  Alcobendas  location   \n",
       "2     Juli  23.0  Other towns in Madrid  Alcobendas  location   \n",
       "\n",
       "                         time  \n",
       "0  2021-05-17 19:05:48.343924  \n",
       "1  2021-05-17 19:14:37.002046  \n",
       "2  2021-05-17 19:15:22.709230  "
      ]
     },
     "execution_count": 6,
     "metadata": {},
     "output_type": "execute_result"
    }
   ],
   "source": [
    "df_loc"
   ]
  },
  {
   "cell_type": "markdown",
   "metadata": {},
   "source": [
    "## Price"
   ]
  },
  {
   "cell_type": "code",
   "execution_count": 7,
   "metadata": {},
   "outputs": [
    {
     "data": {
      "text/html": [
       "<div>\n",
       "<style scoped>\n",
       "    .dataframe tbody tr th:only-of-type {\n",
       "        vertical-align: middle;\n",
       "    }\n",
       "\n",
       "    .dataframe tbody tr th {\n",
       "        vertical-align: top;\n",
       "    }\n",
       "\n",
       "    .dataframe thead th {\n",
       "        text-align: right;\n",
       "    }\n",
       "</style>\n",
       "<table border=\"1\" class=\"dataframe\">\n",
       "  <thead>\n",
       "    <tr style=\"text-align: right;\">\n",
       "      <th></th>\n",
       "      <th>name</th>\n",
       "      <th>age</th>\n",
       "      <th>max</th>\n",
       "      <th>filter</th>\n",
       "      <th>time</th>\n",
       "    </tr>\n",
       "  </thead>\n",
       "  <tbody>\n",
       "    <tr>\n",
       "      <th>0</th>\n",
       "      <td>Julieta</td>\n",
       "      <td>23.0</td>\n",
       "      <td>80</td>\n",
       "      <td>price</td>\n",
       "      <td>2021-05-17 19:06:14.159666</td>\n",
       "    </tr>\n",
       "  </tbody>\n",
       "</table>\n",
       "</div>"
      ],
      "text/plain": [
       "      name   age  max filter                        time\n",
       "0  Julieta  23.0   80  price  2021-05-17 19:06:14.159666"
      ]
     },
     "execution_count": 7,
     "metadata": {},
     "output_type": "execute_result"
    }
   ],
   "source": [
    "df_price"
   ]
  },
  {
   "cell_type": "markdown",
   "metadata": {},
   "source": [
    "## Type"
   ]
  },
  {
   "cell_type": "code",
   "execution_count": 8,
   "metadata": {},
   "outputs": [
    {
     "data": {
      "text/html": [
       "<div>\n",
       "<style scoped>\n",
       "    .dataframe tbody tr th:only-of-type {\n",
       "        vertical-align: middle;\n",
       "    }\n",
       "\n",
       "    .dataframe tbody tr th {\n",
       "        vertical-align: top;\n",
       "    }\n",
       "\n",
       "    .dataframe thead th {\n",
       "        text-align: right;\n",
       "    }\n",
       "</style>\n",
       "<table border=\"1\" class=\"dataframe\">\n",
       "  <thead>\n",
       "    <tr style=\"text-align: right;\">\n",
       "      <th></th>\n",
       "      <th>name</th>\n",
       "      <th>age</th>\n",
       "      <th>type</th>\n",
       "      <th>filter</th>\n",
       "      <th>time</th>\n",
       "    </tr>\n",
       "  </thead>\n",
       "  <tbody>\n",
       "    <tr>\n",
       "      <th>0</th>\n",
       "      <td>Julieta</td>\n",
       "      <td>23.0</td>\n",
       "      <td>team building</td>\n",
       "      <td>type</td>\n",
       "      <td>2021-05-17 19:06:03.647907</td>\n",
       "    </tr>\n",
       "    <tr>\n",
       "      <th>1</th>\n",
       "      <td>Julieta</td>\n",
       "      <td>23.0</td>\n",
       "      <td>couple</td>\n",
       "      <td>type</td>\n",
       "      <td>2021-05-17 19:06:58.319326</td>\n",
       "    </tr>\n",
       "    <tr>\n",
       "      <th>2</th>\n",
       "      <td>Julieta</td>\n",
       "      <td>23.0</td>\n",
       "      <td>team building</td>\n",
       "      <td>type</td>\n",
       "      <td>2021-05-17 19:07:32.577682</td>\n",
       "    </tr>\n",
       "    <tr>\n",
       "      <th>3</th>\n",
       "      <td>Gala</td>\n",
       "      <td>3.0</td>\n",
       "      <td>individual</td>\n",
       "      <td>type</td>\n",
       "      <td>2021-05-17 19:09:35.093325</td>\n",
       "    </tr>\n",
       "    <tr>\n",
       "      <th>4</th>\n",
       "      <td>Gala</td>\n",
       "      <td>5.0</td>\n",
       "      <td>couple</td>\n",
       "      <td>type</td>\n",
       "      <td>2021-05-17 19:10:05.369347</td>\n",
       "    </tr>\n",
       "    <tr>\n",
       "      <th>5</th>\n",
       "      <td>Gala</td>\n",
       "      <td>3.0</td>\n",
       "      <td>family</td>\n",
       "      <td>type</td>\n",
       "      <td>2021-05-17 19:10:27.321624</td>\n",
       "    </tr>\n",
       "    <tr>\n",
       "      <th>6</th>\n",
       "      <td>Gala</td>\n",
       "      <td>3.0</td>\n",
       "      <td>family</td>\n",
       "      <td>type</td>\n",
       "      <td>2021-05-17 19:10:46.939912</td>\n",
       "    </tr>\n",
       "  </tbody>\n",
       "</table>\n",
       "</div>"
      ],
      "text/plain": [
       "      name   age           type filter                        time\n",
       "0  Julieta  23.0  team building   type  2021-05-17 19:06:03.647907\n",
       "1  Julieta  23.0         couple   type  2021-05-17 19:06:58.319326\n",
       "2  Julieta  23.0  team building   type  2021-05-17 19:07:32.577682\n",
       "3     Gala   3.0     individual   type  2021-05-17 19:09:35.093325\n",
       "4     Gala   5.0         couple   type  2021-05-17 19:10:05.369347\n",
       "5     Gala   3.0         family   type  2021-05-17 19:10:27.321624\n",
       "6     Gala   3.0         family   type  2021-05-17 19:10:46.939912"
      ]
     },
     "execution_count": 8,
     "metadata": {},
     "output_type": "execute_result"
    }
   ],
   "source": [
    "df_type"
   ]
  },
  {
   "cell_type": "markdown",
   "metadata": {},
   "source": [
    "## Rating"
   ]
  },
  {
   "cell_type": "code",
   "execution_count": 9,
   "metadata": {},
   "outputs": [
    {
     "data": {
      "text/html": [
       "<div>\n",
       "<style scoped>\n",
       "    .dataframe tbody tr th:only-of-type {\n",
       "        vertical-align: middle;\n",
       "    }\n",
       "\n",
       "    .dataframe tbody tr th {\n",
       "        vertical-align: top;\n",
       "    }\n",
       "\n",
       "    .dataframe thead th {\n",
       "        text-align: right;\n",
       "    }\n",
       "</style>\n",
       "<table border=\"1\" class=\"dataframe\">\n",
       "  <thead>\n",
       "    <tr style=\"text-align: right;\">\n",
       "      <th></th>\n",
       "      <th>name</th>\n",
       "      <th>age</th>\n",
       "      <th>min</th>\n",
       "      <th>filter</th>\n",
       "      <th>time</th>\n",
       "    </tr>\n",
       "  </thead>\n",
       "  <tbody>\n",
       "    <tr>\n",
       "      <th>0</th>\n",
       "      <td>Julieta</td>\n",
       "      <td>23.0</td>\n",
       "      <td>4.9</td>\n",
       "      <td>rating</td>\n",
       "      <td>2021-05-17 19:06:23.870826</td>\n",
       "    </tr>\n",
       "  </tbody>\n",
       "</table>\n",
       "</div>"
      ],
      "text/plain": [
       "      name   age  min  filter                        time\n",
       "0  Julieta  23.0  4.9  rating  2021-05-17 19:06:23.870826"
      ]
     },
     "execution_count": 9,
     "metadata": {},
     "output_type": "execute_result"
    }
   ],
   "source": [
    "df_rat"
   ]
  },
  {
   "cell_type": "code",
   "execution_count": null,
   "metadata": {},
   "outputs": [],
   "source": []
  }
 ],
 "metadata": {
  "kernelspec": {
   "display_name": "plan",
   "language": "python",
   "name": "plan"
  },
  "language_info": {
   "codemirror_mode": {
    "name": "ipython",
    "version": 3
   },
   "file_extension": ".py",
   "mimetype": "text/x-python",
   "name": "python",
   "nbconvert_exporter": "python",
   "pygments_lexer": "ipython3",
   "version": "3.8.8"
  }
 },
 "nbformat": 4,
 "nbformat_minor": 4
}
