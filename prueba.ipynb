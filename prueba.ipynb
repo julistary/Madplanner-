{
 "cells": [
  {
   "cell_type": "code",
   "execution_count": 24,
   "metadata": {},
   "outputs": [],
   "source": [
    "import pandas as pd\n",
    "import os\n",
    "import json\n",
    "from pymongo import MongoClient\n",
    "import requests\n",
    "from tqdm import tqdm\n",
    "from dotenv import load_dotenv\n",
    "import src.foursquares as fs\n",
    "conn = MongoClient(\"localhost:27017\")\n",
    "db = conn.get_database(\"madrid\")\n",
    "from pymongo import GEOSPHERE"
   ]
  },
  {
   "cell_type": "code",
   "execution_count": 25,
   "metadata": {},
   "outputs": [],
   "source": [
    "madrid = [40.4165, -3.70256]\n",
    "madrid_point = {\"type\": \"Point\",  \"coordinates\": madrid}"
   ]
  },
  {
   "cell_type": "code",
   "execution_count": 26,
   "metadata": {},
   "outputs": [],
   "source": [
    "cinema = fs.f_call(madrid_point,'cinema')"
   ]
  },
  {
   "cell_type": "code",
   "execution_count": 27,
   "metadata": {},
   "outputs": [
    {
     "data": {
      "text/html": [
       "<div>\n",
       "<style scoped>\n",
       "    .dataframe tbody tr th:only-of-type {\n",
       "        vertical-align: middle;\n",
       "    }\n",
       "\n",
       "    .dataframe tbody tr th {\n",
       "        vertical-align: top;\n",
       "    }\n",
       "\n",
       "    .dataframe thead th {\n",
       "        text-align: right;\n",
       "    }\n",
       "</style>\n",
       "<table border=\"1\" class=\"dataframe\">\n",
       "  <thead>\n",
       "    <tr style=\"text-align: right;\">\n",
       "      <th></th>\n",
       "      <th>name</th>\n",
       "      <th>CP</th>\n",
       "      <th>location</th>\n",
       "      <th>place</th>\n",
       "    </tr>\n",
       "  </thead>\n",
       "  <tbody>\n",
       "    <tr>\n",
       "      <th>0</th>\n",
       "      <td>Yelmo Cines Ideal</td>\n",
       "      <td>28012</td>\n",
       "      <td>{'type': 'Point', 'coordinates': [-3.703745343...</td>\n",
       "      <td>cinema</td>\n",
       "    </tr>\n",
       "    <tr>\n",
       "      <th>1</th>\n",
       "      <td>Cine Doré</td>\n",
       "      <td>28012</td>\n",
       "      <td>{'type': 'Point', 'coordinates': [-3.699266871...</td>\n",
       "      <td>cinema</td>\n",
       "    </tr>\n",
       "    <tr>\n",
       "      <th>2</th>\n",
       "      <td>Cines Callao - Callao City Lights</td>\n",
       "      <td>28013</td>\n",
       "      <td>{'type': 'Point', 'coordinates': [-3.706089111...</td>\n",
       "      <td>cinema</td>\n",
       "    </tr>\n",
       "    <tr>\n",
       "      <th>3</th>\n",
       "      <td>Palacio de la Prensa</td>\n",
       "      <td>28013</td>\n",
       "      <td>{'type': 'Point', 'coordinates': [-3.705900944...</td>\n",
       "      <td>cinema</td>\n",
       "    </tr>\n",
       "    <tr>\n",
       "      <th>4</th>\n",
       "      <td>Cine Capitol 3D</td>\n",
       "      <td>28013</td>\n",
       "      <td>{'type': 'Point', 'coordinates': [-3.706468197...</td>\n",
       "      <td>cinema</td>\n",
       "    </tr>\n",
       "    <tr>\n",
       "      <th>5</th>\n",
       "      <td>Cines Luna</td>\n",
       "      <td>28004</td>\n",
       "      <td>{'type': 'Point', 'coordinates': [-3.705052, 4...</td>\n",
       "      <td>cinema</td>\n",
       "    </tr>\n",
       "    <tr>\n",
       "      <th>6</th>\n",
       "      <td>Sala Equis</td>\n",
       "      <td>28012</td>\n",
       "      <td>{'type': 'Point', 'coordinates': [-3.706028355...</td>\n",
       "      <td>cinema</td>\n",
       "    </tr>\n",
       "    <tr>\n",
       "      <th>7</th>\n",
       "      <td>Microteatro por dinero</td>\n",
       "      <td>28004</td>\n",
       "      <td>{'type': 'Point', 'coordinates': [-3.704046723...</td>\n",
       "      <td>cinema</td>\n",
       "    </tr>\n",
       "    <tr>\n",
       "      <th>8</th>\n",
       "      <td>Cines Princesa</td>\n",
       "      <td>28008</td>\n",
       "      <td>{'type': 'Point', 'coordinates': [-3.712671006...</td>\n",
       "      <td>cinema</td>\n",
       "    </tr>\n",
       "    <tr>\n",
       "      <th>9</th>\n",
       "      <td>Institut Français de Madrid</td>\n",
       "      <td>28004</td>\n",
       "      <td>{'type': 'Point', 'coordinates': [-3.691997671...</td>\n",
       "      <td>cinema</td>\n",
       "    </tr>\n",
       "    <tr>\n",
       "      <th>10</th>\n",
       "      <td>Cine Estudio del Círculo de Bellas Artes</td>\n",
       "      <td>28014</td>\n",
       "      <td>{'type': 'Point', 'coordinates': [-3.696424291...</td>\n",
       "      <td>cinema</td>\n",
       "    </tr>\n",
       "    <tr>\n",
       "      <th>11</th>\n",
       "      <td>CLAN DE BICHOS</td>\n",
       "      <td>28013</td>\n",
       "      <td>{'type': 'Point', 'coordinates': [-3.709122999...</td>\n",
       "      <td>cinema</td>\n",
       "    </tr>\n",
       "    <tr>\n",
       "      <th>12</th>\n",
       "      <td>Mariano Lavida</td>\n",
       "      <td>28004</td>\n",
       "      <td>{'type': 'Point', 'coordinates': [-3.702207100...</td>\n",
       "      <td>cinema</td>\n",
       "    </tr>\n",
       "    <tr>\n",
       "      <th>13</th>\n",
       "      <td>The Urban Beach Cinema Conde Duque</td>\n",
       "      <td>None</td>\n",
       "      <td>{'type': 'Point', 'coordinates': [-3.711118947...</td>\n",
       "      <td>cinema</td>\n",
       "    </tr>\n",
       "  </tbody>\n",
       "</table>\n",
       "</div>"
      ],
      "text/plain": [
       "                                        name     CP  \\\n",
       "0                          Yelmo Cines Ideal  28012   \n",
       "1                                  Cine Doré  28012   \n",
       "2          Cines Callao - Callao City Lights  28013   \n",
       "3                       Palacio de la Prensa  28013   \n",
       "4                            Cine Capitol 3D  28013   \n",
       "5                                 Cines Luna  28004   \n",
       "6                                 Sala Equis  28012   \n",
       "7                     Microteatro por dinero  28004   \n",
       "8                             Cines Princesa  28008   \n",
       "9                Institut Français de Madrid  28004   \n",
       "10  Cine Estudio del Círculo de Bellas Artes  28014   \n",
       "11                            CLAN DE BICHOS  28013   \n",
       "12                            Mariano Lavida  28004   \n",
       "13        The Urban Beach Cinema Conde Duque   None   \n",
       "\n",
       "                                             location   place  \n",
       "0   {'type': 'Point', 'coordinates': [-3.703745343...  cinema  \n",
       "1   {'type': 'Point', 'coordinates': [-3.699266871...  cinema  \n",
       "2   {'type': 'Point', 'coordinates': [-3.706089111...  cinema  \n",
       "3   {'type': 'Point', 'coordinates': [-3.705900944...  cinema  \n",
       "4   {'type': 'Point', 'coordinates': [-3.706468197...  cinema  \n",
       "5   {'type': 'Point', 'coordinates': [-3.705052, 4...  cinema  \n",
       "6   {'type': 'Point', 'coordinates': [-3.706028355...  cinema  \n",
       "7   {'type': 'Point', 'coordinates': [-3.704046723...  cinema  \n",
       "8   {'type': 'Point', 'coordinates': [-3.712671006...  cinema  \n",
       "9   {'type': 'Point', 'coordinates': [-3.691997671...  cinema  \n",
       "10  {'type': 'Point', 'coordinates': [-3.696424291...  cinema  \n",
       "11  {'type': 'Point', 'coordinates': [-3.709122999...  cinema  \n",
       "12  {'type': 'Point', 'coordinates': [-3.702207100...  cinema  \n",
       "13  {'type': 'Point', 'coordinates': [-3.711118947...  cinema  "
      ]
     },
     "execution_count": 27,
     "metadata": {},
     "output_type": "execute_result"
    }
   ],
   "source": [
    "df_cinema = fs.call_to_df(cinema)\n",
    "df_cinema['place'] = 'cinema'\n",
    "df_cinema"
   ]
  },
  {
   "cell_type": "code",
   "execution_count": 28,
   "metadata": {},
   "outputs": [],
   "source": [
    "df_cinema.to_json(\"cinema\", orient=\"records\")"
   ]
  },
  {
   "cell_type": "code",
   "execution_count": 29,
   "metadata": {},
   "outputs": [
    {
     "name": "stdout",
     "output_type": "stream",
     "text": [
      "2021-05-11T14:37:14.121+0200\tconnected to: mongodb://localhost/\r\n",
      "2021-05-11T14:37:14.129+0200\t14 document(s) imported successfully. 0 document(s) failed to import.\r\n"
     ]
    }
   ],
   "source": [
    "try:\n",
    "    !mongoimport --db madrid --collection plans --jsonArray cinema\n",
    "except:\n",
    "    pass"
   ]
  },
  {
   "cell_type": "code",
   "execution_count": 44,
   "metadata": {},
   "outputs": [
    {
     "data": {
      "text/plain": [
       "{'_id': ObjectId('609a795a11c091d804263b97'),\n",
       " 'name': 'Yelmo Cines Ideal',\n",
       " 'CP': '28012',\n",
       " 'location': {'type': 'Point', 'coordinates': [-3.7037453431, 40.4137746362]},\n",
       " 'place': 'cinema'}"
      ]
     },
     "execution_count": 44,
     "metadata": {},
     "output_type": "execute_result"
    }
   ],
   "source": [
    "db.madrid.create_index([(\"geometry\", GEOSPHERE)])\n",
    "collection = db.get_collection(\"plans\")\n",
    "\n",
    "collection.find_one({})"
   ]
  },
  {
   "cell_type": "code",
   "execution_count": 43,
   "metadata": {},
   "outputs": [],
   "source": [
    "#collection.update_many(df_cinema,update=True)"
   ]
  },
  {
   "cell_type": "code",
   "execution_count": null,
   "metadata": {},
   "outputs": [],
   "source": []
  }
 ],
 "metadata": {
  "kernelspec": {
   "display_name": "plan",
   "language": "python",
   "name": "plan"
  },
  "language_info": {
   "codemirror_mode": {
    "name": "ipython",
    "version": 3
   },
   "file_extension": ".py",
   "mimetype": "text/x-python",
   "name": "python",
   "nbconvert_exporter": "python",
   "pygments_lexer": "ipython3",
   "version": "3.8.8"
  }
 },
 "nbformat": 4,
 "nbformat_minor": 4
}
