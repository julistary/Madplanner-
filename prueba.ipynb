{
 "cells": [
  {
   "cell_type": "code",
   "execution_count": 16,
   "metadata": {},
   "outputs": [],
   "source": [
    "import pandas as pd\n",
    "import os\n",
    "import json\n",
    "from pymongo import MongoClient\n",
    "import requests\n",
    "from tqdm import tqdm\n",
    "from dotenv import load_dotenv\n",
    "import src.foursquares as fs\n",
    "conn = MongoClient(\"localhost:27017\")\n",
    "db = conn.get_database(\"madrid\")\n",
    "from pymongo import GEOSPHERE"
   ]
  },
  {
   "cell_type": "code",
   "execution_count": 17,
   "metadata": {},
   "outputs": [],
   "source": [
    "madrid = [40.41677228859327, -3.70381458550961]\n",
    "madrid_point = {\"type\": \"Point\",  \"coordinates\": madrid}"
   ]
  },
  {
   "cell_type": "code",
   "execution_count": 24,
   "metadata": {},
   "outputs": [],
   "source": [
    "lista = [\"cinema\", \"museum\", \"park\", \"zoo\", \"faunia\", \"japanese\", \"burger\", \"vietnamese\", \"sandwich\", \"tapas\", \"korean\", \"brewery\", \"club\", \"pub\", \"bowling\", \"greek\", \"juices\", \"vegan\", \"french\", \"mexican\", \"asian\", \"rooftop\", \"cocktail\", \"nightlife\", \"ramen\", \"argentino\", \"grill\", \"italian\", \"thai\", \"cake\", \"cupcakes\", \"coffee\", \"aperitivo\", \"sushi\", \"mid_eastern\", \"indian\", \"pizza\", \"sweets\", \"theater\", \"spa\", \"ice_cream\", \"sports_bar\", \"bakery\", \"healthy\", \"vegetarian\", \"drinks\", \"jazz\", \"wine\", \"karaoke\", \"dancing\", \"seafood\"]"
   ]
  },
  {
   "cell_type": "code",
   "execution_count": 25,
   "metadata": {},
   "outputs": [],
   "source": [
    "for place in lista:\n",
    "    locals()[place] = fs.f_call(madrid_point, place)"
   ]
  },
  {
   "cell_type": "code",
   "execution_count": 20,
   "metadata": {},
   "outputs": [],
   "source": [
    "def create(query,name):\n",
    "    df = fs.call_to_df(query)\n",
    "    df['place']=name\n",
    "    return df"
   ]
  },
  {
   "cell_type": "code",
   "execution_count": 48,
   "metadata": {},
   "outputs": [],
   "source": [
    "for place in lista:\n",
    "    df_name = \"df_\" + place\n",
    "    df_name = create(locals()[place],place)\n",
    "    try:\n",
    "        df_zoo = df_zoo[df_zoo[\"name\"] == \"Zoo Aquarium de Madrid\"]\n",
    "        df_faunia = df_faunia[df_faunia[\"name\"] == \"Faunia\"]\n",
    "    except:\n",
    "        pass\n",
    "    df_name.to_json(\"json/\" + place , orient=\"records\")"
   ]
  },
  {
   "cell_type": "code",
   "execution_count": 53,
   "metadata": {},
   "outputs": [
    {
     "name": "stdout",
     "output_type": "stream",
     "text": [
      "2021-05-12T10:32:49.352+0200\tconnected to: mongodb://localhost/\n",
      "2021-05-12T10:32:49.354+0200\t15 document(s) imported successfully. 0 document(s) failed to import.\n",
      "2021-05-12T10:32:49.493+0200\tconnected to: mongodb://localhost/\n",
      "2021-05-12T10:32:49.495+0200\t31 document(s) imported successfully. 0 document(s) failed to import.\n",
      "2021-05-12T10:32:49.639+0200\tconnected to: mongodb://localhost/\n",
      "2021-05-12T10:32:49.641+0200\t31 document(s) imported successfully. 0 document(s) failed to import.\n",
      "2021-05-12T10:32:49.777+0200\tconnected to: mongodb://localhost/\n",
      "2021-05-12T10:32:49.778+0200\t31 document(s) imported successfully. 0 document(s) failed to import.\n",
      "2021-05-12T10:32:49.924+0200\tconnected to: mongodb://localhost/\n",
      "2021-05-12T10:32:49.925+0200\t31 document(s) imported successfully. 0 document(s) failed to import.\n",
      "2021-05-12T10:32:50.069+0200\tconnected to: mongodb://localhost/\n",
      "2021-05-12T10:32:50.070+0200\t31 document(s) imported successfully. 0 document(s) failed to import.\n",
      "2021-05-12T10:32:50.216+0200\tconnected to: mongodb://localhost/\n",
      "2021-05-12T10:32:50.218+0200\t31 document(s) imported successfully. 0 document(s) failed to import.\n"
     ]
    }
   ],
   "source": [
    "def importing():\n",
    "    !mongoimport --db madrid --collection plans --jsonArray json/cinema\n",
    "    !mongoimport --db madrid --collection plans --jsonArray json/park\n",
    "    !mongoimport --db madrid --collection plans --jsonArray json/museum\n",
    "    !mongoimport --db madrid --collection plans --jsonArray json/zoo\n",
    "    !mongoimport --db madrid --collection plans --jsonArray json/faunia\n",
    "    !mongoimport --db madrid --collection plans --jsonArray json/japanese\n",
    "    !mongoimport --db madrid --collection plans --jsonArray json/burger\n",
    "    !mongoimport --db madrid --collection plans --jsonArray json/vietnamese\n",
    "    !mongoimport --db madrid --collection plans --jsonArray json/sandwich\n",
    "    !mongoimport --db madrid --collection plans --jsonArray json/tapas\n",
    "    !mongoimport --db madrid --collection plans --jsonArray json/korean\n",
    "    !mongoimport --db madrid --collection plans --jsonArray json/brewery\n",
    "    !mongoimport --db madrid --collection plans --jsonArray json/club\n",
    "    !mongoimport --db madrid --collection plans --jsonArray json/pub\n",
    "    !mongoimport --db madrid --collection plans --jsonArray json/bowling\n",
    "    !mongoimport --db madrid --collection plans --jsonArray json/greek\n",
    "    !mongoimport --db madrid --collection plans --jsonArray json/juices\n",
    "    !mongoimport --db madrid --collection plans --jsonArray json/vegan\n",
    "    !mongoimport --db madrid --collection plans --jsonArray json/french\n",
    "    !mongoimport --db madrid --collection plans --jsonArray json/mexican\n",
    "    !mongoimport --db madrid --collection plans --jsonArray json/cinema\n",
    "    !mongoimport --db madrid --collection plans --jsonArray json/park\n",
    "    !mongoimport --db madrid --collection plans --jsonArray json/museum\n",
    "    !mongoimport --db madrid --collection plans --jsonArray json/zoo\n",
    "    !mongoimport --db madrid --collection plans --jsonArray json/faunia\n",
    "    !mongoimport --db madrid --collection plans --jsonArray json/japanese\n",
    "    !mongoimport --db madrid --collection plans --jsonArray json/burger\n",
    "    !mongoimport --db madrid --collection plans --jsonArray json/vietnamese\n",
    "    !mongoimport --db madrid --collection plans --jsonArray json/sandwich\n",
    "    !mongoimport --db madrid --collection plans --jsonArray json/tapas\n",
    "    !mongoimport --db madrid --collection plans --jsonArray json/korean\n",
    "    !mongoimport --db madrid --collection plans --jsonArray json/brewery\n",
    "    !mongoimport --db madrid --collection plans --jsonArray json/club\n",
    "    !mongoimport --db madrid --collection plans --jsonArray json/pub\n",
    "    !mongoimport --db madrid --collection plans --jsonArray json/bowling\n",
    "    !mongoimport --db madrid --collection plans --jsonArray json/greek\n",
    "    !mongoimport --db madrid --collection plans --jsonArray json/juices\n",
    "    !mongoimport --db madrid --collection plans --jsonArray json/vegan\n",
    "    !mongoimport --db madrid --collection plans --jsonArray json/french\n",
    "    !mongoimport --db madrid --collection plans --jsonArray json/mexican\n",
    "importing()"
   ]
  },
  {
   "cell_type": "code",
   "execution_count": 41,
   "metadata": {},
   "outputs": [
    {
     "name": "stdout",
     "output_type": "stream",
     "text": [
      "2021-05-12T10:27:01.941+0200\tFailed: open place: no such file or directory\n",
      "2021-05-12T10:27:01.941+0200\t0 document(s) imported successfully. 0 document(s) failed to import.\n",
      "2021-05-12T10:27:02.080+0200\tFailed: open place: no such file or directory\n",
      "2021-05-12T10:27:02.080+0200\t0 document(s) imported successfully. 0 document(s) failed to import.\n",
      "2021-05-12T10:27:02.232+0200\tFailed: open place: no such file or directory\n",
      "2021-05-12T10:27:02.232+0200\t0 document(s) imported successfully. 0 document(s) failed to import.\n",
      "2021-05-12T10:27:02.376+0200\tFailed: open place: no such file or directory\n",
      "2021-05-12T10:27:02.377+0200\t0 document(s) imported successfully. 0 document(s) failed to import.\n",
      "2021-05-12T10:27:02.524+0200\tFailed: open place: no such file or directory\n",
      "2021-05-12T10:27:02.524+0200\t0 document(s) imported successfully. 0 document(s) failed to import.\n",
      "2021-05-12T10:27:02.670+0200\tFailed: open place: no such file or directory\n",
      "2021-05-12T10:27:02.670+0200\t0 document(s) imported successfully. 0 document(s) failed to import.\n",
      "2021-05-12T10:27:02.817+0200\tFailed: open place: no such file or directory\n",
      "2021-05-12T10:27:02.817+0200\t0 document(s) imported successfully. 0 document(s) failed to import.\n",
      "2021-05-12T10:27:02.967+0200\tFailed: open place: no such file or directory\n",
      "2021-05-12T10:27:02.967+0200\t0 document(s) imported successfully. 0 document(s) failed to import.\n",
      "2021-05-12T10:27:03.103+0200\tFailed: open place: no such file or directory\n",
      "2021-05-12T10:27:03.104+0200\t0 document(s) imported successfully. 0 document(s) failed to import.\n",
      "2021-05-12T10:27:03.253+0200\tFailed: open place: no such file or directory\n",
      "2021-05-12T10:27:03.253+0200\t0 document(s) imported successfully. 0 document(s) failed to import.\n",
      "2021-05-12T10:27:03.401+0200\tFailed: open place: no such file or directory\n",
      "2021-05-12T10:27:03.402+0200\t0 document(s) imported successfully. 0 document(s) failed to import.\n",
      "2021-05-12T10:27:03.544+0200\tFailed: open place: no such file or directory\n",
      "2021-05-12T10:27:03.545+0200\t0 document(s) imported successfully. 0 document(s) failed to import.\n",
      "2021-05-12T10:27:03.694+0200\tFailed: open place: no such file or directory\n",
      "2021-05-12T10:27:03.694+0200\t0 document(s) imported successfully. 0 document(s) failed to import.\n",
      "2021-05-12T10:27:03.842+0200\tFailed: open place: no such file or directory\n",
      "2021-05-12T10:27:03.842+0200\t0 document(s) imported successfully. 0 document(s) failed to import.\n",
      "2021-05-12T10:27:03.989+0200\tFailed: open place: no such file or directory\n",
      "2021-05-12T10:27:03.989+0200\t0 document(s) imported successfully. 0 document(s) failed to import.\n",
      "2021-05-12T10:27:04.142+0200\tFailed: open place: no such file or directory\n",
      "2021-05-12T10:27:04.142+0200\t0 document(s) imported successfully. 0 document(s) failed to import.\n",
      "2021-05-12T10:27:04.285+0200\tFailed: open place: no such file or directory\n",
      "2021-05-12T10:27:04.285+0200\t0 document(s) imported successfully. 0 document(s) failed to import.\n",
      "2021-05-12T10:27:04.424+0200\tFailed: open place: no such file or directory\n",
      "2021-05-12T10:27:04.424+0200\t0 document(s) imported successfully. 0 document(s) failed to import.\n",
      "2021-05-12T10:27:04.562+0200\tFailed: open place: no such file or directory\n",
      "2021-05-12T10:27:04.562+0200\t0 document(s) imported successfully. 0 document(s) failed to import.\n",
      "2021-05-12T10:27:04.710+0200\tFailed: open place: no such file or directory\n",
      "2021-05-12T10:27:04.710+0200\t0 document(s) imported successfully. 0 document(s) failed to import.\n",
      "2021-05-12T10:27:04.862+0200\tFailed: open place: no such file or directory\n",
      "2021-05-12T10:27:04.862+0200\t0 document(s) imported successfully. 0 document(s) failed to import.\n",
      "2021-05-12T10:27:05.006+0200\tFailed: open place: no such file or directory\n",
      "2021-05-12T10:27:05.006+0200\t0 document(s) imported successfully. 0 document(s) failed to import.\n",
      "2021-05-12T10:27:05.152+0200\tFailed: open place: no such file or directory\n",
      "2021-05-12T10:27:05.152+0200\t0 document(s) imported successfully. 0 document(s) failed to import.\n",
      "2021-05-12T10:27:05.304+0200\tFailed: open place: no such file or directory\n",
      "2021-05-12T10:27:05.304+0200\t0 document(s) imported successfully. 0 document(s) failed to import.\n",
      "2021-05-12T10:27:05.443+0200\tFailed: open place: no such file or directory\n",
      "2021-05-12T10:27:05.443+0200\t0 document(s) imported successfully. 0 document(s) failed to import.\n",
      "2021-05-12T10:27:05.583+0200\tFailed: open place: no such file or directory\n",
      "2021-05-12T10:27:05.584+0200\t0 document(s) imported successfully. 0 document(s) failed to import.\n",
      "2021-05-12T10:27:05.728+0200\tFailed: open place: no such file or directory\n",
      "2021-05-12T10:27:05.728+0200\t0 document(s) imported successfully. 0 document(s) failed to import.\n",
      "2021-05-12T10:27:05.876+0200\tFailed: open place: no such file or directory\n",
      "2021-05-12T10:27:05.877+0200\t0 document(s) imported successfully. 0 document(s) failed to import.\n",
      "2021-05-12T10:27:06.020+0200\tFailed: open place: no such file or directory\n",
      "2021-05-12T10:27:06.020+0200\t0 document(s) imported successfully. 0 document(s) failed to import.\n",
      "2021-05-12T10:27:06.155+0200\tFailed: open place: no such file or directory\n",
      "2021-05-12T10:27:06.155+0200\t0 document(s) imported successfully. 0 document(s) failed to import.\n",
      "2021-05-12T10:27:06.303+0200\tFailed: open place: no such file or directory\n",
      "2021-05-12T10:27:06.303+0200\t0 document(s) imported successfully. 0 document(s) failed to import.\n",
      "2021-05-12T10:27:06.442+0200\tFailed: open place: no such file or directory\n",
      "2021-05-12T10:27:06.442+0200\t0 document(s) imported successfully. 0 document(s) failed to import.\n",
      "2021-05-12T10:27:06.581+0200\tFailed: open place: no such file or directory\n",
      "2021-05-12T10:27:06.582+0200\t0 document(s) imported successfully. 0 document(s) failed to import.\n",
      "2021-05-12T10:27:06.723+0200\tFailed: open place: no such file or directory\n",
      "2021-05-12T10:27:06.723+0200\t0 document(s) imported successfully. 0 document(s) failed to import.\n",
      "2021-05-12T10:27:06.861+0200\tFailed: open place: no such file or directory\n",
      "2021-05-12T10:27:06.861+0200\t0 document(s) imported successfully. 0 document(s) failed to import.\n",
      "2021-05-12T10:27:07.005+0200\tFailed: open place: no such file or directory\n",
      "2021-05-12T10:27:07.005+0200\t0 document(s) imported successfully. 0 document(s) failed to import.\n",
      "2021-05-12T10:27:07.155+0200\tFailed: open place: no such file or directory\n",
      "2021-05-12T10:27:07.155+0200\t0 document(s) imported successfully. 0 document(s) failed to import.\n",
      "2021-05-12T10:27:07.302+0200\tFailed: open place: no such file or directory\n",
      "2021-05-12T10:27:07.302+0200\t0 document(s) imported successfully. 0 document(s) failed to import.\n",
      "2021-05-12T10:27:07.444+0200\tFailed: open place: no such file or directory\n",
      "2021-05-12T10:27:07.444+0200\t0 document(s) imported successfully. 0 document(s) failed to import.\n",
      "2021-05-12T10:27:07.583+0200\tFailed: open place: no such file or directory\n",
      "2021-05-12T10:27:07.584+0200\t0 document(s) imported successfully. 0 document(s) failed to import.\n",
      "2021-05-12T10:27:07.731+0200\tFailed: open place: no such file or directory\n",
      "2021-05-12T10:27:07.731+0200\t0 document(s) imported successfully. 0 document(s) failed to import.\n",
      "2021-05-12T10:27:07.878+0200\tFailed: open place: no such file or directory\n",
      "2021-05-12T10:27:07.878+0200\t0 document(s) imported successfully. 0 document(s) failed to import.\n",
      "2021-05-12T10:27:08.027+0200\tFailed: open place: no such file or directory\n",
      "2021-05-12T10:27:08.028+0200\t0 document(s) imported successfully. 0 document(s) failed to import.\n",
      "2021-05-12T10:27:08.163+0200\tFailed: open place: no such file or directory\n",
      "2021-05-12T10:27:08.163+0200\t0 document(s) imported successfully. 0 document(s) failed to import.\n",
      "2021-05-12T10:27:08.307+0200\tFailed: open place: no such file or directory\n",
      "2021-05-12T10:27:08.307+0200\t0 document(s) imported successfully. 0 document(s) failed to import.\n",
      "2021-05-12T10:27:08.451+0200\tFailed: open place: no such file or directory\n",
      "2021-05-12T10:27:08.451+0200\t0 document(s) imported successfully. 0 document(s) failed to import.\n",
      "2021-05-12T10:27:08.590+0200\tFailed: open place: no such file or directory\n",
      "2021-05-12T10:27:08.591+0200\t0 document(s) imported successfully. 0 document(s) failed to import.\n",
      "2021-05-12T10:27:08.732+0200\tFailed: open place: no such file or directory\n",
      "2021-05-12T10:27:08.732+0200\t0 document(s) imported successfully. 0 document(s) failed to import.\n"
     ]
    },
    {
     "name": "stdout",
     "output_type": "stream",
     "text": [
      "2021-05-12T10:27:08.880+0200\tFailed: open place: no such file or directory\n",
      "2021-05-12T10:27:08.880+0200\t0 document(s) imported successfully. 0 document(s) failed to import.\n",
      "2021-05-12T10:27:09.019+0200\tFailed: open place: no such file or directory\n",
      "2021-05-12T10:27:09.019+0200\t0 document(s) imported successfully. 0 document(s) failed to import.\n",
      "2021-05-12T10:27:09.154+0200\tFailed: open place: no such file or directory\n",
      "2021-05-12T10:27:09.155+0200\t0 document(s) imported successfully. 0 document(s) failed to import.\n"
     ]
    }
   ],
   "source": [
    "for place in lista:\n",
    "    !mongoimport --db madrid --collection plans --jsonArray place"
   ]
  },
  {
   "cell_type": "code",
   "execution_count": 209,
   "metadata": {},
   "outputs": [
    {
     "data": {
      "text/plain": [
       "{'_id': ObjectId('609a795a11c091d804263b97'),\n",
       " 'name': 'Yelmo Cines Ideal',\n",
       " 'CP': '28012',\n",
       " 'location': {'type': 'Point', 'coordinates': [-3.7037453431, 40.4137746362]},\n",
       " 'place': 'cinema'}"
      ]
     },
     "execution_count": 209,
     "metadata": {},
     "output_type": "execute_result"
    }
   ],
   "source": [
    "db.madrid.create_index([(\"geometry\", GEOSPHERE)])\n",
    "collection = db.get_collection(\"plans\")\n",
    "collection.find_one({})"
   ]
  },
  {
   "cell_type": "code",
   "execution_count": 210,
   "metadata": {},
   "outputs": [],
   "source": [
    "#collection.update_many(df_cinema,update=True)"
   ]
  },
  {
   "cell_type": "markdown",
   "metadata": {},
   "source": [
    "otros"
   ]
  },
  {
   "cell_type": "code",
   "execution_count": 211,
   "metadata": {},
   "outputs": [
    {
     "data": {
      "text/html": [
       "<div>\n",
       "<style scoped>\n",
       "    .dataframe tbody tr th:only-of-type {\n",
       "        vertical-align: middle;\n",
       "    }\n",
       "\n",
       "    .dataframe tbody tr th {\n",
       "        vertical-align: top;\n",
       "    }\n",
       "\n",
       "    .dataframe thead th {\n",
       "        text-align: right;\n",
       "    }\n",
       "</style>\n",
       "<table border=\"1\" class=\"dataframe\">\n",
       "  <thead>\n",
       "    <tr style=\"text-align: right;\">\n",
       "      <th></th>\n",
       "      <th>name</th>\n",
       "      <th>CP</th>\n",
       "      <th>location</th>\n",
       "      <th>place</th>\n",
       "    </tr>\n",
       "  </thead>\n",
       "  <tbody>\n",
       "    <tr>\n",
       "      <th>0</th>\n",
       "      <td>Autocine Madrid RACE</td>\n",
       "      <td>28034</td>\n",
       "      <td>{'type': 'Point', 'coordinates': [40.486416497...</td>\n",
       "      <td>cinema</td>\n",
       "    </tr>\n",
       "    <tr>\n",
       "      <th>1</th>\n",
       "      <td>Fox in a Box</td>\n",
       "      <td>28004</td>\n",
       "      <td>{'type': 'Point', 'coordinates': [40.420355611...</td>\n",
       "      <td>scape room</td>\n",
       "    </tr>\n",
       "    <tr>\n",
       "      <th>2</th>\n",
       "      <td>Escape College Madrid</td>\n",
       "      <td>28013</td>\n",
       "      <td>{'type': 'Point', 'coordinates': [40.421211241...</td>\n",
       "      <td>scape room</td>\n",
       "    </tr>\n",
       "    <tr>\n",
       "      <th>3</th>\n",
       "      <td>Pista de Hielo</td>\n",
       "      <td>28043</td>\n",
       "      <td>{'type': 'Point', 'coordinates': [40.463016342...</td>\n",
       "      <td>ice skating</td>\n",
       "    </tr>\n",
       "  </tbody>\n",
       "</table>\n",
       "</div>"
      ],
      "text/plain": [
       "                    name     CP  \\\n",
       "0   Autocine Madrid RACE  28034   \n",
       "1           Fox in a Box  28004   \n",
       "2  Escape College Madrid  28013   \n",
       "3         Pista de Hielo  28043   \n",
       "\n",
       "                                            location        place  \n",
       "0  {'type': 'Point', 'coordinates': [40.486416497...       cinema  \n",
       "1  {'type': 'Point', 'coordinates': [40.420355611...   scape room  \n",
       "2  {'type': 'Point', 'coordinates': [40.421211241...   scape room  \n",
       "3  {'type': 'Point', 'coordinates': [40.463016342...  ice skating  "
      ]
     },
     "execution_count": 211,
     "metadata": {},
     "output_type": "execute_result"
    }
   ],
   "source": [
    "extra = { \"name\" : [\"Autocine Madrid RACE\", \"Fox in a Box\", \"Escape College Madrid\", \"Pista de Hielo\"],\n",
    "          \"CP\" : [\"28034\", \"28004\", \"28013\", \"28043\"],\n",
    "          \"location\" : [{\"type\":\"Point\", \"coordinates\":[40.48641649775523, -3.6776800425109144]}, {\"type\":\"Point\", \"coordinates\":[40.42035561112341, -3.6976405423178615]}, {\"type\":\"Point\", \"coordinates\":[40.42121124102438, -3.70840144417062]}, {\"type\":\"Point\", \"coordinates\":[40.46301634213109, -3.637840858092416]}],\n",
    "          \"place\" : [\"cinema\", \"scape room\", \"scape room\", \"ice skating\"]\n",
    "        }\n",
    "\n",
    "pd.DataFrame.from_dict(extra)"
   ]
  },
  {
   "cell_type": "code",
   "execution_count": null,
   "metadata": {},
   "outputs": [],
   "source": []
  },
  {
   "cell_type": "code",
   "execution_count": null,
   "metadata": {},
   "outputs": [],
   "source": []
  },
  {
   "cell_type": "code",
   "execution_count": null,
   "metadata": {},
   "outputs": [],
   "source": []
  },
  {
   "cell_type": "code",
   "execution_count": null,
   "metadata": {},
   "outputs": [],
   "source": []
  },
  {
   "cell_type": "code",
   "execution_count": null,
   "metadata": {},
   "outputs": [],
   "source": [
    "for place in lista:\n",
    "    df_name = \"df_\" + place\n",
    "    locals()[df_name].to_json(\"json/\" + place , orient=\"records\")"
   ]
  }
 ],
 "metadata": {
  "kernelspec": {
   "display_name": "plan",
   "language": "python",
   "name": "plan"
  },
  "language_info": {
   "codemirror_mode": {
    "name": "ipython",
    "version": 3
   },
   "file_extension": ".py",
   "mimetype": "text/x-python",
   "name": "python",
   "nbconvert_exporter": "python",
   "pygments_lexer": "ipython3",
   "version": "3.8.8"
  }
 },
 "nbformat": 4,
 "nbformat_minor": 4
}
