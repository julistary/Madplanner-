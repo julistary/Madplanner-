{
 "cells": [
  {
   "cell_type": "code",
   "execution_count": 227,
   "metadata": {},
   "outputs": [],
   "source": [
    "import pandas as pd\n",
    "import os\n",
    "import json\n",
    "from pymongo import MongoClient\n",
    "import requests\n",
    "from tqdm import tqdm\n",
    "from dotenv import load_dotenv\n",
    "import src.foursquares as fs\n",
    "conn = MongoClient(\"localhost:27017\")\n",
    "db = conn.get_database(\"madrid\")\n",
    "from pymongo import GEOSPHERE"
   ]
  },
  {
   "cell_type": "code",
   "execution_count": 228,
   "metadata": {},
   "outputs": [],
   "source": [
    "madrid = [40.41677228859327, -3.70381458550961]\n",
    "madrid_point = {\"type\": \"Point\",  \"coordinates\": madrid}"
   ]
  },
  {
   "cell_type": "code",
   "execution_count": 229,
   "metadata": {},
   "outputs": [],
   "source": [
    "lista = [\"cinema\", \"museum\", \"park\", \"zoo\", \"faunia\", \"japanese\", \"burger\", \"viernamese\", \"sandwich\", \"tapas\", \"korean\", \"brewery\", \"club\", \"pub\", \"bowling\", \"greek\", \"juices\", \"vegan\", \"french\", \"mexican\", \"asian\", \"rooftop\", \"cocktail\", \"nightlife\", \"ramen\", \"argentino\", \"grill\", \"italian\", \"thai\", \"cake\", \"cupcakes\", \"coffee\", \"aperitivo\", \"sushi\", \"mid_eastern\", \"indian\", \"pizza\", \"sweets\", \"theater\", \"spa\", \"ice_cream\", \"sports_bar\", \"bakery\", \"healthy\", \"vegetarian\", \"drinks\", \"jazz\", \"wine\", \"karaoke\", \"dancing\", \"seafood\"]"
   ]
  },
  {
   "cell_type": "code",
   "execution_count": 230,
   "metadata": {},
   "outputs": [],
   "source": [
    "for place in lista:\n",
    "    locals()[place] = fs.f_call(madrid_point, place)"
   ]
  },
  {
   "cell_type": "code",
   "execution_count": 231,
   "metadata": {},
   "outputs": [],
   "source": [
    "def create(query,name):\n",
    "    df = fs.call_to_df(query)\n",
    "    df['place']=name\n",
    "    return df"
   ]
  },
  {
   "cell_type": "code",
   "execution_count": 232,
   "metadata": {},
   "outputs": [],
   "source": [
    "for place in lista:\n",
    "    df_name = \"df_\" + place\n",
    "    create(locals()[place],place)"
   ]
  },
  {
   "cell_type": "code",
   "execution_count": 233,
   "metadata": {},
   "outputs": [],
   "source": [
    "df_zoo = df_zoo[df_zoo[\"name\"] == \"Zoo Aquarium de Madrid\"]\n",
    "df_faunia = df_faunia[df_faunia[\"name\"] == \"Faunia\"]"
   ]
  },
  {
   "cell_type": "code",
   "execution_count": 234,
   "metadata": {},
   "outputs": [
    {
     "data": {
      "text/html": [
       "<div>\n",
       "<style scoped>\n",
       "    .dataframe tbody tr th:only-of-type {\n",
       "        vertical-align: middle;\n",
       "    }\n",
       "\n",
       "    .dataframe tbody tr th {\n",
       "        vertical-align: top;\n",
       "    }\n",
       "\n",
       "    .dataframe thead th {\n",
       "        text-align: right;\n",
       "    }\n",
       "</style>\n",
       "<table border=\"1\" class=\"dataframe\">\n",
       "  <thead>\n",
       "    <tr style=\"text-align: right;\">\n",
       "      <th></th>\n",
       "      <th>name</th>\n",
       "      <th>CP</th>\n",
       "      <th>location</th>\n",
       "      <th>place</th>\n",
       "    </tr>\n",
       "  </thead>\n",
       "  <tbody>\n",
       "    <tr>\n",
       "      <th>0</th>\n",
       "      <td>Zoo Aquarium de Madrid</td>\n",
       "      <td>28011</td>\n",
       "      <td>{'type': 'Point', 'coordinates': [-3.761443373...</td>\n",
       "      <td>zoo</td>\n",
       "    </tr>\n",
       "  </tbody>\n",
       "</table>\n",
       "</div>"
      ],
      "text/plain": [
       "                     name     CP  \\\n",
       "0  Zoo Aquarium de Madrid  28011   \n",
       "\n",
       "                                            location place  \n",
       "0  {'type': 'Point', 'coordinates': [-3.761443373...   zoo  "
      ]
     },
     "execution_count": 234,
     "metadata": {},
     "output_type": "execute_result"
    }
   ],
   "source": [
    "df_zoo.head()"
   ]
  },
  {
   "cell_type": "code",
   "execution_count": 252,
   "metadata": {},
   "outputs": [],
   "source": [
    "for place in lista:\n",
    "    df_name = \"df_\" + place\n",
    "    locals()[df_name].to_json(\"json/\" + place + \".json\", orient=\"records\")"
   ]
  },
  {
   "cell_type": "code",
   "execution_count": 250,
   "metadata": {},
   "outputs": [
    {
     "name": "stdout",
     "output_type": "stream",
     "text": [
      "2021-05-11T20:47:25.287+0200\tFailed: open path: no such file or directory\n",
      "2021-05-11T20:47:25.287+0200\t0 document(s) imported successfully. 0 document(s) failed to import.\n",
      "2021-05-11T20:47:25.428+0200\tFailed: open path: no such file or directory\n",
      "2021-05-11T20:47:25.428+0200\t0 document(s) imported successfully. 0 document(s) failed to import.\n",
      "2021-05-11T20:47:25.579+0200\tFailed: open path: no such file or directory\n",
      "2021-05-11T20:47:25.579+0200\t0 document(s) imported successfully. 0 document(s) failed to import.\n",
      "2021-05-11T20:47:25.733+0200\tFailed: open path: no such file or directory\n",
      "2021-05-11T20:47:25.733+0200\t0 document(s) imported successfully. 0 document(s) failed to import.\n",
      "2021-05-11T20:47:25.880+0200\tFailed: open path: no such file or directory\n",
      "2021-05-11T20:47:25.880+0200\t0 document(s) imported successfully. 0 document(s) failed to import.\n",
      "2021-05-11T20:47:26.029+0200\tFailed: open path: no such file or directory\n",
      "2021-05-11T20:47:26.030+0200\t0 document(s) imported successfully. 0 document(s) failed to import.\n",
      "2021-05-11T20:47:26.170+0200\tFailed: open path: no such file or directory\n",
      "2021-05-11T20:47:26.171+0200\t0 document(s) imported successfully. 0 document(s) failed to import.\n",
      "2021-05-11T20:47:26.323+0200\tFailed: open path: no such file or directory\n",
      "2021-05-11T20:47:26.325+0200\t0 document(s) imported successfully. 0 document(s) failed to import.\n",
      "2021-05-11T20:47:26.464+0200\tFailed: open path: no such file or directory\n",
      "2021-05-11T20:47:26.464+0200\t0 document(s) imported successfully. 0 document(s) failed to import.\n",
      "2021-05-11T20:47:26.615+0200\tFailed: open path: no such file or directory\n",
      "2021-05-11T20:47:26.615+0200\t0 document(s) imported successfully. 0 document(s) failed to import.\n",
      "2021-05-11T20:47:26.760+0200\tFailed: open path: no such file or directory\n",
      "2021-05-11T20:47:26.760+0200\t0 document(s) imported successfully. 0 document(s) failed to import.\n",
      "2021-05-11T20:47:26.910+0200\tFailed: open path: no such file or directory\n",
      "2021-05-11T20:47:26.911+0200\t0 document(s) imported successfully. 0 document(s) failed to import.\n",
      "2021-05-11T20:47:27.054+0200\tFailed: open path: no such file or directory\n",
      "2021-05-11T20:47:27.054+0200\t0 document(s) imported successfully. 0 document(s) failed to import.\n",
      "2021-05-11T20:47:27.198+0200\tFailed: open path: no such file or directory\n",
      "2021-05-11T20:47:27.198+0200\t0 document(s) imported successfully. 0 document(s) failed to import.\n",
      "2021-05-11T20:47:27.349+0200\tFailed: open path: no such file or directory\n",
      "2021-05-11T20:47:27.349+0200\t0 document(s) imported successfully. 0 document(s) failed to import.\n",
      "2021-05-11T20:47:27.501+0200\tFailed: open path: no such file or directory\n",
      "2021-05-11T20:47:27.501+0200\t0 document(s) imported successfully. 0 document(s) failed to import.\n",
      "2021-05-11T20:47:27.654+0200\tFailed: open path: no such file or directory\n",
      "2021-05-11T20:47:27.654+0200\t0 document(s) imported successfully. 0 document(s) failed to import.\n",
      "2021-05-11T20:47:27.806+0200\tFailed: open path: no such file or directory\n",
      "2021-05-11T20:47:27.807+0200\t0 document(s) imported successfully. 0 document(s) failed to import.\n",
      "2021-05-11T20:47:27.961+0200\tFailed: open path: no such file or directory\n",
      "2021-05-11T20:47:27.961+0200\t0 document(s) imported successfully. 0 document(s) failed to import.\n",
      "2021-05-11T20:47:28.097+0200\tFailed: open path: no such file or directory\n",
      "2021-05-11T20:47:28.097+0200\t0 document(s) imported successfully. 0 document(s) failed to import.\n",
      "2021-05-11T20:47:28.244+0200\tFailed: open path: no such file or directory\n",
      "2021-05-11T20:47:28.244+0200\t0 document(s) imported successfully. 0 document(s) failed to import.\n",
      "2021-05-11T20:47:28.392+0200\tFailed: open path: no such file or directory\n",
      "2021-05-11T20:47:28.392+0200\t0 document(s) imported successfully. 0 document(s) failed to import.\n",
      "2021-05-11T20:47:28.542+0200\tFailed: open path: no such file or directory\n",
      "2021-05-11T20:47:28.542+0200\t0 document(s) imported successfully. 0 document(s) failed to import.\n",
      "2021-05-11T20:47:28.681+0200\tFailed: open path: no such file or directory\n",
      "2021-05-11T20:47:28.682+0200\t0 document(s) imported successfully. 0 document(s) failed to import.\n",
      "2021-05-11T20:47:28.827+0200\tFailed: open path: no such file or directory\n",
      "2021-05-11T20:47:28.827+0200\t0 document(s) imported successfully. 0 document(s) failed to import.\n",
      "2021-05-11T20:47:28.975+0200\tFailed: open path: no such file or directory\n",
      "2021-05-11T20:47:28.975+0200\t0 document(s) imported successfully. 0 document(s) failed to import.\n",
      "2021-05-11T20:47:29.126+0200\tFailed: open path: no such file or directory\n",
      "2021-05-11T20:47:29.126+0200\t0 document(s) imported successfully. 0 document(s) failed to import.\n",
      "2021-05-11T20:47:29.277+0200\tFailed: open path: no such file or directory\n",
      "2021-05-11T20:47:29.278+0200\t0 document(s) imported successfully. 0 document(s) failed to import.\n",
      "2021-05-11T20:47:29.421+0200\tFailed: open path: no such file or directory\n",
      "2021-05-11T20:47:29.421+0200\t0 document(s) imported successfully. 0 document(s) failed to import.\n",
      "2021-05-11T20:47:29.565+0200\tFailed: open path: no such file or directory\n",
      "2021-05-11T20:47:29.565+0200\t0 document(s) imported successfully. 0 document(s) failed to import.\n",
      "2021-05-11T20:47:29.716+0200\tFailed: open path: no such file or directory\n",
      "2021-05-11T20:47:29.716+0200\t0 document(s) imported successfully. 0 document(s) failed to import.\n",
      "2021-05-11T20:47:29.866+0200\tFailed: open path: no such file or directory\n",
      "2021-05-11T20:47:29.867+0200\t0 document(s) imported successfully. 0 document(s) failed to import.\n",
      "2021-05-11T20:47:30.013+0200\tFailed: open path: no such file or directory\n",
      "2021-05-11T20:47:30.014+0200\t0 document(s) imported successfully. 0 document(s) failed to import.\n",
      "2021-05-11T20:47:30.153+0200\tFailed: open path: no such file or directory\n",
      "2021-05-11T20:47:30.153+0200\t0 document(s) imported successfully. 0 document(s) failed to import.\n",
      "2021-05-11T20:47:30.303+0200\tFailed: open path: no such file or directory\n",
      "2021-05-11T20:47:30.303+0200\t0 document(s) imported successfully. 0 document(s) failed to import.\n",
      "2021-05-11T20:47:30.452+0200\tFailed: open path: no such file or directory\n",
      "2021-05-11T20:47:30.453+0200\t0 document(s) imported successfully. 0 document(s) failed to import.\n",
      "2021-05-11T20:47:30.604+0200\tFailed: open path: no such file or directory\n",
      "2021-05-11T20:47:30.604+0200\t0 document(s) imported successfully. 0 document(s) failed to import.\n",
      "2021-05-11T20:47:30.752+0200\tFailed: open path: no such file or directory\n",
      "2021-05-11T20:47:30.752+0200\t0 document(s) imported successfully. 0 document(s) failed to import.\n",
      "2021-05-11T20:47:30.908+0200\tFailed: open path: no such file or directory\n",
      "2021-05-11T20:47:30.908+0200\t0 document(s) imported successfully. 0 document(s) failed to import.\n",
      "2021-05-11T20:47:31.058+0200\tFailed: open path: no such file or directory\n",
      "2021-05-11T20:47:31.059+0200\t0 document(s) imported successfully. 0 document(s) failed to import.\n",
      "2021-05-11T20:47:31.207+0200\tFailed: open path: no such file or directory\n",
      "2021-05-11T20:47:31.207+0200\t0 document(s) imported successfully. 0 document(s) failed to import.\n",
      "2021-05-11T20:47:31.353+0200\tFailed: open path: no such file or directory\n",
      "2021-05-11T20:47:31.353+0200\t0 document(s) imported successfully. 0 document(s) failed to import.\n",
      "2021-05-11T20:47:31.505+0200\tFailed: open path: no such file or directory\n",
      "2021-05-11T20:47:31.505+0200\t0 document(s) imported successfully. 0 document(s) failed to import.\n",
      "2021-05-11T20:47:31.657+0200\tFailed: open path: no such file or directory\n",
      "2021-05-11T20:47:31.657+0200\t0 document(s) imported successfully. 0 document(s) failed to import.\n",
      "2021-05-11T20:47:31.806+0200\tFailed: open path: no such file or directory\n",
      "2021-05-11T20:47:31.807+0200\t0 document(s) imported successfully. 0 document(s) failed to import.\n",
      "2021-05-11T20:47:31.960+0200\tFailed: open path: no such file or directory\n",
      "2021-05-11T20:47:31.960+0200\t0 document(s) imported successfully. 0 document(s) failed to import.\n",
      "2021-05-11T20:47:32.110+0200\tFailed: open path: no such file or directory\n",
      "2021-05-11T20:47:32.110+0200\t0 document(s) imported successfully. 0 document(s) failed to import.\n",
      "2021-05-11T20:47:32.261+0200\tFailed: open path: no such file or directory\n",
      "2021-05-11T20:47:32.261+0200\t0 document(s) imported successfully. 0 document(s) failed to import.\n"
     ]
    },
    {
     "name": "stdout",
     "output_type": "stream",
     "text": [
      "2021-05-11T20:47:32.409+0200\tFailed: open path: no such file or directory\n",
      "2021-05-11T20:47:32.409+0200\t0 document(s) imported successfully. 0 document(s) failed to import.\n",
      "2021-05-11T20:47:32.556+0200\tFailed: open path: no such file or directory\n",
      "2021-05-11T20:47:32.556+0200\t0 document(s) imported successfully. 0 document(s) failed to import.\n",
      "2021-05-11T20:47:32.706+0200\tFailed: open path: no such file or directory\n",
      "2021-05-11T20:47:32.706+0200\t0 document(s) imported successfully. 0 document(s) failed to import.\n"
     ]
    }
   ],
   "source": [
    "for place in lista:\n",
    "    path = \"json/\" + place + \".json\"\n",
    "    !mongoimport --db madrid --collection plans --jsonArray path"
   ]
  },
  {
   "cell_type": "code",
   "execution_count": 209,
   "metadata": {},
   "outputs": [
    {
     "data": {
      "text/plain": [
       "{'_id': ObjectId('609a795a11c091d804263b97'),\n",
       " 'name': 'Yelmo Cines Ideal',\n",
       " 'CP': '28012',\n",
       " 'location': {'type': 'Point', 'coordinates': [-3.7037453431, 40.4137746362]},\n",
       " 'place': 'cinema'}"
      ]
     },
     "execution_count": 209,
     "metadata": {},
     "output_type": "execute_result"
    }
   ],
   "source": [
    "db.madrid.create_index([(\"geometry\", GEOSPHERE)])\n",
    "collection = db.get_collection(\"plans\")\n",
    "collection.find_one({})"
   ]
  },
  {
   "cell_type": "code",
   "execution_count": 210,
   "metadata": {},
   "outputs": [],
   "source": [
    "#collection.update_many(df_cinema,update=True)"
   ]
  },
  {
   "cell_type": "markdown",
   "metadata": {},
   "source": [
    "otros"
   ]
  },
  {
   "cell_type": "code",
   "execution_count": 211,
   "metadata": {},
   "outputs": [
    {
     "data": {
      "text/html": [
       "<div>\n",
       "<style scoped>\n",
       "    .dataframe tbody tr th:only-of-type {\n",
       "        vertical-align: middle;\n",
       "    }\n",
       "\n",
       "    .dataframe tbody tr th {\n",
       "        vertical-align: top;\n",
       "    }\n",
       "\n",
       "    .dataframe thead th {\n",
       "        text-align: right;\n",
       "    }\n",
       "</style>\n",
       "<table border=\"1\" class=\"dataframe\">\n",
       "  <thead>\n",
       "    <tr style=\"text-align: right;\">\n",
       "      <th></th>\n",
       "      <th>name</th>\n",
       "      <th>CP</th>\n",
       "      <th>location</th>\n",
       "      <th>place</th>\n",
       "    </tr>\n",
       "  </thead>\n",
       "  <tbody>\n",
       "    <tr>\n",
       "      <th>0</th>\n",
       "      <td>Autocine Madrid RACE</td>\n",
       "      <td>28034</td>\n",
       "      <td>{'type': 'Point', 'coordinates': [40.486416497...</td>\n",
       "      <td>cinema</td>\n",
       "    </tr>\n",
       "    <tr>\n",
       "      <th>1</th>\n",
       "      <td>Fox in a Box</td>\n",
       "      <td>28004</td>\n",
       "      <td>{'type': 'Point', 'coordinates': [40.420355611...</td>\n",
       "      <td>scape room</td>\n",
       "    </tr>\n",
       "    <tr>\n",
       "      <th>2</th>\n",
       "      <td>Escape College Madrid</td>\n",
       "      <td>28013</td>\n",
       "      <td>{'type': 'Point', 'coordinates': [40.421211241...</td>\n",
       "      <td>scape room</td>\n",
       "    </tr>\n",
       "    <tr>\n",
       "      <th>3</th>\n",
       "      <td>Pista de Hielo</td>\n",
       "      <td>28043</td>\n",
       "      <td>{'type': 'Point', 'coordinates': [40.463016342...</td>\n",
       "      <td>ice skating</td>\n",
       "    </tr>\n",
       "  </tbody>\n",
       "</table>\n",
       "</div>"
      ],
      "text/plain": [
       "                    name     CP  \\\n",
       "0   Autocine Madrid RACE  28034   \n",
       "1           Fox in a Box  28004   \n",
       "2  Escape College Madrid  28013   \n",
       "3         Pista de Hielo  28043   \n",
       "\n",
       "                                            location        place  \n",
       "0  {'type': 'Point', 'coordinates': [40.486416497...       cinema  \n",
       "1  {'type': 'Point', 'coordinates': [40.420355611...   scape room  \n",
       "2  {'type': 'Point', 'coordinates': [40.421211241...   scape room  \n",
       "3  {'type': 'Point', 'coordinates': [40.463016342...  ice skating  "
      ]
     },
     "execution_count": 211,
     "metadata": {},
     "output_type": "execute_result"
    }
   ],
   "source": [
    "extra = { \"name\" : [\"Autocine Madrid RACE\", \"Fox in a Box\", \"Escape College Madrid\", \"Pista de Hielo\"],\n",
    "          \"CP\" : [\"28034\", \"28004\", \"28013\", \"28043\"],\n",
    "          \"location\" : [{\"type\":\"Point\", \"coordinates\":[40.48641649775523, -3.6776800425109144]}, {\"type\":\"Point\", \"coordinates\":[40.42035561112341, -3.6976405423178615]}, {\"type\":\"Point\", \"coordinates\":[40.42121124102438, -3.70840144417062]}, {\"type\":\"Point\", \"coordinates\":[40.46301634213109, -3.637840858092416]}],\n",
    "          \"place\" : [\"cinema\", \"scape room\", \"scape room\", \"ice skating\"]\n",
    "        }\n",
    "\n",
    "pd.DataFrame.from_dict(extra)"
   ]
  },
  {
   "cell_type": "code",
   "execution_count": null,
   "metadata": {},
   "outputs": [],
   "source": []
  }
 ],
 "metadata": {
  "kernelspec": {
   "display_name": "plan",
   "language": "python",
   "name": "plan"
  },
  "language_info": {
   "codemirror_mode": {
    "name": "ipython",
    "version": 3
   },
   "file_extension": ".py",
   "mimetype": "text/x-python",
   "name": "python",
   "nbconvert_exporter": "python",
   "pygments_lexer": "ipython3",
   "version": "3.8.8"
  }
 },
 "nbformat": 4,
 "nbformat_minor": 4
}
