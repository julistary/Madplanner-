{
 "cells": [
  {
   "cell_type": "markdown",
   "metadata": {},
   "source": [
    "# Uploading to MongoDB 🌱"
   ]
  },
  {
   "cell_type": "code",
   "execution_count": 1,
   "metadata": {},
   "outputs": [],
   "source": [
    "import json\n",
    "from pymongo import MongoClient, GEOSPHERE\n",
    "conn = MongoClient(\"localhost:27017\")\n",
    "db = conn.get_database(\"madrid\")"
   ]
  },
  {
   "cell_type": "code",
   "execution_count": 2,
   "metadata": {},
   "outputs": [
    {
     "data": {
      "text/plain": [
       "{'nIndexesWas': 2, 'ns': 'madrid.todo', 'ok': 1.0}"
      ]
     },
     "execution_count": 2,
     "metadata": {},
     "output_type": "execute_result"
    }
   ],
   "source": [
    "db.drop_collection(\"restaurants\")\n",
    "db.drop_collection(\"culture\")\n",
    "db.drop_collection(\"leisure\")\n",
    "db.drop_collection(\"drinks\")\n",
    "db.drop_collection(\"snacks\")\n",
    "db.drop_collection(\"transport\")\n",
    "db.drop_collection(\"party\")\n",
    "db.drop_collection(\"outdoors\")\n",
    "db.drop_collection(\"todo\")"
   ]
  },
  {
   "cell_type": "code",
   "execution_count": 3,
   "metadata": {},
   "outputs": [
    {
     "name": "stdout",
     "output_type": "stream",
     "text": [
      "2021-05-18T11:31:11.418+0200\tconnected to: mongodb://localhost/\n",
      "2021-05-18T11:31:11.545+0200\t1145 document(s) imported successfully. 0 document(s) failed to import.\n",
      "2021-05-18T11:31:11.689+0200\tconnected to: mongodb://localhost/\n",
      "2021-05-18T11:31:11.778+0200\t280 document(s) imported successfully. 0 document(s) failed to import.\n",
      "2021-05-18T11:31:11.932+0200\tconnected to: mongodb://localhost/\n",
      "2021-05-18T11:31:12.024+0200\t301 document(s) imported successfully. 0 document(s) failed to import.\n",
      "2021-05-18T11:31:12.172+0200\tconnected to: mongodb://localhost/\n",
      "2021-05-18T11:31:12.247+0200\t349 document(s) imported successfully. 0 document(s) failed to import.\n",
      "2021-05-18T11:31:12.390+0200\tconnected to: mongodb://localhost/\n",
      "2021-05-18T11:31:12.484+0200\t380 document(s) imported successfully. 0 document(s) failed to import.\n",
      "2021-05-18T11:31:12.631+0200\tconnected to: mongodb://localhost/\n",
      "2021-05-18T11:31:12.728+0200\t523 document(s) imported successfully. 0 document(s) failed to import.\n",
      "2021-05-18T11:31:12.875+0200\tconnected to: mongodb://localhost/\n",
      "2021-05-18T11:31:12.964+0200\t248 document(s) imported successfully. 0 document(s) failed to import.\n",
      "2021-05-18T11:31:13.113+0200\tconnected to: mongodb://localhost/\n",
      "2021-05-18T11:31:13.206+0200\t266 document(s) imported successfully. 0 document(s) failed to import.\n",
      "2021-05-18T11:31:13.357+0200\tconnected to: mongodb://localhost/\n",
      "2021-05-18T11:31:13.380+0200\t1264 document(s) imported successfully. 0 document(s) failed to import.\n",
      "2021-05-18T11:31:13.530+0200\tconnected to: mongodb://localhost/\n",
      "2021-05-18T11:31:13.535+0200\t96 document(s) imported successfully. 0 document(s) failed to import.\n",
      "2021-05-18T11:31:13.683+0200\tconnected to: mongodb://localhost/\n",
      "2021-05-18T11:31:13.766+0200\t4766 document(s) imported successfully. 0 document(s) failed to import.\n",
      "2021-05-18T11:31:13.916+0200\tconnected to: mongodb://localhost/\n",
      "2021-05-18T11:31:14.042+0200\t7872 document(s) imported successfully. 0 document(s) failed to import.\n",
      "2021-05-18T11:31:14.185+0200\tconnected to: mongodb://localhost/\n",
      "2021-05-18T11:31:14.328+0200\t7872 document(s) imported successfully. 0 document(s) failed to import.\n",
      "2021-05-18T11:31:14.476+0200\tconnected to: mongodb://localhost/\n",
      "2021-05-18T11:31:14.480+0200\t103 document(s) imported successfully. 0 document(s) failed to import.\n"
     ]
    }
   ],
   "source": [
    "!mongoimport --db madrid --collection restaurants --jsonArray restaurants\n",
    "!mongoimport --db madrid --collection drinks --jsonArray alcohol\n",
    "!mongoimport --db madrid --collection culture --jsonArray culture\n",
    "!mongoimport --db madrid --collection party --jsonArray party\n",
    "!mongoimport --db madrid --collection snacks --jsonArray snacks\n",
    "!mongoimport --db madrid --collection outdoors --jsonArray outdoors\n",
    "!mongoimport --db madrid --collection leisure --jsonArray others\n",
    "!mongoimport --db madrid --collection transport --jsonArray parking\n",
    "!mongoimport --db madrid --collection transport --jsonArray stops_metro\n",
    "!mongoimport --db madrid --collection transport --jsonArray stops_metro_ligero\n",
    "!mongoimport --db madrid --collection transport --jsonArray stops_emt\n",
    "!mongoimport --db madrid --collection transport --jsonArray stops_interurbanos\n",
    "!mongoimport --db madrid --collection transport --jsonArray stops_autobuses_urbanos\n",
    "!mongoimport --db madrid --collection transport --jsonArray stops_cercanias\n"
   ]
  },
  {
   "cell_type": "code",
   "execution_count": 4,
   "metadata": {},
   "outputs": [
    {
     "name": "stdout",
     "output_type": "stream",
     "text": [
      "2021-05-18T11:31:14.669+0200\tconnected to: mongodb://localhost/\n",
      "2021-05-18T11:31:14.787+0200\t1145 document(s) imported successfully. 0 document(s) failed to import.\n",
      "2021-05-18T11:31:14.937+0200\tconnected to: mongodb://localhost/\n",
      "2021-05-18T11:31:14.944+0200\t280 document(s) imported successfully. 0 document(s) failed to import.\n",
      "2021-05-18T11:31:15.091+0200\tconnected to: mongodb://localhost/\n",
      "2021-05-18T11:31:15.100+0200\t301 document(s) imported successfully. 0 document(s) failed to import.\n",
      "2021-05-18T11:31:15.245+0200\tconnected to: mongodb://localhost/\n",
      "2021-05-18T11:31:15.256+0200\t349 document(s) imported successfully. 0 document(s) failed to import.\n",
      "2021-05-18T11:31:15.399+0200\tconnected to: mongodb://localhost/\n",
      "2021-05-18T11:31:15.411+0200\t380 document(s) imported successfully. 0 document(s) failed to import.\n",
      "2021-05-18T11:31:15.556+0200\tconnected to: mongodb://localhost/\n",
      "2021-05-18T11:31:15.570+0200\t523 document(s) imported successfully. 0 document(s) failed to import.\n",
      "2021-05-18T11:31:15.734+0200\tconnected to: mongodb://localhost/\n",
      "2021-05-18T11:31:15.746+0200\t248 document(s) imported successfully. 0 document(s) failed to import.\n",
      "2021-05-18T11:31:15.889+0200\tconnected to: mongodb://localhost/\n",
      "2021-05-18T11:31:15.895+0200\t266 document(s) imported successfully. 0 document(s) failed to import.\n",
      "2021-05-18T11:31:16.038+0200\tconnected to: mongodb://localhost/\n",
      "2021-05-18T11:31:16.060+0200\t1264 document(s) imported successfully. 0 document(s) failed to import.\n",
      "2021-05-18T11:31:16.202+0200\tconnected to: mongodb://localhost/\n",
      "2021-05-18T11:31:16.206+0200\t96 document(s) imported successfully. 0 document(s) failed to import.\n",
      "2021-05-18T11:31:16.355+0200\tconnected to: mongodb://localhost/\n",
      "2021-05-18T11:31:16.436+0200\t4766 document(s) imported successfully. 0 document(s) failed to import.\n",
      "2021-05-18T11:31:16.572+0200\tconnected to: mongodb://localhost/\n",
      "2021-05-18T11:31:16.697+0200\t7872 document(s) imported successfully. 0 document(s) failed to import.\n",
      "2021-05-18T11:31:16.842+0200\tconnected to: mongodb://localhost/\n",
      "2021-05-18T11:31:16.965+0200\t7872 document(s) imported successfully. 0 document(s) failed to import.\n",
      "2021-05-18T11:31:17.115+0200\tconnected to: mongodb://localhost/\n",
      "2021-05-18T11:31:17.119+0200\t103 document(s) imported successfully. 0 document(s) failed to import.\n"
     ]
    }
   ],
   "source": [
    "!mongoimport --db madrid --collection todo --jsonArray restaurants\n",
    "!mongoimport --db madrid --collection todo --jsonArray alcohol\n",
    "!mongoimport --db madrid --collection todo --jsonArray culture\n",
    "!mongoimport --db madrid --collection todo --jsonArray party\n",
    "!mongoimport --db madrid --collection todo --jsonArray snacks\n",
    "!mongoimport --db madrid --collection todo --jsonArray outdoors\n",
    "!mongoimport --db madrid --collection todo --jsonArray others\n",
    "!mongoimport --db madrid --collection todo --jsonArray parking\n",
    "!mongoimport --db madrid --collection todo --jsonArray stops_metro\n",
    "!mongoimport --db madrid --collection todo --jsonArray stops_metro_ligero\n",
    "!mongoimport --db madrid --collection todo --jsonArray stops_emt\n",
    "!mongoimport --db madrid --collection todo --jsonArray stops_interurbanos\n",
    "!mongoimport --db madrid --collection todo --jsonArray stops_autobuses_urbanos\n",
    "!mongoimport --db madrid --collection todo --jsonArray stops_cercanias\n"
   ]
  },
  {
   "cell_type": "code",
   "execution_count": 5,
   "metadata": {},
   "outputs": [
    {
     "data": {
      "text/plain": [
       "'geometry_2dsphere'"
      ]
     },
     "execution_count": 5,
     "metadata": {},
     "output_type": "execute_result"
    }
   ],
   "source": [
    "db.transport.create_index([(\"geometry\", GEOSPHERE)])\n",
    "db.restaurants.create_index([(\"geometry\", GEOSPHERE)])\n",
    "db.culture.create_index([(\"geometry\", GEOSPHERE)])\n",
    "db.leisure.create_index([(\"geometry\", GEOSPHERE)])\n",
    "db.drinks.create_index([(\"geometry\", GEOSPHERE)])\n",
    "db.snacks.create_index([(\"geometry\", GEOSPHERE)])\n",
    "db.party.create_index([(\"geometry\", GEOSPHERE)])\n",
    "db.outdoors.create_index([(\"geometry\", GEOSPHERE)])\n",
    "db.todo.create_index([(\"geometry\", GEOSPHERE)])"
   ]
  },
  {
   "cell_type": "code",
   "execution_count": null,
   "metadata": {},
   "outputs": [],
   "source": []
  },
  {
   "cell_type": "code",
   "execution_count": null,
   "metadata": {},
   "outputs": [],
   "source": []
  },
  {
   "cell_type": "code",
   "execution_count": null,
   "metadata": {},
   "outputs": [],
   "source": []
  }
 ],
 "metadata": {
  "kernelspec": {
   "display_name": "plan",
   "language": "python",
   "name": "plan"
  },
  "language_info": {
   "codemirror_mode": {
    "name": "ipython",
    "version": 3
   },
   "file_extension": ".py",
   "mimetype": "text/x-python",
   "name": "python",
   "nbconvert_exporter": "python",
   "pygments_lexer": "ipython3",
   "version": "3.8.8"
  }
 },
 "nbformat": 4,
 "nbformat_minor": 4
}
