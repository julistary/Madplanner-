{
 "cells": [
  {
   "cell_type": "markdown",
   "metadata": {},
   "source": [
    "# Uploading to MongoDB 🌱"
   ]
  },
  {
   "cell_type": "code",
   "execution_count": 1,
   "metadata": {},
   "outputs": [],
   "source": [
    "import json\n",
    "from pymongo import MongoClient, GEOSPHERE\n",
    "conn = MongoClient(\"localhost:27017\")\n",
    "db = conn.get_database(\"madrid\")"
   ]
  },
  {
   "cell_type": "code",
   "execution_count": 2,
   "metadata": {},
   "outputs": [
    {
     "data": {
      "text/plain": [
       "{'nIndexesWas': 3, 'ns': 'madrid.todo', 'ok': 1.0}"
      ]
     },
     "execution_count": 2,
     "metadata": {},
     "output_type": "execute_result"
    }
   ],
   "source": [
    "db.drop_collection(\"restaurants\")\n",
    "db.drop_collection(\"culture\")\n",
    "db.drop_collection(\"leisure\")\n",
    "db.drop_collection(\"drinks\")\n",
    "db.drop_collection(\"snacks\")\n",
    "db.drop_collection(\"transport\")\n",
    "db.drop_collection(\"party\")\n",
    "db.drop_collection(\"outdoors\")\n",
    "db.drop_collection(\"todo\")"
   ]
  },
  {
   "cell_type": "code",
   "execution_count": 3,
   "metadata": {},
   "outputs": [
    {
     "name": "stdout",
     "output_type": "stream",
     "text": [
      "2021-05-16T15:17:30.575+0200\tconnected to: mongodb://localhost/\n",
      "2021-05-16T15:17:30.718+0200\t1175 document(s) imported successfully. 0 document(s) failed to import.\n",
      "2021-05-16T15:17:30.874+0200\tconnected to: mongodb://localhost/\n",
      "2021-05-16T15:17:30.969+0200\t280 document(s) imported successfully. 0 document(s) failed to import.\n",
      "2021-05-16T15:17:31.120+0200\tconnected to: mongodb://localhost/\n",
      "2021-05-16T15:17:31.215+0200\t301 document(s) imported successfully. 0 document(s) failed to import.\n",
      "2021-05-16T15:17:31.363+0200\tconnected to: mongodb://localhost/\n",
      "2021-05-16T15:17:31.480+0200\t349 document(s) imported successfully. 0 document(s) failed to import.\n",
      "2021-05-16T15:17:31.644+0200\tconnected to: mongodb://localhost/\n",
      "2021-05-16T15:17:31.743+0200\t380 document(s) imported successfully. 0 document(s) failed to import.\n",
      "2021-05-16T15:17:31.898+0200\tconnected to: mongodb://localhost/\n",
      "2021-05-16T15:17:31.994+0200\t523 document(s) imported successfully. 0 document(s) failed to import.\n",
      "2021-05-16T15:17:32.129+0200\tconnected to: mongodb://localhost/\n",
      "2021-05-16T15:17:32.225+0200\t249 document(s) imported successfully. 0 document(s) failed to import.\n",
      "2021-05-16T15:17:32.370+0200\tconnected to: mongodb://localhost/\n",
      "2021-05-16T15:17:32.479+0200\t266 document(s) imported successfully. 0 document(s) failed to import.\n",
      "2021-05-16T15:17:32.626+0200\tconnected to: mongodb://localhost/\n",
      "2021-05-16T15:17:32.651+0200\t1264 document(s) imported successfully. 0 document(s) failed to import.\n",
      "2021-05-16T15:17:32.805+0200\tconnected to: mongodb://localhost/\n",
      "2021-05-16T15:17:32.810+0200\t96 document(s) imported successfully. 0 document(s) failed to import.\n",
      "2021-05-16T15:17:32.960+0200\tconnected to: mongodb://localhost/\n",
      "2021-05-16T15:17:33.062+0200\t4766 document(s) imported successfully. 0 document(s) failed to import.\n",
      "2021-05-16T15:17:33.209+0200\tconnected to: mongodb://localhost/\n",
      "2021-05-16T15:17:33.350+0200\t7872 document(s) imported successfully. 0 document(s) failed to import.\n",
      "2021-05-16T15:17:33.492+0200\tconnected to: mongodb://localhost/\n",
      "2021-05-16T15:17:33.645+0200\t7872 document(s) imported successfully. 0 document(s) failed to import.\n"
     ]
    }
   ],
   "source": [
    "!mongoimport --db madrid --collection restaurants --jsonArray restaurants\n",
    "!mongoimport --db madrid --collection drinks --jsonArray alcohol\n",
    "!mongoimport --db madrid --collection culture --jsonArray culture\n",
    "!mongoimport --db madrid --collection party --jsonArray party\n",
    "!mongoimport --db madrid --collection snacks --jsonArray snacks\n",
    "!mongoimport --db madrid --collection outdoors --jsonArray outdoors\n",
    "!mongoimport --db madrid --collection leisure --jsonArray others\n",
    "!mongoimport --db madrid --collection transport --jsonArray parking\n",
    "!mongoimport --db madrid --collection transport --jsonArray stops_metro\n",
    "!mongoimport --db madrid --collection transport --jsonArray stops_metro_ligero\n",
    "!mongoimport --db madrid --collection transport --jsonArray stops_emt\n",
    "!mongoimport --db madrid --collection transport --jsonArray stops_interurbanos\n",
    "!mongoimport --db madrid --collection transport --jsonArray stops_autobuses_urbanos"
   ]
  },
  {
   "cell_type": "code",
   "execution_count": 4,
   "metadata": {},
   "outputs": [
    {
     "name": "stdout",
     "output_type": "stream",
     "text": [
      "2021-05-16T15:17:33.829+0200\tconnected to: mongodb://localhost/\n",
      "2021-05-16T15:17:33.955+0200\t1175 document(s) imported successfully. 0 document(s) failed to import.\n",
      "2021-05-16T15:17:34.104+0200\tconnected to: mongodb://localhost/\n",
      "2021-05-16T15:17:34.111+0200\t280 document(s) imported successfully. 0 document(s) failed to import.\n",
      "2021-05-16T15:17:34.261+0200\tconnected to: mongodb://localhost/\n",
      "2021-05-16T15:17:34.271+0200\t301 document(s) imported successfully. 0 document(s) failed to import.\n",
      "2021-05-16T15:17:34.443+0200\tconnected to: mongodb://localhost/\n",
      "2021-05-16T15:17:34.467+0200\t349 document(s) imported successfully. 0 document(s) failed to import.\n",
      "2021-05-16T15:17:34.620+0200\tconnected to: mongodb://localhost/\n",
      "2021-05-16T15:17:34.630+0200\t380 document(s) imported successfully. 0 document(s) failed to import.\n",
      "2021-05-16T15:17:34.772+0200\tconnected to: mongodb://localhost/\n",
      "2021-05-16T15:17:34.786+0200\t523 document(s) imported successfully. 0 document(s) failed to import.\n",
      "2021-05-16T15:17:34.936+0200\tconnected to: mongodb://localhost/\n",
      "2021-05-16T15:17:34.944+0200\t249 document(s) imported successfully. 0 document(s) failed to import.\n",
      "2021-05-16T15:17:35.087+0200\tconnected to: mongodb://localhost/\n",
      "2021-05-16T15:17:35.095+0200\t266 document(s) imported successfully. 0 document(s) failed to import.\n",
      "2021-05-16T15:17:35.243+0200\tconnected to: mongodb://localhost/\n",
      "2021-05-16T15:17:35.312+0200\t1264 document(s) imported successfully. 0 document(s) failed to import.\n",
      "2021-05-16T15:17:35.450+0200\tconnected to: mongodb://localhost/\n",
      "2021-05-16T15:17:35.453+0200\t96 document(s) imported successfully. 0 document(s) failed to import.\n",
      "2021-05-16T15:17:35.590+0200\tconnected to: mongodb://localhost/\n",
      "2021-05-16T15:17:35.710+0200\t4766 document(s) imported successfully. 0 document(s) failed to import.\n",
      "2021-05-16T15:17:35.871+0200\tconnected to: mongodb://localhost/\n",
      "2021-05-16T15:17:36.020+0200\t7872 document(s) imported successfully. 0 document(s) failed to import.\n",
      "2021-05-16T15:17:36.157+0200\tconnected to: mongodb://localhost/\n",
      "2021-05-16T15:17:36.328+0200\t7872 document(s) imported successfully. 0 document(s) failed to import.\n"
     ]
    }
   ],
   "source": [
    "!mongoimport --db madrid --collection todo --jsonArray restaurants\n",
    "!mongoimport --db madrid --collection todo --jsonArray alcohol\n",
    "!mongoimport --db madrid --collection todo --jsonArray culture\n",
    "!mongoimport --db madrid --collection todo --jsonArray party\n",
    "!mongoimport --db madrid --collection todo --jsonArray snacks\n",
    "!mongoimport --db madrid --collection todo --jsonArray outdoors\n",
    "!mongoimport --db madrid --collection todo --jsonArray others\n",
    "!mongoimport --db madrid --collection todo --jsonArray parking\n",
    "!mongoimport --db madrid --collection todo --jsonArray stops_metro\n",
    "!mongoimport --db madrid --collection todo --jsonArray stops_metro_ligero\n",
    "!mongoimport --db madrid --collection todo --jsonArray stops_emt\n",
    "!mongoimport --db madrid --collection todo --jsonArray stops_interurbanos\n",
    "!mongoimport --db madrid --collection todo --jsonArray stops_autobuses_urbanos"
   ]
  },
  {
   "cell_type": "code",
   "execution_count": 5,
   "metadata": {},
   "outputs": [
    {
     "data": {
      "text/plain": [
       "'geometry_2dsphere'"
      ]
     },
     "execution_count": 5,
     "metadata": {},
     "output_type": "execute_result"
    }
   ],
   "source": [
    "db.transport.create_index([(\"geometry\", GEOSPHERE)])\n",
    "db.restaurants.create_index([(\"geometry\", GEOSPHERE)])\n",
    "db.culture.create_index([(\"geometry\", GEOSPHERE)])\n",
    "db.leisure.create_index([(\"geometry\", GEOSPHERE)])\n",
    "db.drinks.create_index([(\"geometry\", GEOSPHERE)])\n",
    "db.snacks.create_index([(\"geometry\", GEOSPHERE)])\n",
    "db.party.create_index([(\"geometry\", GEOSPHERE)])\n",
    "db.outdoors.create_index([(\"geometry\", GEOSPHERE)])\n",
    "#db.todo.create_index([(\"geometry\", GEOSPHERE)])"
   ]
  },
  {
   "cell_type": "code",
   "execution_count": null,
   "metadata": {},
   "outputs": [],
   "source": []
  },
  {
   "cell_type": "code",
   "execution_count": null,
   "metadata": {},
   "outputs": [],
   "source": []
  },
  {
   "cell_type": "code",
   "execution_count": null,
   "metadata": {},
   "outputs": [],
   "source": []
  }
 ],
 "metadata": {
  "kernelspec": {
   "display_name": "plan",
   "language": "python",
   "name": "plan"
  },
  "language_info": {
   "codemirror_mode": {
    "name": "ipython",
    "version": 3
   },
   "file_extension": ".py",
   "mimetype": "text/x-python",
   "name": "python",
   "nbconvert_exporter": "python",
   "pygments_lexer": "ipython3",
   "version": "3.8.8"
  }
 },
 "nbformat": 4,
 "nbformat_minor": 4
}
