{
 "cells": [
  {
   "cell_type": "markdown",
   "metadata": {},
   "source": [
    "# Uploading to MongoDB 🌱"
   ]
  },
  {
   "cell_type": "code",
   "execution_count": 1,
   "metadata": {},
   "outputs": [],
   "source": [
    "import json\n",
    "from pymongo import MongoClient, GEOSPHERE\n",
    "conn = MongoClient(\"localhost:27017\")\n",
    "db = conn.get_database(\"madrid\")"
   ]
  },
  {
   "cell_type": "code",
   "execution_count": 2,
   "metadata": {},
   "outputs": [
    {
     "data": {
      "text/plain": [
       "{'nIndexesWas': 2, 'ns': 'madrid.outdoors', 'ok': 1.0}"
      ]
     },
     "execution_count": 2,
     "metadata": {},
     "output_type": "execute_result"
    }
   ],
   "source": [
    "db.drop_collection(\"restaurants\")\n",
    "db.drop_collection(\"culture\")\n",
    "db.drop_collection(\"others\")\n",
    "db.drop_collection(\"alcohol\")\n",
    "db.drop_collection(\"snacks\")\n",
    "db.drop_collection(\"transport\")\n",
    "db.drop_collection(\"party\")\n",
    "db.drop_collection(\"outdoors\")"
   ]
  },
  {
   "cell_type": "code",
   "execution_count": 3,
   "metadata": {},
   "outputs": [
    {
     "name": "stdout",
     "output_type": "stream",
     "text": [
      "2021-05-14T16:32:57.574+0200\tconnected to: mongodb://localhost/\n",
      "2021-05-14T16:32:57.728+0200\t1235 document(s) imported successfully. 0 document(s) failed to import.\n",
      "2021-05-14T16:32:57.881+0200\tconnected to: mongodb://localhost/\n",
      "2021-05-14T16:32:58.000+0200\t340 document(s) imported successfully. 0 document(s) failed to import.\n",
      "2021-05-14T16:32:58.140+0200\tconnected to: mongodb://localhost/\n",
      "2021-05-14T16:32:58.236+0200\t361 document(s) imported successfully. 0 document(s) failed to import.\n",
      "2021-05-14T16:32:58.385+0200\tconnected to: mongodb://localhost/\n",
      "2021-05-14T16:32:58.478+0200\t409 document(s) imported successfully. 0 document(s) failed to import.\n",
      "2021-05-14T16:32:58.625+0200\tconnected to: mongodb://localhost/\n",
      "2021-05-14T16:32:58.720+0200\t380 document(s) imported successfully. 0 document(s) failed to import.\n",
      "2021-05-14T16:32:58.865+0200\tconnected to: mongodb://localhost/\n",
      "2021-05-14T16:32:59.007+0200\t523 document(s) imported successfully. 0 document(s) failed to import.\n",
      "2021-05-14T16:32:59.170+0200\tconnected to: mongodb://localhost/\n",
      "2021-05-14T16:32:59.268+0200\t320 document(s) imported successfully. 0 document(s) failed to import.\n",
      "2021-05-14T16:32:59.411+0200\tconnected to: mongodb://localhost/\n",
      "2021-05-14T16:32:59.547+0200\t266 document(s) imported successfully. 0 document(s) failed to import.\n",
      "2021-05-14T16:32:59.692+0200\tconnected to: mongodb://localhost/\n",
      "2021-05-14T16:32:59.715+0200\t1264 document(s) imported successfully. 0 document(s) failed to import.\n",
      "2021-05-14T16:32:59.859+0200\tconnected to: mongodb://localhost/\n",
      "2021-05-14T16:32:59.868+0200\t96 document(s) imported successfully. 0 document(s) failed to import.\n",
      "2021-05-14T16:33:00.015+0200\tconnected to: mongodb://localhost/\n",
      "2021-05-14T16:33:00.097+0200\t4766 document(s) imported successfully. 0 document(s) failed to import.\n",
      "2021-05-14T16:33:00.244+0200\tconnected to: mongodb://localhost/\n",
      "2021-05-14T16:33:00.374+0200\t7872 document(s) imported successfully. 0 document(s) failed to import.\n",
      "2021-05-14T16:33:00.523+0200\tconnected to: mongodb://localhost/\n",
      "2021-05-14T16:33:00.658+0200\t7872 document(s) imported successfully. 0 document(s) failed to import.\n"
     ]
    }
   ],
   "source": [
    "!mongoimport --db madrid --collection restaurants --jsonArray restaurants\n",
    "!mongoimport --db madrid --collection alcohol --jsonArray alcohol\n",
    "!mongoimport --db madrid --collection culture --jsonArray culture\n",
    "!mongoimport --db madrid --collection party --jsonArray party\n",
    "!mongoimport --db madrid --collection snacks --jsonArray snacks\n",
    "!mongoimport --db madrid --collection outdoors --jsonArray outdoors\n",
    "!mongoimport --db madrid --collection others --jsonArray others\n",
    "!mongoimport --db madrid --collection transport --jsonArray parking\n",
    "!mongoimport --db madrid --collection transport --jsonArray stops_metro\n",
    "!mongoimport --db madrid --collection transport --jsonArray stops_metro_ligero\n",
    "!mongoimport --db madrid --collection transport --jsonArray stops_emt\n",
    "!mongoimport --db madrid --collection transport --jsonArray stops_interurbanos\n",
    "!mongoimport --db madrid --collection transport --jsonArray stops_autobuses_urbanos"
   ]
  },
  {
   "cell_type": "code",
   "execution_count": 4,
   "metadata": {},
   "outputs": [
    {
     "data": {
      "text/plain": [
       "'geometry_2dsphere'"
      ]
     },
     "execution_count": 4,
     "metadata": {},
     "output_type": "execute_result"
    }
   ],
   "source": [
    "db.transport.create_index([(\"geometry\", GEOSPHERE)])\n",
    "db.restaurants.create_index([(\"geometry\", GEOSPHERE)])\n",
    "db.culture.create_index([(\"geometry\", GEOSPHERE)])\n",
    "db.others.create_index([(\"geometry\", GEOSPHERE)])\n",
    "db.alcohol.create_index([(\"geometry\", GEOSPHERE)])\n",
    "db.snacks.create_index([(\"geometry\", GEOSPHERE)])\n",
    "db.party.create_index([(\"geometry\", GEOSPHERE)])\n",
    "db.outdoors.create_index([(\"geometry\", GEOSPHERE)])"
   ]
  },
  {
   "cell_type": "code",
   "execution_count": null,
   "metadata": {},
   "outputs": [],
   "source": []
  },
  {
   "cell_type": "code",
   "execution_count": null,
   "metadata": {},
   "outputs": [],
   "source": []
  }
 ],
 "metadata": {
  "kernelspec": {
   "display_name": "plan",
   "language": "python",
   "name": "plan"
  },
  "language_info": {
   "codemirror_mode": {
    "name": "ipython",
    "version": 3
   },
   "file_extension": ".py",
   "mimetype": "text/x-python",
   "name": "python",
   "nbconvert_exporter": "python",
   "pygments_lexer": "ipython3",
   "version": "3.8.8"
  }
 },
 "nbformat": 4,
 "nbformat_minor": 4
}
