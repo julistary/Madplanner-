{
 "cells": [
  {
   "cell_type": "markdown",
   "metadata": {},
   "source": [
    "# Uploading to MongoDB 🌱"
   ]
  },
  {
   "cell_type": "code",
   "execution_count": 1,
   "metadata": {},
   "outputs": [],
   "source": [
    "import json\n",
    "from pymongo import MongoClient, GEOSPHERE\n",
    "conn = MongoClient(\"localhost:27017\")\n",
    "db = conn.get_database(\"madrid\")"
   ]
  },
  {
   "cell_type": "code",
   "execution_count": 2,
   "metadata": {},
   "outputs": [
    {
     "data": {
      "text/plain": [
       "{'nIndexesWas': 3, 'ns': 'madrid.todo', 'ok': 1.0}"
      ]
     },
     "execution_count": 2,
     "metadata": {},
     "output_type": "execute_result"
    }
   ],
   "source": [
    "db.drop_collection(\"restaurants\")\n",
    "db.drop_collection(\"culture\")\n",
    "db.drop_collection(\"leisure\")\n",
    "db.drop_collection(\"drinks\")\n",
    "db.drop_collection(\"snacks\")\n",
    "db.drop_collection(\"transport\")\n",
    "db.drop_collection(\"party\")\n",
    "db.drop_collection(\"outdoors\")\n",
    "db.drop_collection(\"todo\")"
   ]
  },
  {
   "cell_type": "code",
   "execution_count": 3,
   "metadata": {},
   "outputs": [
    {
     "name": "stdout",
     "output_type": "stream",
     "text": [
      "2021-05-15T18:18:30.479+0200\tconnected to: mongodb://localhost/\n",
      "2021-05-15T18:18:30.639+0200\t1175 document(s) imported successfully. 0 document(s) failed to import.\n",
      "2021-05-15T18:18:30.796+0200\tconnected to: mongodb://localhost/\n",
      "2021-05-15T18:18:30.895+0200\t280 document(s) imported successfully. 0 document(s) failed to import.\n",
      "2021-05-15T18:18:31.043+0200\tconnected to: mongodb://localhost/\n",
      "2021-05-15T18:18:31.145+0200\t361 document(s) imported successfully. 0 document(s) failed to import.\n",
      "2021-05-15T18:18:31.294+0200\tconnected to: mongodb://localhost/\n",
      "2021-05-15T18:18:31.416+0200\t289 document(s) imported successfully. 0 document(s) failed to import.\n",
      "2021-05-15T18:18:31.557+0200\tconnected to: mongodb://localhost/\n",
      "2021-05-15T18:18:31.677+0200\t380 document(s) imported successfully. 0 document(s) failed to import.\n",
      "2021-05-15T18:18:31.831+0200\tconnected to: mongodb://localhost/\n",
      "2021-05-15T18:18:31.931+0200\t523 document(s) imported successfully. 0 document(s) failed to import.\n",
      "2021-05-15T18:18:32.076+0200\tconnected to: mongodb://localhost/\n",
      "2021-05-15T18:18:32.189+0200\t249 document(s) imported successfully. 0 document(s) failed to import.\n",
      "2021-05-15T18:18:32.335+0200\tconnected to: mongodb://localhost/\n",
      "2021-05-15T18:18:32.445+0200\t266 document(s) imported successfully. 0 document(s) failed to import.\n",
      "2021-05-15T18:18:32.596+0200\tconnected to: mongodb://localhost/\n",
      "2021-05-15T18:18:32.618+0200\t1264 document(s) imported successfully. 0 document(s) failed to import.\n",
      "2021-05-15T18:18:32.770+0200\tconnected to: mongodb://localhost/\n",
      "2021-05-15T18:18:32.774+0200\t96 document(s) imported successfully. 0 document(s) failed to import.\n",
      "2021-05-15T18:18:32.929+0200\tconnected to: mongodb://localhost/\n",
      "2021-05-15T18:18:33.013+0200\t4766 document(s) imported successfully. 0 document(s) failed to import.\n",
      "2021-05-15T18:18:33.160+0200\tconnected to: mongodb://localhost/\n",
      "2021-05-15T18:18:33.288+0200\t7872 document(s) imported successfully. 0 document(s) failed to import.\n",
      "2021-05-15T18:18:33.433+0200\tconnected to: mongodb://localhost/\n",
      "2021-05-15T18:18:33.561+0200\t7872 document(s) imported successfully. 0 document(s) failed to import.\n"
     ]
    }
   ],
   "source": [
    "!mongoimport --db madrid --collection restaurants --jsonArray restaurants\n",
    "!mongoimport --db madrid --collection drinks --jsonArray alcohol\n",
    "!mongoimport --db madrid --collection culture --jsonArray culture\n",
    "!mongoimport --db madrid --collection party --jsonArray party\n",
    "!mongoimport --db madrid --collection snacks --jsonArray snacks\n",
    "!mongoimport --db madrid --collection outdoors --jsonArray outdoors\n",
    "!mongoimport --db madrid --collection leisure --jsonArray others\n",
    "!mongoimport --db madrid --collection transport --jsonArray parking\n",
    "!mongoimport --db madrid --collection transport --jsonArray stops_metro\n",
    "!mongoimport --db madrid --collection transport --jsonArray stops_metro_ligero\n",
    "!mongoimport --db madrid --collection transport --jsonArray stops_emt\n",
    "!mongoimport --db madrid --collection transport --jsonArray stops_interurbanos\n",
    "!mongoimport --db madrid --collection transport --jsonArray stops_autobuses_urbanos"
   ]
  },
  {
   "cell_type": "code",
   "execution_count": 4,
   "metadata": {},
   "outputs": [
    {
     "name": "stdout",
     "output_type": "stream",
     "text": [
      "2021-05-15T18:18:33.741+0200\tconnected to: mongodb://localhost/\n",
      "2021-05-15T18:18:33.855+0200\t1175 document(s) imported successfully. 0 document(s) failed to import.\n",
      "2021-05-15T18:18:34.005+0200\tconnected to: mongodb://localhost/\n",
      "2021-05-15T18:18:34.013+0200\t280 document(s) imported successfully. 0 document(s) failed to import.\n",
      "2021-05-15T18:18:34.162+0200\tconnected to: mongodb://localhost/\n",
      "2021-05-15T18:18:34.172+0200\t361 document(s) imported successfully. 0 document(s) failed to import.\n",
      "2021-05-15T18:18:34.319+0200\tconnected to: mongodb://localhost/\n",
      "2021-05-15T18:18:34.327+0200\t289 document(s) imported successfully. 0 document(s) failed to import.\n",
      "2021-05-15T18:18:34.475+0200\tconnected to: mongodb://localhost/\n",
      "2021-05-15T18:18:34.484+0200\t380 document(s) imported successfully. 0 document(s) failed to import.\n",
      "2021-05-15T18:18:34.629+0200\tconnected to: mongodb://localhost/\n",
      "2021-05-15T18:18:34.658+0200\t523 document(s) imported successfully. 0 document(s) failed to import.\n",
      "2021-05-15T18:18:34.807+0200\tconnected to: mongodb://localhost/\n",
      "2021-05-15T18:18:34.814+0200\t249 document(s) imported successfully. 0 document(s) failed to import.\n",
      "2021-05-15T18:18:34.974+0200\tconnected to: mongodb://localhost/\n",
      "2021-05-15T18:18:34.984+0200\t266 document(s) imported successfully. 0 document(s) failed to import.\n",
      "2021-05-15T18:18:35.128+0200\tconnected to: mongodb://localhost/\n",
      "2021-05-15T18:18:35.151+0200\t1264 document(s) imported successfully. 0 document(s) failed to import.\n",
      "2021-05-15T18:18:35.297+0200\tconnected to: mongodb://localhost/\n",
      "2021-05-15T18:18:35.300+0200\t96 document(s) imported successfully. 0 document(s) failed to import.\n",
      "2021-05-15T18:18:35.444+0200\tconnected to: mongodb://localhost/\n",
      "2021-05-15T18:18:35.531+0200\t4766 document(s) imported successfully. 0 document(s) failed to import.\n",
      "2021-05-15T18:18:35.681+0200\tconnected to: mongodb://localhost/\n",
      "2021-05-15T18:18:35.822+0200\t7872 document(s) imported successfully. 0 document(s) failed to import.\n",
      "2021-05-15T18:18:35.967+0200\tconnected to: mongodb://localhost/\n",
      "2021-05-15T18:18:36.117+0200\t7872 document(s) imported successfully. 0 document(s) failed to import.\n"
     ]
    }
   ],
   "source": [
    "!mongoimport --db madrid --collection todo --jsonArray restaurants\n",
    "!mongoimport --db madrid --collection todo --jsonArray alcohol\n",
    "!mongoimport --db madrid --collection todo --jsonArray culture\n",
    "!mongoimport --db madrid --collection todo --jsonArray party\n",
    "!mongoimport --db madrid --collection todo --jsonArray snacks\n",
    "!mongoimport --db madrid --collection todo --jsonArray outdoors\n",
    "!mongoimport --db madrid --collection todo --jsonArray others\n",
    "!mongoimport --db madrid --collection todo --jsonArray parking\n",
    "!mongoimport --db madrid --collection todo --jsonArray stops_metro\n",
    "!mongoimport --db madrid --collection todo --jsonArray stops_metro_ligero\n",
    "!mongoimport --db madrid --collection todo --jsonArray stops_emt\n",
    "!mongoimport --db madrid --collection todo --jsonArray stops_interurbanos\n",
    "!mongoimport --db madrid --collection todo --jsonArray stops_autobuses_urbanos"
   ]
  },
  {
   "cell_type": "code",
   "execution_count": 5,
   "metadata": {},
   "outputs": [
    {
     "data": {
      "text/plain": [
       "'geometry_2dsphere'"
      ]
     },
     "execution_count": 5,
     "metadata": {},
     "output_type": "execute_result"
    }
   ],
   "source": [
    "db.transport.create_index([(\"geometry\", GEOSPHERE)])\n",
    "db.restaurants.create_index([(\"geometry\", GEOSPHERE)])\n",
    "db.culture.create_index([(\"geometry\", GEOSPHERE)])\n",
    "db.leisure.create_index([(\"geometry\", GEOSPHERE)])\n",
    "db.drinks.create_index([(\"geometry\", GEOSPHERE)])\n",
    "db.snacks.create_index([(\"geometry\", GEOSPHERE)])\n",
    "db.party.create_index([(\"geometry\", GEOSPHERE)])\n",
    "db.outdoors.create_index([(\"geometry\", GEOSPHERE)])\n",
    "#db.todo.create_index([(\"geometry\", GEOSPHERE)])"
   ]
  },
  {
   "cell_type": "code",
   "execution_count": null,
   "metadata": {},
   "outputs": [],
   "source": []
  },
  {
   "cell_type": "code",
   "execution_count": null,
   "metadata": {},
   "outputs": [],
   "source": []
  },
  {
   "cell_type": "code",
   "execution_count": null,
   "metadata": {},
   "outputs": [],
   "source": []
  }
 ],
 "metadata": {
  "kernelspec": {
   "display_name": "plan",
   "language": "python",
   "name": "plan"
  },
  "language_info": {
   "codemirror_mode": {
    "name": "ipython",
    "version": 3
   },
   "file_extension": ".py",
   "mimetype": "text/x-python",
   "name": "python",
   "nbconvert_exporter": "python",
   "pygments_lexer": "ipython3",
   "version": "3.8.8"
  }
 },
 "nbformat": 4,
 "nbformat_minor": 4
}
