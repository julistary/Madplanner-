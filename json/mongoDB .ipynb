{
 "cells": [
  {
   "cell_type": "markdown",
   "metadata": {},
   "source": [
    "# Uploading to MongoDB 🌱"
   ]
  },
  {
   "cell_type": "code",
   "execution_count": 1,
   "metadata": {},
   "outputs": [],
   "source": [
    "import json\n",
    "from pymongo import MongoClient, GEOSPHERE\n",
    "conn = MongoClient(\"localhost:27017\")\n",
    "db = conn.get_database(\"madrid\")"
   ]
  },
  {
   "cell_type": "code",
   "execution_count": 2,
   "metadata": {},
   "outputs": [
    {
     "data": {
      "text/plain": [
       "{'nIndexesWas': 2, 'ns': 'madrid.todo', 'ok': 1.0}"
      ]
     },
     "execution_count": 2,
     "metadata": {},
     "output_type": "execute_result"
    }
   ],
   "source": [
    "db.drop_collection(\"restaurants\")\n",
    "db.drop_collection(\"culture\")\n",
    "db.drop_collection(\"leisure\")\n",
    "db.drop_collection(\"drinks\")\n",
    "db.drop_collection(\"snacks\")\n",
    "db.drop_collection(\"transport\")\n",
    "db.drop_collection(\"party\")\n",
    "db.drop_collection(\"outdoors\")\n",
    "db.drop_collection(\"todo\")"
   ]
  },
  {
   "cell_type": "code",
   "execution_count": 3,
   "metadata": {},
   "outputs": [
    {
     "name": "stdout",
     "output_type": "stream",
     "text": [
      "2021-05-17T21:58:05.264+0200\tconnected to: mongodb://localhost/\n",
      "2021-05-17T21:58:05.400+0200\t1175 document(s) imported successfully. 0 document(s) failed to import.\n",
      "2021-05-17T21:58:05.552+0200\tconnected to: mongodb://localhost/\n",
      "2021-05-17T21:58:05.676+0200\t280 document(s) imported successfully. 0 document(s) failed to import.\n",
      "2021-05-17T21:58:05.810+0200\tconnected to: mongodb://localhost/\n",
      "2021-05-17T21:58:05.935+0200\t301 document(s) imported successfully. 0 document(s) failed to import.\n",
      "2021-05-17T21:58:06.074+0200\tconnected to: mongodb://localhost/\n",
      "2021-05-17T21:58:06.165+0200\t349 document(s) imported successfully. 0 document(s) failed to import.\n",
      "2021-05-17T21:58:06.303+0200\tconnected to: mongodb://localhost/\n",
      "2021-05-17T21:58:06.403+0200\t380 document(s) imported successfully. 0 document(s) failed to import.\n",
      "2021-05-17T21:58:06.548+0200\tconnected to: mongodb://localhost/\n",
      "2021-05-17T21:58:06.665+0200\t523 document(s) imported successfully. 0 document(s) failed to import.\n",
      "2021-05-17T21:58:06.828+0200\tconnected to: mongodb://localhost/\n",
      "2021-05-17T21:58:06.915+0200\t249 document(s) imported successfully. 0 document(s) failed to import.\n",
      "2021-05-17T21:58:07.064+0200\tconnected to: mongodb://localhost/\n",
      "2021-05-17T21:58:07.189+0200\t266 document(s) imported successfully. 0 document(s) failed to import.\n",
      "2021-05-17T21:58:07.334+0200\tconnected to: mongodb://localhost/\n",
      "2021-05-17T21:58:07.356+0200\t1264 document(s) imported successfully. 0 document(s) failed to import.\n",
      "2021-05-17T21:58:07.516+0200\tconnected to: mongodb://localhost/\n",
      "2021-05-17T21:58:07.521+0200\t96 document(s) imported successfully. 0 document(s) failed to import.\n",
      "2021-05-17T21:58:07.655+0200\tconnected to: mongodb://localhost/\n",
      "2021-05-17T21:58:07.735+0200\t4766 document(s) imported successfully. 0 document(s) failed to import.\n",
      "2021-05-17T21:58:07.886+0200\tconnected to: mongodb://localhost/\n",
      "2021-05-17T21:58:08.026+0200\t7872 document(s) imported successfully. 0 document(s) failed to import.\n",
      "2021-05-17T21:58:08.174+0200\tconnected to: mongodb://localhost/\n",
      "2021-05-17T21:58:08.304+0200\t7872 document(s) imported successfully. 0 document(s) failed to import.\n",
      "2021-05-17T21:58:08.453+0200\tconnected to: mongodb://localhost/\n",
      "2021-05-17T21:58:08.457+0200\t103 document(s) imported successfully. 0 document(s) failed to import.\n"
     ]
    }
   ],
   "source": [
    "!mongoimport --db madrid --collection restaurants --jsonArray restaurants\n",
    "!mongoimport --db madrid --collection drinks --jsonArray alcohol\n",
    "!mongoimport --db madrid --collection culture --jsonArray culture\n",
    "!mongoimport --db madrid --collection party --jsonArray party\n",
    "!mongoimport --db madrid --collection snacks --jsonArray snacks\n",
    "!mongoimport --db madrid --collection outdoors --jsonArray outdoors\n",
    "!mongoimport --db madrid --collection leisure --jsonArray others\n",
    "!mongoimport --db madrid --collection transport --jsonArray parking\n",
    "!mongoimport --db madrid --collection transport --jsonArray stops_metro\n",
    "!mongoimport --db madrid --collection transport --jsonArray stops_metro_ligero\n",
    "!mongoimport --db madrid --collection transport --jsonArray stops_emt\n",
    "!mongoimport --db madrid --collection transport --jsonArray stops_interurbanos\n",
    "!mongoimport --db madrid --collection transport --jsonArray stops_autobuses_urbanos\n",
    "!mongoimport --db madrid --collection transport --jsonArray stops_cercanias\n"
   ]
  },
  {
   "cell_type": "code",
   "execution_count": 4,
   "metadata": {},
   "outputs": [
    {
     "name": "stdout",
     "output_type": "stream",
     "text": [
      "2021-05-17T21:58:08.644+0200\tconnected to: mongodb://localhost/\n",
      "2021-05-17T21:58:08.823+0200\t1175 document(s) imported successfully. 0 document(s) failed to import.\n",
      "2021-05-17T21:58:08.969+0200\tconnected to: mongodb://localhost/\n",
      "2021-05-17T21:58:08.977+0200\t280 document(s) imported successfully. 0 document(s) failed to import.\n",
      "2021-05-17T21:58:09.120+0200\tconnected to: mongodb://localhost/\n",
      "2021-05-17T21:58:09.129+0200\t301 document(s) imported successfully. 0 document(s) failed to import.\n",
      "2021-05-17T21:58:09.280+0200\tconnected to: mongodb://localhost/\n",
      "2021-05-17T21:58:09.290+0200\t349 document(s) imported successfully. 0 document(s) failed to import.\n",
      "2021-05-17T21:58:09.436+0200\tconnected to: mongodb://localhost/\n",
      "2021-05-17T21:58:09.447+0200\t380 document(s) imported successfully. 0 document(s) failed to import.\n",
      "2021-05-17T21:58:09.594+0200\tconnected to: mongodb://localhost/\n",
      "2021-05-17T21:58:09.608+0200\t523 document(s) imported successfully. 0 document(s) failed to import.\n",
      "2021-05-17T21:58:09.756+0200\tconnected to: mongodb://localhost/\n",
      "2021-05-17T21:58:09.763+0200\t249 document(s) imported successfully. 0 document(s) failed to import.\n",
      "2021-05-17T21:58:09.902+0200\tconnected to: mongodb://localhost/\n",
      "2021-05-17T21:58:09.908+0200\t266 document(s) imported successfully. 0 document(s) failed to import.\n",
      "2021-05-17T21:58:10.058+0200\tconnected to: mongodb://localhost/\n",
      "2021-05-17T21:58:10.087+0200\t1264 document(s) imported successfully. 0 document(s) failed to import.\n",
      "2021-05-17T21:58:10.236+0200\tconnected to: mongodb://localhost/\n",
      "2021-05-17T21:58:10.239+0200\t96 document(s) imported successfully. 0 document(s) failed to import.\n",
      "2021-05-17T21:58:10.386+0200\tconnected to: mongodb://localhost/\n",
      "2021-05-17T21:58:10.465+0200\t4766 document(s) imported successfully. 0 document(s) failed to import.\n",
      "2021-05-17T21:58:10.626+0200\tconnected to: mongodb://localhost/\n",
      "2021-05-17T21:58:10.756+0200\t7872 document(s) imported successfully. 0 document(s) failed to import.\n",
      "2021-05-17T21:58:10.904+0200\tconnected to: mongodb://localhost/\n",
      "2021-05-17T21:58:11.025+0200\t7872 document(s) imported successfully. 0 document(s) failed to import.\n",
      "2021-05-17T21:58:11.175+0200\tconnected to: mongodb://localhost/\n",
      "2021-05-17T21:58:11.178+0200\t103 document(s) imported successfully. 0 document(s) failed to import.\n"
     ]
    }
   ],
   "source": [
    "!mongoimport --db madrid --collection todo --jsonArray restaurants\n",
    "!mongoimport --db madrid --collection todo --jsonArray alcohol\n",
    "!mongoimport --db madrid --collection todo --jsonArray culture\n",
    "!mongoimport --db madrid --collection todo --jsonArray party\n",
    "!mongoimport --db madrid --collection todo --jsonArray snacks\n",
    "!mongoimport --db madrid --collection todo --jsonArray outdoors\n",
    "!mongoimport --db madrid --collection todo --jsonArray others\n",
    "!mongoimport --db madrid --collection todo --jsonArray parking\n",
    "!mongoimport --db madrid --collection todo --jsonArray stops_metro\n",
    "!mongoimport --db madrid --collection todo --jsonArray stops_metro_ligero\n",
    "!mongoimport --db madrid --collection todo --jsonArray stops_emt\n",
    "!mongoimport --db madrid --collection todo --jsonArray stops_interurbanos\n",
    "!mongoimport --db madrid --collection todo --jsonArray stops_autobuses_urbanos\n",
    "!mongoimport --db madrid --collection todo --jsonArray stops_cercanias\n"
   ]
  },
  {
   "cell_type": "code",
   "execution_count": 5,
   "metadata": {},
   "outputs": [
    {
     "data": {
      "text/plain": [
       "'geometry_2dsphere'"
      ]
     },
     "execution_count": 5,
     "metadata": {},
     "output_type": "execute_result"
    }
   ],
   "source": [
    "db.transport.create_index([(\"geometry\", GEOSPHERE)])\n",
    "db.restaurants.create_index([(\"geometry\", GEOSPHERE)])\n",
    "db.culture.create_index([(\"geometry\", GEOSPHERE)])\n",
    "db.leisure.create_index([(\"geometry\", GEOSPHERE)])\n",
    "db.drinks.create_index([(\"geometry\", GEOSPHERE)])\n",
    "db.snacks.create_index([(\"geometry\", GEOSPHERE)])\n",
    "db.party.create_index([(\"geometry\", GEOSPHERE)])\n",
    "db.outdoors.create_index([(\"geometry\", GEOSPHERE)])\n",
    "db.todo.create_index([(\"geometry\", GEOSPHERE)])"
   ]
  },
  {
   "cell_type": "code",
   "execution_count": null,
   "metadata": {},
   "outputs": [],
   "source": []
  },
  {
   "cell_type": "code",
   "execution_count": null,
   "metadata": {},
   "outputs": [],
   "source": []
  },
  {
   "cell_type": "code",
   "execution_count": null,
   "metadata": {},
   "outputs": [],
   "source": []
  }
 ],
 "metadata": {
  "kernelspec": {
   "display_name": "plan",
   "language": "python",
   "name": "plan"
  },
  "language_info": {
   "codemirror_mode": {
    "name": "ipython",
    "version": 3
   },
   "file_extension": ".py",
   "mimetype": "text/x-python",
   "name": "python",
   "nbconvert_exporter": "python",
   "pygments_lexer": "ipython3",
   "version": "3.8.8"
  }
 },
 "nbformat": 4,
 "nbformat_minor": 4
}
