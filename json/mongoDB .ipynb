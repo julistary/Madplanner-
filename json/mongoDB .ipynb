{
 "cells": [
  {
   "cell_type": "markdown",
   "metadata": {},
   "source": [
    "# Uploading to MongoDB 🌱"
   ]
  },
  {
   "cell_type": "code",
   "execution_count": 1,
   "metadata": {},
   "outputs": [],
   "source": [
    "import json\n",
    "from pymongo import MongoClient, GEOSPHERE\n",
    "conn = MongoClient(\"localhost:27017\")\n",
    "db = conn.get_database(\"madrid\")"
   ]
  },
  {
   "cell_type": "code",
   "execution_count": 2,
   "metadata": {},
   "outputs": [
    {
     "data": {
      "text/plain": [
       "{'nIndexesWas': 2, 'ns': 'madrid.todo', 'ok': 1.0}"
      ]
     },
     "execution_count": 2,
     "metadata": {},
     "output_type": "execute_result"
    }
   ],
   "source": [
    "db.drop_collection(\"restaurants\")\n",
    "db.drop_collection(\"culture\")\n",
    "db.drop_collection(\"leisure\")\n",
    "db.drop_collection(\"drinks\")\n",
    "db.drop_collection(\"snacks\")\n",
    "db.drop_collection(\"transport\")\n",
    "db.drop_collection(\"party\")\n",
    "db.drop_collection(\"outdoors\")\n",
    "db.drop_collection(\"todo\")"
   ]
  },
  {
   "cell_type": "code",
   "execution_count": 3,
   "metadata": {},
   "outputs": [
    {
     "name": "stdout",
     "output_type": "stream",
     "text": [
      "2021-05-17T18:36:52.617+0200\tconnected to: mongodb://localhost/\n",
      "2021-05-17T18:36:52.768+0200\t1175 document(s) imported successfully. 0 document(s) failed to import.\n",
      "2021-05-17T18:36:52.917+0200\tconnected to: mongodb://localhost/\n",
      "2021-05-17T18:36:53.012+0200\t280 document(s) imported successfully. 0 document(s) failed to import.\n",
      "2021-05-17T18:36:53.154+0200\tconnected to: mongodb://localhost/\n",
      "2021-05-17T18:36:53.251+0200\t301 document(s) imported successfully. 0 document(s) failed to import.\n",
      "2021-05-17T18:36:53.404+0200\tconnected to: mongodb://localhost/\n",
      "2021-05-17T18:36:53.524+0200\t349 document(s) imported successfully. 0 document(s) failed to import.\n",
      "2021-05-17T18:36:53.673+0200\tconnected to: mongodb://localhost/\n",
      "2021-05-17T18:36:53.772+0200\t380 document(s) imported successfully. 0 document(s) failed to import.\n",
      "2021-05-17T18:36:53.921+0200\tconnected to: mongodb://localhost/\n",
      "2021-05-17T18:36:54.024+0200\t523 document(s) imported successfully. 0 document(s) failed to import.\n",
      "2021-05-17T18:36:54.165+0200\tconnected to: mongodb://localhost/\n",
      "2021-05-17T18:36:54.258+0200\t249 document(s) imported successfully. 0 document(s) failed to import.\n",
      "2021-05-17T18:36:54.405+0200\tconnected to: mongodb://localhost/\n",
      "2021-05-17T18:36:54.499+0200\t266 document(s) imported successfully. 0 document(s) failed to import.\n",
      "2021-05-17T18:36:54.638+0200\tconnected to: mongodb://localhost/\n",
      "2021-05-17T18:36:54.663+0200\t1264 document(s) imported successfully. 0 document(s) failed to import.\n",
      "2021-05-17T18:36:54.798+0200\tconnected to: mongodb://localhost/\n",
      "2021-05-17T18:36:54.802+0200\t96 document(s) imported successfully. 0 document(s) failed to import.\n",
      "2021-05-17T18:36:54.947+0200\tconnected to: mongodb://localhost/\n",
      "2021-05-17T18:36:55.034+0200\t4766 document(s) imported successfully. 0 document(s) failed to import.\n",
      "2021-05-17T18:36:55.177+0200\tconnected to: mongodb://localhost/\n",
      "2021-05-17T18:36:55.327+0200\t7872 document(s) imported successfully. 0 document(s) failed to import.\n",
      "2021-05-17T18:36:55.474+0200\tconnected to: mongodb://localhost/\n",
      "2021-05-17T18:36:55.600+0200\t7872 document(s) imported successfully. 0 document(s) failed to import.\n",
      "2021-05-17T18:36:55.750+0200\tconnected to: mongodb://localhost/\n",
      "2021-05-17T18:36:55.753+0200\t103 document(s) imported successfully. 0 document(s) failed to import.\n"
     ]
    }
   ],
   "source": [
    "!mongoimport --db madrid --collection restaurants --jsonArray restaurants\n",
    "!mongoimport --db madrid --collection drinks --jsonArray alcohol\n",
    "!mongoimport --db madrid --collection culture --jsonArray culture\n",
    "!mongoimport --db madrid --collection party --jsonArray party\n",
    "!mongoimport --db madrid --collection snacks --jsonArray snacks\n",
    "!mongoimport --db madrid --collection outdoors --jsonArray outdoors\n",
    "!mongoimport --db madrid --collection leisure --jsonArray others\n",
    "!mongoimport --db madrid --collection transport --jsonArray parking\n",
    "!mongoimport --db madrid --collection transport --jsonArray stops_metro\n",
    "!mongoimport --db madrid --collection transport --jsonArray stops_metro_ligero\n",
    "!mongoimport --db madrid --collection transport --jsonArray stops_emt\n",
    "!mongoimport --db madrid --collection transport --jsonArray stops_interurbanos\n",
    "!mongoimport --db madrid --collection transport --jsonArray stops_autobuses_urbanos\n",
    "!mongoimport --db madrid --collection transport --jsonArray stops_cercanias\n"
   ]
  },
  {
   "cell_type": "code",
   "execution_count": 4,
   "metadata": {},
   "outputs": [
    {
     "name": "stdout",
     "output_type": "stream",
     "text": [
      "2021-05-17T18:36:55.941+0200\tconnected to: mongodb://localhost/\n",
      "2021-05-17T18:36:56.055+0200\t1175 document(s) imported successfully. 0 document(s) failed to import.\n",
      "2021-05-17T18:36:56.206+0200\tconnected to: mongodb://localhost/\n",
      "2021-05-17T18:36:56.214+0200\t280 document(s) imported successfully. 0 document(s) failed to import.\n",
      "2021-05-17T18:36:56.358+0200\tconnected to: mongodb://localhost/\n",
      "2021-05-17T18:36:56.373+0200\t301 document(s) imported successfully. 0 document(s) failed to import.\n",
      "2021-05-17T18:36:56.520+0200\tconnected to: mongodb://localhost/\n",
      "2021-05-17T18:36:56.530+0200\t349 document(s) imported successfully. 0 document(s) failed to import.\n",
      "2021-05-17T18:36:56.675+0200\tconnected to: mongodb://localhost/\n",
      "2021-05-17T18:36:56.686+0200\t380 document(s) imported successfully. 0 document(s) failed to import.\n",
      "2021-05-17T18:36:56.837+0200\tconnected to: mongodb://localhost/\n",
      "2021-05-17T18:36:56.851+0200\t523 document(s) imported successfully. 0 document(s) failed to import.\n",
      "2021-05-17T18:36:57.005+0200\tconnected to: mongodb://localhost/\n",
      "2021-05-17T18:36:57.014+0200\t249 document(s) imported successfully. 0 document(s) failed to import.\n",
      "2021-05-17T18:36:57.152+0200\tconnected to: mongodb://localhost/\n",
      "2021-05-17T18:36:57.158+0200\t266 document(s) imported successfully. 0 document(s) failed to import.\n",
      "2021-05-17T18:36:57.306+0200\tconnected to: mongodb://localhost/\n",
      "2021-05-17T18:36:57.328+0200\t1264 document(s) imported successfully. 0 document(s) failed to import.\n",
      "2021-05-17T18:36:57.476+0200\tconnected to: mongodb://localhost/\n",
      "2021-05-17T18:36:57.479+0200\t96 document(s) imported successfully. 0 document(s) failed to import.\n",
      "2021-05-17T18:36:57.630+0200\tconnected to: mongodb://localhost/\n",
      "2021-05-17T18:36:57.718+0200\t4766 document(s) imported successfully. 0 document(s) failed to import.\n",
      "2021-05-17T18:36:57.863+0200\tconnected to: mongodb://localhost/\n",
      "2021-05-17T18:36:57.989+0200\t7872 document(s) imported successfully. 0 document(s) failed to import.\n",
      "2021-05-17T18:36:58.139+0200\tconnected to: mongodb://localhost/\n",
      "2021-05-17T18:36:58.269+0200\t7872 document(s) imported successfully. 0 document(s) failed to import.\n",
      "2021-05-17T18:36:58.414+0200\tconnected to: mongodb://localhost/\n",
      "2021-05-17T18:36:58.435+0200\t103 document(s) imported successfully. 0 document(s) failed to import.\n"
     ]
    }
   ],
   "source": [
    "!mongoimport --db madrid --collection todo --jsonArray restaurants\n",
    "!mongoimport --db madrid --collection todo --jsonArray alcohol\n",
    "!mongoimport --db madrid --collection todo --jsonArray culture\n",
    "!mongoimport --db madrid --collection todo --jsonArray party\n",
    "!mongoimport --db madrid --collection todo --jsonArray snacks\n",
    "!mongoimport --db madrid --collection todo --jsonArray outdoors\n",
    "!mongoimport --db madrid --collection todo --jsonArray others\n",
    "!mongoimport --db madrid --collection todo --jsonArray parking\n",
    "!mongoimport --db madrid --collection todo --jsonArray stops_metro\n",
    "!mongoimport --db madrid --collection todo --jsonArray stops_metro_ligero\n",
    "!mongoimport --db madrid --collection todo --jsonArray stops_emt\n",
    "!mongoimport --db madrid --collection todo --jsonArray stops_interurbanos\n",
    "!mongoimport --db madrid --collection todo --jsonArray stops_autobuses_urbanos\n",
    "!mongoimport --db madrid --collection todo --jsonArray stops_cercanias\n"
   ]
  },
  {
   "cell_type": "code",
   "execution_count": 5,
   "metadata": {},
   "outputs": [
    {
     "data": {
      "text/plain": [
       "'geometry_2dsphere'"
      ]
     },
     "execution_count": 5,
     "metadata": {},
     "output_type": "execute_result"
    }
   ],
   "source": [
    "db.transport.create_index([(\"geometry\", GEOSPHERE)])\n",
    "db.restaurants.create_index([(\"geometry\", GEOSPHERE)])\n",
    "db.culture.create_index([(\"geometry\", GEOSPHERE)])\n",
    "db.leisure.create_index([(\"geometry\", GEOSPHERE)])\n",
    "db.drinks.create_index([(\"geometry\", GEOSPHERE)])\n",
    "db.snacks.create_index([(\"geometry\", GEOSPHERE)])\n",
    "db.party.create_index([(\"geometry\", GEOSPHERE)])\n",
    "db.outdoors.create_index([(\"geometry\", GEOSPHERE)])\n",
    "db.todo.create_index([(\"geometry\", GEOSPHERE)])"
   ]
  },
  {
   "cell_type": "code",
   "execution_count": null,
   "metadata": {},
   "outputs": [],
   "source": []
  },
  {
   "cell_type": "code",
   "execution_count": null,
   "metadata": {},
   "outputs": [],
   "source": []
  },
  {
   "cell_type": "code",
   "execution_count": null,
   "metadata": {},
   "outputs": [],
   "source": []
  }
 ],
 "metadata": {
  "kernelspec": {
   "display_name": "plan",
   "language": "python",
   "name": "plan"
  },
  "language_info": {
   "codemirror_mode": {
    "name": "ipython",
    "version": 3
   },
   "file_extension": ".py",
   "mimetype": "text/x-python",
   "name": "python",
   "nbconvert_exporter": "python",
   "pygments_lexer": "ipython3",
   "version": "3.8.8"
  }
 },
 "nbformat": 4,
 "nbformat_minor": 4
}
