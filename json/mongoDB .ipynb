{
 "cells": [
  {
   "cell_type": "markdown",
   "metadata": {},
   "source": [
    "# Uploading to MongoDB 🌱"
   ]
  },
  {
   "cell_type": "code",
   "execution_count": 1,
   "metadata": {},
   "outputs": [],
   "source": [
    "import json\n",
    "from pymongo import MongoClient, GEOSPHERE\n",
    "conn = MongoClient(\"localhost:27017\")\n",
    "db = conn.get_database(\"madrid\")"
   ]
  },
  {
   "cell_type": "code",
   "execution_count": 2,
   "metadata": {},
   "outputs": [
    {
     "data": {
      "text/plain": [
       "{'nIndexesWas': 2, 'ns': 'madrid.todo', 'ok': 1.0}"
      ]
     },
     "execution_count": 2,
     "metadata": {},
     "output_type": "execute_result"
    }
   ],
   "source": [
    "db.drop_collection(\"restaurants\")\n",
    "db.drop_collection(\"culture\")\n",
    "db.drop_collection(\"leisure\")\n",
    "db.drop_collection(\"drinks\")\n",
    "db.drop_collection(\"snacks\")\n",
    "db.drop_collection(\"transport\")\n",
    "db.drop_collection(\"party\")\n",
    "db.drop_collection(\"outdoors\")\n",
    "db.drop_collection(\"todo\")"
   ]
  },
  {
   "cell_type": "code",
   "execution_count": 3,
   "metadata": {},
   "outputs": [
    {
     "name": "stdout",
     "output_type": "stream",
     "text": [
      "2021-05-17T13:08:45.031+0200\tconnected to: mongodb://localhost/\n",
      "2021-05-17T13:08:45.221+0200\t1175 document(s) imported successfully. 0 document(s) failed to import.\n",
      "2021-05-17T13:08:45.365+0200\tconnected to: mongodb://localhost/\n",
      "2021-05-17T13:08:45.477+0200\t280 document(s) imported successfully. 0 document(s) failed to import.\n",
      "2021-05-17T13:08:45.614+0200\tconnected to: mongodb://localhost/\n",
      "2021-05-17T13:08:45.710+0200\t301 document(s) imported successfully. 0 document(s) failed to import.\n",
      "2021-05-17T13:08:45.863+0200\tconnected to: mongodb://localhost/\n",
      "2021-05-17T13:08:45.962+0200\t349 document(s) imported successfully. 0 document(s) failed to import.\n",
      "2021-05-17T13:08:46.115+0200\tconnected to: mongodb://localhost/\n",
      "2021-05-17T13:08:46.212+0200\t380 document(s) imported successfully. 0 document(s) failed to import.\n",
      "2021-05-17T13:08:46.362+0200\tconnected to: mongodb://localhost/\n",
      "2021-05-17T13:08:46.468+0200\t523 document(s) imported successfully. 0 document(s) failed to import.\n",
      "2021-05-17T13:08:46.622+0200\tconnected to: mongodb://localhost/\n",
      "2021-05-17T13:08:46.714+0200\t249 document(s) imported successfully. 0 document(s) failed to import.\n",
      "2021-05-17T13:08:46.853+0200\tconnected to: mongodb://localhost/\n",
      "2021-05-17T13:08:46.967+0200\t266 document(s) imported successfully. 0 document(s) failed to import.\n",
      "2021-05-17T13:08:47.112+0200\tconnected to: mongodb://localhost/\n",
      "2021-05-17T13:08:47.132+0200\t1264 document(s) imported successfully. 0 document(s) failed to import.\n",
      "2021-05-17T13:08:47.284+0200\tconnected to: mongodb://localhost/\n",
      "2021-05-17T13:08:47.288+0200\t96 document(s) imported successfully. 0 document(s) failed to import.\n",
      "2021-05-17T13:08:47.429+0200\tconnected to: mongodb://localhost/\n",
      "2021-05-17T13:08:47.517+0200\t4766 document(s) imported successfully. 0 document(s) failed to import.\n",
      "2021-05-17T13:08:47.667+0200\tconnected to: mongodb://localhost/\n",
      "2021-05-17T13:08:47.805+0200\t7872 document(s) imported successfully. 0 document(s) failed to import.\n",
      "2021-05-17T13:08:47.945+0200\tconnected to: mongodb://localhost/\n",
      "2021-05-17T13:08:48.099+0200\t7872 document(s) imported successfully. 0 document(s) failed to import.\n",
      "2021-05-17T13:08:48.243+0200\tconnected to: mongodb://localhost/\n",
      "2021-05-17T13:08:48.247+0200\t103 document(s) imported successfully. 0 document(s) failed to import.\n"
     ]
    }
   ],
   "source": [
    "!mongoimport --db madrid --collection restaurants --jsonArray restaurants\n",
    "!mongoimport --db madrid --collection drinks --jsonArray alcohol\n",
    "!mongoimport --db madrid --collection culture --jsonArray culture\n",
    "!mongoimport --db madrid --collection party --jsonArray party\n",
    "!mongoimport --db madrid --collection snacks --jsonArray snacks\n",
    "!mongoimport --db madrid --collection outdoors --jsonArray outdoors\n",
    "!mongoimport --db madrid --collection leisure --jsonArray others\n",
    "!mongoimport --db madrid --collection transport --jsonArray parking\n",
    "!mongoimport --db madrid --collection transport --jsonArray stops_metro\n",
    "!mongoimport --db madrid --collection transport --jsonArray stops_metro_ligero\n",
    "!mongoimport --db madrid --collection transport --jsonArray stops_emt\n",
    "!mongoimport --db madrid --collection transport --jsonArray stops_interurbanos\n",
    "!mongoimport --db madrid --collection transport --jsonArray stops_autobuses_urbanos\n",
    "!mongoimport --db madrid --collection transport --jsonArray stops_cercanias\n"
   ]
  },
  {
   "cell_type": "code",
   "execution_count": 4,
   "metadata": {},
   "outputs": [
    {
     "name": "stdout",
     "output_type": "stream",
     "text": [
      "2021-05-17T13:08:48.428+0200\tconnected to: mongodb://localhost/\n",
      "2021-05-17T13:08:48.557+0200\t1175 document(s) imported successfully. 0 document(s) failed to import.\n",
      "2021-05-17T13:08:48.690+0200\tconnected to: mongodb://localhost/\n",
      "2021-05-17T13:08:48.700+0200\t280 document(s) imported successfully. 0 document(s) failed to import.\n",
      "2021-05-17T13:08:48.840+0200\tconnected to: mongodb://localhost/\n",
      "2021-05-17T13:08:48.851+0200\t301 document(s) imported successfully. 0 document(s) failed to import.\n",
      "2021-05-17T13:08:48.989+0200\tconnected to: mongodb://localhost/\n",
      "2021-05-17T13:08:49.002+0200\t349 document(s) imported successfully. 0 document(s) failed to import.\n",
      "2021-05-17T13:08:49.146+0200\tconnected to: mongodb://localhost/\n",
      "2021-05-17T13:08:49.162+0200\t380 document(s) imported successfully. 0 document(s) failed to import.\n",
      "2021-05-17T13:08:49.300+0200\tconnected to: mongodb://localhost/\n",
      "2021-05-17T13:08:49.315+0200\t523 document(s) imported successfully. 0 document(s) failed to import.\n",
      "2021-05-17T13:08:49.465+0200\tconnected to: mongodb://localhost/\n",
      "2021-05-17T13:08:49.472+0200\t249 document(s) imported successfully. 0 document(s) failed to import.\n",
      "2021-05-17T13:08:49.659+0200\tconnected to: mongodb://localhost/\n",
      "2021-05-17T13:08:49.678+0200\t266 document(s) imported successfully. 0 document(s) failed to import.\n",
      "2021-05-17T13:08:49.864+0200\tconnected to: mongodb://localhost/\n",
      "2021-05-17T13:08:49.901+0200\t1264 document(s) imported successfully. 0 document(s) failed to import.\n",
      "2021-05-17T13:08:50.079+0200\tconnected to: mongodb://localhost/\n",
      "2021-05-17T13:08:50.082+0200\t96 document(s) imported successfully. 0 document(s) failed to import.\n",
      "2021-05-17T13:08:50.221+0200\tconnected to: mongodb://localhost/\n",
      "2021-05-17T13:08:50.316+0200\t4766 document(s) imported successfully. 0 document(s) failed to import.\n",
      "2021-05-17T13:08:50.456+0200\tconnected to: mongodb://localhost/\n",
      "2021-05-17T13:08:50.595+0200\t7872 document(s) imported successfully. 0 document(s) failed to import.\n",
      "2021-05-17T13:08:50.734+0200\tconnected to: mongodb://localhost/\n",
      "2021-05-17T13:08:50.895+0200\t7872 document(s) imported successfully. 0 document(s) failed to import.\n",
      "2021-05-17T13:08:51.056+0200\tconnected to: mongodb://localhost/\n",
      "2021-05-17T13:08:51.079+0200\t103 document(s) imported successfully. 0 document(s) failed to import.\n"
     ]
    }
   ],
   "source": [
    "!mongoimport --db madrid --collection todo --jsonArray restaurants\n",
    "!mongoimport --db madrid --collection todo --jsonArray alcohol\n",
    "!mongoimport --db madrid --collection todo --jsonArray culture\n",
    "!mongoimport --db madrid --collection todo --jsonArray party\n",
    "!mongoimport --db madrid --collection todo --jsonArray snacks\n",
    "!mongoimport --db madrid --collection todo --jsonArray outdoors\n",
    "!mongoimport --db madrid --collection todo --jsonArray others\n",
    "!mongoimport --db madrid --collection todo --jsonArray parking\n",
    "!mongoimport --db madrid --collection todo --jsonArray stops_metro\n",
    "!mongoimport --db madrid --collection todo --jsonArray stops_metro_ligero\n",
    "!mongoimport --db madrid --collection todo --jsonArray stops_emt\n",
    "!mongoimport --db madrid --collection todo --jsonArray stops_interurbanos\n",
    "!mongoimport --db madrid --collection todo --jsonArray stops_autobuses_urbanos\n",
    "!mongoimport --db madrid --collection todo --jsonArray stops_cercanias\n"
   ]
  },
  {
   "cell_type": "code",
   "execution_count": 5,
   "metadata": {},
   "outputs": [
    {
     "data": {
      "text/plain": [
       "'geometry_2dsphere'"
      ]
     },
     "execution_count": 5,
     "metadata": {},
     "output_type": "execute_result"
    }
   ],
   "source": [
    "db.transport.create_index([(\"geometry\", GEOSPHERE)])\n",
    "db.restaurants.create_index([(\"geometry\", GEOSPHERE)])\n",
    "db.culture.create_index([(\"geometry\", GEOSPHERE)])\n",
    "db.leisure.create_index([(\"geometry\", GEOSPHERE)])\n",
    "db.drinks.create_index([(\"geometry\", GEOSPHERE)])\n",
    "db.snacks.create_index([(\"geometry\", GEOSPHERE)])\n",
    "db.party.create_index([(\"geometry\", GEOSPHERE)])\n",
    "db.outdoors.create_index([(\"geometry\", GEOSPHERE)])\n",
    "db.todo.create_index([(\"geometry\", GEOSPHERE)])"
   ]
  },
  {
   "cell_type": "code",
   "execution_count": null,
   "metadata": {},
   "outputs": [],
   "source": []
  },
  {
   "cell_type": "code",
   "execution_count": null,
   "metadata": {},
   "outputs": [],
   "source": []
  },
  {
   "cell_type": "code",
   "execution_count": null,
   "metadata": {},
   "outputs": [],
   "source": []
  }
 ],
 "metadata": {
  "kernelspec": {
   "display_name": "plan",
   "language": "python",
   "name": "plan"
  },
  "language_info": {
   "codemirror_mode": {
    "name": "ipython",
    "version": 3
   },
   "file_extension": ".py",
   "mimetype": "text/x-python",
   "name": "python",
   "nbconvert_exporter": "python",
   "pygments_lexer": "ipython3",
   "version": "3.8.8"
  }
 },
 "nbformat": 4,
 "nbformat_minor": 4
}
