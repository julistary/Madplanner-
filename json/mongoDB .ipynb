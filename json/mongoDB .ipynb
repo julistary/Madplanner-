{
 "cells": [
  {
   "cell_type": "markdown",
   "metadata": {},
   "source": [
    "# Uploading to MongoDB 🌱"
   ]
  },
  {
   "cell_type": "code",
   "execution_count": 1,
   "metadata": {},
   "outputs": [],
   "source": [
    "import json\n",
    "from pymongo import MongoClient, GEOSPHERE\n",
    "conn = MongoClient(\"localhost:27017\")\n",
    "db = conn.get_database(\"madrid\")"
   ]
  },
  {
   "cell_type": "code",
   "execution_count": 2,
   "metadata": {},
   "outputs": [
    {
     "data": {
      "text/plain": [
       "{'nIndexesWas': 2, 'ns': 'madrid.todo', 'ok': 1.0}"
      ]
     },
     "execution_count": 2,
     "metadata": {},
     "output_type": "execute_result"
    }
   ],
   "source": [
    "db.drop_collection(\"restaurants\")\n",
    "db.drop_collection(\"culture\")\n",
    "db.drop_collection(\"leisure\")\n",
    "db.drop_collection(\"drinks\")\n",
    "db.drop_collection(\"snacks\")\n",
    "db.drop_collection(\"transport\")\n",
    "db.drop_collection(\"party\")\n",
    "db.drop_collection(\"outdoors\")\n",
    "db.drop_collection(\"todo\")"
   ]
  },
  {
   "cell_type": "code",
   "execution_count": 3,
   "metadata": {},
   "outputs": [
    {
     "name": "stdout",
     "output_type": "stream",
     "text": [
      "2021-05-17T18:42:35.338+0200\tconnected to: mongodb://localhost/\n",
      "2021-05-17T18:42:35.458+0200\t1175 document(s) imported successfully. 0 document(s) failed to import.\n",
      "2021-05-17T18:42:35.590+0200\tconnected to: mongodb://localhost/\n",
      "2021-05-17T18:42:35.678+0200\t280 document(s) imported successfully. 0 document(s) failed to import.\n",
      "2021-05-17T18:42:35.825+0200\tconnected to: mongodb://localhost/\n",
      "2021-05-17T18:42:35.918+0200\t301 document(s) imported successfully. 0 document(s) failed to import.\n",
      "2021-05-17T18:42:36.069+0200\tconnected to: mongodb://localhost/\n",
      "2021-05-17T18:42:36.180+0200\t349 document(s) imported successfully. 0 document(s) failed to import.\n",
      "2021-05-17T18:42:36.322+0200\tconnected to: mongodb://localhost/\n",
      "2021-05-17T18:42:36.419+0200\t380 document(s) imported successfully. 0 document(s) failed to import.\n",
      "2021-05-17T18:42:36.571+0200\tconnected to: mongodb://localhost/\n",
      "2021-05-17T18:42:36.670+0200\t523 document(s) imported successfully. 0 document(s) failed to import.\n",
      "2021-05-17T18:42:36.824+0200\tconnected to: mongodb://localhost/\n",
      "2021-05-17T18:42:36.914+0200\t249 document(s) imported successfully. 0 document(s) failed to import.\n",
      "2021-05-17T18:42:37.068+0200\tconnected to: mongodb://localhost/\n",
      "2021-05-17T18:42:37.158+0200\t266 document(s) imported successfully. 0 document(s) failed to import.\n",
      "2021-05-17T18:42:37.294+0200\tconnected to: mongodb://localhost/\n",
      "2021-05-17T18:42:37.320+0200\t1264 document(s) imported successfully. 0 document(s) failed to import.\n",
      "2021-05-17T18:42:37.463+0200\tconnected to: mongodb://localhost/\n",
      "2021-05-17T18:42:37.467+0200\t96 document(s) imported successfully. 0 document(s) failed to import.\n",
      "2021-05-17T18:42:37.618+0200\tconnected to: mongodb://localhost/\n",
      "2021-05-17T18:42:37.696+0200\t4766 document(s) imported successfully. 0 document(s) failed to import.\n",
      "2021-05-17T18:42:37.842+0200\tconnected to: mongodb://localhost/\n",
      "2021-05-17T18:42:37.968+0200\t7872 document(s) imported successfully. 0 document(s) failed to import.\n",
      "2021-05-17T18:42:38.113+0200\tconnected to: mongodb://localhost/\n",
      "2021-05-17T18:42:38.244+0200\t7872 document(s) imported successfully. 0 document(s) failed to import.\n",
      "2021-05-17T18:42:38.395+0200\tconnected to: mongodb://localhost/\n",
      "2021-05-17T18:42:38.400+0200\t103 document(s) imported successfully. 0 document(s) failed to import.\n"
     ]
    }
   ],
   "source": [
    "!mongoimport --db madrid --collection restaurants --jsonArray restaurants\n",
    "!mongoimport --db madrid --collection drinks --jsonArray alcohol\n",
    "!mongoimport --db madrid --collection culture --jsonArray culture\n",
    "!mongoimport --db madrid --collection party --jsonArray party\n",
    "!mongoimport --db madrid --collection snacks --jsonArray snacks\n",
    "!mongoimport --db madrid --collection outdoors --jsonArray outdoors\n",
    "!mongoimport --db madrid --collection leisure --jsonArray others\n",
    "!mongoimport --db madrid --collection transport --jsonArray parking\n",
    "!mongoimport --db madrid --collection transport --jsonArray stops_metro\n",
    "!mongoimport --db madrid --collection transport --jsonArray stops_metro_ligero\n",
    "!mongoimport --db madrid --collection transport --jsonArray stops_emt\n",
    "!mongoimport --db madrid --collection transport --jsonArray stops_interurbanos\n",
    "!mongoimport --db madrid --collection transport --jsonArray stops_autobuses_urbanos\n",
    "!mongoimport --db madrid --collection transport --jsonArray stops_cercanias\n"
   ]
  },
  {
   "cell_type": "code",
   "execution_count": 4,
   "metadata": {},
   "outputs": [
    {
     "name": "stdout",
     "output_type": "stream",
     "text": [
      "2021-05-17T18:42:38.579+0200\tconnected to: mongodb://localhost/\n",
      "2021-05-17T18:42:38.717+0200\t1175 document(s) imported successfully. 0 document(s) failed to import.\n",
      "2021-05-17T18:42:38.864+0200\tconnected to: mongodb://localhost/\n",
      "2021-05-17T18:42:38.873+0200\t280 document(s) imported successfully. 0 document(s) failed to import.\n",
      "2021-05-17T18:42:39.024+0200\tconnected to: mongodb://localhost/\n",
      "2021-05-17T18:42:39.032+0200\t301 document(s) imported successfully. 0 document(s) failed to import.\n",
      "2021-05-17T18:42:39.178+0200\tconnected to: mongodb://localhost/\n",
      "2021-05-17T18:42:39.202+0200\t349 document(s) imported successfully. 0 document(s) failed to import.\n",
      "2021-05-17T18:42:39.353+0200\tconnected to: mongodb://localhost/\n",
      "2021-05-17T18:42:39.364+0200\t380 document(s) imported successfully. 0 document(s) failed to import.\n",
      "2021-05-17T18:42:39.516+0200\tconnected to: mongodb://localhost/\n",
      "2021-05-17T18:42:39.530+0200\t523 document(s) imported successfully. 0 document(s) failed to import.\n",
      "2021-05-17T18:42:39.675+0200\tconnected to: mongodb://localhost/\n",
      "2021-05-17T18:42:39.683+0200\t249 document(s) imported successfully. 0 document(s) failed to import.\n",
      "2021-05-17T18:42:39.835+0200\tconnected to: mongodb://localhost/\n",
      "2021-05-17T18:42:39.841+0200\t266 document(s) imported successfully. 0 document(s) failed to import.\n",
      "2021-05-17T18:42:39.988+0200\tconnected to: mongodb://localhost/\n",
      "2021-05-17T18:42:40.009+0200\t1264 document(s) imported successfully. 0 document(s) failed to import.\n",
      "2021-05-17T18:42:40.168+0200\tconnected to: mongodb://localhost/\n",
      "2021-05-17T18:42:40.171+0200\t96 document(s) imported successfully. 0 document(s) failed to import.\n",
      "2021-05-17T18:42:40.311+0200\tconnected to: mongodb://localhost/\n",
      "2021-05-17T18:42:40.394+0200\t4766 document(s) imported successfully. 0 document(s) failed to import.\n",
      "2021-05-17T18:42:40.554+0200\tconnected to: mongodb://localhost/\n",
      "2021-05-17T18:42:40.679+0200\t7872 document(s) imported successfully. 0 document(s) failed to import.\n",
      "2021-05-17T18:42:40.828+0200\tconnected to: mongodb://localhost/\n",
      "2021-05-17T18:42:40.952+0200\t7872 document(s) imported successfully. 0 document(s) failed to import.\n",
      "2021-05-17T18:42:41.102+0200\tconnected to: mongodb://localhost/\n",
      "2021-05-17T18:42:41.123+0200\t103 document(s) imported successfully. 0 document(s) failed to import.\n"
     ]
    }
   ],
   "source": [
    "!mongoimport --db madrid --collection todo --jsonArray restaurants\n",
    "!mongoimport --db madrid --collection todo --jsonArray alcohol\n",
    "!mongoimport --db madrid --collection todo --jsonArray culture\n",
    "!mongoimport --db madrid --collection todo --jsonArray party\n",
    "!mongoimport --db madrid --collection todo --jsonArray snacks\n",
    "!mongoimport --db madrid --collection todo --jsonArray outdoors\n",
    "!mongoimport --db madrid --collection todo --jsonArray others\n",
    "!mongoimport --db madrid --collection todo --jsonArray parking\n",
    "!mongoimport --db madrid --collection todo --jsonArray stops_metro\n",
    "!mongoimport --db madrid --collection todo --jsonArray stops_metro_ligero\n",
    "!mongoimport --db madrid --collection todo --jsonArray stops_emt\n",
    "!mongoimport --db madrid --collection todo --jsonArray stops_interurbanos\n",
    "!mongoimport --db madrid --collection todo --jsonArray stops_autobuses_urbanos\n",
    "!mongoimport --db madrid --collection todo --jsonArray stops_cercanias\n"
   ]
  },
  {
   "cell_type": "code",
   "execution_count": 5,
   "metadata": {},
   "outputs": [
    {
     "data": {
      "text/plain": [
       "'geometry_2dsphere'"
      ]
     },
     "execution_count": 5,
     "metadata": {},
     "output_type": "execute_result"
    }
   ],
   "source": [
    "db.transport.create_index([(\"geometry\", GEOSPHERE)])\n",
    "db.restaurants.create_index([(\"geometry\", GEOSPHERE)])\n",
    "db.culture.create_index([(\"geometry\", GEOSPHERE)])\n",
    "db.leisure.create_index([(\"geometry\", GEOSPHERE)])\n",
    "db.drinks.create_index([(\"geometry\", GEOSPHERE)])\n",
    "db.snacks.create_index([(\"geometry\", GEOSPHERE)])\n",
    "db.party.create_index([(\"geometry\", GEOSPHERE)])\n",
    "db.outdoors.create_index([(\"geometry\", GEOSPHERE)])\n",
    "db.todo.create_index([(\"geometry\", GEOSPHERE)])"
   ]
  },
  {
   "cell_type": "code",
   "execution_count": null,
   "metadata": {},
   "outputs": [],
   "source": []
  },
  {
   "cell_type": "code",
   "execution_count": null,
   "metadata": {},
   "outputs": [],
   "source": []
  },
  {
   "cell_type": "code",
   "execution_count": null,
   "metadata": {},
   "outputs": [],
   "source": []
  }
 ],
 "metadata": {
  "kernelspec": {
   "display_name": "plan",
   "language": "python",
   "name": "plan"
  },
  "language_info": {
   "codemirror_mode": {
    "name": "ipython",
    "version": 3
   },
   "file_extension": ".py",
   "mimetype": "text/x-python",
   "name": "python",
   "nbconvert_exporter": "python",
   "pygments_lexer": "ipython3",
   "version": "3.8.8"
  }
 },
 "nbformat": 4,
 "nbformat_minor": 4
}
