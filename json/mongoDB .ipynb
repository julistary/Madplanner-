{
 "cells": [
  {
   "cell_type": "markdown",
   "metadata": {},
   "source": [
    "# Uploading to MongoDB 🌱"
   ]
  },
  {
   "cell_type": "code",
   "execution_count": 1,
   "metadata": {},
   "outputs": [],
   "source": [
    "import json\n",
    "from pymongo import MongoClient, GEOSPHERE\n",
    "conn = MongoClient(\"localhost:27017\")\n",
    "db = conn.get_database(\"madrid\")"
   ]
  },
  {
   "cell_type": "code",
   "execution_count": 2,
   "metadata": {},
   "outputs": [
    {
     "data": {
      "text/plain": [
       "{'nIndexesWas': 2, 'ns': 'madrid.outdoors', 'ok': 1.0}"
      ]
     },
     "execution_count": 2,
     "metadata": {},
     "output_type": "execute_result"
    }
   ],
   "source": [
    "db.drop_collection(\"restaurants\")\n",
    "db.drop_collection(\"culture\")\n",
    "db.drop_collection(\"others\")\n",
    "db.drop_collection(\"alcohol\")\n",
    "db.drop_collection(\"snacks\")\n",
    "db.drop_collection(\"transport\")\n",
    "db.drop_collection(\"party\")\n",
    "db.drop_collection(\"outdoors\")"
   ]
  },
  {
   "cell_type": "code",
   "execution_count": 3,
   "metadata": {},
   "outputs": [
    {
     "name": "stdout",
     "output_type": "stream",
     "text": [
      "2021-05-13T19:36:54.701+0200\tconnected to: mongodb://localhost/\n",
      "2021-05-13T19:36:54.830+0200\t1175 document(s) imported successfully. 0 document(s) failed to import.\n",
      "2021-05-13T19:36:54.982+0200\tconnected to: mongodb://localhost/\n",
      "2021-05-13T19:36:55.083+0200\t340 document(s) imported successfully. 0 document(s) failed to import.\n",
      "2021-05-13T19:36:55.231+0200\tconnected to: mongodb://localhost/\n",
      "2021-05-13T19:36:55.369+0200\t301 document(s) imported successfully. 0 document(s) failed to import.\n",
      "2021-05-13T19:36:55.513+0200\tconnected to: mongodb://localhost/\n",
      "2021-05-13T19:36:55.617+0200\t300 document(s) imported successfully. 0 document(s) failed to import.\n",
      "2021-05-13T19:36:55.747+0200\tconnected to: mongodb://localhost/\n",
      "2021-05-13T19:36:55.843+0200\t380 document(s) imported successfully. 0 document(s) failed to import.\n",
      "2021-05-13T19:36:55.984+0200\tconnected to: mongodb://localhost/\n",
      "2021-05-13T19:36:56.085+0200\t524 document(s) imported successfully. 0 document(s) failed to import.\n",
      "2021-05-13T19:36:56.230+0200\tconnected to: mongodb://localhost/\n",
      "2021-05-13T19:36:56.325+0200\t265 document(s) imported successfully. 0 document(s) failed to import.\n",
      "2021-05-13T19:36:56.478+0200\tconnected to: mongodb://localhost/\n",
      "2021-05-13T19:36:56.569+0200\t266 document(s) imported successfully. 0 document(s) failed to import.\n",
      "2021-05-13T19:36:56.722+0200\tconnected to: mongodb://localhost/\n",
      "2021-05-13T19:36:56.749+0200\t1264 document(s) imported successfully. 0 document(s) failed to import.\n",
      "2021-05-13T19:36:56.888+0200\tconnected to: mongodb://localhost/\n",
      "2021-05-13T19:36:56.893+0200\t96 document(s) imported successfully. 0 document(s) failed to import.\n",
      "2021-05-13T19:36:57.035+0200\tconnected to: mongodb://localhost/\n",
      "2021-05-13T19:36:57.121+0200\t4766 document(s) imported successfully. 0 document(s) failed to import.\n",
      "2021-05-13T19:36:57.269+0200\tconnected to: mongodb://localhost/\n",
      "2021-05-13T19:36:57.404+0200\t7872 document(s) imported successfully. 0 document(s) failed to import.\n",
      "2021-05-13T19:36:57.541+0200\tconnected to: mongodb://localhost/\n",
      "2021-05-13T19:36:57.699+0200\t7872 document(s) imported successfully. 0 document(s) failed to import.\n"
     ]
    }
   ],
   "source": [
    "!mongoimport --db madrid --collection restaurants --jsonArray restaurants\n",
    "!mongoimport --db madrid --collection alcohol --jsonArray alcohol\n",
    "!mongoimport --db madrid --collection culture --jsonArray culture\n",
    "!mongoimport --db madrid --collection party --jsonArray party\n",
    "!mongoimport --db madrid --collection snacks --jsonArray snacks\n",
    "!mongoimport --db madrid --collection outdoors --jsonArray outdoors\n",
    "!mongoimport --db madrid --collection others --jsonArray others\n",
    "!mongoimport --db madrid --collection transport --jsonArray parking\n",
    "!mongoimport --db madrid --collection transport --jsonArray stops_metro\n",
    "!mongoimport --db madrid --collection transport --jsonArray stops_metro_ligero\n",
    "!mongoimport --db madrid --collection transport --jsonArray stops_emt\n",
    "!mongoimport --db madrid --collection transport --jsonArray stops_interurbanos\n",
    "!mongoimport --db madrid --collection transport --jsonArray stops_autobuses_urbanos"
   ]
  },
  {
   "cell_type": "code",
   "execution_count": 4,
   "metadata": {},
   "outputs": [
    {
     "data": {
      "text/plain": [
       "'geometry_2dsphere'"
      ]
     },
     "execution_count": 4,
     "metadata": {},
     "output_type": "execute_result"
    }
   ],
   "source": [
    "db.transport.create_index([(\"geometry\", GEOSPHERE)])\n",
    "db.restaurants.create_index([(\"geometry\", GEOSPHERE)])\n",
    "db.culture.create_index([(\"geometry\", GEOSPHERE)])\n",
    "db.others.create_index([(\"geometry\", GEOSPHERE)])\n",
    "db.alcohol.create_index([(\"geometry\", GEOSPHERE)])\n",
    "db.snacks.create_index([(\"geometry\", GEOSPHERE)])\n",
    "db.party.create_index([(\"geometry\", GEOSPHERE)])\n",
    "db.outdoors.create_index([(\"geometry\", GEOSPHERE)])"
   ]
  },
  {
   "cell_type": "code",
   "execution_count": null,
   "metadata": {},
   "outputs": [],
   "source": []
  },
  {
   "cell_type": "code",
   "execution_count": null,
   "metadata": {},
   "outputs": [],
   "source": []
  }
 ],
 "metadata": {
  "kernelspec": {
   "display_name": "plan",
   "language": "python",
   "name": "plan"
  },
  "language_info": {
   "codemirror_mode": {
    "name": "ipython",
    "version": 3
   },
   "file_extension": ".py",
   "mimetype": "text/x-python",
   "name": "python",
   "nbconvert_exporter": "python",
   "pygments_lexer": "ipython3",
   "version": "3.8.8"
  }
 },
 "nbformat": 4,
 "nbformat_minor": 4
}
