{
 "cells": [
  {
   "cell_type": "markdown",
   "metadata": {},
   "source": [
    "# Uploading to MongoDB 🌱"
   ]
  },
  {
   "cell_type": "code",
   "execution_count": 1,
   "metadata": {},
   "outputs": [],
   "source": [
    "import json\n",
    "from pymongo import MongoClient, GEOSPHERE\n",
    "conn = MongoClient(\"localhost:27017\")\n",
    "db = conn.get_database(\"madrid\")"
   ]
  },
  {
   "cell_type": "code",
   "execution_count": 2,
   "metadata": {},
   "outputs": [
    {
     "data": {
      "text/plain": [
       "{'ok': 0.0,\n",
       " 'errmsg': 'ns not found',\n",
       " 'code': 26,\n",
       " 'codeName': 'NamespaceNotFound'}"
      ]
     },
     "execution_count": 2,
     "metadata": {},
     "output_type": "execute_result"
    }
   ],
   "source": [
    "db.drop_collection(\"restaurants\")\n",
    "db.drop_collection(\"culture\")\n",
    "db.drop_collection(\"leisure\")\n",
    "db.drop_collection(\"drinks\")\n",
    "db.drop_collection(\"snacks\")\n",
    "db.drop_collection(\"transport\")\n",
    "db.drop_collection(\"party\")\n",
    "db.drop_collection(\"outdoors\")\n",
    "db.drop_collection(\"todo\")"
   ]
  },
  {
   "cell_type": "code",
   "execution_count": 3,
   "metadata": {},
   "outputs": [
    {
     "name": "stdout",
     "output_type": "stream",
     "text": [
      "2021-05-15T16:52:22.235+0200\tconnected to: mongodb://localhost/\n",
      "2021-05-15T16:52:22.364+0200\t1175 document(s) imported successfully. 0 document(s) failed to import.\n",
      "2021-05-15T16:52:22.517+0200\tconnected to: mongodb://localhost/\n",
      "2021-05-15T16:52:22.609+0200\t280 document(s) imported successfully. 0 document(s) failed to import.\n",
      "2021-05-15T16:52:22.760+0200\tconnected to: mongodb://localhost/\n",
      "2021-05-15T16:52:22.858+0200\t361 document(s) imported successfully. 0 document(s) failed to import.\n",
      "2021-05-15T16:52:23.006+0200\tconnected to: mongodb://localhost/\n",
      "2021-05-15T16:52:23.121+0200\t289 document(s) imported successfully. 0 document(s) failed to import.\n",
      "2021-05-15T16:52:23.258+0200\tconnected to: mongodb://localhost/\n",
      "2021-05-15T16:52:23.355+0200\t380 document(s) imported successfully. 0 document(s) failed to import.\n",
      "2021-05-15T16:52:23.510+0200\tconnected to: mongodb://localhost/\n",
      "2021-05-15T16:52:23.615+0200\t523 document(s) imported successfully. 0 document(s) failed to import.\n",
      "2021-05-15T16:52:23.761+0200\tconnected to: mongodb://localhost/\n",
      "2021-05-15T16:52:23.861+0200\t249 document(s) imported successfully. 0 document(s) failed to import.\n",
      "2021-05-15T16:52:24.009+0200\tconnected to: mongodb://localhost/\n",
      "2021-05-15T16:52:24.141+0200\t266 document(s) imported successfully. 0 document(s) failed to import.\n",
      "2021-05-15T16:52:24.310+0200\tconnected to: mongodb://localhost/\n",
      "2021-05-15T16:52:24.339+0200\t1264 document(s) imported successfully. 0 document(s) failed to import.\n",
      "2021-05-15T16:52:24.502+0200\tconnected to: mongodb://localhost/\n",
      "2021-05-15T16:52:24.507+0200\t96 document(s) imported successfully. 0 document(s) failed to import.\n",
      "2021-05-15T16:52:24.655+0200\tconnected to: mongodb://localhost/\n",
      "2021-05-15T16:52:24.734+0200\t4766 document(s) imported successfully. 0 document(s) failed to import.\n",
      "2021-05-15T16:52:24.883+0200\tconnected to: mongodb://localhost/\n",
      "2021-05-15T16:52:25.016+0200\t7872 document(s) imported successfully. 0 document(s) failed to import.\n",
      "2021-05-15T16:52:25.162+0200\tconnected to: mongodb://localhost/\n",
      "2021-05-15T16:52:25.288+0200\t7872 document(s) imported successfully. 0 document(s) failed to import.\n"
     ]
    }
   ],
   "source": [
    "!mongoimport --db madrid --collection restaurants --jsonArray restaurants\n",
    "!mongoimport --db madrid --collection drinks --jsonArray alcohol\n",
    "!mongoimport --db madrid --collection culture --jsonArray culture\n",
    "!mongoimport --db madrid --collection party --jsonArray party\n",
    "!mongoimport --db madrid --collection snacks --jsonArray snacks\n",
    "!mongoimport --db madrid --collection outdoors --jsonArray outdoors\n",
    "!mongoimport --db madrid --collection leisure --jsonArray others\n",
    "!mongoimport --db madrid --collection transport --jsonArray parking\n",
    "!mongoimport --db madrid --collection transport --jsonArray stops_metro\n",
    "!mongoimport --db madrid --collection transport --jsonArray stops_metro_ligero\n",
    "!mongoimport --db madrid --collection transport --jsonArray stops_emt\n",
    "!mongoimport --db madrid --collection transport --jsonArray stops_interurbanos\n",
    "!mongoimport --db madrid --collection transport --jsonArray stops_autobuses_urbanos"
   ]
  },
  {
   "cell_type": "code",
   "execution_count": 4,
   "metadata": {},
   "outputs": [
    {
     "name": "stdout",
     "output_type": "stream",
     "text": [
      "2021-05-15T16:52:25.460+0200\tconnected to: mongodb://localhost/\n",
      "2021-05-15T16:52:25.576+0200\t1175 document(s) imported successfully. 0 document(s) failed to import.\n",
      "2021-05-15T16:52:25.727+0200\tconnected to: mongodb://localhost/\n",
      "2021-05-15T16:52:25.735+0200\t280 document(s) imported successfully. 0 document(s) failed to import.\n",
      "2021-05-15T16:52:25.884+0200\tconnected to: mongodb://localhost/\n",
      "2021-05-15T16:52:25.894+0200\t361 document(s) imported successfully. 0 document(s) failed to import.\n",
      "2021-05-15T16:52:26.045+0200\tconnected to: mongodb://localhost/\n",
      "2021-05-15T16:52:26.053+0200\t289 document(s) imported successfully. 0 document(s) failed to import.\n",
      "2021-05-15T16:52:26.213+0200\tconnected to: mongodb://localhost/\n",
      "2021-05-15T16:52:26.224+0200\t380 document(s) imported successfully. 0 document(s) failed to import.\n",
      "2021-05-15T16:52:26.369+0200\tconnected to: mongodb://localhost/\n",
      "2021-05-15T16:52:26.395+0200\t523 document(s) imported successfully. 0 document(s) failed to import.\n",
      "2021-05-15T16:52:26.544+0200\tconnected to: mongodb://localhost/\n",
      "2021-05-15T16:52:26.551+0200\t249 document(s) imported successfully. 0 document(s) failed to import.\n",
      "2021-05-15T16:52:26.695+0200\tconnected to: mongodb://localhost/\n",
      "2021-05-15T16:52:26.701+0200\t266 document(s) imported successfully. 0 document(s) failed to import.\n",
      "2021-05-15T16:52:26.851+0200\tconnected to: mongodb://localhost/\n",
      "2021-05-15T16:52:26.874+0200\t1264 document(s) imported successfully. 0 document(s) failed to import.\n",
      "2021-05-15T16:52:27.021+0200\tconnected to: mongodb://localhost/\n",
      "2021-05-15T16:52:27.024+0200\t96 document(s) imported successfully. 0 document(s) failed to import.\n",
      "2021-05-15T16:52:27.163+0200\tconnected to: mongodb://localhost/\n",
      "2021-05-15T16:52:27.246+0200\t4766 document(s) imported successfully. 0 document(s) failed to import.\n",
      "2021-05-15T16:52:27.389+0200\tconnected to: mongodb://localhost/\n",
      "2021-05-15T16:52:27.533+0200\t7872 document(s) imported successfully. 0 document(s) failed to import.\n",
      "2021-05-15T16:52:27.672+0200\tconnected to: mongodb://localhost/\n",
      "2021-05-15T16:52:27.812+0200\t7872 document(s) imported successfully. 0 document(s) failed to import.\n"
     ]
    }
   ],
   "source": [
    "!mongoimport --db madrid --collection todo --jsonArray restaurants\n",
    "!mongoimport --db madrid --collection todo --jsonArray alcohol\n",
    "!mongoimport --db madrid --collection todo --jsonArray culture\n",
    "!mongoimport --db madrid --collection todo --jsonArray party\n",
    "!mongoimport --db madrid --collection todo --jsonArray snacks\n",
    "!mongoimport --db madrid --collection todo --jsonArray outdoors\n",
    "!mongoimport --db madrid --collection todo --jsonArray others\n",
    "!mongoimport --db madrid --collection todo --jsonArray parking\n",
    "!mongoimport --db madrid --collection todo --jsonArray stops_metro\n",
    "!mongoimport --db madrid --collection todo --jsonArray stops_metro_ligero\n",
    "!mongoimport --db madrid --collection todo --jsonArray stops_emt\n",
    "!mongoimport --db madrid --collection todo --jsonArray stops_interurbanos\n",
    "!mongoimport --db madrid --collection todo --jsonArray stops_autobuses_urbanos"
   ]
  },
  {
   "cell_type": "code",
   "execution_count": 5,
   "metadata": {},
   "outputs": [
    {
     "data": {
      "text/plain": [
       "'geometry_2dsphere'"
      ]
     },
     "execution_count": 5,
     "metadata": {},
     "output_type": "execute_result"
    }
   ],
   "source": [
    "db.transport.create_index([(\"geometry\", GEOSPHERE)])\n",
    "db.restaurants.create_index([(\"geometry\", GEOSPHERE)])\n",
    "db.culture.create_index([(\"geometry\", GEOSPHERE)])\n",
    "db.leisure.create_index([(\"geometry\", GEOSPHERE)])\n",
    "db.drinks.create_index([(\"geometry\", GEOSPHERE)])\n",
    "db.snacks.create_index([(\"geometry\", GEOSPHERE)])\n",
    "db.party.create_index([(\"geometry\", GEOSPHERE)])\n",
    "db.outdoors.create_index([(\"geometry\", GEOSPHERE)])\n",
    "db.todo.create_index([(\"geometry\", GEOSPHERE)])"
   ]
  },
  {
   "cell_type": "code",
   "execution_count": null,
   "metadata": {},
   "outputs": [],
   "source": []
  },
  {
   "cell_type": "code",
   "execution_count": null,
   "metadata": {},
   "outputs": [],
   "source": []
  },
  {
   "cell_type": "code",
   "execution_count": null,
   "metadata": {},
   "outputs": [],
   "source": []
  }
 ],
 "metadata": {
  "kernelspec": {
   "display_name": "plan",
   "language": "python",
   "name": "plan"
  },
  "language_info": {
   "codemirror_mode": {
    "name": "ipython",
    "version": 3
   },
   "file_extension": ".py",
   "mimetype": "text/x-python",
   "name": "python",
   "nbconvert_exporter": "python",
   "pygments_lexer": "ipython3",
   "version": "3.8.8"
  }
 },
 "nbformat": 4,
 "nbformat_minor": 4
}
