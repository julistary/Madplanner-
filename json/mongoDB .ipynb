{
 "cells": [
  {
   "cell_type": "markdown",
   "metadata": {},
   "source": [
    "# Uploading to MongoDB 🌱"
   ]
  },
  {
   "cell_type": "code",
   "execution_count": 1,
   "metadata": {},
   "outputs": [],
   "source": [
    "import json\n",
    "from pymongo import MongoClient, GEOSPHERE\n",
    "conn = MongoClient(\"localhost:27017\")\n",
    "db = conn.get_database(\"madrid\")"
   ]
  },
  {
   "cell_type": "code",
   "execution_count": 2,
   "metadata": {},
   "outputs": [
    {
     "data": {
      "text/plain": [
       "{'nIndexesWas': 2, 'ns': 'madrid.todo', 'ok': 1.0}"
      ]
     },
     "execution_count": 2,
     "metadata": {},
     "output_type": "execute_result"
    }
   ],
   "source": [
    "db.drop_collection(\"restaurants\")\n",
    "db.drop_collection(\"culture\")\n",
    "db.drop_collection(\"leisure\")\n",
    "db.drop_collection(\"drinks\")\n",
    "db.drop_collection(\"snacks\")\n",
    "db.drop_collection(\"transport\")\n",
    "db.drop_collection(\"party\")\n",
    "db.drop_collection(\"outdoors\")\n",
    "db.drop_collection(\"todo\")"
   ]
  },
  {
   "cell_type": "code",
   "execution_count": 3,
   "metadata": {},
   "outputs": [
    {
     "name": "stdout",
     "output_type": "stream",
     "text": [
      "2021-05-16T12:36:23.347+0200\tconnected to: mongodb://localhost/\n",
      "2021-05-16T12:36:23.498+0200\t1175 document(s) imported successfully. 0 document(s) failed to import.\n",
      "2021-05-16T12:36:23.649+0200\tconnected to: mongodb://localhost/\n",
      "2021-05-16T12:36:23.742+0200\t280 document(s) imported successfully. 0 document(s) failed to import.\n",
      "2021-05-16T12:36:23.890+0200\tconnected to: mongodb://localhost/\n",
      "2021-05-16T12:36:23.984+0200\t301 document(s) imported successfully. 0 document(s) failed to import.\n",
      "2021-05-16T12:36:24.134+0200\tconnected to: mongodb://localhost/\n",
      "2021-05-16T12:36:24.263+0200\t349 document(s) imported successfully. 0 document(s) failed to import.\n",
      "2021-05-16T12:36:24.396+0200\tconnected to: mongodb://localhost/\n",
      "2021-05-16T12:36:24.529+0200\t380 document(s) imported successfully. 0 document(s) failed to import.\n",
      "2021-05-16T12:36:24.696+0200\tconnected to: mongodb://localhost/\n",
      "2021-05-16T12:36:24.812+0200\t523 document(s) imported successfully. 0 document(s) failed to import.\n",
      "2021-05-16T12:36:24.959+0200\tconnected to: mongodb://localhost/\n",
      "2021-05-16T12:36:25.080+0200\t249 document(s) imported successfully. 0 document(s) failed to import.\n",
      "2021-05-16T12:36:25.218+0200\tconnected to: mongodb://localhost/\n",
      "2021-05-16T12:36:25.338+0200\t266 document(s) imported successfully. 0 document(s) failed to import.\n",
      "2021-05-16T12:36:25.492+0200\tconnected to: mongodb://localhost/\n",
      "2021-05-16T12:36:25.514+0200\t1264 document(s) imported successfully. 0 document(s) failed to import.\n",
      "2021-05-16T12:36:25.660+0200\tconnected to: mongodb://localhost/\n",
      "2021-05-16T12:36:25.664+0200\t96 document(s) imported successfully. 0 document(s) failed to import.\n",
      "2021-05-16T12:36:25.814+0200\tconnected to: mongodb://localhost/\n",
      "2021-05-16T12:36:25.895+0200\t4766 document(s) imported successfully. 0 document(s) failed to import.\n",
      "2021-05-16T12:36:26.042+0200\tconnected to: mongodb://localhost/\n",
      "2021-05-16T12:36:26.168+0200\t7872 document(s) imported successfully. 0 document(s) failed to import.\n",
      "2021-05-16T12:36:26.313+0200\tconnected to: mongodb://localhost/\n",
      "2021-05-16T12:36:26.443+0200\t7872 document(s) imported successfully. 0 document(s) failed to import.\n"
     ]
    }
   ],
   "source": [
    "!mongoimport --db madrid --collection restaurants --jsonArray restaurants\n",
    "!mongoimport --db madrid --collection drinks --jsonArray alcohol\n",
    "!mongoimport --db madrid --collection culture --jsonArray culture\n",
    "!mongoimport --db madrid --collection party --jsonArray party\n",
    "!mongoimport --db madrid --collection snacks --jsonArray snacks\n",
    "!mongoimport --db madrid --collection outdoors --jsonArray outdoors\n",
    "!mongoimport --db madrid --collection leisure --jsonArray others\n",
    "!mongoimport --db madrid --collection transport --jsonArray parking\n",
    "!mongoimport --db madrid --collection transport --jsonArray stops_metro\n",
    "!mongoimport --db madrid --collection transport --jsonArray stops_metro_ligero\n",
    "!mongoimport --db madrid --collection transport --jsonArray stops_emt\n",
    "!mongoimport --db madrid --collection transport --jsonArray stops_interurbanos\n",
    "!mongoimport --db madrid --collection transport --jsonArray stops_autobuses_urbanos"
   ]
  },
  {
   "cell_type": "code",
   "execution_count": 4,
   "metadata": {},
   "outputs": [
    {
     "name": "stdout",
     "output_type": "stream",
     "text": [
      "2021-05-16T12:36:26.632+0200\tconnected to: mongodb://localhost/\n",
      "2021-05-16T12:36:26.750+0200\t1175 document(s) imported successfully. 0 document(s) failed to import.\n",
      "2021-05-16T12:36:26.899+0200\tconnected to: mongodb://localhost/\n",
      "2021-05-16T12:36:26.907+0200\t280 document(s) imported successfully. 0 document(s) failed to import.\n",
      "2021-05-16T12:36:27.056+0200\tconnected to: mongodb://localhost/\n",
      "2021-05-16T12:36:27.064+0200\t301 document(s) imported successfully. 0 document(s) failed to import.\n",
      "2021-05-16T12:36:27.204+0200\tconnected to: mongodb://localhost/\n",
      "2021-05-16T12:36:27.213+0200\t349 document(s) imported successfully. 0 document(s) failed to import.\n",
      "2021-05-16T12:36:27.357+0200\tconnected to: mongodb://localhost/\n",
      "2021-05-16T12:36:27.366+0200\t380 document(s) imported successfully. 0 document(s) failed to import.\n",
      "2021-05-16T12:36:27.517+0200\tconnected to: mongodb://localhost/\n",
      "2021-05-16T12:36:27.538+0200\t523 document(s) imported successfully. 0 document(s) failed to import.\n",
      "2021-05-16T12:36:27.688+0200\tconnected to: mongodb://localhost/\n",
      "2021-05-16T12:36:27.695+0200\t249 document(s) imported successfully. 0 document(s) failed to import.\n",
      "2021-05-16T12:36:27.843+0200\tconnected to: mongodb://localhost/\n",
      "2021-05-16T12:36:27.850+0200\t266 document(s) imported successfully. 0 document(s) failed to import.\n",
      "2021-05-16T12:36:28.000+0200\tconnected to: mongodb://localhost/\n",
      "2021-05-16T12:36:28.022+0200\t1264 document(s) imported successfully. 0 document(s) failed to import.\n",
      "2021-05-16T12:36:28.172+0200\tconnected to: mongodb://localhost/\n",
      "2021-05-16T12:36:28.174+0200\t96 document(s) imported successfully. 0 document(s) failed to import.\n",
      "2021-05-16T12:36:28.317+0200\tconnected to: mongodb://localhost/\n",
      "2021-05-16T12:36:28.402+0200\t4766 document(s) imported successfully. 0 document(s) failed to import.\n",
      "2021-05-16T12:36:28.544+0200\tconnected to: mongodb://localhost/\n",
      "2021-05-16T12:36:28.683+0200\t7872 document(s) imported successfully. 0 document(s) failed to import.\n",
      "2021-05-16T12:36:28.829+0200\tconnected to: mongodb://localhost/\n",
      "2021-05-16T12:36:28.996+0200\t7872 document(s) imported successfully. 0 document(s) failed to import.\n"
     ]
    }
   ],
   "source": [
    "!mongoimport --db madrid --collection todo --jsonArray restaurants\n",
    "!mongoimport --db madrid --collection todo --jsonArray alcohol\n",
    "!mongoimport --db madrid --collection todo --jsonArray culture\n",
    "!mongoimport --db madrid --collection todo --jsonArray party\n",
    "!mongoimport --db madrid --collection todo --jsonArray snacks\n",
    "!mongoimport --db madrid --collection todo --jsonArray outdoors\n",
    "!mongoimport --db madrid --collection todo --jsonArray others\n",
    "!mongoimport --db madrid --collection todo --jsonArray parking\n",
    "!mongoimport --db madrid --collection todo --jsonArray stops_metro\n",
    "!mongoimport --db madrid --collection todo --jsonArray stops_metro_ligero\n",
    "!mongoimport --db madrid --collection todo --jsonArray stops_emt\n",
    "!mongoimport --db madrid --collection todo --jsonArray stops_interurbanos\n",
    "!mongoimport --db madrid --collection todo --jsonArray stops_autobuses_urbanos"
   ]
  },
  {
   "cell_type": "code",
   "execution_count": 5,
   "metadata": {},
   "outputs": [
    {
     "data": {
      "text/plain": [
       "'geometry_2dsphere'"
      ]
     },
     "execution_count": 5,
     "metadata": {},
     "output_type": "execute_result"
    }
   ],
   "source": [
    "db.transport.create_index([(\"geometry\", GEOSPHERE)])\n",
    "db.restaurants.create_index([(\"geometry\", GEOSPHERE)])\n",
    "db.culture.create_index([(\"geometry\", GEOSPHERE)])\n",
    "db.leisure.create_index([(\"geometry\", GEOSPHERE)])\n",
    "db.drinks.create_index([(\"geometry\", GEOSPHERE)])\n",
    "db.snacks.create_index([(\"geometry\", GEOSPHERE)])\n",
    "db.party.create_index([(\"geometry\", GEOSPHERE)])\n",
    "db.outdoors.create_index([(\"geometry\", GEOSPHERE)])\n",
    "#db.todo.create_index([(\"geometry\", GEOSPHERE)])"
   ]
  },
  {
   "cell_type": "code",
   "execution_count": null,
   "metadata": {},
   "outputs": [],
   "source": []
  },
  {
   "cell_type": "code",
   "execution_count": null,
   "metadata": {},
   "outputs": [],
   "source": []
  },
  {
   "cell_type": "code",
   "execution_count": null,
   "metadata": {},
   "outputs": [],
   "source": []
  }
 ],
 "metadata": {
  "kernelspec": {
   "display_name": "plan",
   "language": "python",
   "name": "plan"
  },
  "language_info": {
   "codemirror_mode": {
    "name": "ipython",
    "version": 3
   },
   "file_extension": ".py",
   "mimetype": "text/x-python",
   "name": "python",
   "nbconvert_exporter": "python",
   "pygments_lexer": "ipython3",
   "version": "3.8.8"
  }
 },
 "nbformat": 4,
 "nbformat_minor": 4
}
