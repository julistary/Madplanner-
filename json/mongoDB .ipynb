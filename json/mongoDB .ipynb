{
 "cells": [
  {
   "cell_type": "markdown",
   "metadata": {},
   "source": [
    "# Uploading to MongoDB 🌱"
   ]
  },
  {
   "cell_type": "code",
   "execution_count": 1,
   "metadata": {},
   "outputs": [],
   "source": [
    "import json\n",
    "from pymongo import MongoClient, GEOSPHERE\n",
    "conn = MongoClient(\"localhost:27017\")\n",
    "db = conn.get_database(\"madrid\")"
   ]
  },
  {
   "cell_type": "code",
   "execution_count": 5,
   "metadata": {},
   "outputs": [
    {
     "data": {
      "text/plain": [
       "{'nIndexesWas': 1, 'ns': 'madrid.outdoors', 'ok': 1.0}"
      ]
     },
     "execution_count": 5,
     "metadata": {},
     "output_type": "execute_result"
    }
   ],
   "source": [
    "db.drop_collection(\"restaurants\")\n",
    "db.drop_collection(\"culture\")\n",
    "db.drop_collection(\"others\")\n",
    "db.drop_collection(\"alcohol\")\n",
    "db.drop_collection(\"snacks\")\n",
    "db.drop_collection(\"transport\")\n",
    "db.drop_collection(\"party\")\n",
    "db.drop_collection(\"outdoors\")"
   ]
  },
  {
   "cell_type": "code",
   "execution_count": 6,
   "metadata": {},
   "outputs": [
    {
     "name": "stdout",
     "output_type": "stream",
     "text": [
      "2021-05-13T19:09:25.035+0200\tconnected to: mongodb://localhost/\n",
      "2021-05-13T19:09:25.154+0200\t1175 document(s) imported successfully. 0 document(s) failed to import.\n",
      "2021-05-13T19:09:25.309+0200\tconnected to: mongodb://localhost/\n",
      "2021-05-13T19:09:25.407+0200\t340 document(s) imported successfully. 0 document(s) failed to import.\n",
      "2021-05-13T19:09:25.557+0200\tconnected to: mongodb://localhost/\n",
      "2021-05-13T19:09:25.651+0200\t301 document(s) imported successfully. 0 document(s) failed to import.\n",
      "2021-05-13T19:09:25.801+0200\tconnected to: mongodb://localhost/\n",
      "2021-05-13T19:09:25.893+0200\t300 document(s) imported successfully. 0 document(s) failed to import.\n",
      "2021-05-13T19:09:26.044+0200\tconnected to: mongodb://localhost/\n",
      "2021-05-13T19:09:26.144+0200\t380 document(s) imported successfully. 0 document(s) failed to import.\n",
      "2021-05-13T19:09:26.283+0200\tconnected to: mongodb://localhost/\n",
      "2021-05-13T19:09:26.388+0200\t524 document(s) imported successfully. 0 document(s) failed to import.\n",
      "2021-05-13T19:09:26.526+0200\tconnected to: mongodb://localhost/\n",
      "2021-05-13T19:09:26.614+0200\t265 document(s) imported successfully. 0 document(s) failed to import.\n",
      "2021-05-13T19:09:26.754+0200\tconnected to: mongodb://localhost/\n",
      "2021-05-13T19:09:26.893+0200\t1264 document(s) imported successfully. 0 document(s) failed to import.\n",
      "2021-05-13T19:09:27.038+0200\tconnected to: mongodb://localhost/\n",
      "2021-05-13T19:09:27.042+0200\t96 document(s) imported successfully. 0 document(s) failed to import.\n",
      "2021-05-13T19:09:27.184+0200\tconnected to: mongodb://localhost/\n",
      "2021-05-13T19:09:27.270+0200\t4766 document(s) imported successfully. 0 document(s) failed to import.\n",
      "2021-05-13T19:09:27.420+0200\tconnected to: mongodb://localhost/\n",
      "2021-05-13T19:09:27.555+0200\t7872 document(s) imported successfully. 0 document(s) failed to import.\n",
      "2021-05-13T19:09:27.704+0200\tconnected to: mongodb://localhost/\n",
      "2021-05-13T19:09:27.835+0200\t7872 document(s) imported successfully. 0 document(s) failed to import.\n"
     ]
    }
   ],
   "source": [
    "!mongoimport --db madrid --collection restaurants --jsonArray restaurants\n",
    "!mongoimport --db madrid --collection alcohol --jsonArray alcohol\n",
    "!mongoimport --db madrid --collection culture --jsonArray culture\n",
    "!mongoimport --db madrid --collection party --jsonArray party\n",
    "!mongoimport --db madrid --collection snacks --jsonArray snacks\n",
    "!mongoimport --db madrid --collection outdoors --jsonArray outdoors\n",
    "!mongoimport --db madrid --collection others --jsonArray others\n",
    "#!mongoimport --db madrid --collection transport --jsonArray parking\n",
    "!mongoimport --db madrid --collection transport --jsonArray stops_metro\n",
    "!mongoimport --db madrid --collection transport --jsonArray stops_metro_ligero\n",
    "!mongoimport --db madrid --collection transport --jsonArray stops_emt\n",
    "!mongoimport --db madrid --collection transport --jsonArray stops_interurbanos\n",
    "!mongoimport --db madrid --collection transport --jsonArray stops_autobuses_urbanos"
   ]
  },
  {
   "cell_type": "code",
   "execution_count": 8,
   "metadata": {},
   "outputs": [
    {
     "data": {
      "text/plain": [
       "'geometry_2dsphere'"
      ]
     },
     "execution_count": 8,
     "metadata": {},
     "output_type": "execute_result"
    }
   ],
   "source": [
    "db.transport.create_index([(\"geometry\", GEOSPHERE)])\n",
    "db.restaurants.create_index([(\"geometry\", GEOSPHERE)])\n",
    "db.culture.create_index([(\"geometry\", GEOSPHERE)])\n",
    "db.others.create_index([(\"geometry\", GEOSPHERE)])\n",
    "db.alcohol.create_index([(\"geometry\", GEOSPHERE)])\n",
    "db.snacks.create_index([(\"geometry\", GEOSPHERE)])\n",
    "db.party.create_index([(\"geometry\", GEOSPHERE)])\n",
    "db.outdoors.create_index([(\"geometry\", GEOSPHERE)])"
   ]
  },
  {
   "cell_type": "code",
   "execution_count": null,
   "metadata": {},
   "outputs": [],
   "source": []
  },
  {
   "cell_type": "code",
   "execution_count": null,
   "metadata": {},
   "outputs": [],
   "source": []
  }
 ],
 "metadata": {
  "kernelspec": {
   "display_name": "plan",
   "language": "python",
   "name": "plan"
  },
  "language_info": {
   "codemirror_mode": {
    "name": "ipython",
    "version": 3
   },
   "file_extension": ".py",
   "mimetype": "text/x-python",
   "name": "python",
   "nbconvert_exporter": "python",
   "pygments_lexer": "ipython3",
   "version": "3.8.8"
  }
 },
 "nbformat": 4,
 "nbformat_minor": 4
}
