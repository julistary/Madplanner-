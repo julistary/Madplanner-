{
 "cells": [
  {
   "cell_type": "markdown",
   "metadata": {},
   "source": [
    "# Transport CAM 🚉 🚌 🅿️"
   ]
  },
  {
   "cell_type": "markdown",
   "metadata": {},
   "source": [
    "<img width=400 src=\"https://www.elagoradiario.com/wp-content/uploads/2019/11/madrid-abono-transporte-plano-del-metro-1035x600.jpg\">"
   ]
  },
  {
   "cell_type": "markdown",
   "metadata": {},
   "source": [
    "## Libraries 📚"
   ]
  },
  {
   "cell_type": "code",
   "execution_count": 1,
   "metadata": {},
   "outputs": [],
   "source": [
    "import pandas as pd\n",
    "import src.transport as t"
   ]
  },
  {
   "cell_type": "markdown",
   "metadata": {},
   "source": [
    "## Importing CSV's"
   ]
  },
  {
   "cell_type": "code",
   "execution_count": 2,
   "metadata": {},
   "outputs": [],
   "source": [
    "transports = [ \"stops_autobuses_urbanos\", \"stops_emt\", \"stops_interurbanos\", \"stops_metro\",  \"stops_metro_ligero\"]"
   ]
  },
  {
   "cell_type": "code",
   "execution_count": 3,
   "metadata": {},
   "outputs": [],
   "source": [
    "for tr in transports:\n",
    "    name = \"transporte/\" + tr + \".csv\"\n",
    "    locals()[tr] = pd.read_csv(name, index_col=0)"
   ]
  },
  {
   "cell_type": "code",
   "execution_count": 4,
   "metadata": {},
   "outputs": [],
   "source": [
    "parking = pd.read_csv(\"transporte/parking.csv\", index_col=0, sep=\";\", encoding = \"ISO-8859-1\")"
   ]
  },
  {
   "cell_type": "markdown",
   "metadata": {},
   "source": [
    "## Cleaning DF 🧽"
   ]
  },
  {
   "cell_type": "code",
   "execution_count": 5,
   "metadata": {},
   "outputs": [],
   "source": [
    "for transport in transports:\n",
    "    locals()[transport] = t.limpito(locals()[transport],transport)"
   ]
  },
  {
   "cell_type": "code",
   "execution_count": 6,
   "metadata": {},
   "outputs": [
    {
     "data": {
      "text/html": [
       "<div>\n",
       "<style scoped>\n",
       "    .dataframe tbody tr th:only-of-type {\n",
       "        vertical-align: middle;\n",
       "    }\n",
       "\n",
       "    .dataframe tbody tr th {\n",
       "        vertical-align: top;\n",
       "    }\n",
       "\n",
       "    .dataframe thead th {\n",
       "        text-align: right;\n",
       "    }\n",
       "</style>\n",
       "<table border=\"1\" class=\"dataframe\">\n",
       "  <thead>\n",
       "    <tr style=\"text-align: right;\">\n",
       "      <th></th>\n",
       "      <th>stop_name</th>\n",
       "      <th>stop_desc</th>\n",
       "      <th>latitude</th>\n",
       "      <th>longitude</th>\n",
       "      <th>geometry</th>\n",
       "      <th>type</th>\n",
       "    </tr>\n",
       "    <tr>\n",
       "      <th>stop_id</th>\n",
       "      <th></th>\n",
       "      <th></th>\n",
       "      <th></th>\n",
       "      <th></th>\n",
       "      <th></th>\n",
       "      <th></th>\n",
       "    </tr>\n",
       "  </thead>\n",
       "  <tbody>\n",
       "    <tr>\n",
       "      <th>par_4_1</th>\n",
       "      <td>PLAZA DE CASTILLA</td>\n",
       "      <td>Paseo de la Castellana 189</td>\n",
       "      <td>40.46690</td>\n",
       "      <td>-3.68917</td>\n",
       "      <td>{'type': 'Point', 'coordinates': [40.4669, -3....</td>\n",
       "      <td>stops_metro</td>\n",
       "    </tr>\n",
       "    <tr>\n",
       "      <th>acc_4_1_1</th>\n",
       "      <td>Plaza de Castilla</td>\n",
       "      <td>Paseo de la Castellana 189</td>\n",
       "      <td>40.46682</td>\n",
       "      <td>-3.68918</td>\n",
       "      <td>{'type': 'Point', 'coordinates': [40.46682, -3...</td>\n",
       "      <td>stops_metro</td>\n",
       "    </tr>\n",
       "    <tr>\n",
       "      <th>acc_4_1_1040</th>\n",
       "      <td>Ascensor</td>\n",
       "      <td>Plaza de Castilla 9</td>\n",
       "      <td>40.46555</td>\n",
       "      <td>-3.68877</td>\n",
       "      <td>{'type': 'Point', 'coordinates': [40.46555, -3...</td>\n",
       "      <td>stops_metro</td>\n",
       "    </tr>\n",
       "    <tr>\n",
       "      <th>acc_4_1_1043</th>\n",
       "      <td>Intercambiador Superficie</td>\n",
       "      <td>Paseo de la Castellana 191 B</td>\n",
       "      <td>40.46728</td>\n",
       "      <td>-3.68915</td>\n",
       "      <td>{'type': 'Point', 'coordinates': [40.46728, -3...</td>\n",
       "      <td>stops_metro</td>\n",
       "    </tr>\n",
       "    <tr>\n",
       "      <th>acc_4_1_1044</th>\n",
       "      <td>Ascensor</td>\n",
       "      <td>Paseo de la Castellana 189</td>\n",
       "      <td>40.46702</td>\n",
       "      <td>-3.68918</td>\n",
       "      <td>{'type': 'Point', 'coordinates': [40.46702, -3...</td>\n",
       "      <td>stops_metro</td>\n",
       "    </tr>\n",
       "  </tbody>\n",
       "</table>\n",
       "</div>"
      ],
      "text/plain": [
       "                              stop_name                     stop_desc  \\\n",
       "stop_id                                                                 \n",
       "par_4_1               PLAZA DE CASTILLA    Paseo de la Castellana 189   \n",
       "acc_4_1_1             Plaza de Castilla    Paseo de la Castellana 189   \n",
       "acc_4_1_1040                   Ascensor           Plaza de Castilla 9   \n",
       "acc_4_1_1043  Intercambiador Superficie  Paseo de la Castellana 191 B   \n",
       "acc_4_1_1044                   Ascensor    Paseo de la Castellana 189   \n",
       "\n",
       "              latitude  longitude  \\\n",
       "stop_id                             \n",
       "par_4_1       40.46690   -3.68917   \n",
       "acc_4_1_1     40.46682   -3.68918   \n",
       "acc_4_1_1040  40.46555   -3.68877   \n",
       "acc_4_1_1043  40.46728   -3.68915   \n",
       "acc_4_1_1044  40.46702   -3.68918   \n",
       "\n",
       "                                                       geometry         type  \n",
       "stop_id                                                                       \n",
       "par_4_1       {'type': 'Point', 'coordinates': [40.4669, -3....  stops_metro  \n",
       "acc_4_1_1     {'type': 'Point', 'coordinates': [40.46682, -3...  stops_metro  \n",
       "acc_4_1_1040  {'type': 'Point', 'coordinates': [40.46555, -3...  stops_metro  \n",
       "acc_4_1_1043  {'type': 'Point', 'coordinates': [40.46728, -3...  stops_metro  \n",
       "acc_4_1_1044  {'type': 'Point', 'coordinates': [40.46702, -3...  stops_metro  "
      ]
     },
     "execution_count": 6,
     "metadata": {},
     "output_type": "execute_result"
    }
   ],
   "source": [
    "stops_metro.head()"
   ]
  },
  {
   "cell_type": "code",
   "execution_count": 7,
   "metadata": {},
   "outputs": [],
   "source": [
    "parking = t.limpito_parking(parking)"
   ]
  },
  {
   "cell_type": "markdown",
   "metadata": {},
   "source": [
    "## Exporting"
   ]
  },
  {
   "cell_type": "code",
   "execution_count": 8,
   "metadata": {},
   "outputs": [],
   "source": [
    "stops_autobuses_urbanos.to_json(\"json/stops_autobuses_urbanos\", orient=\"records\")\n",
    "stops_emt.to_json(\"json/stops_emt\", orient=\"records\")\n",
    "stops_interurbanos.to_json(\"json/stops_interurbanos\", orient=\"records\")\n",
    "stops_metro.to_json(\"json/stops_metro\", orient=\"records\")\n",
    "stops_metro_ligero.to_json(\"json/stops_metro_ligero\", orient=\"records\")\n",
    "parking.to_json(\"json/parking\", orient=\"records\")"
   ]
  },
  {
   "cell_type": "code",
   "execution_count": null,
   "metadata": {},
   "outputs": [],
   "source": []
  },
  {
   "cell_type": "code",
   "execution_count": null,
   "metadata": {},
   "outputs": [],
   "source": []
  },
  {
   "cell_type": "code",
   "execution_count": null,
   "metadata": {},
   "outputs": [],
   "source": []
  }
 ],
 "metadata": {
  "kernelspec": {
   "display_name": "plan",
   "language": "python",
   "name": "plan"
  },
  "language_info": {
   "codemirror_mode": {
    "name": "ipython",
    "version": 3
   },
   "file_extension": ".py",
   "mimetype": "text/x-python",
   "name": "python",
   "nbconvert_exporter": "python",
   "pygments_lexer": "ipython3",
   "version": "3.8.8"
  }
 },
 "nbformat": 4,
 "nbformat_minor": 4
}
