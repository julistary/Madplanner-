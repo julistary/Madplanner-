{
 "cells": [
  {
   "cell_type": "markdown",
   "metadata": {},
   "source": [
    "# Transport CAM 🚉 🚌 🅿️"
   ]
  },
  {
   "cell_type": "markdown",
   "metadata": {},
   "source": [
    "<img width=400 src=\"https://www.elagoradiario.com/wp-content/uploads/2019/11/madrid-abono-transporte-plano-del-metro-1035x600.jpg\">"
   ]
  },
  {
   "cell_type": "markdown",
   "metadata": {},
   "source": [
    "## Libraries 📚"
   ]
  },
  {
   "cell_type": "code",
   "execution_count": 19,
   "metadata": {},
   "outputs": [],
   "source": [
    "import pandas as pd\n",
    "import src.transport as t"
   ]
  },
  {
   "cell_type": "markdown",
   "metadata": {},
   "source": [
    "## Importing CSV's"
   ]
  },
  {
   "cell_type": "code",
   "execution_count": 20,
   "metadata": {},
   "outputs": [],
   "source": [
    "transports = [ \"stops_autobuses_urbanos\", \"stops_emt\", \"stops_interurbanos\", \"stops_metro\",  \"stops_metro_ligero\"]"
   ]
  },
  {
   "cell_type": "code",
   "execution_count": 21,
   "metadata": {},
   "outputs": [],
   "source": [
    "for tr in transports:\n",
    "    name = \"transporte/\" + tr + \".csv\"\n",
    "    locals()[tr] = pd.read_csv(name, index_col=0)"
   ]
  },
  {
   "cell_type": "code",
   "execution_count": 22,
   "metadata": {},
   "outputs": [],
   "source": [
    "parking = pd.read_csv(\"transporte/parking.csv\", index_col=0, sep=\";\", encoding = \"ISO-8859-1\")"
   ]
  },
  {
   "cell_type": "markdown",
   "metadata": {},
   "source": [
    "## Cleaning DF 🧽"
   ]
  },
  {
   "cell_type": "code",
   "execution_count": 23,
   "metadata": {},
   "outputs": [],
   "source": [
    "for transport in transports:\n",
    "    locals()[transport] = t.limpito(locals()[transport],transport)"
   ]
  },
  {
   "cell_type": "code",
   "execution_count": 24,
   "metadata": {},
   "outputs": [
    {
     "data": {
      "text/html": [
       "<div>\n",
       "<style scoped>\n",
       "    .dataframe tbody tr th:only-of-type {\n",
       "        vertical-align: middle;\n",
       "    }\n",
       "\n",
       "    .dataframe tbody tr th {\n",
       "        vertical-align: top;\n",
       "    }\n",
       "\n",
       "    .dataframe thead th {\n",
       "        text-align: right;\n",
       "    }\n",
       "</style>\n",
       "<table border=\"1\" class=\"dataframe\">\n",
       "  <thead>\n",
       "    <tr style=\"text-align: right;\">\n",
       "      <th></th>\n",
       "      <th>stop_name</th>\n",
       "      <th>stop_desc</th>\n",
       "      <th>stop_lat</th>\n",
       "      <th>stop_lon</th>\n",
       "      <th>geometry</th>\n",
       "      <th>type</th>\n",
       "    </tr>\n",
       "    <tr>\n",
       "      <th>stop_id</th>\n",
       "      <th></th>\n",
       "      <th></th>\n",
       "      <th></th>\n",
       "      <th></th>\n",
       "      <th></th>\n",
       "      <th></th>\n",
       "    </tr>\n",
       "  </thead>\n",
       "  <tbody>\n",
       "    <tr>\n",
       "      <th>par_4_1</th>\n",
       "      <td>PLAZA DE CASTILLA</td>\n",
       "      <td>Paseo de la Castellana 189</td>\n",
       "      <td>40.46690</td>\n",
       "      <td>-3.68917</td>\n",
       "      <td>{'type': 'Point', 'coordinates': [40.4669, -3....</td>\n",
       "      <td>stops_metro</td>\n",
       "    </tr>\n",
       "    <tr>\n",
       "      <th>acc_4_1_1</th>\n",
       "      <td>Plaza de Castilla</td>\n",
       "      <td>Paseo de la Castellana 189</td>\n",
       "      <td>40.46682</td>\n",
       "      <td>-3.68918</td>\n",
       "      <td>{'type': 'Point', 'coordinates': [40.46682, -3...</td>\n",
       "      <td>stops_metro</td>\n",
       "    </tr>\n",
       "    <tr>\n",
       "      <th>acc_4_1_1040</th>\n",
       "      <td>Ascensor</td>\n",
       "      <td>Plaza de Castilla 9</td>\n",
       "      <td>40.46555</td>\n",
       "      <td>-3.68877</td>\n",
       "      <td>{'type': 'Point', 'coordinates': [40.46555, -3...</td>\n",
       "      <td>stops_metro</td>\n",
       "    </tr>\n",
       "    <tr>\n",
       "      <th>acc_4_1_1043</th>\n",
       "      <td>Intercambiador Superficie</td>\n",
       "      <td>Paseo de la Castellana 191 B</td>\n",
       "      <td>40.46728</td>\n",
       "      <td>-3.68915</td>\n",
       "      <td>{'type': 'Point', 'coordinates': [40.46728, -3...</td>\n",
       "      <td>stops_metro</td>\n",
       "    </tr>\n",
       "    <tr>\n",
       "      <th>acc_4_1_1044</th>\n",
       "      <td>Ascensor</td>\n",
       "      <td>Paseo de la Castellana 189</td>\n",
       "      <td>40.46702</td>\n",
       "      <td>-3.68918</td>\n",
       "      <td>{'type': 'Point', 'coordinates': [40.46702, -3...</td>\n",
       "      <td>stops_metro</td>\n",
       "    </tr>\n",
       "  </tbody>\n",
       "</table>\n",
       "</div>"
      ],
      "text/plain": [
       "                              stop_name                     stop_desc  \\\n",
       "stop_id                                                                 \n",
       "par_4_1               PLAZA DE CASTILLA    Paseo de la Castellana 189   \n",
       "acc_4_1_1             Plaza de Castilla    Paseo de la Castellana 189   \n",
       "acc_4_1_1040                   Ascensor           Plaza de Castilla 9   \n",
       "acc_4_1_1043  Intercambiador Superficie  Paseo de la Castellana 191 B   \n",
       "acc_4_1_1044                   Ascensor    Paseo de la Castellana 189   \n",
       "\n",
       "              stop_lat  stop_lon  \\\n",
       "stop_id                            \n",
       "par_4_1       40.46690  -3.68917   \n",
       "acc_4_1_1     40.46682  -3.68918   \n",
       "acc_4_1_1040  40.46555  -3.68877   \n",
       "acc_4_1_1043  40.46728  -3.68915   \n",
       "acc_4_1_1044  40.46702  -3.68918   \n",
       "\n",
       "                                                       geometry         type  \n",
       "stop_id                                                                       \n",
       "par_4_1       {'type': 'Point', 'coordinates': [40.4669, -3....  stops_metro  \n",
       "acc_4_1_1     {'type': 'Point', 'coordinates': [40.46682, -3...  stops_metro  \n",
       "acc_4_1_1040  {'type': 'Point', 'coordinates': [40.46555, -3...  stops_metro  \n",
       "acc_4_1_1043  {'type': 'Point', 'coordinates': [40.46728, -3...  stops_metro  \n",
       "acc_4_1_1044  {'type': 'Point', 'coordinates': [40.46702, -3...  stops_metro  "
      ]
     },
     "execution_count": 24,
     "metadata": {},
     "output_type": "execute_result"
    }
   ],
   "source": [
    "stops_metro.head()"
   ]
  },
  {
   "cell_type": "code",
   "execution_count": 25,
   "metadata": {},
   "outputs": [],
   "source": [
    "parking = t.limpito_parking(parking)"
   ]
  },
  {
   "cell_type": "code",
   "execution_count": 26,
   "metadata": {},
   "outputs": [
    {
     "data": {
      "text/html": [
       "<div>\n",
       "<style scoped>\n",
       "    .dataframe tbody tr th:only-of-type {\n",
       "        vertical-align: middle;\n",
       "    }\n",
       "\n",
       "    .dataframe tbody tr th {\n",
       "        vertical-align: top;\n",
       "    }\n",
       "\n",
       "    .dataframe thead th {\n",
       "        text-align: right;\n",
       "    }\n",
       "</style>\n",
       "<table border=\"1\" class=\"dataframe\">\n",
       "  <thead>\n",
       "    <tr style=\"text-align: right;\">\n",
       "      <th></th>\n",
       "      <th>NOMBRE</th>\n",
       "      <th>BARRIO</th>\n",
       "      <th>DISTRITO</th>\n",
       "      <th>LATITUD</th>\n",
       "      <th>LONGITUD</th>\n",
       "      <th>geometry</th>\n",
       "      <th>type</th>\n",
       "    </tr>\n",
       "    <tr>\n",
       "      <th>PK</th>\n",
       "      <th></th>\n",
       "      <th></th>\n",
       "      <th></th>\n",
       "      <th></th>\n",
       "      <th></th>\n",
       "      <th></th>\n",
       "      <th></th>\n",
       "    </tr>\n",
       "  </thead>\n",
       "  <tbody>\n",
       "    <tr>\n",
       "      <th>13470</th>\n",
       "      <td>Aparcamiento mixto. Arquitecto Ribera</td>\n",
       "      <td>JUSTICIA</td>\n",
       "      <td>CENTRO</td>\n",
       "      <td>40.426.687.899.755.700</td>\n",
       "      <td>-36.996.173.701.222.400</td>\n",
       "      <td>{'type': 'Point', 'coordinates': ['40.426.687....</td>\n",
       "      <td>parking</td>\n",
       "    </tr>\n",
       "    <tr>\n",
       "      <th>59060</th>\n",
       "      <td>Aparcamiento mixto. Avenida de América (interc...</td>\n",
       "      <td>PROSPERIDAD</td>\n",
       "      <td>CHAMARTIN</td>\n",
       "      <td>4.043.886.083.125.740</td>\n",
       "      <td>-36.766.217.383.743.300</td>\n",
       "      <td>{'type': 'Point', 'coordinates': ['4.043.886.0...</td>\n",
       "      <td>parking</td>\n",
       "    </tr>\n",
       "    <tr>\n",
       "      <th>13475</th>\n",
       "      <td>Aparcamiento mixto. Brasil</td>\n",
       "      <td>CUATRO CAMINOS</td>\n",
       "      <td>TETUAN</td>\n",
       "      <td>4.045.610.834.965.890</td>\n",
       "      <td>-3.694.131.675.088.480</td>\n",
       "      <td>{'type': 'Point', 'coordinates': ['4.045.610.8...</td>\n",
       "      <td>parking</td>\n",
       "    </tr>\n",
       "    <tr>\n",
       "      <th>183747</th>\n",
       "      <td>Aparcamiento mixto. Casino de la Reina</td>\n",
       "      <td>EMBAJADORES</td>\n",
       "      <td>CENTRO</td>\n",
       "      <td>40.406.792.648.617.100</td>\n",
       "      <td>-37.046.086.019.457.100</td>\n",
       "      <td>{'type': 'Point', 'coordinates': ['40.406.792....</td>\n",
       "      <td>parking</td>\n",
       "    </tr>\n",
       "    <tr>\n",
       "      <th>13477</th>\n",
       "      <td>Aparcamiento mixto. Condesa de Gavia</td>\n",
       "      <td>CUATRO CAMINOS</td>\n",
       "      <td>TETUAN</td>\n",
       "      <td>4.044.938.567.948.410</td>\n",
       "      <td>-37.019.164.121.880.800</td>\n",
       "      <td>{'type': 'Point', 'coordinates': ['4.044.938.5...</td>\n",
       "      <td>parking</td>\n",
       "    </tr>\n",
       "  </tbody>\n",
       "</table>\n",
       "</div>"
      ],
      "text/plain": [
       "                                                   NOMBRE          BARRIO  \\\n",
       "PK                                                                          \n",
       "13470               Aparcamiento mixto. Arquitecto Ribera        JUSTICIA   \n",
       "59060   Aparcamiento mixto. Avenida de América (interc...     PROSPERIDAD   \n",
       "13475                          Aparcamiento mixto. Brasil  CUATRO CAMINOS   \n",
       "183747             Aparcamiento mixto. Casino de la Reina     EMBAJADORES   \n",
       "13477                Aparcamiento mixto. Condesa de Gavia  CUATRO CAMINOS   \n",
       "\n",
       "         DISTRITO                 LATITUD                 LONGITUD  \\\n",
       "PK                                                                   \n",
       "13470      CENTRO  40.426.687.899.755.700  -36.996.173.701.222.400   \n",
       "59060   CHAMARTIN   4.043.886.083.125.740  -36.766.217.383.743.300   \n",
       "13475      TETUAN   4.045.610.834.965.890   -3.694.131.675.088.480   \n",
       "183747     CENTRO  40.406.792.648.617.100  -37.046.086.019.457.100   \n",
       "13477      TETUAN   4.044.938.567.948.410  -37.019.164.121.880.800   \n",
       "\n",
       "                                                 geometry     type  \n",
       "PK                                                                  \n",
       "13470   {'type': 'Point', 'coordinates': ['40.426.687....  parking  \n",
       "59060   {'type': 'Point', 'coordinates': ['4.043.886.0...  parking  \n",
       "13475   {'type': 'Point', 'coordinates': ['4.045.610.8...  parking  \n",
       "183747  {'type': 'Point', 'coordinates': ['40.406.792....  parking  \n",
       "13477   {'type': 'Point', 'coordinates': ['4.044.938.5...  parking  "
      ]
     },
     "execution_count": 26,
     "metadata": {},
     "output_type": "execute_result"
    }
   ],
   "source": [
    "parking.head()"
   ]
  },
  {
   "cell_type": "markdown",
   "metadata": {},
   "source": [
    "## Exporting"
   ]
  },
  {
   "cell_type": "code",
   "execution_count": 27,
   "metadata": {},
   "outputs": [],
   "source": [
    "stops_autobuses_urbanos.to_json(\"json/stops_autobuses_urbanos\", orient=\"records\")\n",
    "stops_emt.to_json(\"json/stops_emt\", orient=\"records\")\n",
    "stops_interurbanos.to_json(\"json/stops_interurbanos\", orient=\"records\")\n",
    "stops_metro.to_json(\"json/stops_metro\", orient=\"records\")\n",
    "stops_metro_ligero.to_json(\"json/stops_metro_ligero\", orient=\"records\")\n",
    "parking.to_json(\"json/parking\", orient=\"records\")"
   ]
  },
  {
   "cell_type": "code",
   "execution_count": null,
   "metadata": {},
   "outputs": [],
   "source": []
  },
  {
   "cell_type": "code",
   "execution_count": null,
   "metadata": {},
   "outputs": [],
   "source": []
  },
  {
   "cell_type": "code",
   "execution_count": null,
   "metadata": {},
   "outputs": [],
   "source": []
  }
 ],
 "metadata": {
  "kernelspec": {
   "display_name": "plan",
   "language": "python",
   "name": "plan"
  },
  "language_info": {
   "codemirror_mode": {
    "name": "ipython",
    "version": 3
   },
   "file_extension": ".py",
   "mimetype": "text/x-python",
   "name": "python",
   "nbconvert_exporter": "python",
   "pygments_lexer": "ipython3",
   "version": "3.8.8"
  }
 },
 "nbformat": 4,
 "nbformat_minor": 4
}
