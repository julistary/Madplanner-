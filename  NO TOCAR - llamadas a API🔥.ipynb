{
 "cells": [
  {
   "cell_type": "code",
   "execution_count": 39,
   "metadata": {},
   "outputs": [],
   "source": [
    "import pandas as pd\n",
    "import os\n",
    "import json\n",
    "import requests\n",
    "from dotenv import load_dotenv\n",
    "import time\n",
    "import src.google_places as gp"
   ]
  },
  {
   "cell_type": "code",
   "execution_count": 69,
   "metadata": {},
   "outputs": [],
   "source": [
    "lista = [\"cinema\", \"museum\", \"park\", \"zoo\", \"japanese\",\n",
    "         \"burger\", \"vietnamese\", \"tapas\", \"korean\", \"brewery\",\n",
    "         \"club\", \"pub\", \"bowling\", \"greek\", \"juices\", \"vegan\",\n",
    "         \"french\", \"mexican\", \"asian\", \"rooftop\", \"cocktail\", \n",
    "         \"nightlife\", \"ramen\", \"argentino\", \"grill\", \"italian\",\n",
    "         \"thai\", \"cake\", \"cupcakes\", \"coffee\", \"mid eastern\",\n",
    "         \"indian\", \"pizza\", \"sweets\", \"theater\", \"spa\", \"ice_cream\",\n",
    "         \"sports bar\", \"healthy\", \"vegetarian\", \"drinks\",\n",
    "         \"jazz\", \"wine\", \"karaoke\", \"dancing\", \"seafood\"]"
   ]
  },
  {
   "cell_type": "code",
   "execution_count": 70,
   "metadata": {},
   "outputs": [
    {
     "data": {
      "text/plain": [
       "46"
      ]
     },
     "execution_count": 70,
     "metadata": {},
     "output_type": "execute_result"
    }
   ],
   "source": [
    "len(lista)"
   ]
  },
  {
   "cell_type": "code",
   "execution_count": 72,
   "metadata": {},
   "outputs": [],
   "source": [
    "for place in lista:\n",
    "    query = place + \" in madrid\"\n",
    "    name_1 = gp.gp_call(query)\n",
    "    time.sleep(2)\n",
    "    try: \n",
    "        name_2 = gp.next_page(name_1[\"next_page_token\"])\n",
    "        time.sleep(2)\n",
    "        name_3 = gp.next_page(name_2[\"next_page_token\"])\n",
    "        time.sleep(2)\n",
    "        df_name_1 = gp.request_to_df(name_1)\n",
    "        df_name_2 = gp.request_to_df(name_2)\n",
    "        df_name_3 = gp.request_to_df(name_3)\n",
    "        df_name_1[\"place\"] = place\n",
    "        df_name_2[\"place\"] = place\n",
    "        df_name_3[\"place\"] = place\n",
    "        df = pd.concat([df_name_1,df_name_2, df_name_3])\n",
    "        save = \"data/\" + place + \".csv\"\n",
    "        df = df.reset_index()\n",
    "        df = df.drop([\"index\"],axis=1)\n",
    "        df.to_csv(save)\n",
    "    except: \n",
    "        df = gp.request_to_df(name_1)\n",
    "        df[\"place\"] = place\n",
    "        save = \"data/\" + place + \".csv\"\n",
    "        df = df.reset_index()\n",
    "        df = df.drop([\"index\"],axis=1)\n",
    "        df.to_csv(save)\n",
    "        "
   ]
  },
  {
   "cell_type": "code",
   "execution_count": null,
   "metadata": {},
   "outputs": [],
   "source": []
  },
  {
   "cell_type": "code",
   "execution_count": null,
   "metadata": {},
   "outputs": [],
   "source": []
  },
  {
   "cell_type": "code",
   "execution_count": null,
   "metadata": {},
   "outputs": [],
   "source": []
  },
  {
   "cell_type": "code",
   "execution_count": null,
   "metadata": {},
   "outputs": [],
   "source": []
  }
 ],
 "metadata": {
  "kernelspec": {
   "display_name": "plan",
   "language": "python",
   "name": "plan"
  },
  "language_info": {
   "codemirror_mode": {
    "name": "ipython",
    "version": 3
   },
   "file_extension": ".py",
   "mimetype": "text/x-python",
   "name": "python",
   "nbconvert_exporter": "python",
   "pygments_lexer": "ipython3",
   "version": "3.8.8"
  }
 },
 "nbformat": 4,
 "nbformat_minor": 4
}
