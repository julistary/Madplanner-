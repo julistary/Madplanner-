{
 "cells": [
  {
   "cell_type": "markdown",
   "metadata": {},
   "source": [
    "# API Google Places 🌏🌍"
   ]
  },
  {
   "cell_type": "markdown",
   "metadata": {},
   "source": [
    "## Libraries 📚"
   ]
  },
  {
   "cell_type": "code",
   "execution_count": 1,
   "metadata": {},
   "outputs": [],
   "source": [
    "import pandas as pd\n",
    "import os\n",
    "import json\n",
    "import requests\n",
    "from dotenv import load_dotenv\n",
    "import time\n",
    "import src.google_places as gp"
   ]
  },
  {
   "cell_type": "markdown",
   "metadata": {},
   "source": [
    "## Places 🥑"
   ]
  },
  {
   "cell_type": "code",
   "execution_count": 8,
   "metadata": {},
   "outputs": [],
   "source": [
    "lista = [\"cinema\", \"museum\", \"park\", \"zoo\", \"japanese\",\n",
    "         \"burger\", \"vietnamese\", \"tapas\", \"korean\", \"brewery\",\n",
    "         \"club\", \"pub\", \"bowling\", \"greek\", \"juices\", \"vegan\",\n",
    "         \"french\", \"mexican\", \"asian\", \"rooftop\", \"cocktail\", \n",
    "         \"nightlife\", \"ramen\", \"argentino\", \"grill\", \"italian\",\n",
    "         \"thai\", \"cake\", \"cupcakes\", \"coffee\", \"mid eastern\",\n",
    "         \"indian\", \"pizza\", \"sweets\", \"theater\", \"spa\", \"ice cream\",\n",
    "         \"sports bar\", \"healthy\", \"vegetarian\", \"drinks\",\n",
    "         \"jazz\", \"wine\", \"karaoke\", \"dancing\", \"seafood\", \"discoteca\", \"escape room\",\n",
    "         \"centro comercial\", \"pista padel\", \"pista tenis\", \"campo de futbol\", \n",
    "         \"paintball\", \"multiaventura\", \"cancha baloncesto\", \"gluten free\", \n",
    "         \"autocine\", \"cata de vino\", \"pista de hielo\", \"senderismo\"\n",
    "         ]\n",
    "lista_2 = [\"karts\", \"laser tag\", \"tunel de viento\", \"brunch\", \"teleferico\", \"golf\"]\n",
    "lista_3 = [\"escalada\"]"
   ]
  },
  {
   "cell_type": "markdown",
   "metadata": {},
   "source": [
    "## Calling, creating dataframes and saving them"
   ]
  },
  {
   "cell_type": "code",
   "execution_count": null,
   "metadata": {},
   "outputs": [],
   "source": [
    "gp.todo(lista)"
   ]
  },
  {
   "cell_type": "code",
   "execution_count": 7,
   "metadata": {},
   "outputs": [],
   "source": [
    "gp.todo(lista_2)"
   ]
  },
  {
   "cell_type": "code",
   "execution_count": 9,
   "metadata": {},
   "outputs": [],
   "source": [
    "gp.todo(lista_3)"
   ]
  },
  {
   "cell_type": "code",
   "execution_count": null,
   "metadata": {},
   "outputs": [],
   "source": []
  }
 ],
 "metadata": {
  "kernelspec": {
   "display_name": "plan",
   "language": "python",
   "name": "plan"
  },
  "language_info": {
   "codemirror_mode": {
    "name": "ipython",
    "version": 3
   },
   "file_extension": ".py",
   "mimetype": "text/x-python",
   "name": "python",
   "nbconvert_exporter": "python",
   "pygments_lexer": "ipython3",
   "version": "3.8.8"
  }
 },
 "nbformat": 4,
 "nbformat_minor": 4
}
