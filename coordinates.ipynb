{
 "cells": [
  {
   "cell_type": "code",
   "execution_count": 2,
   "metadata": {},
   "outputs": [],
   "source": [
    "import requests\n",
    "import json\n",
    "from dotenv import load_dotenv\n",
    "import os\n",
    "import pandas as pd"
   ]
  },
  {
   "cell_type": "markdown",
   "metadata": {},
   "source": [
    "# Pueblos"
   ]
  },
  {
   "cell_type": "code",
   "execution_count": 3,
   "metadata": {},
   "outputs": [],
   "source": [
    "df_madrid = pd.read_csv(\"coordinates/cp_spain.csv\", sep=\";\")"
   ]
  },
  {
   "cell_type": "code",
   "execution_count": 4,
   "metadata": {},
   "outputs": [],
   "source": [
    "df_madrid.rename(columns={\"codigopostalid\":\"CP\"}, inplace=True)"
   ]
  },
  {
   "cell_type": "code",
   "execution_count": 5,
   "metadata": {},
   "outputs": [
    {
     "data": {
      "text/html": [
       "<div>\n",
       "<style scoped>\n",
       "    .dataframe tbody tr th:only-of-type {\n",
       "        vertical-align: middle;\n",
       "    }\n",
       "\n",
       "    .dataframe tbody tr th {\n",
       "        vertical-align: top;\n",
       "    }\n",
       "\n",
       "    .dataframe thead th {\n",
       "        text-align: right;\n",
       "    }\n",
       "</style>\n",
       "<table border=\"1\" class=\"dataframe\">\n",
       "  <thead>\n",
       "    <tr style=\"text-align: right;\">\n",
       "      <th></th>\n",
       "      <th>provincia</th>\n",
       "      <th>poblacion</th>\n",
       "      <th>CP</th>\n",
       "      <th>lat</th>\n",
       "      <th>lon</th>\n",
       "    </tr>\n",
       "  </thead>\n",
       "  <tbody>\n",
       "    <tr>\n",
       "      <th>0</th>\n",
       "      <td>Madrid</td>\n",
       "      <td>Ajalvir</td>\n",
       "      <td>28864</td>\n",
       "      <td>-3.480.710.160</td>\n",
       "      <td>40.535.068.130</td>\n",
       "    </tr>\n",
       "    <tr>\n",
       "      <th>1</th>\n",
       "      <td>Madrid</td>\n",
       "      <td>Alameda del Valle</td>\n",
       "      <td>28742</td>\n",
       "      <td>-3.843.661.950</td>\n",
       "      <td>40.916.583.150</td>\n",
       "    </tr>\n",
       "    <tr>\n",
       "      <th>2</th>\n",
       "      <td>Madrid</td>\n",
       "      <td>El Alamo</td>\n",
       "      <td>28607</td>\n",
       "      <td>-3.990.797.560</td>\n",
       "      <td>40.228.256.070</td>\n",
       "    </tr>\n",
       "    <tr>\n",
       "      <th>3</th>\n",
       "      <td>Madrid</td>\n",
       "      <td>El Alamo</td>\n",
       "      <td>28807</td>\n",
       "      <td>-3.990.797.560</td>\n",
       "      <td>40.228.256.070</td>\n",
       "    </tr>\n",
       "    <tr>\n",
       "      <th>4</th>\n",
       "      <td>Madrid</td>\n",
       "      <td>Alcala de Henares</td>\n",
       "      <td>28801</td>\n",
       "      <td>-3.369.251.020</td>\n",
       "      <td>40.480.332.320</td>\n",
       "    </tr>\n",
       "    <tr>\n",
       "      <th>...</th>\n",
       "      <td>...</td>\n",
       "      <td>...</td>\n",
       "      <td>...</td>\n",
       "      <td>...</td>\n",
       "      <td>...</td>\n",
       "    </tr>\n",
       "    <tr>\n",
       "      <th>331</th>\n",
       "      <td>Madrid</td>\n",
       "      <td>Puentes Viejas</td>\n",
       "      <td>28195</td>\n",
       "      <td>-3.583.264.550</td>\n",
       "      <td>40.964.450.110</td>\n",
       "    </tr>\n",
       "    <tr>\n",
       "      <th>332</th>\n",
       "      <td>Madrid</td>\n",
       "      <td>Puentes Viejas</td>\n",
       "      <td>28196</td>\n",
       "      <td>-3.583.264.550</td>\n",
       "      <td>40.964.450.110</td>\n",
       "    </tr>\n",
       "    <tr>\n",
       "      <th>333</th>\n",
       "      <td>Madrid</td>\n",
       "      <td>Puentes Viejas</td>\n",
       "      <td>28754</td>\n",
       "      <td>-3.583.264.550</td>\n",
       "      <td>40.964.450.110</td>\n",
       "    </tr>\n",
       "    <tr>\n",
       "      <th>334</th>\n",
       "      <td>Madrid</td>\n",
       "      <td>Tres Cantos</td>\n",
       "      <td>28760</td>\n",
       "      <td>-3.704.205.900</td>\n",
       "      <td>40.604.905.350</td>\n",
       "    </tr>\n",
       "    <tr>\n",
       "      <th>335</th>\n",
       "      <td>Madrid</td>\n",
       "      <td>Tres Cantos</td>\n",
       "      <td>28761</td>\n",
       "      <td>-3.704.205.900</td>\n",
       "      <td>40.604.905.350</td>\n",
       "    </tr>\n",
       "  </tbody>\n",
       "</table>\n",
       "<p>336 rows × 5 columns</p>\n",
       "</div>"
      ],
      "text/plain": [
       "    provincia          poblacion     CP             lat             lon\n",
       "0      Madrid            Ajalvir  28864  -3.480.710.160  40.535.068.130\n",
       "1      Madrid  Alameda del Valle  28742  -3.843.661.950  40.916.583.150\n",
       "2      Madrid           El Alamo  28607  -3.990.797.560  40.228.256.070\n",
       "3      Madrid           El Alamo  28807  -3.990.797.560  40.228.256.070\n",
       "4      Madrid  Alcala de Henares  28801  -3.369.251.020  40.480.332.320\n",
       "..        ...                ...    ...             ...             ...\n",
       "331    Madrid     Puentes Viejas  28195  -3.583.264.550  40.964.450.110\n",
       "332    Madrid     Puentes Viejas  28196  -3.583.264.550  40.964.450.110\n",
       "333    Madrid     Puentes Viejas  28754  -3.583.264.550  40.964.450.110\n",
       "334    Madrid        Tres Cantos  28760  -3.704.205.900  40.604.905.350\n",
       "335    Madrid        Tres Cantos  28761  -3.704.205.900  40.604.905.350\n",
       "\n",
       "[336 rows x 5 columns]"
      ]
     },
     "execution_count": 5,
     "metadata": {},
     "output_type": "execute_result"
    }
   ],
   "source": [
    "df_madrid"
   ]
  },
  {
   "cell_type": "code",
   "execution_count": 6,
   "metadata": {},
   "outputs": [],
   "source": [
    "df_madrid.to_csv(\"data/df_madrid.csv\")"
   ]
  },
  {
   "cell_type": "markdown",
   "metadata": {},
   "source": [
    "# Callejero"
   ]
  },
  {
   "cell_type": "code",
   "execution_count": 18,
   "metadata": {},
   "outputs": [],
   "source": [
    "df = pd.read_csv(\"coordinates/callejero.csv\", sep=';')"
   ]
  },
  {
   "cell_type": "code",
   "execution_count": 19,
   "metadata": {},
   "outputs": [
    {
     "data": {
      "text/plain": [
       "Index(['Nombre del distrito', 'Codigo postal'], dtype='object')"
      ]
     },
     "execution_count": 19,
     "metadata": {},
     "output_type": "execute_result"
    }
   ],
   "source": [
    "df.columns"
   ]
  },
  {
   "cell_type": "code",
   "execution_count": 20,
   "metadata": {},
   "outputs": [
    {
     "data": {
      "text/plain": [
       "(209326, 2)"
      ]
     },
     "execution_count": 20,
     "metadata": {},
     "output_type": "execute_result"
    }
   ],
   "source": [
    "df.shape"
   ]
  },
  {
   "cell_type": "code",
   "execution_count": 21,
   "metadata": {},
   "outputs": [],
   "source": [
    "df = df.drop_duplicates()"
   ]
  },
  {
   "cell_type": "code",
   "execution_count": 22,
   "metadata": {},
   "outputs": [
    {
     "data": {
      "text/plain": [
       "(142, 2)"
      ]
     },
     "execution_count": 22,
     "metadata": {},
     "output_type": "execute_result"
    }
   ],
   "source": [
    "df.shape"
   ]
  },
  {
   "cell_type": "code",
   "execution_count": 23,
   "metadata": {},
   "outputs": [],
   "source": [
    "df = df.reset_index()\n",
    "df = df.drop([\"index\"],axis=1)"
   ]
  },
  {
   "cell_type": "code",
   "execution_count": 24,
   "metadata": {},
   "outputs": [],
   "source": [
    "df.rename(columns={\"Nombre del distrito\": \"Distrito\", \"Codigo postal\": \"CP\"}, inplace=True)"
   ]
  },
  {
   "cell_type": "code",
   "execution_count": 25,
   "metadata": {},
   "outputs": [
    {
     "data": {
      "text/html": [
       "<div>\n",
       "<style scoped>\n",
       "    .dataframe tbody tr th:only-of-type {\n",
       "        vertical-align: middle;\n",
       "    }\n",
       "\n",
       "    .dataframe tbody tr th {\n",
       "        vertical-align: top;\n",
       "    }\n",
       "\n",
       "    .dataframe thead th {\n",
       "        text-align: right;\n",
       "    }\n",
       "</style>\n",
       "<table border=\"1\" class=\"dataframe\">\n",
       "  <thead>\n",
       "    <tr style=\"text-align: right;\">\n",
       "      <th></th>\n",
       "      <th>Distrito</th>\n",
       "      <th>CP</th>\n",
       "    </tr>\n",
       "  </thead>\n",
       "  <tbody>\n",
       "    <tr>\n",
       "      <th>0</th>\n",
       "      <td>FUENCARRAL-EL PARDO</td>\n",
       "      <td>28050</td>\n",
       "    </tr>\n",
       "    <tr>\n",
       "      <th>1</th>\n",
       "      <td>HORTALEZA</td>\n",
       "      <td>28050</td>\n",
       "    </tr>\n",
       "    <tr>\n",
       "      <th>2</th>\n",
       "      <td>FUENCARRAL-EL PARDO</td>\n",
       "      <td>28108</td>\n",
       "    </tr>\n",
       "    <tr>\n",
       "      <th>3</th>\n",
       "      <td>CIUDAD LINEAL</td>\n",
       "      <td>28027</td>\n",
       "    </tr>\n",
       "    <tr>\n",
       "      <th>4</th>\n",
       "      <td>HORTALEZA</td>\n",
       "      <td>28027</td>\n",
       "    </tr>\n",
       "  </tbody>\n",
       "</table>\n",
       "</div>"
      ],
      "text/plain": [
       "               Distrito     CP\n",
       "0  FUENCARRAL-EL PARDO   28050\n",
       "1  HORTALEZA             28050\n",
       "2  FUENCARRAL-EL PARDO   28108\n",
       "3  CIUDAD LINEAL         28027\n",
       "4  HORTALEZA             28027"
      ]
     },
     "execution_count": 25,
     "metadata": {},
     "output_type": "execute_result"
    }
   ],
   "source": [
    "df.head()"
   ]
  },
  {
   "cell_type": "code",
   "execution_count": 26,
   "metadata": {},
   "outputs": [],
   "source": [
    "df.drop(df[df.CP == 0].index, inplace=True)"
   ]
  },
  {
   "cell_type": "code",
   "execution_count": 29,
   "metadata": {},
   "outputs": [],
   "source": [
    "df.to_csv(\"data/df_districts.csv\")"
   ]
  },
  {
   "cell_type": "code",
   "execution_count": 27,
   "metadata": {},
   "outputs": [],
   "source": [
    "lista_distritos = []\n",
    "for distrito in list(df.Distrito.unique()):\n",
    "    d = distrito.lower()\n",
    "    d = d.strip()\n",
    "    lista_distritos.append(d)"
   ]
  },
  {
   "cell_type": "code",
   "execution_count": 28,
   "metadata": {},
   "outputs": [],
   "source": [
    "lista = ['fuencarral', 'el pardo', 'hortaleza', 'ciudad lineal', 'san blas', 'canillejas', 'barajas', 'moratalaz', 'puente de vallecas', 'vicalvaro', 'villa de vallecas', 'villaverde', 'usera', 'carabanchel', 'latina', 'moncloa', 'aravaca', 'centro', 'tetuan', 'chamartin', 'chamberi', 'retiro', 'arganzuela', 'salamanca']"
   ]
  },
  {
   "cell_type": "code",
   "execution_count": null,
   "metadata": {},
   "outputs": [],
   "source": []
  },
  {
   "cell_type": "markdown",
   "metadata": {},
   "source": [
    "# Llamada"
   ]
  },
  {
   "cell_type": "code",
   "execution_count": 48,
   "metadata": {},
   "outputs": [
    {
     "name": "stdout",
     "output_type": "stream",
     "text": [
      "Introduce distrito: moncloa\n"
     ]
    }
   ],
   "source": [
    "district = input(\"Introduce distrito: \")"
   ]
  },
  {
   "cell_type": "code",
   "execution_count": 49,
   "metadata": {},
   "outputs": [
    {
     "data": {
      "text/plain": [
       "{'type': 'Point', 'coordinates': ['-3.70496', '40.44220']}"
      ]
     },
     "execution_count": 49,
     "metadata": {},
     "output_type": "execute_result"
    }
   ],
   "source": [
    "coordinates = {}\n",
    "if district.lower() in lista:\n",
    "    district = district.upper()\n",
    "    cp = 28037\n",
    "    for index, row in df.iterrows():\n",
    "        if district in row.Distrito:\n",
    "            cp = row.CP\n",
    "    datos = requests.get(f\"https://geocode.xyz/{cp}?json=1\").json()\n",
    "    datos = datos[\"alt\"][\"loc\"]\n",
    "    for country in datos:\n",
    "        if country['countryname'] == \"Spain\":\n",
    "            coordinates[\"latt\"] = country[\"latt\"]\n",
    "            coordinates[\"long\"] = country[\"longt\"]\n",
    "else:\n",
    "    for index, row in df_madrid.iterrows():\n",
    "        if district.upper() in row.poblacion.upper():\n",
    "            coordinates[\"latt\"] = row[\"lat\"][:6]\n",
    "            coordinates[\"long\"] = row[\"lon\"][:6]            \n",
    "            break\n",
    "coordinates\n",
    "coord_point = {\"type\":\"Point\", \"coordinates\": [coordinates['long'], coordinates['latt']]}\n",
    "coord_point"
   ]
  },
  {
   "cell_type": "code",
   "execution_count": null,
   "metadata": {},
   "outputs": [],
   "source": []
  }
 ],
 "metadata": {
  "kernelspec": {
   "display_name": "plan",
   "language": "python",
   "name": "plan"
  },
  "language_info": {
   "codemirror_mode": {
    "name": "ipython",
    "version": 3
   },
   "file_extension": ".py",
   "mimetype": "text/x-python",
   "name": "python",
   "nbconvert_exporter": "python",
   "pygments_lexer": "ipython3",
   "version": "3.8.8"
  }
 },
 "nbformat": 4,
 "nbformat_minor": 4
}
