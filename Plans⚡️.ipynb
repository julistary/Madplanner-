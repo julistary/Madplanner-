{
 "cells": [
  {
   "cell_type": "markdown",
   "metadata": {},
   "source": [
    "# Plans in Madrid 📍"
   ]
  },
  {
   "cell_type": "markdown",
   "metadata": {},
   "source": [
    "<img width=400 src=\"https://i.gifer.com/MPEr.gif\">"
   ]
  },
  {
   "cell_type": "markdown",
   "metadata": {},
   "source": [
    "## Libraries 📚"
   ]
  },
  {
   "cell_type": "code",
   "execution_count": 1,
   "metadata": {},
   "outputs": [],
   "source": [
    "import pandas as pd\n",
    "import numpy as np\n",
    "import src.cleaning as c\n",
    "import re"
   ]
  },
  {
   "cell_type": "markdown",
   "metadata": {},
   "source": [
    "## Importing CSV's and creating dataframes"
   ]
  },
  {
   "cell_type": "code",
   "execution_count": 2,
   "metadata": {},
   "outputs": [],
   "source": [
    "lista_restaurantes = [\"japanese\",\n",
    "         \"burger\", \"vietnamese\", \"tapas\", \"korean\", \"greek\", \"vegan\",\n",
    "         \"french\", \"mexican\", \"asian\",  \"ramen\", \"argentino\", \"grill\", \"italian\",\n",
    "         \"thai\", \"mid eastern\",\n",
    "         \"indian\", \"pizza\", \"healthy\", \"vegetarian\",\"seafood\", \"gluten free\", \"pet friendly restaurant\"]"
   ]
  },
  {
   "cell_type": "code",
   "execution_count": 3,
   "metadata": {},
   "outputs": [],
   "source": [
    "lista_snacks = [\"cake\", \"cupcakes\", \"coffee\", \"sweets\", \"ice cream\", \"juices\", \"brunch\"]"
   ]
  },
  {
   "cell_type": "code",
   "execution_count": 4,
   "metadata": {},
   "outputs": [],
   "source": [
    "lista_party = [\"club\", \"pub\", \"nightlife\", \"dancing\", \"discoteca\", \"salsa club\", \"samba club\"]"
   ]
  },
  {
   "cell_type": "code",
   "execution_count": 5,
   "metadata": {},
   "outputs": [],
   "source": [
    "lista_alcohol = [ \"brewery\", \"rooftop\", \"cocktail\", \n",
    "         \"sports bar\", \"drinks\",\n",
    "         \"wine\", \"cata de vino\" ]"
   ]
  },
  {
   "cell_type": "code",
   "execution_count": 6,
   "metadata": {},
   "outputs": [],
   "source": [
    "lista_cultura = [\"cinema\", \"museum\", \"theater\",\n",
    "         \"jazz\", \"karaoke\", \"autocine\", \"piano bar\"]"
   ]
  },
  {
   "cell_type": "code",
   "execution_count": 7,
   "metadata": {},
   "outputs": [],
   "source": [
    "lista_outdoors = [\"park\", \"zoo\", \"pista padel\", \"pista tenis\", \"campo de futbol\", \n",
    "         \"paintball\", \"multiaventura\", \"cancha baloncesto\",  \"senderismo\", \"golf\",\n",
    "                 \"water park\"]"
   ]
  },
  {
   "cell_type": "code",
   "execution_count": 8,
   "metadata": {},
   "outputs": [],
   "source": [
    "lista_otros =[\"bowling\", \"spa\", \"escape room\", \"pista de hielo\", \"karts\", \"laser tag\", \n",
    "              \"tunel de viento\", \"teleferico\", \"escalada\"]"
   ]
  },
  {
   "cell_type": "code",
   "execution_count": 9,
   "metadata": {},
   "outputs": [],
   "source": [
    "df_restaurants = c.create_subdata(lista_restaurantes)\n",
    "df_snacks = c.create_subdata(lista_snacks)\n",
    "df_party = c.create_subdata(lista_party)\n",
    "df_alcohol = c.create_subdata(lista_alcohol)\n",
    "df_culture = c.create_subdata(lista_cultura)\n",
    "df_outdoors = c.create_subdata(lista_outdoors)\n",
    "df_others = c.create_subdata(lista_otros)"
   ]
  },
  {
   "cell_type": "markdown",
   "metadata": {},
   "source": [
    "## Cleaning 🧽🛁"
   ]
  },
  {
   "cell_type": "markdown",
   "metadata": {},
   "source": [
    "#### Cleaning column address"
   ]
  },
  {
   "cell_type": "code",
   "execution_count": 10,
   "metadata": {},
   "outputs": [],
   "source": [
    "df_restaurants = c.address(df_restaurants)\n",
    "df_snacks = c.address(df_snacks)\n",
    "df_party = c.address(df_party)\n",
    "df_alcohol = c.address(df_alcohol)\n",
    "df_culture = c.address(df_culture)\n",
    "df_outdoors = c.address(df_outdoors)\n",
    "df_others = c.address(df_others)"
   ]
  },
  {
   "cell_type": "markdown",
   "metadata": {},
   "source": [
    "#### Columns with latitude and longitude 🗺"
   ]
  },
  {
   "cell_type": "code",
   "execution_count": 11,
   "metadata": {},
   "outputs": [],
   "source": [
    "df_restaurants = c.latlon(df_restaurants)\n",
    "df_snacks = c.latlon(df_snacks)\n",
    "df_party = c.latlon(df_party)\n",
    "df_alcohol = c.latlon(df_alcohol)\n",
    "df_culture = c.latlon(df_culture)\n",
    "df_outdoors = c.latlon(df_outdoors)\n",
    "df_others = c.latlon(df_others)"
   ]
  },
  {
   "cell_type": "markdown",
   "metadata": {},
   "source": [
    "#### Dropping some useless columns"
   ]
  },
  {
   "cell_type": "code",
   "execution_count": 18,
   "metadata": {},
   "outputs": [],
   "source": [
    "df_outdoors = c.drop_row(df_outdoors,\"park\")\n",
    "df_outdoors = c.drop_row(df_outdoors,\"zoo\")\n",
    "df_others = c.drop_row(df_others, \"tlf\")\n",
    "df_others = c.drop_row(df_others, \"laser\")"
   ]
  },
  {
   "cell_type": "markdown",
   "metadata": {},
   "source": [
    "#### Evaluating price level 💸"
   ]
  },
  {
   "cell_type": "markdown",
   "metadata": {},
   "source": [
    "**Price Level**      \n",
    "0 — Free    \n",
    "1 — Inexpensive (0-15)   \n",
    "2 — Moderate (15-25)       \n",
    "3 — Expensive (25-50)     \n",
    "4 — Very Expensive (<50)"
   ]
  },
  {
   "cell_type": "code",
   "execution_count": 12,
   "metadata": {},
   "outputs": [],
   "source": [
    "df_snacks['price_level'] = c.fill_nulls(df_snacks)\n",
    "df_restaurants['price_level'] = c.fill_nulls(df_restaurants)\n",
    "df_party['price_level'] = c.fill_nulls(df_party)\n",
    "df_alcohol['price_level'] = c.fill_nulls(df_alcohol)\n",
    "df_culture['price_level'] = c.fill_nulls(df_culture)"
   ]
  },
  {
   "cell_type": "code",
   "execution_count": 13,
   "metadata": {},
   "outputs": [
    {
     "data": {
      "text/plain": [
       "array(['bowling', 'spa', 'escape room', 'pista de hielo', 'karts',\n",
       "       'laser tag', 'tunel de viento', 'teleferico', 'escalada'],\n",
       "      dtype=object)"
      ]
     },
     "execution_count": 13,
     "metadata": {},
     "output_type": "execute_result"
    }
   ],
   "source": [
    "df_others.place.unique()"
   ]
  },
  {
   "cell_type": "code",
   "execution_count": 14,
   "metadata": {},
   "outputs": [],
   "source": [
    "outdoors_price = {\"zoo\" : 2.0,\n",
    " \"park\" : 0.0, \n",
    " \"pista padel\" : 1.0, \n",
    " \"pista tenis\": 1.0,\n",
    " \"senderismo\": 0.0,\n",
    " \"campo de futbol\": 1.0,\n",
    " \"cancha baloncesto\": 1.0,\n",
    " \"paintball\": 2.0,\n",
    " \"multiaventura\": 2.0,\n",
    " \"golf\" : 1.0,\n",
    " \"water park\" : 3.0,\n",
    "    }"
   ]
  },
  {
   "cell_type": "code",
   "execution_count": 15,
   "metadata": {},
   "outputs": [],
   "source": [
    "culture_price = {\n",
    "    'cinema' : 1.0,\n",
    "    'museum': 2.0, \n",
    "    'theater': 2.0,\n",
    "     'autocine' : 1.0\n",
    "}"
   ]
  },
  {
   "cell_type": "code",
   "execution_count": 16,
   "metadata": {},
   "outputs": [],
   "source": [
    "others_price = {'bowling' : 1.0, \n",
    "                'spa': 3.0, \n",
    "                'escape room' : 2.0, \n",
    "                'pista de hielo': 2.0,\n",
    "                'karts' : 3.0,\n",
    "                'laser tag': 3.0, \n",
    "                'tunel de viento' : 4.0, \n",
    "                'teleferico' : 1.0,\n",
    "                'escalada' : 1.0\n",
    "               }"
   ]
  },
  {
   "cell_type": "code",
   "execution_count": 17,
   "metadata": {},
   "outputs": [],
   "source": [
    "df_outdoors['price_level'] = df_outdoors.price_level.fillna(df_outdoors.place.map(outdoors_price))\n",
    "df_culture['price_level'] = df_culture.price_level.fillna(df_culture.place.map(culture_price))\n",
    "df_others['price_level'] = df_others.price_level.fillna(df_others.place.map(others_price))"
   ]
  },
  {
   "cell_type": "code",
   "execution_count": 28,
   "metadata": {},
   "outputs": [
    {
     "ename": "AttributeError",
     "evalue": "module 'src.cleaning' has no attribute 'pricing'",
     "output_type": "error",
     "traceback": [
      "\u001b[0;31m---------------------------------------------------------------------------\u001b[0m",
      "\u001b[0;31mAttributeError\u001b[0m                            Traceback (most recent call last)",
      "\u001b[0;32m<ipython-input-28-c074ad660698>\u001b[0m in \u001b[0;36m<module>\u001b[0;34m\u001b[0m\n\u001b[0;32m----> 1\u001b[0;31m \u001b[0mdf_restaurants\u001b[0m\u001b[0;34m[\u001b[0m\u001b[0;34m\"price\"\u001b[0m\u001b[0;34m]\u001b[0m \u001b[0;34m=\u001b[0m \u001b[0mdf_restaurants\u001b[0m\u001b[0;34m.\u001b[0m\u001b[0mprice_level\u001b[0m\u001b[0;34m.\u001b[0m\u001b[0mapply\u001b[0m\u001b[0;34m(\u001b[0m\u001b[0mc\u001b[0m\u001b[0;34m.\u001b[0m\u001b[0mpricing\u001b[0m\u001b[0;34m)\u001b[0m\u001b[0;34m\u001b[0m\u001b[0;34m\u001b[0m\u001b[0m\n\u001b[0m\u001b[1;32m      2\u001b[0m \u001b[0mdf_snacks\u001b[0m\u001b[0;34m[\u001b[0m\u001b[0;34m\"price\"\u001b[0m\u001b[0;34m]\u001b[0m \u001b[0;34m=\u001b[0m \u001b[0mdf_restaurants\u001b[0m\u001b[0;34m.\u001b[0m\u001b[0mprice_level\u001b[0m\u001b[0;34m.\u001b[0m\u001b[0mapply\u001b[0m\u001b[0;34m(\u001b[0m\u001b[0mc\u001b[0m\u001b[0;34m.\u001b[0m\u001b[0mpricing\u001b[0m\u001b[0;34m)\u001b[0m\u001b[0;34m\u001b[0m\u001b[0;34m\u001b[0m\u001b[0m\n\u001b[1;32m      3\u001b[0m \u001b[0mdf_party\u001b[0m\u001b[0;34m[\u001b[0m\u001b[0;34m\"price\"\u001b[0m\u001b[0;34m]\u001b[0m \u001b[0;34m=\u001b[0m \u001b[0mdf_restaurants\u001b[0m\u001b[0;34m.\u001b[0m\u001b[0mprice_level\u001b[0m\u001b[0;34m.\u001b[0m\u001b[0mapply\u001b[0m\u001b[0;34m(\u001b[0m\u001b[0mc\u001b[0m\u001b[0;34m.\u001b[0m\u001b[0mpricing\u001b[0m\u001b[0;34m)\u001b[0m\u001b[0;34m\u001b[0m\u001b[0;34m\u001b[0m\u001b[0m\n\u001b[1;32m      4\u001b[0m \u001b[0mdf_alcohol\u001b[0m\u001b[0;34m[\u001b[0m\u001b[0;34m\"price\"\u001b[0m\u001b[0;34m]\u001b[0m \u001b[0;34m=\u001b[0m \u001b[0mdf_restaurants\u001b[0m\u001b[0;34m.\u001b[0m\u001b[0mprice_level\u001b[0m\u001b[0;34m.\u001b[0m\u001b[0mapply\u001b[0m\u001b[0;34m(\u001b[0m\u001b[0mc\u001b[0m\u001b[0;34m.\u001b[0m\u001b[0mpricing\u001b[0m\u001b[0;34m)\u001b[0m\u001b[0;34m\u001b[0m\u001b[0;34m\u001b[0m\u001b[0m\n\u001b[1;32m      5\u001b[0m \u001b[0mdf_culture\u001b[0m\u001b[0;34m[\u001b[0m\u001b[0;34m\"price\"\u001b[0m\u001b[0;34m]\u001b[0m \u001b[0;34m=\u001b[0m \u001b[0mdf_restaurants\u001b[0m\u001b[0;34m.\u001b[0m\u001b[0mprice_level\u001b[0m\u001b[0;34m.\u001b[0m\u001b[0mapply\u001b[0m\u001b[0;34m(\u001b[0m\u001b[0mc\u001b[0m\u001b[0;34m.\u001b[0m\u001b[0mpricing\u001b[0m\u001b[0;34m)\u001b[0m\u001b[0;34m\u001b[0m\u001b[0;34m\u001b[0m\u001b[0m\n",
      "\u001b[0;31mAttributeError\u001b[0m: module 'src.cleaning' has no attribute 'pricing'"
     ]
    }
   ],
   "source": [
    "df_restaurants[\"price\"] = df_restaurants.price_level.apply(c.pricing)\n",
    "df_snacks[\"price\"] = df_restaurants.price_level.apply(c.pricing)\n",
    "df_party[\"price\"] = df_restaurants.price_level.apply(c.pricing)\n",
    "df_alcohol[\"price\"] = df_restaurants.price_level.apply(c.pricing)\n",
    "df_culture[\"price\"] = df_restaurants.price_level.apply(c.pricing)\n",
    "df_outdoors[\"price\"] = df_restaurants.price_level.apply(c.pricing)\n",
    "df_others[\"price\"] = df_restaurants.price_level.apply(c.pricing)"
   ]
  },
  {
   "cell_type": "code",
   "execution_count": null,
   "metadata": {},
   "outputs": [],
   "source": []
  },
  {
   "cell_type": "markdown",
   "metadata": {},
   "source": [
    "## Exporting"
   ]
  },
  {
   "cell_type": "code",
   "execution_count": 26,
   "metadata": {},
   "outputs": [],
   "source": [
    "df_restaurants.to_json(\"json/restaurants\", orient=\"records\")\n",
    "df_snacks.to_json(\"json/snacks\", orient=\"records\")\n",
    "df_culture.to_json(\"json/culture\", orient=\"records\")\n",
    "df_party.to_json(\"json/party\", orient=\"records\")\n",
    "df_alcohol.to_json(\"json/alcohol\", orient=\"records\")\n",
    "df_outdoors.to_json(\"json/outdoors\", orient=\"records\")\n",
    "df_others.to_json(\"json/others\", orient=\"records\")"
   ]
  },
  {
   "cell_type": "code",
   "execution_count": 27,
   "metadata": {},
   "outputs": [],
   "source": [
    "df_restaurants.to_csv(\"data/restaurants.csv\")\n",
    "df_snacks.to_csv(\"data/snacks.csv\")\n",
    "df_culture.to_csv(\"data/culture.csv\")\n",
    "df_party.to_csv(\"data/party.csv\")\n",
    "df_alcohol.to_csv(\"data/drinks.csv\")\n",
    "df_outdoors.to_csv(\"data/outdoors.csv\")\n",
    "df_others.to_csv(\"data/leisure.csv\")"
   ]
  },
  {
   "cell_type": "code",
   "execution_count": null,
   "metadata": {},
   "outputs": [],
   "source": []
  },
  {
   "cell_type": "code",
   "execution_count": null,
   "metadata": {},
   "outputs": [],
   "source": []
  },
  {
   "cell_type": "code",
   "execution_count": null,
   "metadata": {},
   "outputs": [],
   "source": []
  }
 ],
 "metadata": {
  "kernelspec": {
   "display_name": "plan",
   "language": "python",
   "name": "plan"
  },
  "language_info": {
   "codemirror_mode": {
    "name": "ipython",
    "version": 3
   },
   "file_extension": ".py",
   "mimetype": "text/x-python",
   "name": "python",
   "nbconvert_exporter": "python",
   "pygments_lexer": "ipython3",
   "version": "3.8.8"
  }
 },
 "nbformat": 4,
 "nbformat_minor": 4
}
