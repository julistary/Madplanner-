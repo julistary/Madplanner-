{
 "cells": [
  {
   "cell_type": "markdown",
   "metadata": {},
   "source": [
    "# Plans in Madrid 📍"
   ]
  },
  {
   "cell_type": "markdown",
   "metadata": {},
   "source": [
    "<img width=400 src=\"https://i.gifer.com/MPEr.gif\">"
   ]
  },
  {
   "cell_type": "markdown",
   "metadata": {},
   "source": [
    "## Libraries 📚"
   ]
  },
  {
   "cell_type": "code",
   "execution_count": 1,
   "metadata": {},
   "outputs": [],
   "source": [
    "import pandas as pd\n",
    "import numpy as np\n",
    "import src.cleaning as c\n",
    "import re"
   ]
  },
  {
   "cell_type": "markdown",
   "metadata": {},
   "source": [
    "## Importing CSV's and creating dataframes"
   ]
  },
  {
   "cell_type": "code",
   "execution_count": 2,
   "metadata": {},
   "outputs": [],
   "source": [
    "lista_restaurantes = [\"japanese\",\n",
    "         \"burger\", \"vietnamese\", \"tapas\", \"korean\", \"greek\", \"vegan\",\n",
    "         \"french\", \"mexican\", \"asian\",  \"ramen\", \"argentino\", \"grill\", \"italian\",\n",
    "         \"thai\", \"mid eastern\",\n",
    "         \"indian\", \"pizza\", \"healthy\", \"vegetarian\",\"seafood\", \"gluten free\", \"pet friendly restaurant\"]"
   ]
  },
  {
   "cell_type": "code",
   "execution_count": 3,
   "metadata": {},
   "outputs": [],
   "source": [
    "lista_snacks = [\"cake\", \"cupcakes\", \"coffee\", \"sweets\", \"ice cream\", \"juices\", \"brunch\"]"
   ]
  },
  {
   "cell_type": "code",
   "execution_count": 4,
   "metadata": {},
   "outputs": [],
   "source": [
    "lista_party = [\"club\", \"pub\", \"dancing\", \"salsa club\", \"samba club\", \"karaoke\"]"
   ]
  },
  {
   "cell_type": "code",
   "execution_count": 5,
   "metadata": {},
   "outputs": [],
   "source": [
    "lista_alcohol = [ \"brewery\", \"rooftop\", \"cocktail\", \n",
    "         \"sports bar\",\n",
    "         \"wine\", \"cata de vino\"]"
   ]
  },
  {
   "cell_type": "code",
   "execution_count": 6,
   "metadata": {},
   "outputs": [],
   "source": [
    "lista_cultura = [\"cinema\", \"museum\", \"theater\",\n",
    "         \"jazz\", \"autocine\", \"piano bar\"]"
   ]
  },
  {
   "cell_type": "code",
   "execution_count": 7,
   "metadata": {},
   "outputs": [],
   "source": [
    "lista_outdoors = [\"park\", \"zoo\", \"pista padel\", \"pista tenis\", \"campo de futbol\", \n",
    "         \"paintball\", \"multiaventura\", \"cancha baloncesto\",  \"senderismo\", \"golf\",\n",
    "                 \"water park\"]"
   ]
  },
  {
   "cell_type": "code",
   "execution_count": 8,
   "metadata": {},
   "outputs": [],
   "source": [
    "lista_otros =[\"bowling\", \"spa\", \"escape room\", \"pista de hielo\", \"karts\", \"laser tag\", \n",
    "              \"tunel de viento\", \"teleferico\", \"escalada\"]"
   ]
  },
  {
   "cell_type": "code",
   "execution_count": 9,
   "metadata": {},
   "outputs": [],
   "source": [
    "df_restaurants = c.create_subdata(lista_restaurantes)\n",
    "df_snacks = c.create_subdata(lista_snacks)\n",
    "df_party = c.create_subdata(lista_party)\n",
    "df_alcohol = c.create_subdata(lista_alcohol)\n",
    "df_culture = c.create_subdata(lista_cultura)\n",
    "df_outdoors = c.create_subdata(lista_outdoors)\n",
    "df_others = c.create_subdata(lista_otros)"
   ]
  },
  {
   "cell_type": "markdown",
   "metadata": {},
   "source": [
    "## Cleaning 🧽🛁"
   ]
  },
  {
   "cell_type": "markdown",
   "metadata": {},
   "source": [
    "#### Cleaning column address"
   ]
  },
  {
   "cell_type": "code",
   "execution_count": 10,
   "metadata": {},
   "outputs": [],
   "source": [
    "df_restaurants = c.address(df_restaurants)\n",
    "df_snacks = c.address(df_snacks)\n",
    "df_party = c.address(df_party)\n",
    "df_alcohol = c.address(df_alcohol)\n",
    "df_culture = c.address(df_culture)\n",
    "df_outdoors = c.address(df_outdoors)\n",
    "df_others = c.address(df_others)"
   ]
  },
  {
   "cell_type": "markdown",
   "metadata": {},
   "source": [
    "#### Columns with latitude and longitude 🗺"
   ]
  },
  {
   "cell_type": "code",
   "execution_count": 11,
   "metadata": {},
   "outputs": [],
   "source": [
    "df_restaurants = c.latlon(df_restaurants)\n",
    "df_snacks = c.latlon(df_snacks)\n",
    "df_party = c.latlon(df_party)\n",
    "df_alcohol = c.latlon(df_alcohol)\n",
    "df_culture = c.latlon(df_culture)\n",
    "df_outdoors = c.latlon(df_outdoors)\n",
    "df_others = c.latlon(df_others)"
   ]
  },
  {
   "cell_type": "markdown",
   "metadata": {},
   "source": [
    "#### Dropping some useless columns"
   ]
  },
  {
   "cell_type": "code",
   "execution_count": 12,
   "metadata": {},
   "outputs": [],
   "source": [
    "df_outdoors = c.drop_row(df_outdoors,\"park\")\n",
    "df_outdoors = c.drop_row(df_outdoors,\"zoo\")\n",
    "df_others = c.drop_row(df_others, \"tlf\")\n",
    "df_others = c.drop_row(df_others, \"laser\")"
   ]
  },
  {
   "cell_type": "markdown",
   "metadata": {},
   "source": [
    "#### Changing some place's name"
   ]
  },
  {
   "cell_type": "code",
   "execution_count": 13,
   "metadata": {},
   "outputs": [],
   "source": [
    "cambio = {\"pista de hielo\" : \"skating\",\n",
    "          \"bowling\" : \"bowling\",\n",
    "          \"escape room\" : \"escape room\",\n",
    "          \"spa\" : \"spa\",\n",
    "          \"karts\" : \"karts\",\n",
    "          \"laser tag\" : \"laser tag\",\n",
    "          \"teleferico\" : \"cableway\",\n",
    "          \"tunel de viento\" : \"wind tunnel\",\n",
    "          \"escalada\" : \"climbing\"\n",
    "}"
   ]
  },
  {
   "cell_type": "code",
   "execution_count": 14,
   "metadata": {},
   "outputs": [],
   "source": [
    "df_others.place = df_others.place.map(cambio)"
   ]
  },
  {
   "cell_type": "markdown",
   "metadata": {},
   "source": [
    "#### Evaluating price level 💸"
   ]
  },
  {
   "cell_type": "markdown",
   "metadata": {},
   "source": [
    "**Price Level**      \n",
    "0 — Free    \n",
    "1 — Inexpensive (0-15)   \n",
    "2 — Moderate (15-25)       \n",
    "3 — Expensive (25-50)     \n",
    "4 — Very Expensive (<50)"
   ]
  },
  {
   "cell_type": "code",
   "execution_count": 15,
   "metadata": {},
   "outputs": [],
   "source": [
    "df_snacks['price_level'] = c.fill_nulls(df_snacks)\n",
    "df_restaurants['price_level'] = c.fill_nulls(df_restaurants)\n",
    "df_party['price_level'] = c.fill_nulls(df_party)\n",
    "df_alcohol['price_level'] = c.fill_nulls(df_alcohol)\n",
    "df_culture['price_level'] = c.fill_nulls(df_culture)"
   ]
  },
  {
   "cell_type": "code",
   "execution_count": 16,
   "metadata": {},
   "outputs": [],
   "source": [
    "outdoors_price = {\"zoo\" : 2.0,\n",
    " \"park\" : 0.0, \n",
    " \"pista padel\" : 1.0, \n",
    " \"pista tenis\": 1.0,\n",
    " \"senderismo\": 0.0,\n",
    " \"campo de futbol\": 1.0,\n",
    " \"cancha baloncesto\": 1.0,\n",
    " \"paintball\": 2.0,\n",
    " \"multiaventura\": 2.0,\n",
    " \"golf\" : 1.0,\n",
    " \"water park\" : 3.0,\n",
    "    }"
   ]
  },
  {
   "cell_type": "code",
   "execution_count": 17,
   "metadata": {},
   "outputs": [],
   "source": [
    "culture_price = {\n",
    "    'cinema' : 1.0,\n",
    "    'museum': 2.0, \n",
    "    'theater': 2.0,\n",
    "     'autocine' : 1.0\n",
    "}"
   ]
  },
  {
   "cell_type": "code",
   "execution_count": 18,
   "metadata": {},
   "outputs": [],
   "source": [
    "others_price = {'bowling' : 1.0, \n",
    "                'spa': 3.0, \n",
    "                'escape room' : 2.0, \n",
    "                'pista de hielo': 2.0,\n",
    "                'karts' : 3.0,\n",
    "                'laser tag': 3.0, \n",
    "                'tunel de viento' : 4.0, \n",
    "                'teleferico' : 1.0,\n",
    "                'escalada' : 1.0\n",
    "               }"
   ]
  },
  {
   "cell_type": "code",
   "execution_count": 19,
   "metadata": {},
   "outputs": [],
   "source": [
    "df_outdoors['price_level'] = df_outdoors.price_level.fillna(df_outdoors.place.map(outdoors_price))\n",
    "df_culture['price_level'] = df_culture.price_level.fillna(df_culture.place.map(culture_price))\n",
    "df_others['price_level'] = df_others.price_level.fillna(df_others.place.map(others_price))"
   ]
  },
  {
   "cell_type": "code",
   "execution_count": 21,
   "metadata": {},
   "outputs": [],
   "source": [
    "df_restaurants[\"price\"] = df_restaurants.price_level.apply(c.pricing)\n",
    "df_snacks[\"price\"] = df_snacks.price_level.apply(c.pricing)\n",
    "df_party[\"price\"] = df_party.price_level.apply(c.pricing)\n",
    "df_alcohol[\"price\"] = df_alcohol.price_level.apply(c.pricing)\n",
    "df_culture[\"price\"] = df_culture.price_level.apply(c.pricing)\n",
    "df_outdoors[\"price\"] = df_outdoors.price_level.apply(c.pricing)\n",
    "df_others[\"price\"] = df_others.price_level.apply(c.pricing)"
   ]
  },
  {
   "cell_type": "markdown",
   "metadata": {},
   "source": [
    "## Exporting"
   ]
  },
  {
   "cell_type": "code",
   "execution_count": 22,
   "metadata": {},
   "outputs": [],
   "source": [
    "df_restaurants.to_json(\"json/restaurants\", orient=\"records\")\n",
    "df_snacks.to_json(\"json/snacks\", orient=\"records\")\n",
    "df_culture.to_json(\"json/culture\", orient=\"records\")\n",
    "df_party.to_json(\"json/party\", orient=\"records\")\n",
    "df_alcohol.to_json(\"json/alcohol\", orient=\"records\")\n",
    "df_outdoors.to_json(\"json/outdoors\", orient=\"records\")\n",
    "df_others.to_json(\"json/others\", orient=\"records\")"
   ]
  },
  {
   "cell_type": "code",
   "execution_count": 23,
   "metadata": {},
   "outputs": [],
   "source": [
    "df_restaurants.to_csv(\"data/restaurants.csv\")\n",
    "df_snacks.to_csv(\"data/snacks.csv\")\n",
    "df_culture.to_csv(\"data/culture.csv\")\n",
    "df_party.to_csv(\"data/party.csv\")\n",
    "df_alcohol.to_csv(\"data/drinks.csv\")\n",
    "df_outdoors.to_csv(\"data/outdoors.csv\")\n",
    "df_others.to_csv(\"data/leisure.csv\")"
   ]
  },
  {
   "cell_type": "code",
   "execution_count": 24,
   "metadata": {},
   "outputs": [
    {
     "data": {
      "text/html": [
       "<div>\n",
       "<style scoped>\n",
       "    .dataframe tbody tr th:only-of-type {\n",
       "        vertical-align: middle;\n",
       "    }\n",
       "\n",
       "    .dataframe tbody tr th {\n",
       "        vertical-align: top;\n",
       "    }\n",
       "\n",
       "    .dataframe thead th {\n",
       "        text-align: right;\n",
       "    }\n",
       "</style>\n",
       "<table border=\"1\" class=\"dataframe\">\n",
       "  <thead>\n",
       "    <tr style=\"text-align: right;\">\n",
       "      <th></th>\n",
       "      <th>name</th>\n",
       "      <th>rating</th>\n",
       "      <th>address</th>\n",
       "      <th>price_level</th>\n",
       "      <th>place</th>\n",
       "      <th>CP</th>\n",
       "      <th>latitude</th>\n",
       "      <th>longitude</th>\n",
       "      <th>geometry</th>\n",
       "      <th>price</th>\n",
       "    </tr>\n",
       "  </thead>\n",
       "  <tbody>\n",
       "    <tr>\n",
       "      <th>197</th>\n",
       "      <td>Parche</td>\n",
       "      <td>4.1</td>\n",
       "      <td>Cl. de Ayala, 120, 28006 Madrid, Spain</td>\n",
       "      <td>2.0</td>\n",
       "      <td>salsa club</td>\n",
       "      <td>28006</td>\n",
       "      <td>40.427173</td>\n",
       "      <td>-3.673381</td>\n",
       "      <td>{'type': 'Point', 'coordinates': [-3.6733813, ...</td>\n",
       "      <td>15-25€</td>\n",
       "    </tr>\n",
       "    <tr>\n",
       "      <th>234</th>\n",
       "      <td>Premiumdance | Clases de salsa y bachata</td>\n",
       "      <td>5.0</td>\n",
       "      <td>Pl. de Manuel Becerra, 28028 Madrid, Spain</td>\n",
       "      <td>2.0</td>\n",
       "      <td>salsa club</td>\n",
       "      <td>28028</td>\n",
       "      <td>40.427758</td>\n",
       "      <td>-3.668728</td>\n",
       "      <td>{'type': 'Point', 'coordinates': [-3.6687284, ...</td>\n",
       "      <td>15-25€</td>\n",
       "    </tr>\n",
       "    <tr>\n",
       "      <th>336</th>\n",
       "      <td>Quinn's</td>\n",
       "      <td>3.7</td>\n",
       "      <td>Calle de Maqueda, 138, 28024 Madrid, Spain</td>\n",
       "      <td>1.0</td>\n",
       "      <td>karaoke</td>\n",
       "      <td>28024</td>\n",
       "      <td>40.387542</td>\n",
       "      <td>-3.761876</td>\n",
       "      <td>{'type': 'Point', 'coordinates': [-3.7618759, ...</td>\n",
       "      <td>1-15€</td>\n",
       "    </tr>\n",
       "    <tr>\n",
       "      <th>28</th>\n",
       "      <td>Club Discoteca Paradiso</td>\n",
       "      <td>3.8</td>\n",
       "      <td>Calle de la Flor Baja, 6, 28013 Madrid, Spain</td>\n",
       "      <td>2.0</td>\n",
       "      <td>club</td>\n",
       "      <td>28013</td>\n",
       "      <td>40.422413</td>\n",
       "      <td>-3.710123</td>\n",
       "      <td>{'type': 'Point', 'coordinates': [-3.7101235, ...</td>\n",
       "      <td>15-25€</td>\n",
       "    </tr>\n",
       "    <tr>\n",
       "      <th>153</th>\n",
       "      <td>La Forja Dance Academy</td>\n",
       "      <td>5.0</td>\n",
       "      <td>Calle de la Duquesa de Tamames, 7, 28044 Madri...</td>\n",
       "      <td>2.0</td>\n",
       "      <td>dancing</td>\n",
       "      <td>28044</td>\n",
       "      <td>40.372790</td>\n",
       "      <td>-3.749722</td>\n",
       "      <td>{'type': 'Point', 'coordinates': [-3.7497215, ...</td>\n",
       "      <td>15-25€</td>\n",
       "    </tr>\n",
       "    <tr>\n",
       "      <th>271</th>\n",
       "      <td>RIO SAMBA SHOW</td>\n",
       "      <td>0.0</td>\n",
       "      <td>Calle Fuente Cisneros, 68, 28922 Alcorcón, Mad...</td>\n",
       "      <td>2.0</td>\n",
       "      <td>samba club</td>\n",
       "      <td>28922</td>\n",
       "      <td>40.338026</td>\n",
       "      <td>-3.855840</td>\n",
       "      <td>{'type': 'Point', 'coordinates': [-3.8558399, ...</td>\n",
       "      <td>15-25€</td>\n",
       "    </tr>\n",
       "    <tr>\n",
       "      <th>165</th>\n",
       "      <td>Centro de Danza y Arte de Madrid (CDAM)</td>\n",
       "      <td>4.7</td>\n",
       "      <td>Calle de los Misterios, 8, 28027 Madrid, Spain</td>\n",
       "      <td>2.0</td>\n",
       "      <td>dancing</td>\n",
       "      <td>28027</td>\n",
       "      <td>40.438959</td>\n",
       "      <td>-3.639692</td>\n",
       "      <td>{'type': 'Point', 'coordinates': [-3.6396922, ...</td>\n",
       "      <td>15-25€</td>\n",
       "    </tr>\n",
       "    <tr>\n",
       "      <th>203</th>\n",
       "      <td>ABAILARMADRID - Dance, friends and fun</td>\n",
       "      <td>4.9</td>\n",
       "      <td>Calle Azcona, 44 (puerta de la izquierda), 1ª ...</td>\n",
       "      <td>2.0</td>\n",
       "      <td>salsa club</td>\n",
       "      <td>28028</td>\n",
       "      <td>40.434528</td>\n",
       "      <td>-3.668752</td>\n",
       "      <td>{'type': 'Point', 'coordinates': [-3.6687524, ...</td>\n",
       "      <td>15-25€</td>\n",
       "    </tr>\n",
       "    <tr>\n",
       "      <th>327</th>\n",
       "      <td>Bar Karaoke El Punto</td>\n",
       "      <td>3.9</td>\n",
       "      <td>Calle Picos de Europa, 32, 28038 Madrid, Spain</td>\n",
       "      <td>1.0</td>\n",
       "      <td>karaoke</td>\n",
       "      <td>28038</td>\n",
       "      <td>40.394997</td>\n",
       "      <td>-3.660683</td>\n",
       "      <td>{'type': 'Point', 'coordinates': [-3.6606826, ...</td>\n",
       "      <td>1-15€</td>\n",
       "    </tr>\n",
       "    <tr>\n",
       "      <th>341</th>\n",
       "      <td>YOVA'S PUB</td>\n",
       "      <td>4.5</td>\n",
       "      <td>Calle de Galileo, 74, 28015 Madrid, Spain</td>\n",
       "      <td>1.0</td>\n",
       "      <td>karaoke</td>\n",
       "      <td>28015</td>\n",
       "      <td>40.436468</td>\n",
       "      <td>-3.709984</td>\n",
       "      <td>{'type': 'Point', 'coordinates': [-3.7099838, ...</td>\n",
       "      <td>1-15€</td>\n",
       "    </tr>\n",
       "    <tr>\n",
       "      <th>124</th>\n",
       "      <td>Madrid Salsa Club</td>\n",
       "      <td>1.0</td>\n",
       "      <td>Calle de Santa Isabel, 9, 28012 Madrid, Spain</td>\n",
       "      <td>2.0</td>\n",
       "      <td>dancing</td>\n",
       "      <td>28012</td>\n",
       "      <td>40.411026</td>\n",
       "      <td>-3.698367</td>\n",
       "      <td>{'type': 'Point', 'coordinates': [-3.6983671, ...</td>\n",
       "      <td>15-25€</td>\n",
       "    </tr>\n",
       "    <tr>\n",
       "      <th>296</th>\n",
       "      <td>Karaoke Kapikas</td>\n",
       "      <td>3.8</td>\n",
       "      <td>28020 Calle José Castán Tobeñas, Plaza Castill...</td>\n",
       "      <td>2.0</td>\n",
       "      <td>karaoke</td>\n",
       "      <td>28020</td>\n",
       "      <td>40.464128</td>\n",
       "      <td>-3.692540</td>\n",
       "      <td>{'type': 'Point', 'coordinates': [-3.6925399, ...</td>\n",
       "      <td>15-25€</td>\n",
       "    </tr>\n",
       "    <tr>\n",
       "      <th>198</th>\n",
       "      <td>MAGANGUE DISCOTECA</td>\n",
       "      <td>4.2</td>\n",
       "      <td>Calle de Maqueda, 30, 28024 Madrid, Spain</td>\n",
       "      <td>2.0</td>\n",
       "      <td>salsa club</td>\n",
       "      <td>28024</td>\n",
       "      <td>40.393602</td>\n",
       "      <td>-3.765618</td>\n",
       "      <td>{'type': 'Point', 'coordinates': [-3.765618, 4...</td>\n",
       "      <td>15-25€</td>\n",
       "    </tr>\n",
       "    <tr>\n",
       "      <th>212</th>\n",
       "      <td>Sala Morocco</td>\n",
       "      <td>3.8</td>\n",
       "      <td>Calle del Marqués de Leganés, 7, 28004 Madrid,...</td>\n",
       "      <td>2.0</td>\n",
       "      <td>salsa club</td>\n",
       "      <td>28004</td>\n",
       "      <td>40.422116</td>\n",
       "      <td>-3.707419</td>\n",
       "      <td>{'type': 'Point', 'coordinates': [-3.707419, 4...</td>\n",
       "      <td>15-25€</td>\n",
       "    </tr>\n",
       "    <tr>\n",
       "      <th>238</th>\n",
       "      <td>Golden Gran Vía</td>\n",
       "      <td>3.7</td>\n",
       "      <td>C/ Gran Vía, n 54, 28013 Madrid, Spain</td>\n",
       "      <td>1.0</td>\n",
       "      <td>salsa club</td>\n",
       "      <td>28013</td>\n",
       "      <td>40.421389</td>\n",
       "      <td>-3.707222</td>\n",
       "      <td>{'type': 'Point', 'coordinates': [-3.7072222, ...</td>\n",
       "      <td>1-15€</td>\n",
       "    </tr>\n",
       "  </tbody>\n",
       "</table>\n",
       "</div>"
      ],
      "text/plain": [
       "                                         name  rating  \\\n",
       "197                                    Parche     4.1   \n",
       "234  Premiumdance | Clases de salsa y bachata     5.0   \n",
       "336                                   Quinn's     3.7   \n",
       "28                    Club Discoteca Paradiso     3.8   \n",
       "153                    La Forja Dance Academy     5.0   \n",
       "271                            RIO SAMBA SHOW     0.0   \n",
       "165   Centro de Danza y Arte de Madrid (CDAM)     4.7   \n",
       "203    ABAILARMADRID - Dance, friends and fun     4.9   \n",
       "327                      Bar Karaoke El Punto     3.9   \n",
       "341                                YOVA'S PUB     4.5   \n",
       "124                         Madrid Salsa Club     1.0   \n",
       "296                           Karaoke Kapikas     3.8   \n",
       "198                        MAGANGUE DISCOTECA     4.2   \n",
       "212                              Sala Morocco     3.8   \n",
       "238                           Golden Gran Vía     3.7   \n",
       "\n",
       "                                               address  price_level  \\\n",
       "197             Cl. de Ayala, 120, 28006 Madrid, Spain          2.0   \n",
       "234         Pl. de Manuel Becerra, 28028 Madrid, Spain          2.0   \n",
       "336         Calle de Maqueda, 138, 28024 Madrid, Spain          1.0   \n",
       "28       Calle de la Flor Baja, 6, 28013 Madrid, Spain          2.0   \n",
       "153  Calle de la Duquesa de Tamames, 7, 28044 Madri...          2.0   \n",
       "271  Calle Fuente Cisneros, 68, 28922 Alcorcón, Mad...          2.0   \n",
       "165     Calle de los Misterios, 8, 28027 Madrid, Spain          2.0   \n",
       "203  Calle Azcona, 44 (puerta de la izquierda), 1ª ...          2.0   \n",
       "327     Calle Picos de Europa, 32, 28038 Madrid, Spain          1.0   \n",
       "341          Calle de Galileo, 74, 28015 Madrid, Spain          1.0   \n",
       "124      Calle de Santa Isabel, 9, 28012 Madrid, Spain          2.0   \n",
       "296  28020 Calle José Castán Tobeñas, Plaza Castill...          2.0   \n",
       "198          Calle de Maqueda, 30, 28024 Madrid, Spain          2.0   \n",
       "212  Calle del Marqués de Leganés, 7, 28004 Madrid,...          2.0   \n",
       "238             C/ Gran Vía, n 54, 28013 Madrid, Spain          1.0   \n",
       "\n",
       "          place     CP   latitude  longitude  \\\n",
       "197  salsa club  28006  40.427173  -3.673381   \n",
       "234  salsa club  28028  40.427758  -3.668728   \n",
       "336     karaoke  28024  40.387542  -3.761876   \n",
       "28         club  28013  40.422413  -3.710123   \n",
       "153     dancing  28044  40.372790  -3.749722   \n",
       "271  samba club  28922  40.338026  -3.855840   \n",
       "165     dancing  28027  40.438959  -3.639692   \n",
       "203  salsa club  28028  40.434528  -3.668752   \n",
       "327     karaoke  28038  40.394997  -3.660683   \n",
       "341     karaoke  28015  40.436468  -3.709984   \n",
       "124     dancing  28012  40.411026  -3.698367   \n",
       "296     karaoke  28020  40.464128  -3.692540   \n",
       "198  salsa club  28024  40.393602  -3.765618   \n",
       "212  salsa club  28004  40.422116  -3.707419   \n",
       "238  salsa club  28013  40.421389  -3.707222   \n",
       "\n",
       "                                              geometry   price  \n",
       "197  {'type': 'Point', 'coordinates': [-3.6733813, ...  15-25€  \n",
       "234  {'type': 'Point', 'coordinates': [-3.6687284, ...  15-25€  \n",
       "336  {'type': 'Point', 'coordinates': [-3.7618759, ...   1-15€  \n",
       "28   {'type': 'Point', 'coordinates': [-3.7101235, ...  15-25€  \n",
       "153  {'type': 'Point', 'coordinates': [-3.7497215, ...  15-25€  \n",
       "271  {'type': 'Point', 'coordinates': [-3.8558399, ...  15-25€  \n",
       "165  {'type': 'Point', 'coordinates': [-3.6396922, ...  15-25€  \n",
       "203  {'type': 'Point', 'coordinates': [-3.6687524, ...  15-25€  \n",
       "327  {'type': 'Point', 'coordinates': [-3.6606826, ...   1-15€  \n",
       "341  {'type': 'Point', 'coordinates': [-3.7099838, ...   1-15€  \n",
       "124  {'type': 'Point', 'coordinates': [-3.6983671, ...  15-25€  \n",
       "296  {'type': 'Point', 'coordinates': [-3.6925399, ...  15-25€  \n",
       "198  {'type': 'Point', 'coordinates': [-3.765618, 4...  15-25€  \n",
       "212  {'type': 'Point', 'coordinates': [-3.707419, 4...  15-25€  \n",
       "238  {'type': 'Point', 'coordinates': [-3.7072222, ...   1-15€  "
      ]
     },
     "execution_count": 24,
     "metadata": {},
     "output_type": "execute_result"
    }
   ],
   "source": [
    "df_party.sample(15)"
   ]
  },
  {
   "cell_type": "code",
   "execution_count": null,
   "metadata": {},
   "outputs": [],
   "source": []
  },
  {
   "cell_type": "code",
   "execution_count": null,
   "metadata": {},
   "outputs": [],
   "source": []
  },
  {
   "cell_type": "code",
   "execution_count": null,
   "metadata": {},
   "outputs": [],
   "source": []
  }
 ],
 "metadata": {
  "kernelspec": {
   "display_name": "plan",
   "language": "python",
   "name": "plan"
  },
  "language_info": {
   "codemirror_mode": {
    "name": "ipython",
    "version": 3
   },
   "file_extension": ".py",
   "mimetype": "text/x-python",
   "name": "python",
   "nbconvert_exporter": "python",
   "pygments_lexer": "ipython3",
   "version": "3.8.8"
  }
 },
 "nbformat": 4,
 "nbformat_minor": 4
}
