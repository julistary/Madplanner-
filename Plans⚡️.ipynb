{
 "cells": [
  {
   "cell_type": "markdown",
   "metadata": {},
   "source": [
    "# Plans in Madrid 📍"
   ]
  },
  {
   "cell_type": "markdown",
   "metadata": {},
   "source": [
    "<img width=400 src=\"https://i.gifer.com/MPEr.gif\">"
   ]
  },
  {
   "cell_type": "markdown",
   "metadata": {},
   "source": [
    "## Libraries 📚"
   ]
  },
  {
   "cell_type": "code",
   "execution_count": 1,
   "metadata": {},
   "outputs": [],
   "source": [
    "import pandas as pd\n",
    "import numpy as np\n",
    "import src.cleaning as c"
   ]
  },
  {
   "cell_type": "markdown",
   "metadata": {},
   "source": [
    "## Importing CSV's and creating dataframes"
   ]
  },
  {
   "cell_type": "code",
   "execution_count": 2,
   "metadata": {},
   "outputs": [],
   "source": [
    "lista_restaurantes = [\"japanese\",\n",
    "         \"burger\", \"vietnamese\", \"tapas\", \"korean\", \"brewery\", \"greek\", \"vegan\",\n",
    "         \"french\", \"mexican\", \"asian\",  \"ramen\", \"argentino\", \"grill\", \"italian\",\n",
    "         \"thai\", \"mid eastern\",\n",
    "         \"indian\", \"pizza\", \"healthy\", \"vegetarian\",\"seafood\", \"gluten free\" ]"
   ]
  },
  {
   "cell_type": "code",
   "execution_count": 3,
   "metadata": {},
   "outputs": [],
   "source": [
    "lista_snacks = [\"cake\", \"cupcakes\", \"coffee\", \"sweets\", \"ice cream\", \"juices\", \"brunch\"]"
   ]
  },
  {
   "cell_type": "code",
   "execution_count": 4,
   "metadata": {},
   "outputs": [],
   "source": [
    "lista_party = [\"club\", \"pub\", \"nightlife\", \"dancing\", \"discoteca\"]"
   ]
  },
  {
   "cell_type": "code",
   "execution_count": 5,
   "metadata": {},
   "outputs": [],
   "source": [
    "lista_alcohol = [ \"brewery\", \"rooftop\", \"cocktail\", \n",
    "         \"sports bar\", \"drinks\",\n",
    "         \"wine\", \"cata de vino\" ]"
   ]
  },
  {
   "cell_type": "code",
   "execution_count": 6,
   "metadata": {},
   "outputs": [],
   "source": [
    "lista_cultura = [\"cinema\", \"museum\", \"theater\",\n",
    "         \"jazz\", \"karaoke\", \"autocine\"]"
   ]
  },
  {
   "cell_type": "code",
   "execution_count": 7,
   "metadata": {},
   "outputs": [],
   "source": [
    "lista_outdoors = [\"park\", \"zoo\", \"pista padel\", \"pista tenis\", \"campo de futbol\", \n",
    "         \"paintball\", \"multiaventura\", \"cancha baloncesto\",  \"senderismo\", \"golf\"]"
   ]
  },
  {
   "cell_type": "code",
   "execution_count": 8,
   "metadata": {},
   "outputs": [],
   "source": [
    "lista_otros =[\"bowling\", \"spa\", \"escape room\", \"pista de hielo\", \"karts\", \"laser tag\", \n",
    "              \"tunel de viento\", \"teleferico\", \"escalada\"]"
   ]
  },
  {
   "cell_type": "code",
   "execution_count": 9,
   "metadata": {},
   "outputs": [],
   "source": [
    "df_restaurants = c.create_subdata(lista_restaurantes)\n",
    "df_snacks = c.create_subdata(lista_snacks)\n",
    "df_party = c.create_subdata(lista_party)\n",
    "df_alcohol = c.create_subdata(lista_alcohol)\n",
    "df_culture = c.create_subdata(lista_cultura)\n",
    "df_outdoors = c.create_subdata(lista_outdoors)\n",
    "df_others = c.create_subdata(lista_otros)"
   ]
  },
  {
   "cell_type": "markdown",
   "metadata": {},
   "source": [
    "## Cleaning 🧽🛁"
   ]
  },
  {
   "cell_type": "markdown",
   "metadata": {},
   "source": [
    "#### Cleaning column address"
   ]
  },
  {
   "cell_type": "code",
   "execution_count": 10,
   "metadata": {},
   "outputs": [],
   "source": [
    "df_restaurants[\"address\"] = df_restaurants.address.apply(c.address_1)\n",
    "df_restaurants[\"CP\"] = df_restaurants.address.apply(c.CP)\n",
    "df_restaurants[\"address\"] = df_restaurants.address.apply(c.address_2)\n",
    "\n",
    "df_snacks[\"address\"] = df_snacks.address.apply(c.address_1)\n",
    "df_snacks[\"CP\"] = df_snacks.address.apply(c.CP)\n",
    "df_snacks[\"address\"] = df_snacks.address.apply(c.address_2)\n",
    "\n",
    "df_party[\"address\"] = df_party.address.apply(c.address_1)\n",
    "df_party[\"CP\"] = df_party.address.apply(c.CP)\n",
    "df_party[\"address\"] = df_party.address.apply(c.address_2)\n",
    "\n",
    "df_alcohol[\"address\"] = df_alcohol.address.apply(c.address_1)\n",
    "df_alcohol[\"CP\"] = df_alcohol.address.apply(c.CP)\n",
    "df_alcohol[\"address\"] = df_alcohol.address.apply(c.address_2)\n",
    "\n",
    "df_culture[\"address\"] = df_culture.address.apply(c.address_1)\n",
    "df_culture[\"CP\"] = df_culture.address.apply(c.CP)\n",
    "df_culture[\"address\"] = df_culture.address.apply(c.address_2)\n",
    "\n",
    "df_outdoors[\"address\"] = df_outdoors.address.apply(c.address_1)\n",
    "df_outdoors[\"CP\"] = df_outdoors.address.apply(c.CP)\n",
    "df_outdoors[\"address\"] = df_outdoors.address.apply(c.address_2)\n",
    "\n",
    "df_others[\"address\"] = df_others.address.apply(c.address_1)\n",
    "df_others[\"CP\"] = df_others.address.apply(c.CP)\n",
    "df_others[\"address\"] = df_others.address.apply(c.address_2)"
   ]
  },
  {
   "cell_type": "markdown",
   "metadata": {},
   "source": [
    "#### Columns with latitude and longitude 🗺"
   ]
  },
  {
   "cell_type": "code",
   "execution_count": 11,
   "metadata": {},
   "outputs": [],
   "source": [
    "df_restaurants = c.latlon(df_restaurants)\n",
    "df_snacks = c.latlon(df_snacks)\n",
    "df_party = c.latlon(df_party)\n",
    "df_alcohol = c.latlon(df_alcohol)\n",
    "df_culture = c.latlon(df_culture)\n",
    "df_outdoors = c.latlon(df_outdoors)\n",
    "df_others = c.latlon(df_others)"
   ]
  },
  {
   "cell_type": "markdown",
   "metadata": {},
   "source": [
    "#### Evaluating price level 💸"
   ]
  },
  {
   "cell_type": "markdown",
   "metadata": {},
   "source": [
    "**Price Level**      \n",
    "0 — Free    \n",
    "1 — Inexpensive (0-10)   \n",
    "2 — Moderate (10-25)       \n",
    "3 — Expensive (25-50)     \n",
    "4 — Very Expensive (<50)"
   ]
  },
  {
   "cell_type": "code",
   "execution_count": 12,
   "metadata": {},
   "outputs": [],
   "source": [
    "df_snacks['price_level'] = c.fill_nulls(df_snacks)\n",
    "df_restaurants['price_level'] = c.fill_nulls(df_restaurants)\n",
    "df_party['price_level'] = c.fill_nulls(df_party)\n",
    "df_alcohol['price_level'] = c.fill_nulls(df_alcohol)\n",
    "df_culture['price_level'] = c.fill_nulls(df_culture)"
   ]
  },
  {
   "cell_type": "code",
   "execution_count": 13,
   "metadata": {},
   "outputs": [
    {
     "data": {
      "text/plain": [
       "array(['bowling', 'spa', 'escape room', 'pista de hielo', 'karts',\n",
       "       'laser tag', 'tunel de viento', 'teleferico', 'escalada'],\n",
       "      dtype=object)"
      ]
     },
     "execution_count": 13,
     "metadata": {},
     "output_type": "execute_result"
    }
   ],
   "source": [
    "df_others.place.unique()"
   ]
  },
  {
   "cell_type": "code",
   "execution_count": 14,
   "metadata": {},
   "outputs": [],
   "source": [
    "outdoors_price = {\"zoo\" : 2.0,\n",
    " \"park\" : 0.0, \n",
    " \"pista padel\" : 1.0, \n",
    " \"pista tenis\": 1.0,\n",
    " \"senderismo\": 0.0,\n",
    " \"campo de futbol\": 1.0,\n",
    " \"cancha baloncesto\": 1.0,\n",
    " \"paintball\": 2.0,\n",
    " \"multiaventura\": 2.0,\n",
    " \"golf\" : 1.0\n",
    "    }"
   ]
  },
  {
   "cell_type": "code",
   "execution_count": 15,
   "metadata": {},
   "outputs": [],
   "source": [
    "culture_price = {\n",
    "    'cinema' : 1.0,\n",
    "    'museum': 2.0, \n",
    "    'theater': 2.0,\n",
    "     'autocine' : 1.0\n",
    "}"
   ]
  },
  {
   "cell_type": "code",
   "execution_count": 16,
   "metadata": {},
   "outputs": [],
   "source": [
    "others_price = {'bowling' : 1.0, \n",
    "                'spa': 3.0, \n",
    "                'escape room' : 2.0, \n",
    "                'pista de hielo': 2.0,\n",
    "                'karts' : 3.0,\n",
    "                'laser tag': 3.0, \n",
    "                'tunel de viento' : 4.0, \n",
    "                'teleferico' : 1.0,\n",
    "                'escalada' : 1.0\n",
    "               }"
   ]
  },
  {
   "cell_type": "code",
   "execution_count": 17,
   "metadata": {},
   "outputs": [],
   "source": [
    "df_outdoors['price_level'] = df_outdoors.price_level.fillna(df_outdoors.place.map(outdoors_price))\n",
    "df_culture['price_level'] = df_culture.price_level.fillna(df_culture.place.map(culture_price))\n",
    "df_others['price_level'] = df_others.price_level.fillna(df_others.place.map(others_price))"
   ]
  },
  {
   "cell_type": "code",
   "execution_count": 18,
   "metadata": {},
   "outputs": [
    {
     "data": {
      "text/plain": [
       "name            object\n",
       "rating         float64\n",
       "address         object\n",
       "price_level    float64\n",
       "place           object\n",
       "CP              object\n",
       "latitude       float64\n",
       "longitude      float64\n",
       "geometry        object\n",
       "dtype: object"
      ]
     },
     "execution_count": 18,
     "metadata": {},
     "output_type": "execute_result"
    }
   ],
   "source": [
    "df_others.dtypes"
   ]
  },
  {
   "cell_type": "markdown",
   "metadata": {},
   "source": [
    "#### NO ME SALE 🥲"
   ]
  },
  {
   "cell_type": "code",
   "execution_count": 19,
   "metadata": {},
   "outputs": [
    {
     "data": {
      "text/html": [
       "<div>\n",
       "<style scoped>\n",
       "    .dataframe tbody tr th:only-of-type {\n",
       "        vertical-align: middle;\n",
       "    }\n",
       "\n",
       "    .dataframe tbody tr th {\n",
       "        vertical-align: top;\n",
       "    }\n",
       "\n",
       "    .dataframe thead th {\n",
       "        text-align: right;\n",
       "    }\n",
       "</style>\n",
       "<table border=\"1\" class=\"dataframe\">\n",
       "  <thead>\n",
       "    <tr style=\"text-align: right;\">\n",
       "      <th></th>\n",
       "      <th>name</th>\n",
       "      <th>rating</th>\n",
       "      <th>address</th>\n",
       "      <th>price_level</th>\n",
       "      <th>place</th>\n",
       "      <th>CP</th>\n",
       "      <th>latitude</th>\n",
       "      <th>longitude</th>\n",
       "      <th>geometry</th>\n",
       "    </tr>\n",
       "  </thead>\n",
       "  <tbody>\n",
       "    <tr>\n",
       "      <th>199</th>\n",
       "      <td>Teleférico en Rosales</td>\n",
       "      <td>3.7</td>\n",
       "      <td>Paseo del Pintor Rosales, s/n</td>\n",
       "      <td>1.0</td>\n",
       "      <td>teleferico</td>\n",
       "      <td>28008</td>\n",
       "      <td>40.427922</td>\n",
       "      <td>-3.721784</td>\n",
       "      <td>{'type': 'Point', 'coordinates': [40.427922, -...</td>\n",
       "    </tr>\n",
       "    <tr>\n",
       "      <th>200</th>\n",
       "      <td>Teleferico de Madrid - Country House Station</td>\n",
       "      <td>4.2</td>\n",
       "      <td>Casa de campo, Calle Cerro Garabita, s/n</td>\n",
       "      <td>1.0</td>\n",
       "      <td>teleferico</td>\n",
       "      <td>28011</td>\n",
       "      <td>40.419765</td>\n",
       "      <td>-3.748729</td>\n",
       "      <td>{'type': 'Point', 'coordinates': [40.419765, -...</td>\n",
       "    </tr>\n",
       "    <tr>\n",
       "      <th>201</th>\n",
       "      <td>Góra Ebbot</td>\n",
       "      <td>0.0</td>\n",
       "      <td></td>\n",
       "      <td>1.0</td>\n",
       "      <td>teleferico</td>\n",
       "      <td>28023</td>\n",
       "      <td>40.463667</td>\n",
       "      <td>-3.749220</td>\n",
       "      <td>{'type': 'Point', 'coordinates': [40.463667000...</td>\n",
       "    </tr>\n",
       "    <tr>\n",
       "      <th>202</th>\n",
       "      <td>Parque Teleferico Madrid</td>\n",
       "      <td>4.4</td>\n",
       "      <td>Camino del Robledal, 2</td>\n",
       "      <td>1.0</td>\n",
       "      <td>teleferico</td>\n",
       "      <td>28011</td>\n",
       "      <td>40.419806</td>\n",
       "      <td>-3.747821</td>\n",
       "      <td>{'type': 'Point', 'coordinates': [40.4198059, ...</td>\n",
       "    </tr>\n",
       "    <tr>\n",
       "      <th>203</th>\n",
       "      <td>Pintor Rosales - Teleférico</td>\n",
       "      <td>4.7</td>\n",
       "      <td></td>\n",
       "      <td>1.0</td>\n",
       "      <td>teleferico</td>\n",
       "      <td>28008</td>\n",
       "      <td>40.429410</td>\n",
       "      <td>-3.722280</td>\n",
       "      <td>{'type': 'Point', 'coordinates': [40.42941, -3...</td>\n",
       "    </tr>\n",
       "    <tr>\n",
       "      <th>204</th>\n",
       "      <td>Bar - Teleferico Casa de Campo</td>\n",
       "      <td>4.3</td>\n",
       "      <td>Estación Teleférico</td>\n",
       "      <td>1.0</td>\n",
       "      <td>teleferico</td>\n",
       "      <td>28011</td>\n",
       "      <td>40.419689</td>\n",
       "      <td>-3.748947</td>\n",
       "      <td>{'type': 'Point', 'coordinates': [40.419688699...</td>\n",
       "    </tr>\n",
       "  </tbody>\n",
       "</table>\n",
       "</div>"
      ],
      "text/plain": [
       "                                             name  rating  \\\n",
       "199                         Teleférico en Rosales     3.7   \n",
       "200  Teleferico de Madrid - Country House Station     4.2   \n",
       "201                                    Góra Ebbot     0.0   \n",
       "202                      Parque Teleferico Madrid     4.4   \n",
       "203                   Pintor Rosales - Teleférico     4.7   \n",
       "204                Bar - Teleferico Casa de Campo     4.3   \n",
       "\n",
       "                                      address  price_level       place     CP  \\\n",
       "199             Paseo del Pintor Rosales, s/n          1.0  teleferico  28008   \n",
       "200  Casa de campo, Calle Cerro Garabita, s/n          1.0  teleferico  28011   \n",
       "201                                                    1.0  teleferico  28023   \n",
       "202                    Camino del Robledal, 2          1.0  teleferico  28011   \n",
       "203                                                    1.0  teleferico  28008   \n",
       "204                       Estación Teleférico          1.0  teleferico  28011   \n",
       "\n",
       "      latitude  longitude                                           geometry  \n",
       "199  40.427922  -3.721784  {'type': 'Point', 'coordinates': [40.427922, -...  \n",
       "200  40.419765  -3.748729  {'type': 'Point', 'coordinates': [40.419765, -...  \n",
       "201  40.463667  -3.749220  {'type': 'Point', 'coordinates': [40.463667000...  \n",
       "202  40.419806  -3.747821  {'type': 'Point', 'coordinates': [40.4198059, ...  \n",
       "203  40.429410  -3.722280  {'type': 'Point', 'coordinates': [40.42941, -3...  \n",
       "204  40.419689  -3.748947  {'type': 'Point', 'coordinates': [40.419688699...  "
      ]
     },
     "execution_count": 19,
     "metadata": {},
     "output_type": "execute_result"
    }
   ],
   "source": [
    "df_others[df_others[\"place\"] == \"teleferico\"]"
   ]
  },
  {
   "cell_type": "code",
   "execution_count": 20,
   "metadata": {},
   "outputs": [
    {
     "data": {
      "text/html": [
       "<div>\n",
       "<style scoped>\n",
       "    .dataframe tbody tr th:only-of-type {\n",
       "        vertical-align: middle;\n",
       "    }\n",
       "\n",
       "    .dataframe tbody tr th {\n",
       "        vertical-align: top;\n",
       "    }\n",
       "\n",
       "    .dataframe thead th {\n",
       "        text-align: right;\n",
       "    }\n",
       "</style>\n",
       "<table border=\"1\" class=\"dataframe\">\n",
       "  <thead>\n",
       "    <tr style=\"text-align: right;\">\n",
       "      <th></th>\n",
       "      <th>name</th>\n",
       "      <th>rating</th>\n",
       "      <th>address</th>\n",
       "      <th>price_level</th>\n",
       "      <th>place</th>\n",
       "      <th>CP</th>\n",
       "      <th>latitude</th>\n",
       "      <th>longitude</th>\n",
       "      <th>geometry</th>\n",
       "    </tr>\n",
       "  </thead>\n",
       "  <tbody>\n",
       "    <tr>\n",
       "      <th>53</th>\n",
       "      <td>Zoo Aquarium de Madrid</td>\n",
       "      <td>4.3</td>\n",
       "      <td>Casa de Campo, s/n</td>\n",
       "      <td>2.0</td>\n",
       "      <td>zoo</td>\n",
       "      <td>28011</td>\n",
       "      <td>40.409123</td>\n",
       "      <td>-3.760959</td>\n",
       "      <td>{'type': 'Point', 'coordinates': [40.409122800...</td>\n",
       "    </tr>\n",
       "    <tr>\n",
       "      <th>54</th>\n",
       "      <td>Rinoceronte Indio</td>\n",
       "      <td>5.0</td>\n",
       "      <td></td>\n",
       "      <td>2.0</td>\n",
       "      <td>zoo</td>\n",
       "      <td>28011</td>\n",
       "      <td>40.410395</td>\n",
       "      <td>-3.762841</td>\n",
       "      <td>{'type': 'Point', 'coordinates': [40.4103946, ...</td>\n",
       "    </tr>\n",
       "    <tr>\n",
       "      <th>55</th>\n",
       "      <td>Oso Hormiguero</td>\n",
       "      <td>5.0</td>\n",
       "      <td>Casa de Campo, s/n</td>\n",
       "      <td>2.0</td>\n",
       "      <td>zoo</td>\n",
       "      <td>28011</td>\n",
       "      <td>40.409779</td>\n",
       "      <td>-3.764147</td>\n",
       "      <td>{'type': 'Point', 'coordinates': [40.4097789, ...</td>\n",
       "    </tr>\n",
       "    <tr>\n",
       "      <th>56</th>\n",
       "      <td>Suricata</td>\n",
       "      <td>5.0</td>\n",
       "      <td>Ctra. Zarzón, 6</td>\n",
       "      <td>2.0</td>\n",
       "      <td>zoo</td>\n",
       "      <td>28011</td>\n",
       "      <td>40.409590</td>\n",
       "      <td>-3.765020</td>\n",
       "      <td>{'type': 'Point', 'coordinates': [40.4095897, ...</td>\n",
       "    </tr>\n",
       "    <tr>\n",
       "      <th>57</th>\n",
       "      <td>Cigüeñas</td>\n",
       "      <td>5.0</td>\n",
       "      <td>Casa de Campo, s/n</td>\n",
       "      <td>2.0</td>\n",
       "      <td>zoo</td>\n",
       "      <td>28011</td>\n",
       "      <td>40.408426</td>\n",
       "      <td>-3.763446</td>\n",
       "      <td>{'type': 'Point', 'coordinates': [40.4084264, ...</td>\n",
       "    </tr>\n",
       "    <tr>\n",
       "      <th>58</th>\n",
       "      <td>Sea lions</td>\n",
       "      <td>4.2</td>\n",
       "      <td>Ctra. Zarzón, 6</td>\n",
       "      <td>2.0</td>\n",
       "      <td>zoo</td>\n",
       "      <td>28011</td>\n",
       "      <td>40.410597</td>\n",
       "      <td>-3.761906</td>\n",
       "      <td>{'type': 'Point', 'coordinates': [40.410597, -...</td>\n",
       "    </tr>\n",
       "    <tr>\n",
       "      <th>59</th>\n",
       "      <td>Yack</td>\n",
       "      <td>5.0</td>\n",
       "      <td>Unnamed Road,</td>\n",
       "      <td>2.0</td>\n",
       "      <td>zoo</td>\n",
       "      <td>8011,</td>\n",
       "      <td>40.409781</td>\n",
       "      <td>-3.766399</td>\n",
       "      <td>{'type': 'Point', 'coordinates': [40.4097814, ...</td>\n",
       "    </tr>\n",
       "    <tr>\n",
       "      <th>60</th>\n",
       "      <td>Faunia</td>\n",
       "      <td>4.1</td>\n",
       "      <td>Av. Comunidades, 28</td>\n",
       "      <td>2.0</td>\n",
       "      <td>zoo</td>\n",
       "      <td>28032</td>\n",
       "      <td>40.392039</td>\n",
       "      <td>-3.612441</td>\n",
       "      <td>{'type': 'Point', 'coordinates': [40.3920393, ...</td>\n",
       "    </tr>\n",
       "    <tr>\n",
       "      <th>61</th>\n",
       "      <td>Gorilas</td>\n",
       "      <td>4.4</td>\n",
       "      <td>Ctra. Zarzón, 6</td>\n",
       "      <td>2.0</td>\n",
       "      <td>zoo</td>\n",
       "      <td>28011</td>\n",
       "      <td>40.409408</td>\n",
       "      <td>-3.765531</td>\n",
       "      <td>{'type': 'Point', 'coordinates': [40.409408, -...</td>\n",
       "    </tr>\n",
       "    <tr>\n",
       "      <th>62</th>\n",
       "      <td>Koalas</td>\n",
       "      <td>5.0</td>\n",
       "      <td>Casa de Campo s/n</td>\n",
       "      <td>2.0</td>\n",
       "      <td>zoo</td>\n",
       "      <td>28011</td>\n",
       "      <td>40.408035</td>\n",
       "      <td>-3.763380</td>\n",
       "      <td>{'type': 'Point', 'coordinates': [40.4080351, ...</td>\n",
       "    </tr>\n",
       "    <tr>\n",
       "      <th>63</th>\n",
       "      <td>Espectáculos de aves</td>\n",
       "      <td>4.1</td>\n",
       "      <td>Ctra. Zarzón, 6</td>\n",
       "      <td>2.0</td>\n",
       "      <td>zoo</td>\n",
       "      <td>28011</td>\n",
       "      <td>40.408091</td>\n",
       "      <td>-3.765022</td>\n",
       "      <td>{'type': 'Point', 'coordinates': [40.4080912, ...</td>\n",
       "    </tr>\n",
       "    <tr>\n",
       "      <th>64</th>\n",
       "      <td>Estanque de los delfines</td>\n",
       "      <td>4.2</td>\n",
       "      <td>Ctra. Zarzón, 6</td>\n",
       "      <td>2.0</td>\n",
       "      <td>zoo</td>\n",
       "      <td>28011</td>\n",
       "      <td>40.407972</td>\n",
       "      <td>-3.765904</td>\n",
       "      <td>{'type': 'Point', 'coordinates': [40.4079717, ...</td>\n",
       "    </tr>\n",
       "    <tr>\n",
       "      <th>65</th>\n",
       "      <td>Elefantes</td>\n",
       "      <td>4.6</td>\n",
       "      <td>Casa de Campo</td>\n",
       "      <td>2.0</td>\n",
       "      <td>zoo</td>\n",
       "      <td>28011</td>\n",
       "      <td>40.409695</td>\n",
       "      <td>-3.763624</td>\n",
       "      <td>{'type': 'Point', 'coordinates': [40.4096954, ...</td>\n",
       "    </tr>\n",
       "    <tr>\n",
       "      <th>66</th>\n",
       "      <td>Pingüinos</td>\n",
       "      <td>5.0</td>\n",
       "      <td>Unnamed Road,</td>\n",
       "      <td>2.0</td>\n",
       "      <td>zoo</td>\n",
       "      <td>8011,</td>\n",
       "      <td>40.410479</td>\n",
       "      <td>-3.761544</td>\n",
       "      <td>{'type': 'Point', 'coordinates': [40.4104789, ...</td>\n",
       "    </tr>\n",
       "    <tr>\n",
       "      <th>67</th>\n",
       "      <td>Tigers</td>\n",
       "      <td>4.6</td>\n",
       "      <td>Ctra. Zarzón, 6</td>\n",
       "      <td>2.0</td>\n",
       "      <td>zoo</td>\n",
       "      <td>28011</td>\n",
       "      <td>40.410699</td>\n",
       "      <td>-3.764680</td>\n",
       "      <td>{'type': 'Point', 'coordinates': [40.4106989, ...</td>\n",
       "    </tr>\n",
       "    <tr>\n",
       "      <th>68</th>\n",
       "      <td>Rinoceronte</td>\n",
       "      <td>4.6</td>\n",
       "      <td>Casa de Campo</td>\n",
       "      <td>2.0</td>\n",
       "      <td>zoo</td>\n",
       "      <td>28011</td>\n",
       "      <td>40.409089</td>\n",
       "      <td>-3.766549</td>\n",
       "      <td>{'type': 'Point', 'coordinates': [40.4090885, ...</td>\n",
       "    </tr>\n",
       "    <tr>\n",
       "      <th>69</th>\n",
       "      <td>Mariposas - El Jardín del Edén</td>\n",
       "      <td>4.3</td>\n",
       "      <td>Av. Comunidades, 22</td>\n",
       "      <td>2.0</td>\n",
       "      <td>zoo</td>\n",
       "      <td>28032</td>\n",
       "      <td>40.391114</td>\n",
       "      <td>-3.612885</td>\n",
       "      <td>{'type': 'Point', 'coordinates': [40.3911137, ...</td>\n",
       "    </tr>\n",
       "    <tr>\n",
       "      <th>70</th>\n",
       "      <td>Lemures</td>\n",
       "      <td>3.6</td>\n",
       "      <td>Casa de Campo</td>\n",
       "      <td>2.0</td>\n",
       "      <td>zoo</td>\n",
       "      <td>28011</td>\n",
       "      <td>40.410444</td>\n",
       "      <td>-3.763953</td>\n",
       "      <td>{'type': 'Point', 'coordinates': [40.4104445, ...</td>\n",
       "    </tr>\n",
       "    <tr>\n",
       "      <th>71</th>\n",
       "      <td>Leopardos</td>\n",
       "      <td>4.5</td>\n",
       "      <td>Ctra. Zarzón, 6</td>\n",
       "      <td>2.0</td>\n",
       "      <td>zoo</td>\n",
       "      <td>28011</td>\n",
       "      <td>40.410886</td>\n",
       "      <td>-3.763838</td>\n",
       "      <td>{'type': 'Point', 'coordinates': [40.4108858, ...</td>\n",
       "    </tr>\n",
       "    <tr>\n",
       "      <th>72</th>\n",
       "      <td>Monos</td>\n",
       "      <td>4.7</td>\n",
       "      <td>Casa de Campo</td>\n",
       "      <td>2.0</td>\n",
       "      <td>zoo</td>\n",
       "      <td>28011</td>\n",
       "      <td>40.409591</td>\n",
       "      <td>-3.763015</td>\n",
       "      <td>{'type': 'Point', 'coordinates': [40.4095914, ...</td>\n",
       "    </tr>\n",
       "  </tbody>\n",
       "</table>\n",
       "</div>"
      ],
      "text/plain": [
       "                              name  rating              address  price_level  \\\n",
       "53          Zoo Aquarium de Madrid     4.3   Casa de Campo, s/n          2.0   \n",
       "54               Rinoceronte Indio     5.0                               2.0   \n",
       "55                  Oso Hormiguero     5.0   Casa de Campo, s/n          2.0   \n",
       "56                        Suricata     5.0      Ctra. Zarzón, 6          2.0   \n",
       "57                        Cigüeñas     5.0   Casa de Campo, s/n          2.0   \n",
       "58                       Sea lions     4.2      Ctra. Zarzón, 6          2.0   \n",
       "59                            Yack     5.0        Unnamed Road,          2.0   \n",
       "60                          Faunia     4.1  Av. Comunidades, 28          2.0   \n",
       "61                         Gorilas     4.4      Ctra. Zarzón, 6          2.0   \n",
       "62                          Koalas     5.0    Casa de Campo s/n          2.0   \n",
       "63            Espectáculos de aves     4.1      Ctra. Zarzón, 6          2.0   \n",
       "64        Estanque de los delfines     4.2      Ctra. Zarzón, 6          2.0   \n",
       "65                       Elefantes     4.6        Casa de Campo          2.0   \n",
       "66                       Pingüinos     5.0        Unnamed Road,          2.0   \n",
       "67                          Tigers     4.6      Ctra. Zarzón, 6          2.0   \n",
       "68                     Rinoceronte     4.6        Casa de Campo          2.0   \n",
       "69  Mariposas - El Jardín del Edén     4.3  Av. Comunidades, 22          2.0   \n",
       "70                         Lemures     3.6        Casa de Campo          2.0   \n",
       "71                       Leopardos     4.5      Ctra. Zarzón, 6          2.0   \n",
       "72                           Monos     4.7        Casa de Campo          2.0   \n",
       "\n",
       "   place     CP   latitude  longitude  \\\n",
       "53   zoo  28011  40.409123  -3.760959   \n",
       "54   zoo  28011  40.410395  -3.762841   \n",
       "55   zoo  28011  40.409779  -3.764147   \n",
       "56   zoo  28011  40.409590  -3.765020   \n",
       "57   zoo  28011  40.408426  -3.763446   \n",
       "58   zoo  28011  40.410597  -3.761906   \n",
       "59   zoo  8011,  40.409781  -3.766399   \n",
       "60   zoo  28032  40.392039  -3.612441   \n",
       "61   zoo  28011  40.409408  -3.765531   \n",
       "62   zoo  28011  40.408035  -3.763380   \n",
       "63   zoo  28011  40.408091  -3.765022   \n",
       "64   zoo  28011  40.407972  -3.765904   \n",
       "65   zoo  28011  40.409695  -3.763624   \n",
       "66   zoo  8011,  40.410479  -3.761544   \n",
       "67   zoo  28011  40.410699  -3.764680   \n",
       "68   zoo  28011  40.409089  -3.766549   \n",
       "69   zoo  28032  40.391114  -3.612885   \n",
       "70   zoo  28011  40.410444  -3.763953   \n",
       "71   zoo  28011  40.410886  -3.763838   \n",
       "72   zoo  28011  40.409591  -3.763015   \n",
       "\n",
       "                                             geometry  \n",
       "53  {'type': 'Point', 'coordinates': [40.409122800...  \n",
       "54  {'type': 'Point', 'coordinates': [40.4103946, ...  \n",
       "55  {'type': 'Point', 'coordinates': [40.4097789, ...  \n",
       "56  {'type': 'Point', 'coordinates': [40.4095897, ...  \n",
       "57  {'type': 'Point', 'coordinates': [40.4084264, ...  \n",
       "58  {'type': 'Point', 'coordinates': [40.410597, -...  \n",
       "59  {'type': 'Point', 'coordinates': [40.4097814, ...  \n",
       "60  {'type': 'Point', 'coordinates': [40.3920393, ...  \n",
       "61  {'type': 'Point', 'coordinates': [40.409408, -...  \n",
       "62  {'type': 'Point', 'coordinates': [40.4080351, ...  \n",
       "63  {'type': 'Point', 'coordinates': [40.4080912, ...  \n",
       "64  {'type': 'Point', 'coordinates': [40.4079717, ...  \n",
       "65  {'type': 'Point', 'coordinates': [40.4096954, ...  \n",
       "66  {'type': 'Point', 'coordinates': [40.4104789, ...  \n",
       "67  {'type': 'Point', 'coordinates': [40.4106989, ...  \n",
       "68  {'type': 'Point', 'coordinates': [40.4090885, ...  \n",
       "69  {'type': 'Point', 'coordinates': [40.3911137, ...  \n",
       "70  {'type': 'Point', 'coordinates': [40.4104445, ...  \n",
       "71  {'type': 'Point', 'coordinates': [40.4108858, ...  \n",
       "72  {'type': 'Point', 'coordinates': [40.4095914, ...  "
      ]
     },
     "execution_count": 20,
     "metadata": {},
     "output_type": "execute_result"
    }
   ],
   "source": [
    "df_outdoors[df_outdoors[\"place\"] == \"zoo\"]"
   ]
  },
  {
   "cell_type": "code",
   "execution_count": 21,
   "metadata": {},
   "outputs": [],
   "source": [
    "## borrar zoo y teleferico"
   ]
  },
  {
   "cell_type": "code",
   "execution_count": 22,
   "metadata": {},
   "outputs": [],
   "source": [
    "df_outdoors = df_outdoors.drop(df_outdoors[(df_outdoors['place'] == 'zoo') & (df_outdoors['name'] != (\"Faunia\" or \"Zoo Aquiarium de Madrid\"))].index)"
   ]
  },
  {
   "cell_type": "code",
   "execution_count": 23,
   "metadata": {},
   "outputs": [
    {
     "data": {
      "text/html": [
       "<div>\n",
       "<style scoped>\n",
       "    .dataframe tbody tr th:only-of-type {\n",
       "        vertical-align: middle;\n",
       "    }\n",
       "\n",
       "    .dataframe tbody tr th {\n",
       "        vertical-align: top;\n",
       "    }\n",
       "\n",
       "    .dataframe thead th {\n",
       "        text-align: right;\n",
       "    }\n",
       "</style>\n",
       "<table border=\"1\" class=\"dataframe\">\n",
       "  <thead>\n",
       "    <tr style=\"text-align: right;\">\n",
       "      <th></th>\n",
       "      <th>name</th>\n",
       "      <th>rating</th>\n",
       "      <th>address</th>\n",
       "      <th>price_level</th>\n",
       "      <th>place</th>\n",
       "      <th>CP</th>\n",
       "      <th>latitude</th>\n",
       "      <th>longitude</th>\n",
       "      <th>geometry</th>\n",
       "    </tr>\n",
       "  </thead>\n",
       "  <tbody>\n",
       "    <tr>\n",
       "      <th>60</th>\n",
       "      <td>Faunia</td>\n",
       "      <td>4.1</td>\n",
       "      <td>Av. Comunidades, 28</td>\n",
       "      <td>2.0</td>\n",
       "      <td>zoo</td>\n",
       "      <td>28032</td>\n",
       "      <td>40.392039</td>\n",
       "      <td>-3.612441</td>\n",
       "      <td>{'type': 'Point', 'coordinates': [40.3920393, ...</td>\n",
       "    </tr>\n",
       "  </tbody>\n",
       "</table>\n",
       "</div>"
      ],
      "text/plain": [
       "      name  rating              address  price_level place     CP   latitude  \\\n",
       "60  Faunia     4.1  Av. Comunidades, 28          2.0   zoo  28032  40.392039   \n",
       "\n",
       "    longitude                                           geometry  \n",
       "60  -3.612441  {'type': 'Point', 'coordinates': [40.3920393, ...  "
      ]
     },
     "execution_count": 23,
     "metadata": {},
     "output_type": "execute_result"
    }
   ],
   "source": [
    "df_outdoors[df_outdoors[\"place\"]==\"zoo\"]"
   ]
  },
  {
   "cell_type": "markdown",
   "metadata": {},
   "source": [
    "## Exporting"
   ]
  },
  {
   "cell_type": "code",
   "execution_count": 24,
   "metadata": {},
   "outputs": [],
   "source": [
    "df_restaurants.to_json(\"json/restaurants\", orient=\"records\")\n",
    "df_snacks.to_json(\"json/snacks\", orient=\"records\")\n",
    "df_culture.to_json(\"json/culture\", orient=\"records\")\n",
    "df_party.to_json(\"json/party\", orient=\"records\")\n",
    "df_alcohol.to_json(\"json/alcohol\", orient=\"records\")\n",
    "df_outdoors.to_json(\"json/outdoors\", orient=\"records\")\n",
    "df_others.to_json(\"json/others\", orient=\"records\")"
   ]
  }
 ],
 "metadata": {
  "kernelspec": {
   "display_name": "plan",
   "language": "python",
   "name": "plan"
  },
  "language_info": {
   "codemirror_mode": {
    "name": "ipython",
    "version": 3
   },
   "file_extension": ".py",
   "mimetype": "text/x-python",
   "name": "python",
   "nbconvert_exporter": "python",
   "pygments_lexer": "ipython3",
   "version": "3.8.8"
  }
 },
 "nbformat": 4,
 "nbformat_minor": 4
}
