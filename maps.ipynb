{
 "cells": [
  {
   "cell_type": "code",
   "execution_count": 32,
   "id": "708e1389",
   "metadata": {},
   "outputs": [],
   "source": [
    "import pandas as pd\n",
    "from folium import Circle, Marker, Icon, Map\n",
    "from pymongo import MongoClient, GEOSPHERE\n",
    "conn = MongoClient(\"localhost:27017\")\n",
    "db = conn.get_database(\"madrid\")"
   ]
  },
  {
   "cell_type": "code",
   "execution_count": 33,
   "id": "64bf56f6",
   "metadata": {},
   "outputs": [],
   "source": [
    "df_restaurants = pd.read_csv(\"data/restaurants.csv\", index_col=0)\n",
    "df_snacks = pd.read_csv(\"data/snacks.csv\", index_col=0)\n",
    "df_culture = pd.read_csv(\"data/culture.csv\", index_col=0)\n",
    "df_party = pd.read_csv(\"data/party.csv\", index_col=0)\n",
    "df_drinks = pd.read_csv(\"data/drinks.csv\", index_col=0)\n",
    "df_outdoors = pd.read_csv(\"data/outdoors.csv\", index_col=0)\n",
    "df_leisure = pd.read_csv(\"data/leisure.csv\", index_col=0)"
   ]
  },
  {
   "cell_type": "code",
   "execution_count": 34,
   "id": "c7429834",
   "metadata": {},
   "outputs": [],
   "source": [
    "collection = db.get_collection(\"todo\")"
   ]
  },
  {
   "cell_type": "code",
   "execution_count": 62,
   "id": "d97b4b3d",
   "metadata": {},
   "outputs": [],
   "source": [
    "coord_point = {'type': 'Point', 'coordinates': [40.42732, -3.72217]}"
   ]
  },
  {
   "cell_type": "code",
   "execution_count": 63,
   "id": "9162c5ec",
   "metadata": {},
   "outputs": [],
   "source": [
    "query = {\"location\": {\"$near\": {\"$geometry\": coord_point,\"$minDistance\": 500  , \"$maxDistance\": 3000}}}"
   ]
  },
  {
   "cell_type": "code",
   "execution_count": 64,
   "id": "8b0291f3",
   "metadata": {},
   "outputs": [],
   "source": [
    "query_final = collection.find(query)"
   ]
  },
  {
   "cell_type": "code",
   "execution_count": 66,
   "id": "54a68fa6",
   "metadata": {},
   "outputs": [
    {
     "data": {
      "text/plain": [
       "<pymongo.cursor.Cursor at 0x7faa37007b80>"
      ]
     },
     "execution_count": 66,
     "metadata": {},
     "output_type": "execute_result"
    }
   ],
   "source": [
    "query_final"
   ]
  },
  {
   "cell_type": "code",
   "execution_count": 68,
   "id": "0d0ddac7",
   "metadata": {},
   "outputs": [],
   "source": [
    "df = pd.DataFrame(list(query_final))"
   ]
  },
  {
   "cell_type": "code",
   "execution_count": 69,
   "id": "c47824ba",
   "metadata": {},
   "outputs": [
    {
     "data": {
      "text/html": [
       "<div>\n",
       "<style scoped>\n",
       "    .dataframe tbody tr th:only-of-type {\n",
       "        vertical-align: middle;\n",
       "    }\n",
       "\n",
       "    .dataframe tbody tr th {\n",
       "        vertical-align: top;\n",
       "    }\n",
       "\n",
       "    .dataframe thead th {\n",
       "        text-align: right;\n",
       "    }\n",
       "</style>\n",
       "<table border=\"1\" class=\"dataframe\">\n",
       "  <thead>\n",
       "    <tr style=\"text-align: right;\">\n",
       "      <th></th>\n",
       "    </tr>\n",
       "  </thead>\n",
       "  <tbody>\n",
       "  </tbody>\n",
       "</table>\n",
       "</div>"
      ],
      "text/plain": [
       "Empty DataFrame\n",
       "Columns: []\n",
       "Index: []"
      ]
     },
     "execution_count": 69,
     "metadata": {},
     "output_type": "execute_result"
    }
   ],
   "source": [
    "df"
   ]
  },
  {
   "cell_type": "code",
   "execution_count": null,
   "id": "eec78b28",
   "metadata": {},
   "outputs": [],
   "source": []
  }
 ],
 "metadata": {
  "kernelspec": {
   "display_name": "Python 3",
   "language": "python",
   "name": "python3"
  },
  "language_info": {
   "codemirror_mode": {
    "name": "ipython",
    "version": 3
   },
   "file_extension": ".py",
   "mimetype": "text/x-python",
   "name": "python",
   "nbconvert_exporter": "python",
   "pygments_lexer": "ipython3",
   "version": "3.8.8"
  }
 },
 "nbformat": 4,
 "nbformat_minor": 5
}
