{
 "cells": [
  {
   "cell_type": "code",
   "execution_count": 103,
   "metadata": {},
   "outputs": [],
   "source": [
    "from reportlab.pdfgen.canvas import Canvas"
   ]
  },
  {
   "cell_type": "code",
   "execution_count": 125,
   "metadata": {},
   "outputs": [],
   "source": [
    "from reportlab.lib.utils import ImageReader\n",
    "from reportlab.lib.colors import darkblue,black"
   ]
  },
  {
   "cell_type": "code",
   "execution_count": null,
   "metadata": {},
   "outputs": [],
   "source": [
    "logo = ImageReader('images/Cluster_1.png')"
   ]
  },
  {
   "cell_type": "code",
   "execution_count": null,
   "metadata": {},
   "outputs": [],
   "source": [
    "canvas = Canvas(\"stat2.pdf\")"
   ]
  },
  {
   "cell_type": "code",
   "execution_count": null,
   "metadata": {},
   "outputs": [],
   "source": [
    "canvas.drawImage(logo, 10, 200, mask='auto')"
   ]
  },
  {
   "cell_type": "code",
   "execution_count": null,
   "metadata": {},
   "outputs": [],
   "source": [
    "canvas.save()"
   ]
  },
  {
   "cell_type": "code",
   "execution_count": null,
   "metadata": {},
   "outputs": [],
   "source": [
    "from PyPDF2 import PdfFileMerger, PdfFileReader\n",
    " \n",
    "# Call the PdfFileMerger\n",
    "mergedObject = PdfFileMerger()\n",
    " \n",
    "# I had 116 files in the folder that had to be merged into a single document\n",
    "# Loop through all of them and append their pages\n",
    "for fileNumber in range(1,3):\n",
    "    mergedObject.append(PdfFileReader('stat' + str(fileNumber)+ '.pdf', 'rb'))\n",
    " \n",
    "# Write all the files into a file which is named as shown below\n",
    "mergedObject.write(\"stats.pdf\")"
   ]
  },
  {
   "cell_type": "code",
   "execution_count": 3,
   "metadata": {},
   "outputs": [],
   "source": [
    "graphs = [\"Age.png\",\n",
    "\"Category_selected_by_moment_of_the_day.png\",\n",
    "\"Category_selected_by_month.png\",\n",
    "\"Category_selected_by_weekday.png\",\n",
    "\"Children_and_type_of_plan.png\",\n",
    "\"Filter_selected_by_children.png\",\n",
    "\"Filter_selected_by_ocupation.png\",\n",
    "\"Filter_selected.png\",\n",
    "\"Max_price_and_ocupation.png\",\n",
    "\"Max_price.png\",\n",
    "\"Nr_of_searches_per_hour.png\",\n",
    "\"Rating.png\",\n",
    "\"Type_selected_by_moment_of_the_day.png\"]"
   ]
  },
  {
   "cell_type": "code",
   "execution_count": 53,
   "metadata": {},
   "outputs": [],
   "source": [
    "for index,graph in enumerate(graphs):\n",
    "    path = \"images/\" + graph\n",
    "    img = ImageReader(path)\n",
    "    pdf_name = \"stat\" + str(index) + \".pdf\"\n",
    "    canvas = Canvas(pdf_name)\n",
    "    if pdf_name == \"stat0.pdf\":\n",
    "        canvas.setFont(\"Courier-Bold\", 30)\n",
    "        canvas.drawString(72, 750,\"STATISTICS\")\n",
    "        canvas.setFont(\"Courier-Bold\", 10)\n",
    "        canvas.drawString(72, 650,\"In this graph you can see a histplot with the age of the people who access the website.\")\n",
    "    canvas.drawImage(img, 10, 100, width=300, height=300)\n",
    "    canvas.showPage()\n",
    "    canvas.save()"
   ]
  },
  {
   "cell_type": "code",
   "execution_count": 54,
   "metadata": {},
   "outputs": [],
   "source": [
    "from PyPDF2 import PdfFileMerger, PdfFileReader\n",
    " \n",
    "# Call the PdfFileMerger\n",
    "mergedObject = PdfFileMerger()\n",
    " \n",
    "# I had 116 files in the folder that had to be merged into a single document\n",
    "# Loop through all of them and append their pages\n",
    "for file in range(0,len(graphs)):\n",
    "    mergedObject.append(PdfFileReader('stat' + str(file)+ '.pdf', 'rb'))\n",
    " \n",
    "# Write all the files into a file which is named as shown below\n",
    "mergedObject.write(\"stats.pdf\")"
   ]
  },
  {
   "cell_type": "code",
   "execution_count": 114,
   "metadata": {},
   "outputs": [],
   "source": [
    "#page1\n",
    "from reportlab.lib.colors import darkblue,black\n",
    "\n",
    "canvas = Canvas(\"pag1.pdf\")\n",
    "canvas.setFont(\"Courier-Bold\", 20)\n",
    "canvas.setFillColor(darkblue)\n",
    "canvas.drawString(72, 750,\"STATISTICS\")\n",
    "canvas.setFillColor(black)\n",
    "canvas.setFont(\"Courier-Bold\", 10)\n",
    "img = ImageReader(\"images/Age.png\")\n",
    "canvas.drawString(72, 730,\"The graph below shows the age of the users accessing the website,\")\n",
    "canvas.drawString(72, 720,\"as well as the median age of the users.\")\n",
    "canvas.drawImage(img, 100, 400, width=300, height=300)\n",
    "img = ImageReader(\"images/Category_selected_by_moment_of_the_day.png\")\n",
    "canvas.drawString(72, 370,\"The graph below represents the category selected to search according\")\n",
    "canvas.drawString(72, 360,\"to the time of day the user accesses the site. \")\n",
    "canvas.drawImage(img, 100, 20, width=300, height=300)\n",
    "canvas.showPage()\n",
    "canvas.save()"
   ]
  },
  {
   "cell_type": "code",
   "execution_count": 115,
   "metadata": {},
   "outputs": [],
   "source": [
    "canvas = Canvas(\"pag2.pdf\")\n",
    "canvas.setFont(\"Courier-Bold\", 10)\n",
    "img = ImageReader(\"images/Category_selected_by_month.png\")\n",
    "canvas.drawString(72, 750,\"The graph below represents the category selected to search according\")\n",
    "canvas.drawString(72, 740,\"to the month the user accesses the site. \")\n",
    "canvas.drawImage(img, 100, 420, width=300, height=300)\n",
    "img = ImageReader(\"images/Category_selected_by_weekday.png\")\n",
    "canvas.drawString(72, 370,\"The graph below represents the category selected to search according\")\n",
    "canvas.drawString(72, 360,\"to the weekday the user accesses the site. \")\n",
    "canvas.drawImage(img, 100, 20, width=300, height=300)\n",
    "canvas.showPage()\n",
    "canvas.save()"
   ]
  },
  {
   "cell_type": "code",
   "execution_count": 116,
   "metadata": {},
   "outputs": [],
   "source": [
    "canvas = Canvas(\"pag3.pdf\")\n",
    "canvas.setFont(\"Courier-Bold\", 10)\n",
    "img = ImageReader(\"images/Children_and_type_of_plan.png\")\n",
    "canvas.drawString(72, 750,\"The graph below represents the type of plan chosen by users according \")\n",
    "canvas.drawString(72, 740,\"to whether or not they have children.\")\n",
    "canvas.drawImage(img, 100, 420, width=300, height=300)\n",
    "img = ImageReader(\"images/Filter_selected_by_children.png\")\n",
    "canvas.drawString(72, 370,\"The graph below represents the filter selected to search by users according \")\n",
    "canvas.drawString(72, 360,\"to whether or not they have children.\")\n",
    "canvas.drawImage(img, 100, 20, width=300, height=300)\n",
    "canvas.showPage()\n",
    "canvas.save()"
   ]
  },
  {
   "cell_type": "code",
   "execution_count": 117,
   "metadata": {},
   "outputs": [],
   "source": [
    "canvas = Canvas(\"pag4.pdf\")\n",
    "canvas.setFont(\"Courier-Bold\", 10)\n",
    "img = ImageReader(\"images/Filter_selected_by_ocupation.png\")\n",
    "canvas.drawString(72, 750,\"The graph below represents the type of plan chosen by users according \")\n",
    "canvas.drawString(72, 740,\" to whether they work, study or neither study nor work.\")\n",
    "canvas.drawImage(img, 100, 420, width=300, height=300)\n",
    "img = ImageReader(\"images/Filter_selected.png\")\n",
    "canvas.drawString(72, 370,\"The graph below represents the number of times each filter has been\")\n",
    "canvas.drawString(72, 360,\"selected by users. \")\n",
    "canvas.drawImage(img, 100, 20, width=300, height=300)\n",
    "canvas.showPage()\n",
    "canvas.save()"
   ]
  },
  {
   "cell_type": "code",
   "execution_count": 118,
   "metadata": {},
   "outputs": [],
   "source": [
    "canvas = Canvas(\"pag5.pdf\")\n",
    "canvas.setFont(\"Courier-Bold\", 10)\n",
    "img = ImageReader(\"images/Max_price.png\")\n",
    "canvas.drawString(72, 750,\"The graph below represents the maximum price users are willing to pay.\")\n",
    "canvas.drawImage(img, 100, 420, width=300, height=300)\n",
    "img = ImageReader(\"images/Max_price_and_ocupation.png\")\n",
    "canvas.drawString(72, 370,\"The graph below represents the maximum price users are willing to pay.\")\n",
    "canvas.drawString(72, 360,\"according to whether they work, study or neither study nor work.\")\n",
    "canvas.drawImage(img, 100, 20, width=300, height=300)\n",
    "canvas.showPage()\n",
    "canvas.save()"
   ]
  },
  {
   "cell_type": "code",
   "execution_count": 119,
   "metadata": {},
   "outputs": [],
   "source": [
    "canvas = Canvas(\"pag6.pdf\")\n",
    "canvas.setFont(\"Courier-Bold\", 10)\n",
    "img = ImageReader(\"images/Nr_of_searches_per_hour.png\")\n",
    "canvas.drawString(72, 750,\"The graph below represents the evolution of the number of searches\")\n",
    "canvas.drawString(72, 740,\"according to the time of day.\")\n",
    "canvas.drawImage(img, 100, 420, width=300, height=300)\n",
    "img = ImageReader(\"images/Rating.png\")\n",
    "canvas.drawString(72, 370,\"The graph below represents the minimum rating that the plans should\")\n",
    "canvas.drawString(72, 360,\"have for users. \")\n",
    "canvas.drawImage(img, 100, 20, width=300, height=300)\n",
    "canvas.showPage()\n",
    "canvas.save()"
   ]
  },
  {
   "cell_type": "code",
   "execution_count": 120,
   "metadata": {},
   "outputs": [],
   "source": [
    "canvas = Canvas(\"pag7.pdf\")\n",
    "canvas.setFont(\"Courier-Bold\", 10)\n",
    "img = ImageReader(\"images/Type_selected_by_moment_of_the_day.png\")\n",
    "canvas.drawString(72, 750,\"The graph below represents the type of plan searched for according\")\n",
    "canvas.drawString(72, 740,\"to the time of day the user accesses the site.\")\n",
    "canvas.drawImage(img, 100, 420, width=300, height=300)\n",
    "canvas.showPage()\n",
    "canvas.save()"
   ]
  },
  {
   "cell_type": "code",
   "execution_count": 121,
   "metadata": {},
   "outputs": [],
   "source": [
    "canvas = Canvas(\"pag8.pdf\")\n",
    "canvas.setFont(\"Courier-Bold\", 20)\n",
    "canvas.setFillColor(darkblue)\n",
    "canvas.drawString(72, 750,\"CLUSTERS\")\n",
    "canvas.setFillColor(black)\n",
    "canvas.setFont(\"Courier-Bold\", 10)\n",
    "img = ImageReader(\"images/Cluster_1.png\")\n",
    "canvas.drawString(72, 730,\"The graph below represents the characteristics of the first cluster.\")\n",
    "canvas.drawImage(img, 80, 420, width=400, height=300)\n",
    "img = ImageReader(\"images/Cluster_2.png\")\n",
    "canvas.drawString(72, 370,\"The graph below represents the characteristics of the second cluster.\")\n",
    "canvas.drawImage(img, 80, 60, width=400, height=300)\n",
    "canvas.showPage()\n",
    "canvas.save()"
   ]
  },
  {
   "cell_type": "code",
   "execution_count": 122,
   "metadata": {},
   "outputs": [],
   "source": [
    "canvas = Canvas(\"pag9.pdf\")\n",
    "canvas.setFont(\"Courier-Bold\", 10)\n",
    "img = ImageReader(\"images/Cluster_3.png\")\n",
    "canvas.drawString(72, 750,\"The graph below represents the characteristics of the third cluster.\")\n",
    "canvas.drawImage(img, 80, 450, width=400, height=300)\n",
    "img = ImageReader(\"images/Cluster_4.png\")\n",
    "canvas.drawString(72, 390,\"The graph below represents the characteristics of the forth cluster.\")\n",
    "canvas.drawImage(img, 80, 80, width=400, height=300)\n",
    "canvas.showPage()\n",
    "canvas.save()"
   ]
  },
  {
   "cell_type": "code",
   "execution_count": 123,
   "metadata": {},
   "outputs": [],
   "source": [
    "canvas = Canvas(\"pag10.pdf\")\n",
    "canvas.setFont(\"Courier-Bold\", 10)\n",
    "img = ImageReader(\"images/Cluster_5.png\")\n",
    "canvas.drawString(72, 750,\"The graph below represents the characteristics of the last cluster.\")\n",
    "canvas.drawImage(img, 80, 450, width=400, height=300)\n",
    "canvas.showPage()\n",
    "canvas.save()"
   ]
  },
  {
   "cell_type": "code",
   "execution_count": 124,
   "metadata": {},
   "outputs": [],
   "source": [
    "from PyPDF2 import PdfFileMerger, PdfFileReader\n",
    " \n",
    "# Call the PdfFileMerger\n",
    "mergedObject = PdfFileMerger()\n",
    " \n",
    "# I had 116 files in the folder that had to be merged into a single document\n",
    "# Loop through all of them and append their pages\n",
    "for file in range(1,10):\n",
    "    mergedObject.append(PdfFileReader('pag' + str(file)+ '.pdf', 'rb'))\n",
    " \n",
    "# Write all the files into a file which is named as shown below\n",
    "mergedObject.write(\"stats_clusters.pdf\")"
   ]
  },
  {
   "cell_type": "code",
   "execution_count": null,
   "metadata": {},
   "outputs": [],
   "source": []
  },
  {
   "cell_type": "code",
   "execution_count": null,
   "metadata": {},
   "outputs": [],
   "source": []
  }
 ],
 "metadata": {
  "kernelspec": {
   "display_name": "plan",
   "language": "python",
   "name": "plan"
  },
  "language_info": {
   "codemirror_mode": {
    "name": "ipython",
    "version": 3
   },
   "file_extension": ".py",
   "mimetype": "text/x-python",
   "name": "python",
   "nbconvert_exporter": "python",
   "pygments_lexer": "ipython3",
   "version": "3.8.8"
  }
 },
 "nbformat": 4,
 "nbformat_minor": 4
}
