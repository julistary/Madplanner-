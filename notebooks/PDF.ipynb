{
 "cells": [
  {
   "cell_type": "markdown",
   "metadata": {},
   "source": [
    "# PDF Creation 📝"
   ]
  },
  {
   "cell_type": "code",
   "execution_count": 1,
   "metadata": {},
   "outputs": [],
   "source": [
    "from reportlab.pdfgen.canvas import Canvas\n",
    "from reportlab.lib.utils import ImageReader\n",
    "from reportlab.lib.colors import darkblue,black\n",
    "from PyPDF2 import PdfFileMerger, PdfFileReader"
   ]
  },
  {
   "cell_type": "markdown",
   "metadata": {},
   "source": [
    "### Creating page by page the pdf with the graphs resulting from the statistics and the clusters"
   ]
  },
  {
   "cell_type": "code",
   "execution_count": 3,
   "metadata": {},
   "outputs": [],
   "source": [
    "#page1\n",
    "from reportlab.lib.colors import darkblue,black\n",
    "canvas = Canvas(\"pag1.pdf\")\n",
    "canvas.setFont(\"Courier-Bold\", 20)\n",
    "canvas.setFillColor(darkblue)\n",
    "canvas.drawString(72, 750,\"STATISTICS\")\n",
    "canvas.setFillColor(black)\n",
    "canvas.setFont(\"Courier-Bold\", 10)\n",
    "img = ImageReader(\"images/Age.png\")\n",
    "canvas.drawString(72, 730,\"The graph below shows the age of the users accessing the website,\")\n",
    "canvas.drawString(72, 720,\"as well as the median age of the users.\")\n",
    "canvas.drawImage(img, 100, 400, width=300, height=300)\n",
    "img = ImageReader(\"images/Category_selected_by_moment_of_the_day.png\")\n",
    "canvas.drawString(72, 370,\"The graph below represents the category selected to search according\")\n",
    "canvas.drawString(72, 360,\"to the time of day the user accesses the site. \")\n",
    "canvas.drawImage(img, 100, 20, width=300, height=300)\n",
    "canvas.showPage()\n",
    "canvas.save()"
   ]
  },
  {
   "cell_type": "code",
   "execution_count": 4,
   "metadata": {},
   "outputs": [],
   "source": [
    "#page2\n",
    "canvas = Canvas(\"pag2.pdf\")\n",
    "canvas.setFont(\"Courier-Bold\", 10)\n",
    "img = ImageReader(\"images/Category_selected_by_month.png\")\n",
    "canvas.drawString(72, 750,\"The graph below represents the category selected to search according\")\n",
    "canvas.drawString(72, 740,\"to the month the user accesses the site. \")\n",
    "canvas.drawImage(img, 100, 420, width=300, height=300)\n",
    "img = ImageReader(\"images/Category_selected_by_weekday.png\")\n",
    "canvas.drawString(72, 370,\"The graph below represents the category selected to search according\")\n",
    "canvas.drawString(72, 360,\"to the weekday the user accesses the site. \")\n",
    "canvas.drawImage(img, 100, 20, width=300, height=300)\n",
    "canvas.showPage()\n",
    "canvas.save()"
   ]
  },
  {
   "cell_type": "code",
   "execution_count": 5,
   "metadata": {},
   "outputs": [],
   "source": [
    "#page3\n",
    "canvas = Canvas(\"pag3.pdf\")\n",
    "canvas.setFont(\"Courier-Bold\", 10)\n",
    "img = ImageReader(\"images/Children_and_type_of_plan.png\")\n",
    "canvas.drawString(72, 750,\"The graph below represents the type of plan chosen by users according \")\n",
    "canvas.drawString(72, 740,\"to whether or not they have children.\")\n",
    "canvas.drawImage(img, 100, 420, width=300, height=300)\n",
    "img = ImageReader(\"images/Filter_selected_by_children.png\")\n",
    "canvas.drawString(72, 370,\"The graph below represents the filter selected to search by users according \")\n",
    "canvas.drawString(72, 360,\"to whether or not they have children.\")\n",
    "canvas.drawImage(img, 100, 20, width=300, height=300)\n",
    "canvas.showPage()\n",
    "canvas.save()"
   ]
  },
  {
   "cell_type": "code",
   "execution_count": 6,
   "metadata": {},
   "outputs": [],
   "source": [
    "#page4\n",
    "canvas = Canvas(\"pag4.pdf\")\n",
    "canvas.setFont(\"Courier-Bold\", 10)\n",
    "img = ImageReader(\"images/Filter_selected_by_ocupation.png\")\n",
    "canvas.drawString(72, 750,\"The graph below represents the type of plan chosen by users according \")\n",
    "canvas.drawString(72, 740,\" to whether they work, study or neither study nor work.\")\n",
    "canvas.drawImage(img, 100, 420, width=300, height=300)\n",
    "img = ImageReader(\"images/Filter_selected.png\")\n",
    "canvas.drawString(72, 370,\"The graph below represents the number of times each filter has been\")\n",
    "canvas.drawString(72, 360,\"selected by users. \")\n",
    "canvas.drawImage(img, 100, 20, width=300, height=300)\n",
    "canvas.showPage()\n",
    "canvas.save()"
   ]
  },
  {
   "cell_type": "code",
   "execution_count": 7,
   "metadata": {},
   "outputs": [],
   "source": [
    "#page5\n",
    "canvas = Canvas(\"pag5.pdf\")\n",
    "canvas.setFont(\"Courier-Bold\", 10)\n",
    "img = ImageReader(\"images/Max_price.png\")\n",
    "canvas.drawString(72, 750,\"The graph below represents the maximum price users are willing to pay.\")\n",
    "canvas.drawImage(img, 100, 420, width=300, height=300)\n",
    "img = ImageReader(\"images/Max_price_and_ocupation.png\")\n",
    "canvas.drawString(72, 370,\"The graph below represents the maximum price users are willing to pay.\")\n",
    "canvas.drawString(72, 360,\"according to whether they work, study or neither study nor work.\")\n",
    "canvas.drawImage(img, 100, 20, width=300, height=300)\n",
    "canvas.showPage()\n",
    "canvas.save()"
   ]
  },
  {
   "cell_type": "code",
   "execution_count": 8,
   "metadata": {},
   "outputs": [],
   "source": [
    "#page6\n",
    "canvas = Canvas(\"pag6.pdf\")\n",
    "canvas.setFont(\"Courier-Bold\", 10)\n",
    "img = ImageReader(\"images/Nr_of_searches_per_hour.png\")\n",
    "canvas.drawString(72, 750,\"The graph below represents the evolution of the number of searches\")\n",
    "canvas.drawString(72, 740,\"according to the time of day.\")\n",
    "canvas.drawImage(img, 100, 420, width=300, height=300)\n",
    "img = ImageReader(\"images/Rating.png\")\n",
    "canvas.drawString(72, 370,\"The graph below represents the minimum rating that the plans should\")\n",
    "canvas.drawString(72, 360,\"have for users. \")\n",
    "canvas.drawImage(img, 100, 20, width=300, height=300)\n",
    "canvas.showPage()\n",
    "canvas.save()"
   ]
  },
  {
   "cell_type": "code",
   "execution_count": 9,
   "metadata": {},
   "outputs": [],
   "source": [
    "#page7\n",
    "canvas = Canvas(\"pag7.pdf\")\n",
    "canvas.setFont(\"Courier-Bold\", 10)\n",
    "img = ImageReader(\"images/Type_selected_by_moment_of_the_day.png\")\n",
    "canvas.drawString(72, 750,\"The graph below represents the type of plan searched for according\")\n",
    "canvas.drawString(72, 740,\"to the time of day the user accesses the site.\")\n",
    "canvas.drawImage(img, 100, 420, width=300, height=300)\n",
    "canvas.showPage()\n",
    "canvas.save()"
   ]
  },
  {
   "cell_type": "code",
   "execution_count": 10,
   "metadata": {},
   "outputs": [],
   "source": [
    "#page8\n",
    "canvas = Canvas(\"pag8.pdf\")\n",
    "canvas.setFont(\"Courier-Bold\", 20)\n",
    "canvas.setFillColor(darkblue)\n",
    "canvas.drawString(72, 750,\"CLUSTERS\")\n",
    "canvas.setFillColor(black)\n",
    "canvas.setFont(\"Courier-Bold\", 10)\n",
    "img = ImageReader(\"images/Cluster_1.png\")\n",
    "canvas.drawString(72, 730,\"The graph below represents the characteristics of the first cluster.\")\n",
    "canvas.drawImage(img, 80, 420, width=400, height=300)\n",
    "img = ImageReader(\"images/Cluster_2.png\")\n",
    "canvas.drawString(72, 370,\"The graph below represents the characteristics of the second cluster.\")\n",
    "canvas.drawImage(img, 80, 60, width=400, height=300)\n",
    "canvas.showPage()\n",
    "canvas.save()"
   ]
  },
  {
   "cell_type": "code",
   "execution_count": 11,
   "metadata": {},
   "outputs": [],
   "source": [
    "#page9\n",
    "canvas = Canvas(\"pag9.pdf\")\n",
    "canvas.setFont(\"Courier-Bold\", 10)\n",
    "img = ImageReader(\"images/Cluster_3.png\")\n",
    "canvas.drawString(72, 750,\"The graph below represents the characteristics of the third cluster.\")\n",
    "canvas.drawImage(img, 80, 450, width=400, height=300)\n",
    "img = ImageReader(\"images/Cluster_4.png\")\n",
    "canvas.drawString(72, 390,\"The graph below represents the characteristics of the forth cluster.\")\n",
    "canvas.drawImage(img, 80, 80, width=400, height=300)\n",
    "canvas.showPage()\n",
    "canvas.save()"
   ]
  },
  {
   "cell_type": "code",
   "execution_count": 12,
   "metadata": {},
   "outputs": [],
   "source": [
    "#page10\n",
    "canvas = Canvas(\"pag10.pdf\")\n",
    "canvas.setFont(\"Courier-Bold\", 10)\n",
    "img = ImageReader(\"images/Cluster_5.png\")\n",
    "canvas.drawString(72, 750,\"The graph below represents the characteristics of the last cluster.\")\n",
    "canvas.drawImage(img, 80, 450, width=400, height=300)\n",
    "canvas.showPage()\n",
    "canvas.save()"
   ]
  },
  {
   "cell_type": "markdown",
   "metadata": {},
   "source": [
    "### Merging all the pages"
   ]
  },
  {
   "cell_type": "code",
   "execution_count": 13,
   "metadata": {},
   "outputs": [],
   "source": [
    "mergedObject = PdfFileMerger()\n",
    "for file in range(1,10):\n",
    "    mergedObject.append(PdfFileReader('pag' + str(file)+ '.pdf', 'rb'))\n",
    "\n",
    "mergedObject.write(\"../stats_clusters.pdf\")"
   ]
  },
  {
   "cell_type": "markdown",
   "metadata": {},
   "source": [
    "### Removing documents from intermediate steps 🧽"
   ]
  },
  {
   "cell_type": "code",
   "execution_count": 14,
   "metadata": {},
   "outputs": [],
   "source": [
    "!rm pag1.pdf\n",
    "!rm pag2.pdf\n",
    "!rm pag3.pdf\n",
    "!rm pag4.pdf\n",
    "!rm pag5.pdf\n",
    "!rm pag6.pdf\n",
    "!rm pag7.pdf\n",
    "!rm pag8.pdf\n",
    "!rm pag9.pdf\n",
    "!rm pag10.pdf"
   ]
  },
  {
   "cell_type": "code",
   "execution_count": 15,
   "metadata": {},
   "outputs": [],
   "source": [
    "!rm -r images"
   ]
  }
 ],
 "metadata": {
  "kernelspec": {
   "display_name": "plan",
   "language": "python",
   "name": "plan"
  },
  "language_info": {
   "codemirror_mode": {
    "name": "ipython",
    "version": 3
   },
   "file_extension": ".py",
   "mimetype": "text/x-python",
   "name": "python",
   "nbconvert_exporter": "python",
   "pygments_lexer": "ipython3",
   "version": "3.8.8"
  }
 },
 "nbformat": 4,
 "nbformat_minor": 4
}
