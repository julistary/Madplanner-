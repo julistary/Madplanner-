{
 "cells": [
  {
   "cell_type": "markdown",
   "metadata": {},
   "source": [
    "# Uploading to MongoDB 🌱"
   ]
  },
  {
   "cell_type": "markdown",
   "metadata": {},
   "source": [
    "Ejecutar comandos desde terminal en la carpeta de json!!"
   ]
  },
  {
   "cell_type": "code",
   "execution_count": 13,
   "metadata": {},
   "outputs": [],
   "source": [
    "import sys\n",
    "sys.path.append('../json/')"
   ]
  },
  {
   "cell_type": "code",
   "execution_count": 8,
   "metadata": {},
   "outputs": [],
   "source": [
    "import json\n",
    "from pymongo import MongoClient, GEOSPHERE"
   ]
  },
  {
   "cell_type": "code",
   "execution_count": 14,
   "metadata": {},
   "outputs": [
    {
     "name": "stdout",
     "output_type": "stream",
     "text": [
      " NO TOCAR - llamadas a API🔥.ipynb   estadisticas.ipynb\r\n",
      "Plans?️.ipynb                        mongoDB .ipynb\r\n",
      "Transports 🚉.ipynb\r\n"
     ]
    }
   ],
   "source": [
    "!ls"
   ]
  },
  {
   "cell_type": "code",
   "execution_count": 9,
   "metadata": {},
   "outputs": [],
   "source": [
    "conn = MongoClient(\"localhost:27017\")\n",
    "db = conn.get_database(\"madrid\")"
   ]
  },
  {
   "cell_type": "code",
   "execution_count": 11,
   "metadata": {},
   "outputs": [
    {
     "data": {
      "text/plain": [
       "{'nIndexesWas': 2, 'ns': 'madrid.todo', 'ok': 1.0}"
      ]
     },
     "execution_count": 11,
     "metadata": {},
     "output_type": "execute_result"
    }
   ],
   "source": [
    "db.drop_collection(\"restaurants\")\n",
    "db.drop_collection(\"culture\")\n",
    "db.drop_collection(\"leisure\")\n",
    "db.drop_collection(\"drinks\")\n",
    "db.drop_collection(\"snacks\")\n",
    "db.drop_collection(\"transport\")\n",
    "db.drop_collection(\"party\")\n",
    "db.drop_collection(\"outdoors\")\n",
    "db.drop_collection(\"todo\")"
   ]
  },
  {
   "cell_type": "code",
   "execution_count": 12,
   "metadata": {},
   "outputs": [
    {
     "name": "stdout",
     "output_type": "stream",
     "text": [
      "2021-05-19T11:45:19.586+0200\tFailed: open restaurants: no such file or directory\n",
      "2021-05-19T11:45:19.586+0200\t0 document(s) imported successfully. 0 document(s) failed to import.\n",
      "2021-05-19T11:45:19.738+0200\tFailed: open alcohol: no such file or directory\n",
      "2021-05-19T11:45:19.738+0200\t0 document(s) imported successfully. 0 document(s) failed to import.\n",
      "2021-05-19T11:45:19.885+0200\tFailed: open culture: no such file or directory\n",
      "2021-05-19T11:45:19.887+0200\t0 document(s) imported successfully. 0 document(s) failed to import.\n",
      "2021-05-19T11:45:20.037+0200\tFailed: open party: no such file or directory\n",
      "2021-05-19T11:45:20.037+0200\t0 document(s) imported successfully. 0 document(s) failed to import.\n",
      "2021-05-19T11:45:20.179+0200\tFailed: open snacks: no such file or directory\n",
      "2021-05-19T11:45:20.179+0200\t0 document(s) imported successfully. 0 document(s) failed to import.\n",
      "2021-05-19T11:45:20.323+0200\tFailed: open outdoors: no such file or directory\n",
      "2021-05-19T11:45:20.323+0200\t0 document(s) imported successfully. 0 document(s) failed to import.\n",
      "2021-05-19T11:45:20.471+0200\tFailed: open others: no such file or directory\n",
      "2021-05-19T11:45:20.472+0200\t0 document(s) imported successfully. 0 document(s) failed to import.\n",
      "2021-05-19T11:45:20.624+0200\tFailed: open parking: no such file or directory\n",
      "2021-05-19T11:45:20.624+0200\t0 document(s) imported successfully. 0 document(s) failed to import.\n",
      "2021-05-19T11:45:20.759+0200\tFailed: open stops_metro: no such file or directory\n",
      "2021-05-19T11:45:20.760+0200\t0 document(s) imported successfully. 0 document(s) failed to import.\n",
      "2021-05-19T11:45:20.897+0200\tFailed: open stops_metro_ligero: no such file or directory\n",
      "2021-05-19T11:45:20.898+0200\t0 document(s) imported successfully. 0 document(s) failed to import.\n",
      "2021-05-19T11:45:21.041+0200\tFailed: open stops_emt: no such file or directory\n",
      "2021-05-19T11:45:21.041+0200\t0 document(s) imported successfully. 0 document(s) failed to import.\n",
      "2021-05-19T11:45:21.193+0200\tFailed: open stops_interurbanos: no such file or directory\n",
      "2021-05-19T11:45:21.193+0200\t0 document(s) imported successfully. 0 document(s) failed to import.\n",
      "2021-05-19T11:45:21.337+0200\tFailed: open stops_autobuses_urbanos: no such file or directory\n",
      "2021-05-19T11:45:21.338+0200\t0 document(s) imported successfully. 0 document(s) failed to import.\n",
      "2021-05-19T11:45:21.481+0200\tFailed: open stops_cercanias: no such file or directory\n",
      "2021-05-19T11:45:21.481+0200\t0 document(s) imported successfully. 0 document(s) failed to import.\n"
     ]
    }
   ],
   "source": [
    "!mongoimport --db madrid --collection restaurants --jsonArray restaurants\n",
    "!mongoimport --db madrid --collection drinks --jsonArray alcohol\n",
    "!mongoimport --db madrid --collection culture --jsonArray culture\n",
    "!mongoimport --db madrid --collection party --jsonArray party\n",
    "!mongoimport --db madrid --collection snacks --jsonArray snacks\n",
    "!mongoimport --db madrid --collection outdoors --jsonArray outdoors\n",
    "!mongoimport --db madrid --collection leisure --jsonArray others\n",
    "!mongoimport --db madrid --collection transport --jsonArray parking\n",
    "!mongoimport --db madrid --collection transport --jsonArray stops_metro\n",
    "!mongoimport --db madrid --collection transport --jsonArray stops_metro_ligero\n",
    "!mongoimport --db madrid --collection transport --jsonArray stops_emt\n",
    "!mongoimport --db madrid --collection transport --jsonArray stops_interurbanos\n",
    "!mongoimport --db madrid --collection transport --jsonArray stops_autobuses_urbanos\n",
    "!mongoimport --db madrid --collection transport --jsonArray stops_cercanias\n"
   ]
  },
  {
   "cell_type": "code",
   "execution_count": 13,
   "metadata": {},
   "outputs": [
    {
     "name": "stdout",
     "output_type": "stream",
     "text": [
      "2021-05-19T11:42:15.330+0200\tFailed: open restaurants: no such file or directory\n",
      "2021-05-19T11:42:15.330+0200\t0 document(s) imported successfully. 0 document(s) failed to import.\n",
      "2021-05-19T11:42:15.477+0200\tFailed: open alcohol: no such file or directory\n",
      "2021-05-19T11:42:15.477+0200\t0 document(s) imported successfully. 0 document(s) failed to import.\n",
      "2021-05-19T11:42:15.622+0200\tFailed: open culture: no such file or directory\n",
      "2021-05-19T11:42:15.622+0200\t0 document(s) imported successfully. 0 document(s) failed to import.\n",
      "2021-05-19T11:42:15.774+0200\tFailed: open party: no such file or directory\n",
      "2021-05-19T11:42:15.774+0200\t0 document(s) imported successfully. 0 document(s) failed to import.\n",
      "2021-05-19T11:42:15.921+0200\tFailed: open snacks: no such file or directory\n",
      "2021-05-19T11:42:15.921+0200\t0 document(s) imported successfully. 0 document(s) failed to import.\n",
      "2021-05-19T11:42:16.069+0200\tFailed: open outdoors: no such file or directory\n",
      "2021-05-19T11:42:16.069+0200\t0 document(s) imported successfully. 0 document(s) failed to import.\n",
      "2021-05-19T11:42:16.217+0200\tFailed: open others: no such file or directory\n",
      "2021-05-19T11:42:16.217+0200\t0 document(s) imported successfully. 0 document(s) failed to import.\n",
      "2021-05-19T11:42:16.359+0200\tFailed: open parking: no such file or directory\n",
      "2021-05-19T11:42:16.359+0200\t0 document(s) imported successfully. 0 document(s) failed to import.\n",
      "2021-05-19T11:42:16.510+0200\tFailed: open stops_metro: no such file or directory\n",
      "2021-05-19T11:42:16.510+0200\t0 document(s) imported successfully. 0 document(s) failed to import.\n",
      "2021-05-19T11:42:16.654+0200\tFailed: open stops_metro_ligero: no such file or directory\n",
      "2021-05-19T11:42:16.654+0200\t0 document(s) imported successfully. 0 document(s) failed to import.\n",
      "2021-05-19T11:42:16.805+0200\tFailed: open stops_emt: no such file or directory\n",
      "2021-05-19T11:42:16.805+0200\t0 document(s) imported successfully. 0 document(s) failed to import.\n",
      "2021-05-19T11:42:16.957+0200\tFailed: open stops_interurbanos: no such file or directory\n",
      "2021-05-19T11:42:16.957+0200\t0 document(s) imported successfully. 0 document(s) failed to import.\n",
      "2021-05-19T11:42:17.122+0200\tFailed: open stops_autobuses_urbanos: no such file or directory\n",
      "2021-05-19T11:42:17.122+0200\t0 document(s) imported successfully. 0 document(s) failed to import.\n",
      "2021-05-19T11:42:17.264+0200\tFailed: open stops_cercanias: no such file or directory\n",
      "2021-05-19T11:42:17.265+0200\t0 document(s) imported successfully. 0 document(s) failed to import.\n"
     ]
    }
   ],
   "source": [
    "!mongoimport --db madrid --collection todo --jsonArray restaurants\n",
    "!mongoimport --db madrid --collection todo --jsonArray alcohol\n",
    "!mongoimport --db madrid --collection todo --jsonArray culture\n",
    "!mongoimport --db madrid --collection todo --jsonArray party\n",
    "!mongoimport --db madrid --collection todo --jsonArray snacks\n",
    "!mongoimport --db madrid --collection todo --jsonArray outdoors\n",
    "!mongoimport --db madrid --collection todo --jsonArray others\n",
    "!mongoimport --db madrid --collection todo --jsonArray parking\n",
    "!mongoimport --db madrid --collection todo --jsonArray stops_metro\n",
    "!mongoimport --db madrid --collection todo --jsonArray stops_metro_ligero\n",
    "!mongoimport --db madrid --collection todo --jsonArray stops_emt\n",
    "!mongoimport --db madrid --collection todo --jsonArray stops_interurbanos\n",
    "!mongoimport --db madrid --collection todo --jsonArray stops_autobuses_urbanos\n",
    "!mongoimport --db madrid --collection todo --jsonArray stops_cercanias\n"
   ]
  },
  {
   "cell_type": "code",
   "execution_count": 6,
   "metadata": {},
   "outputs": [
    {
     "data": {
      "text/plain": [
       "'geometry_2dsphere'"
      ]
     },
     "execution_count": 6,
     "metadata": {},
     "output_type": "execute_result"
    }
   ],
   "source": [
    "db.transport.create_index([(\"geometry\", GEOSPHERE)])\n",
    "db.restaurants.create_index([(\"geometry\", GEOSPHERE)])\n",
    "db.culture.create_index([(\"geometry\", GEOSPHERE)])\n",
    "db.leisure.create_index([(\"geometry\", GEOSPHERE)])\n",
    "db.drinks.create_index([(\"geometry\", GEOSPHERE)])\n",
    "db.snacks.create_index([(\"geometry\", GEOSPHERE)])\n",
    "db.party.create_index([(\"geometry\", GEOSPHERE)])\n",
    "db.outdoors.create_index([(\"geometry\", GEOSPHERE)])\n",
    "db.todo.create_index([(\"geometry\", GEOSPHERE)])"
   ]
  },
  {
   "cell_type": "code",
   "execution_count": null,
   "metadata": {},
   "outputs": [],
   "source": []
  },
  {
   "cell_type": "code",
   "execution_count": null,
   "metadata": {},
   "outputs": [],
   "source": []
  },
  {
   "cell_type": "code",
   "execution_count": null,
   "metadata": {},
   "outputs": [],
   "source": []
  }
 ],
 "metadata": {
  "kernelspec": {
   "display_name": "plan",
   "language": "python",
   "name": "plan"
  },
  "language_info": {
   "codemirror_mode": {
    "name": "ipython",
    "version": 3
   },
   "file_extension": ".py",
   "mimetype": "text/x-python",
   "name": "python",
   "nbconvert_exporter": "python",
   "pygments_lexer": "ipython3",
   "version": "3.8.8"
  }
 },
 "nbformat": 4,
 "nbformat_minor": 4
}
