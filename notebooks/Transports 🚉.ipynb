{
 "cells": [
  {
   "cell_type": "markdown",
   "metadata": {},
   "source": [
    "# Transport CAM 🚉 🚌 🅿️"
   ]
  },
  {
   "cell_type": "markdown",
   "metadata": {},
   "source": [
    "<img width=400 src=\"https://www.elagoradiario.com/wp-content/uploads/2019/11/madrid-abono-transporte-plano-del-metro-1035x600.jpg\">"
   ]
  },
  {
   "cell_type": "markdown",
   "metadata": {},
   "source": [
    "## Libraries 📚"
   ]
  },
  {
   "cell_type": "code",
   "execution_count": 6,
   "metadata": {},
   "outputs": [],
   "source": [
    "import sys\n",
    "sys.path.append('../')"
   ]
  },
  {
   "cell_type": "code",
   "execution_count": 7,
   "metadata": {},
   "outputs": [],
   "source": [
    "import pandas as pd\n",
    "import src.transport as t"
   ]
  },
  {
   "cell_type": "markdown",
   "metadata": {},
   "source": [
    "## Importing CSV's"
   ]
  },
  {
   "cell_type": "code",
   "execution_count": 8,
   "metadata": {},
   "outputs": [],
   "source": [
    "transports = [ \"stops_autobuses_urbanos\", \"stops_emt\", \"stops_interurbanos\", \"stops_metro\",  \"stops_metro_ligero\", \"stops_cercanias\"]"
   ]
  },
  {
   "cell_type": "code",
   "execution_count": 9,
   "metadata": {},
   "outputs": [],
   "source": [
    "for tr in transports:\n",
    "    name = \"../transporte/\" + tr + \".csv\"\n",
    "    locals()[tr] = pd.read_csv(name, index_col=0)"
   ]
  },
  {
   "cell_type": "code",
   "execution_count": 10,
   "metadata": {},
   "outputs": [],
   "source": [
    "parking = pd.read_csv(\"../transporte/parking.csv\", index_col=0, sep=\";\", encoding = \"ISO-8859-1\")"
   ]
  },
  {
   "cell_type": "markdown",
   "metadata": {},
   "source": [
    "## Cleaning DF 🧽"
   ]
  },
  {
   "cell_type": "code",
   "execution_count": 11,
   "metadata": {},
   "outputs": [],
   "source": [
    "for transport in transports:\n",
    "    locals()[transport] = t.limpito(locals()[transport],transport)"
   ]
  },
  {
   "cell_type": "code",
   "execution_count": 12,
   "metadata": {},
   "outputs": [
    {
     "data": {
      "text/html": [
       "<div>\n",
       "<style scoped>\n",
       "    .dataframe tbody tr th:only-of-type {\n",
       "        vertical-align: middle;\n",
       "    }\n",
       "\n",
       "    .dataframe tbody tr th {\n",
       "        vertical-align: top;\n",
       "    }\n",
       "\n",
       "    .dataframe thead th {\n",
       "        text-align: right;\n",
       "    }\n",
       "</style>\n",
       "<table border=\"1\" class=\"dataframe\">\n",
       "  <thead>\n",
       "    <tr style=\"text-align: right;\">\n",
       "      <th></th>\n",
       "      <th>name</th>\n",
       "      <th>latitude</th>\n",
       "      <th>longitude</th>\n",
       "      <th>geometry</th>\n",
       "      <th>place</th>\n",
       "      <th>type</th>\n",
       "    </tr>\n",
       "    <tr>\n",
       "      <th>stop_id</th>\n",
       "      <th></th>\n",
       "      <th></th>\n",
       "      <th></th>\n",
       "      <th></th>\n",
       "      <th></th>\n",
       "      <th></th>\n",
       "    </tr>\n",
       "  </thead>\n",
       "  <tbody>\n",
       "    <tr>\n",
       "      <th>par_4_1</th>\n",
       "      <td>PLAZA DE CASTILLA</td>\n",
       "      <td>40.46690</td>\n",
       "      <td>-3.68917</td>\n",
       "      <td>{'type': 'Point', 'coordinates': [40.4669, -3....</td>\n",
       "      <td>metro</td>\n",
       "      <td>transport</td>\n",
       "    </tr>\n",
       "    <tr>\n",
       "      <th>acc_4_1_1</th>\n",
       "      <td>Plaza de Castilla</td>\n",
       "      <td>40.46682</td>\n",
       "      <td>-3.68918</td>\n",
       "      <td>{'type': 'Point', 'coordinates': [40.46682, -3...</td>\n",
       "      <td>metro</td>\n",
       "      <td>transport</td>\n",
       "    </tr>\n",
       "    <tr>\n",
       "      <th>acc_4_1_1040</th>\n",
       "      <td>Ascensor</td>\n",
       "      <td>40.46555</td>\n",
       "      <td>-3.68877</td>\n",
       "      <td>{'type': 'Point', 'coordinates': [40.46555, -3...</td>\n",
       "      <td>metro</td>\n",
       "      <td>transport</td>\n",
       "    </tr>\n",
       "    <tr>\n",
       "      <th>acc_4_1_1043</th>\n",
       "      <td>Intercambiador Superficie</td>\n",
       "      <td>40.46728</td>\n",
       "      <td>-3.68915</td>\n",
       "      <td>{'type': 'Point', 'coordinates': [40.46728, -3...</td>\n",
       "      <td>metro</td>\n",
       "      <td>transport</td>\n",
       "    </tr>\n",
       "    <tr>\n",
       "      <th>acc_4_1_1044</th>\n",
       "      <td>Ascensor</td>\n",
       "      <td>40.46702</td>\n",
       "      <td>-3.68918</td>\n",
       "      <td>{'type': 'Point', 'coordinates': [40.46702, -3...</td>\n",
       "      <td>metro</td>\n",
       "      <td>transport</td>\n",
       "    </tr>\n",
       "  </tbody>\n",
       "</table>\n",
       "</div>"
      ],
      "text/plain": [
       "                                   name  latitude  longitude  \\\n",
       "stop_id                                                        \n",
       "par_4_1               PLAZA DE CASTILLA  40.46690   -3.68917   \n",
       "acc_4_1_1             Plaza de Castilla  40.46682   -3.68918   \n",
       "acc_4_1_1040                   Ascensor  40.46555   -3.68877   \n",
       "acc_4_1_1043  Intercambiador Superficie  40.46728   -3.68915   \n",
       "acc_4_1_1044                   Ascensor  40.46702   -3.68918   \n",
       "\n",
       "                                                       geometry  place  \\\n",
       "stop_id                                                                  \n",
       "par_4_1       {'type': 'Point', 'coordinates': [40.4669, -3....  metro   \n",
       "acc_4_1_1     {'type': 'Point', 'coordinates': [40.46682, -3...  metro   \n",
       "acc_4_1_1040  {'type': 'Point', 'coordinates': [40.46555, -3...  metro   \n",
       "acc_4_1_1043  {'type': 'Point', 'coordinates': [40.46728, -3...  metro   \n",
       "acc_4_1_1044  {'type': 'Point', 'coordinates': [40.46702, -3...  metro   \n",
       "\n",
       "                   type  \n",
       "stop_id                  \n",
       "par_4_1       transport  \n",
       "acc_4_1_1     transport  \n",
       "acc_4_1_1040  transport  \n",
       "acc_4_1_1043  transport  \n",
       "acc_4_1_1044  transport  "
      ]
     },
     "execution_count": 12,
     "metadata": {},
     "output_type": "execute_result"
    }
   ],
   "source": [
    "stops_metro.head()"
   ]
  },
  {
   "cell_type": "code",
   "execution_count": 13,
   "metadata": {},
   "outputs": [],
   "source": [
    "parking = t.limpito_parking(parking)"
   ]
  },
  {
   "cell_type": "code",
   "execution_count": 14,
   "metadata": {},
   "outputs": [
    {
     "data": {
      "text/html": [
       "<div>\n",
       "<style scoped>\n",
       "    .dataframe tbody tr th:only-of-type {\n",
       "        vertical-align: middle;\n",
       "    }\n",
       "\n",
       "    .dataframe tbody tr th {\n",
       "        vertical-align: top;\n",
       "    }\n",
       "\n",
       "    .dataframe thead th {\n",
       "        text-align: right;\n",
       "    }\n",
       "</style>\n",
       "<table border=\"1\" class=\"dataframe\">\n",
       "  <thead>\n",
       "    <tr style=\"text-align: right;\">\n",
       "      <th></th>\n",
       "      <th>name</th>\n",
       "      <th>latitude</th>\n",
       "      <th>longitude</th>\n",
       "      <th>geometry</th>\n",
       "      <th>place</th>\n",
       "      <th>type</th>\n",
       "    </tr>\n",
       "    <tr>\n",
       "      <th>PK</th>\n",
       "      <th></th>\n",
       "      <th></th>\n",
       "      <th></th>\n",
       "      <th></th>\n",
       "      <th></th>\n",
       "      <th></th>\n",
       "    </tr>\n",
       "  </thead>\n",
       "  <tbody>\n",
       "    <tr>\n",
       "      <th>13470</th>\n",
       "      <td>Aparcamiento mixto. Arquitecto Ribera</td>\n",
       "      <td>40.426</td>\n",
       "      <td>-3.699</td>\n",
       "      <td>{'type': 'Point', 'coordinates': [40.426, -3.6...</td>\n",
       "      <td>parking</td>\n",
       "      <td>transport</td>\n",
       "    </tr>\n",
       "    <tr>\n",
       "      <th>59060</th>\n",
       "      <td>Aparcamiento mixto. Avenida de América (interc...</td>\n",
       "      <td>40.438</td>\n",
       "      <td>-3.676</td>\n",
       "      <td>{'type': 'Point', 'coordinates': [40.438, -3.6...</td>\n",
       "      <td>parking</td>\n",
       "      <td>transport</td>\n",
       "    </tr>\n",
       "    <tr>\n",
       "      <th>13475</th>\n",
       "      <td>Aparcamiento mixto. Brasil</td>\n",
       "      <td>40.456</td>\n",
       "      <td>-3.694</td>\n",
       "      <td>{'type': 'Point', 'coordinates': [40.456, -3.6...</td>\n",
       "      <td>parking</td>\n",
       "      <td>transport</td>\n",
       "    </tr>\n",
       "    <tr>\n",
       "      <th>183747</th>\n",
       "      <td>Aparcamiento mixto. Casino de la Reina</td>\n",
       "      <td>40.406</td>\n",
       "      <td>-3.704</td>\n",
       "      <td>{'type': 'Point', 'coordinates': [40.406, -3.7...</td>\n",
       "      <td>parking</td>\n",
       "      <td>transport</td>\n",
       "    </tr>\n",
       "    <tr>\n",
       "      <th>13477</th>\n",
       "      <td>Aparcamiento mixto. Condesa de Gavia</td>\n",
       "      <td>40.449</td>\n",
       "      <td>-3.701</td>\n",
       "      <td>{'type': 'Point', 'coordinates': [40.449, -3.7...</td>\n",
       "      <td>parking</td>\n",
       "      <td>transport</td>\n",
       "    </tr>\n",
       "  </tbody>\n",
       "</table>\n",
       "</div>"
      ],
      "text/plain": [
       "                                                     name  latitude  \\\n",
       "PK                                                                    \n",
       "13470               Aparcamiento mixto. Arquitecto Ribera    40.426   \n",
       "59060   Aparcamiento mixto. Avenida de América (interc...    40.438   \n",
       "13475                          Aparcamiento mixto. Brasil    40.456   \n",
       "183747             Aparcamiento mixto. Casino de la Reina    40.406   \n",
       "13477                Aparcamiento mixto. Condesa de Gavia    40.449   \n",
       "\n",
       "        longitude                                           geometry    place  \\\n",
       "PK                                                                              \n",
       "13470      -3.699  {'type': 'Point', 'coordinates': [40.426, -3.6...  parking   \n",
       "59060      -3.676  {'type': 'Point', 'coordinates': [40.438, -3.6...  parking   \n",
       "13475      -3.694  {'type': 'Point', 'coordinates': [40.456, -3.6...  parking   \n",
       "183747     -3.704  {'type': 'Point', 'coordinates': [40.406, -3.7...  parking   \n",
       "13477      -3.701  {'type': 'Point', 'coordinates': [40.449, -3.7...  parking   \n",
       "\n",
       "             type  \n",
       "PK                 \n",
       "13470   transport  \n",
       "59060   transport  \n",
       "13475   transport  \n",
       "183747  transport  \n",
       "13477   transport  "
      ]
     },
     "execution_count": 14,
     "metadata": {},
     "output_type": "execute_result"
    }
   ],
   "source": [
    "parking.head()"
   ]
  },
  {
   "cell_type": "markdown",
   "metadata": {},
   "source": [
    "## Exporting"
   ]
  },
  {
   "cell_type": "code",
   "execution_count": 15,
   "metadata": {},
   "outputs": [],
   "source": [
    "stops_autobuses_urbanos.to_json(\"../json/stops_autobuses_urbanos\", orient=\"records\")\n",
    "stops_cercanias.to_json(\"../json/stops_cercanias\", orient=\"records\")\n",
    "stops_emt.to_json(\"../json/stops_emt\", orient=\"records\")\n",
    "stops_interurbanos.to_json(\"../json/stops_interurbanos\", orient=\"records\")\n",
    "stops_metro.to_json(\"../json/stops_metro\", orient=\"records\")\n",
    "stops_metro_ligero.to_json(\"../json/stops_metro_ligero\", orient=\"records\")\n",
    "parking.to_json(\"../json/parking\", orient=\"records\")"
   ]
  },
  {
   "cell_type": "code",
   "execution_count": null,
   "metadata": {},
   "outputs": [],
   "source": []
  },
  {
   "cell_type": "code",
   "execution_count": null,
   "metadata": {},
   "outputs": [],
   "source": []
  }
 ],
 "metadata": {
  "kernelspec": {
   "display_name": "plan",
   "language": "python",
   "name": "plan"
  },
  "language_info": {
   "codemirror_mode": {
    "name": "ipython",
    "version": 3
   },
   "file_extension": ".py",
   "mimetype": "text/x-python",
   "name": "python",
   "nbconvert_exporter": "python",
   "pygments_lexer": "ipython3",
   "version": "3.8.8"
  }
 },
 "nbformat": 4,
 "nbformat_minor": 4
}
