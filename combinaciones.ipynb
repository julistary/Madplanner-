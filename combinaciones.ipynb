{
 "cells": [
  {
   "cell_type": "code",
   "execution_count": 1,
   "id": "59b386f9",
   "metadata": {},
   "outputs": [],
   "source": [
    "import pandas as pd\n",
    "import geopandas\n",
    "from folium import Circle, Marker, Icon, Map\n",
    "from pymongo import MongoClient, GEOSPHERE\n",
    "conn = MongoClient(\"localhost:27017\")\n",
    "db = conn.get_database(\"madrid\")\n",
    "import random"
   ]
  },
  {
   "cell_type": "code",
   "execution_count": 2,
   "id": "aa5ea3f4",
   "metadata": {},
   "outputs": [],
   "source": [
    "df_restaurants = pd.read_csv(\"data/restaurants.csv\", index_col=0)\n",
    "df_snacks = pd.read_csv(\"data/snacks.csv\", index_col=0)\n",
    "df_culture = pd.read_csv(\"data/culture.csv\", index_col=0)\n",
    "df_party = pd.read_csv(\"data/party.csv\", index_col=0)\n",
    "df_drinks = pd.read_csv(\"data/drinks.csv\", index_col=0)\n",
    "df_outdoors = pd.read_csv(\"data/outdoors.csv\", index_col=0)\n",
    "df_leisure = pd.read_csv(\"data/leisure.csv\", index_col=0)"
   ]
  },
  {
   "cell_type": "code",
   "execution_count": 3,
   "id": "66bba303",
   "metadata": {},
   "outputs": [],
   "source": [
    "#list(df_restaurants.CP.unique())"
   ]
  },
  {
   "cell_type": "code",
   "execution_count": 15,
   "id": "e1b7b244",
   "metadata": {},
   "outputs": [],
   "source": [
    "leisure = db.get_collection(\"leisure\")\n",
    "outdoors = db.get_collection(\"outdoors\")\n",
    "restaurants = db.get_collection(\"restaurants\")\n",
    "drinks = db.get_collection(\"drinks\")\n",
    "party = db.get_collection(\"party\")\n"
   ]
  },
  {
   "cell_type": "markdown",
   "id": "fff73783",
   "metadata": {},
   "source": [
    "## Team-building"
   ]
  },
  {
   "cell_type": "code",
   "execution_count": 16,
   "id": "fc118494",
   "metadata": {},
   "outputs": [
    {
     "data": {
      "text/plain": [
       "['restaurants',\n",
       " 'culture',\n",
       " 'snacks',\n",
       " 'todo',\n",
       " 'leisure',\n",
       " 'outdoors',\n",
       " 'transport',\n",
       " 'drinks',\n",
       " 'party']"
      ]
     },
     "execution_count": 16,
     "metadata": {},
     "output_type": "execute_result"
    }
   ],
   "source": [
    "db.list_collection_names()"
   ]
  },
  {
   "cell_type": "code",
   "execution_count": 17,
   "id": "83430197",
   "metadata": {},
   "outputs": [],
   "source": [
    "intersection = set(list(df_leisure.CP.unique())).intersection(set(list(df_restaurants.CP.unique())))"
   ]
  },
  {
   "cell_type": "code",
   "execution_count": 18,
   "id": "b683fcea",
   "metadata": {},
   "outputs": [],
   "source": [
    "cp = list(intersection)"
   ]
  },
  {
   "cell_type": "code",
   "execution_count": 19,
   "id": "63f2a265",
   "metadata": {},
   "outputs": [],
   "source": [
    "cp_random = random.choice(cp)"
   ]
  },
  {
   "cell_type": "code",
   "execution_count": 20,
   "id": "a1e2d870",
   "metadata": {},
   "outputs": [],
   "source": [
    "leis = list(leisure.find({\"CP\":str(int(cp_random))}))"
   ]
  },
  {
   "cell_type": "code",
   "execution_count": 21,
   "id": "744aaee6",
   "metadata": {},
   "outputs": [],
   "source": [
    "rest = list(restaurants.find({\"CP\":str(int(cp_random))}))"
   ]
  },
  {
   "cell_type": "code",
   "execution_count": 22,
   "id": "3d38ccf0",
   "metadata": {},
   "outputs": [],
   "source": [
    "l_random = random.choice(leis)\n",
    "r_random = random.choice(rest)"
   ]
  },
  {
   "cell_type": "code",
   "execution_count": 23,
   "id": "efbaecbf",
   "metadata": {},
   "outputs": [
    {
     "data": {
      "text/plain": [
       "{'_id': ObjectId('609ff458b70b40a97f6e74ef'),\n",
       " 'name': 'The Box - Escape Room',\n",
       " 'rating': 4.7,\n",
       " 'address': 'Calle de Covarrubias, 22, 28010 Madrid, Spain',\n",
       " 'price_level': 2.0,\n",
       " 'place': 'escape room',\n",
       " 'CP': '28010',\n",
       " 'latitude': 40.4300619,\n",
       " 'longitude': -3.6975783,\n",
       " 'geometry': {'type': 'Point', 'coordinates': [-3.6975783, 40.4300619]},\n",
       " 'price': '15-25€'}"
      ]
     },
     "execution_count": 23,
     "metadata": {},
     "output_type": "execute_result"
    }
   ],
   "source": [
    "l_random"
   ]
  },
  {
   "cell_type": "code",
   "execution_count": 24,
   "id": "934db416",
   "metadata": {},
   "outputs": [
    {
     "data": {
      "text/plain": [
       "{'_id': ObjectId('609ff4562ae6282c52dde571'),\n",
       " 'name': 'Canalla Lounge',\n",
       " 'rating': 4.2,\n",
       " 'address': 'Calle de García de Paredes, 2, 28010 Madrid, Spain',\n",
       " 'price_level': 2.0,\n",
       " 'place': 'mexican',\n",
       " 'CP': '28010',\n",
       " 'latitude': 40.436983,\n",
       " 'longitude': -3.703971,\n",
       " 'geometry': {'type': 'Point', 'coordinates': [-3.703971, 40.436983]},\n",
       " 'price': '15-25€'}"
      ]
     },
     "execution_count": 24,
     "metadata": {},
     "output_type": "execute_result"
    }
   ],
   "source": [
    "r_random"
   ]
  },
  {
   "cell_type": "markdown",
   "id": "9c50b4a7",
   "metadata": {},
   "source": [
    "## Friends"
   ]
  },
  {
   "cell_type": "code",
   "execution_count": 141,
   "id": "572a0b3c",
   "metadata": {},
   "outputs": [],
   "source": [
    "intersection = set(list(df_drinks.CP.unique())).intersection(set(list(df_party.CP.unique())))\n",
    "\n",
    "cp = list(intersection)\n",
    "\n",
    "cp_random = random.choice(cp)\n",
    "\n",
    "drinks_ = list(drinks.find({\"CP\":str(int(cp_random))}))\n",
    "\n",
    "party_ = list(party.find({\"CP\":str(int(cp_random))}))\n",
    "\n",
    "d_random = random.choice(drinks_)\n",
    "p_random = random.choice(party_)"
   ]
  },
  {
   "cell_type": "code",
   "execution_count": 142,
   "id": "49a57d6d",
   "metadata": {},
   "outputs": [
    {
     "data": {
      "text/plain": [
       "{'_id': ObjectId('609ff456b948afe42d69db20'),\n",
       " 'name': 'Brewery Norwich International',\n",
       " 'rating': 4.4,\n",
       " 'address': 'Calle de la Marroquina, 38, 28030 Madrid, Spain',\n",
       " 'price_level': 1.0,\n",
       " 'place': 'brewery',\n",
       " 'CP': '28030',\n",
       " 'latitude': 40.407804,\n",
       " 'longitude': -3.64773,\n",
       " 'geometry': {'type': 'Point', 'coordinates': [-3.64773, 40.407804]},\n",
       " 'price': '15-25€'}"
      ]
     },
     "execution_count": 142,
     "metadata": {},
     "output_type": "execute_result"
    }
   ],
   "source": [
    "d_random"
   ]
  },
  {
   "cell_type": "code",
   "execution_count": 133,
   "id": "c4744f79",
   "metadata": {},
   "outputs": [
    {
     "data": {
      "text/plain": [
       "{'type': 'Point', 'coordinates': [-3.678826, 40.4328007]}"
      ]
     },
     "execution_count": 133,
     "metadata": {},
     "output_type": "execute_result"
    }
   ],
   "source": [
    "p_random.pop(\"geometry\")"
   ]
  },
  {
   "cell_type": "code",
   "execution_count": 143,
   "id": "dbb504ef",
   "metadata": {},
   "outputs": [
    {
     "data": {
      "text/plain": [
       "{'_id': ObjectId('609ff457760891fde7e5fc9b'),\n",
       " 'name': 'Pub Shark',\n",
       " 'rating': 4.4,\n",
       " 'address': 'Calle del Corregidor Diego de Valderrábano, 1, 28030 Madrid, Spain',\n",
       " 'price_level': 1.0,\n",
       " 'place': 'pub',\n",
       " 'CP': '28030',\n",
       " 'latitude': 40.4084733,\n",
       " 'longitude': -3.6621067,\n",
       " 'geometry': {'type': 'Point', 'coordinates': [-3.6621067, 40.4084733]},\n",
       " 'price': '15-25€'}"
      ]
     },
     "execution_count": 143,
     "metadata": {},
     "output_type": "execute_result"
    }
   ],
   "source": [
    "p_random"
   ]
  },
  {
   "cell_type": "code",
   "execution_count": 144,
   "id": "f8bd106d",
   "metadata": {},
   "outputs": [],
   "source": [
    "df1 = pd.DataFrame.from_dict(d_random)\n",
    "df2 = pd.DataFrame.from_dict(p_random)\n",
    "df = pd.concat([df1,df2])"
   ]
  },
  {
   "cell_type": "code",
   "execution_count": 145,
   "id": "4aaa8318",
   "metadata": {},
   "outputs": [
    {
     "data": {
      "text/html": [
       "<div>\n",
       "<style scoped>\n",
       "    .dataframe tbody tr th:only-of-type {\n",
       "        vertical-align: middle;\n",
       "    }\n",
       "\n",
       "    .dataframe tbody tr th {\n",
       "        vertical-align: top;\n",
       "    }\n",
       "\n",
       "    .dataframe thead th {\n",
       "        text-align: right;\n",
       "    }\n",
       "</style>\n",
       "<table border=\"1\" class=\"dataframe\">\n",
       "  <thead>\n",
       "    <tr style=\"text-align: right;\">\n",
       "      <th></th>\n",
       "      <th>_id</th>\n",
       "      <th>name</th>\n",
       "      <th>rating</th>\n",
       "      <th>address</th>\n",
       "      <th>price_level</th>\n",
       "      <th>place</th>\n",
       "      <th>CP</th>\n",
       "      <th>latitude</th>\n",
       "      <th>longitude</th>\n",
       "      <th>geometry</th>\n",
       "      <th>price</th>\n",
       "    </tr>\n",
       "  </thead>\n",
       "  <tbody>\n",
       "    <tr>\n",
       "      <th>coordinates</th>\n",
       "      <td>609ff456b948afe42d69db20</td>\n",
       "      <td>Brewery Norwich International</td>\n",
       "      <td>4.4</td>\n",
       "      <td>Calle de la Marroquina, 38, 28030 Madrid, Spain</td>\n",
       "      <td>1.0</td>\n",
       "      <td>brewery</td>\n",
       "      <td>28030</td>\n",
       "      <td>40.407804</td>\n",
       "      <td>-3.647730</td>\n",
       "      <td>[-3.64773, 40.407804]</td>\n",
       "      <td>15-25€</td>\n",
       "    </tr>\n",
       "    <tr>\n",
       "      <th>type</th>\n",
       "      <td>609ff456b948afe42d69db20</td>\n",
       "      <td>Brewery Norwich International</td>\n",
       "      <td>4.4</td>\n",
       "      <td>Calle de la Marroquina, 38, 28030 Madrid, Spain</td>\n",
       "      <td>1.0</td>\n",
       "      <td>brewery</td>\n",
       "      <td>28030</td>\n",
       "      <td>40.407804</td>\n",
       "      <td>-3.647730</td>\n",
       "      <td>Point</td>\n",
       "      <td>15-25€</td>\n",
       "    </tr>\n",
       "    <tr>\n",
       "      <th>coordinates</th>\n",
       "      <td>609ff457760891fde7e5fc9b</td>\n",
       "      <td>Pub Shark</td>\n",
       "      <td>4.4</td>\n",
       "      <td>Calle del Corregidor Diego de Valderrábano, 1,...</td>\n",
       "      <td>1.0</td>\n",
       "      <td>pub</td>\n",
       "      <td>28030</td>\n",
       "      <td>40.408473</td>\n",
       "      <td>-3.662107</td>\n",
       "      <td>[-3.6621067, 40.4084733]</td>\n",
       "      <td>15-25€</td>\n",
       "    </tr>\n",
       "    <tr>\n",
       "      <th>type</th>\n",
       "      <td>609ff457760891fde7e5fc9b</td>\n",
       "      <td>Pub Shark</td>\n",
       "      <td>4.4</td>\n",
       "      <td>Calle del Corregidor Diego de Valderrábano, 1,...</td>\n",
       "      <td>1.0</td>\n",
       "      <td>pub</td>\n",
       "      <td>28030</td>\n",
       "      <td>40.408473</td>\n",
       "      <td>-3.662107</td>\n",
       "      <td>Point</td>\n",
       "      <td>15-25€</td>\n",
       "    </tr>\n",
       "  </tbody>\n",
       "</table>\n",
       "</div>"
      ],
      "text/plain": [
       "                                  _id                           name  rating  \\\n",
       "coordinates  609ff456b948afe42d69db20  Brewery Norwich International     4.4   \n",
       "type         609ff456b948afe42d69db20  Brewery Norwich International     4.4   \n",
       "coordinates  609ff457760891fde7e5fc9b                      Pub Shark     4.4   \n",
       "type         609ff457760891fde7e5fc9b                      Pub Shark     4.4   \n",
       "\n",
       "                                                       address  price_level  \\\n",
       "coordinates    Calle de la Marroquina, 38, 28030 Madrid, Spain          1.0   \n",
       "type           Calle de la Marroquina, 38, 28030 Madrid, Spain          1.0   \n",
       "coordinates  Calle del Corregidor Diego de Valderrábano, 1,...          1.0   \n",
       "type         Calle del Corregidor Diego de Valderrábano, 1,...          1.0   \n",
       "\n",
       "               place     CP   latitude  longitude                  geometry  \\\n",
       "coordinates  brewery  28030  40.407804  -3.647730     [-3.64773, 40.407804]   \n",
       "type         brewery  28030  40.407804  -3.647730                     Point   \n",
       "coordinates      pub  28030  40.408473  -3.662107  [-3.6621067, 40.4084733]   \n",
       "type             pub  28030  40.408473  -3.662107                     Point   \n",
       "\n",
       "              price  \n",
       "coordinates  15-25€  \n",
       "type         15-25€  \n",
       "coordinates  15-25€  \n",
       "type         15-25€  "
      ]
     },
     "execution_count": 145,
     "metadata": {},
     "output_type": "execute_result"
    }
   ],
   "source": [
    "df"
   ]
  },
  {
   "cell_type": "markdown",
   "id": "46252a0d",
   "metadata": {},
   "source": [
    "## General"
   ]
  },
  {
   "cell_type": "code",
   "execution_count": 182,
   "id": "a8b6694d",
   "metadata": {},
   "outputs": [],
   "source": [
    "def planes():\n",
    "\n",
    "    #df_1 = \"df_\" + plan_1\n",
    "    #df_2 = \"df_\" + plan_2\n",
    "\n",
    "   # intersection = set(list(locals()[df_1].CP.unique())).intersection(set(list(locals()[df_2].CP.unique())))\n",
    "    intersection = set(list(df_restaurants.CP.unique())).intersection(set(list(df_outdoors.CP.unique())))\n",
    "\n",
    "    cp = list(intersection)\n",
    "\n",
    "    cp_random = random.choice(cp)\n",
    "\n",
    "    plan1 = list(restaurants.find({\"CP\":str(int(cp_random))}))\n",
    "\n",
    "    plan2 = list(outdoors.find({\"CP\":str(int(cp_random))}))\n",
    "\n",
    "    p1_random = random.choice(plan1)\n",
    "    p2_random = random.choice(plan2)\n",
    "\n",
    "    df1 = pd.DataFrame.from_dict(p1_random)\n",
    "    df2 = pd.DataFrame.from_dict(p2_random)\n",
    "    df = pd.concat([df1,df2])\n",
    "\n",
    "    return df"
   ]
  },
  {
   "cell_type": "code",
   "execution_count": 183,
   "id": "e602faec",
   "metadata": {},
   "outputs": [
    {
     "data": {
      "text/html": [
       "<div>\n",
       "<style scoped>\n",
       "    .dataframe tbody tr th:only-of-type {\n",
       "        vertical-align: middle;\n",
       "    }\n",
       "\n",
       "    .dataframe tbody tr th {\n",
       "        vertical-align: top;\n",
       "    }\n",
       "\n",
       "    .dataframe thead th {\n",
       "        text-align: right;\n",
       "    }\n",
       "</style>\n",
       "<table border=\"1\" class=\"dataframe\">\n",
       "  <thead>\n",
       "    <tr style=\"text-align: right;\">\n",
       "      <th></th>\n",
       "      <th>_id</th>\n",
       "      <th>name</th>\n",
       "      <th>rating</th>\n",
       "      <th>address</th>\n",
       "      <th>price_level</th>\n",
       "      <th>place</th>\n",
       "      <th>CP</th>\n",
       "      <th>latitude</th>\n",
       "      <th>longitude</th>\n",
       "      <th>geometry</th>\n",
       "      <th>price</th>\n",
       "    </tr>\n",
       "  </thead>\n",
       "  <tbody>\n",
       "    <tr>\n",
       "      <th>coordinates</th>\n",
       "      <td>609ff4562ae6282c52dde4d8</td>\n",
       "      <td>The Quick Greek Alcalá de Henares</td>\n",
       "      <td>4.1</td>\n",
       "      <td>Av. Guadalajara, 3, 28805 Alcalá de Henares, M...</td>\n",
       "      <td>1.0</td>\n",
       "      <td>greek</td>\n",
       "      <td>28805</td>\n",
       "      <td>40.485838</td>\n",
       "      <td>-3.360577</td>\n",
       "      <td>[-3.3605771, 40.4858378]</td>\n",
       "      <td>1-15€</td>\n",
       "    </tr>\n",
       "    <tr>\n",
       "      <th>type</th>\n",
       "      <td>609ff4562ae6282c52dde4d8</td>\n",
       "      <td>The Quick Greek Alcalá de Henares</td>\n",
       "      <td>4.1</td>\n",
       "      <td>Av. Guadalajara, 3, 28805 Alcalá de Henares, M...</td>\n",
       "      <td>1.0</td>\n",
       "      <td>greek</td>\n",
       "      <td>28805</td>\n",
       "      <td>40.485838</td>\n",
       "      <td>-3.360577</td>\n",
       "      <td>Point</td>\n",
       "      <td>1-15€</td>\n",
       "    </tr>\n",
       "    <tr>\n",
       "      <th>coordinates</th>\n",
       "      <td>609ff45712159f0ceb2a424c</td>\n",
       "      <td>Encin Golf Hotel</td>\n",
       "      <td>4.1</td>\n",
       "      <td>A-2 Km 35 600, 28805 Alcalá de Henares, Spain</td>\n",
       "      <td>1.0</td>\n",
       "      <td>golf</td>\n",
       "      <td>28805</td>\n",
       "      <td>40.522474</td>\n",
       "      <td>-3.312070</td>\n",
       "      <td>[-3.3120705, 40.5224737]</td>\n",
       "      <td>15-25€</td>\n",
       "    </tr>\n",
       "    <tr>\n",
       "      <th>type</th>\n",
       "      <td>609ff45712159f0ceb2a424c</td>\n",
       "      <td>Encin Golf Hotel</td>\n",
       "      <td>4.1</td>\n",
       "      <td>A-2 Km 35 600, 28805 Alcalá de Henares, Spain</td>\n",
       "      <td>1.0</td>\n",
       "      <td>golf</td>\n",
       "      <td>28805</td>\n",
       "      <td>40.522474</td>\n",
       "      <td>-3.312070</td>\n",
       "      <td>Point</td>\n",
       "      <td>15-25€</td>\n",
       "    </tr>\n",
       "  </tbody>\n",
       "</table>\n",
       "</div>"
      ],
      "text/plain": [
       "                                  _id                               name  \\\n",
       "coordinates  609ff4562ae6282c52dde4d8  The Quick Greek Alcalá de Henares   \n",
       "type         609ff4562ae6282c52dde4d8  The Quick Greek Alcalá de Henares   \n",
       "coordinates  609ff45712159f0ceb2a424c                   Encin Golf Hotel   \n",
       "type         609ff45712159f0ceb2a424c                   Encin Golf Hotel   \n",
       "\n",
       "             rating                                            address  \\\n",
       "coordinates     4.1  Av. Guadalajara, 3, 28805 Alcalá de Henares, M...   \n",
       "type            4.1  Av. Guadalajara, 3, 28805 Alcalá de Henares, M...   \n",
       "coordinates     4.1      A-2 Km 35 600, 28805 Alcalá de Henares, Spain   \n",
       "type            4.1      A-2 Km 35 600, 28805 Alcalá de Henares, Spain   \n",
       "\n",
       "             price_level  place     CP   latitude  longitude  \\\n",
       "coordinates          1.0  greek  28805  40.485838  -3.360577   \n",
       "type                 1.0  greek  28805  40.485838  -3.360577   \n",
       "coordinates          1.0   golf  28805  40.522474  -3.312070   \n",
       "type                 1.0   golf  28805  40.522474  -3.312070   \n",
       "\n",
       "                             geometry   price  \n",
       "coordinates  [-3.3605771, 40.4858378]   1-15€  \n",
       "type                            Point   1-15€  \n",
       "coordinates  [-3.3120705, 40.5224737]  15-25€  \n",
       "type                            Point  15-25€  "
      ]
     },
     "execution_count": 183,
     "metadata": {},
     "output_type": "execute_result"
    }
   ],
   "source": [
    "planes()"
   ]
  },
  {
   "cell_type": "code",
   "execution_count": null,
   "id": "0fccd2e1",
   "metadata": {},
   "outputs": [],
   "source": []
  }
 ],
 "metadata": {
  "kernelspec": {
   "display_name": "plan",
   "language": "python",
   "name": "plan"
  },
  "language_info": {
   "codemirror_mode": {
    "name": "ipython",
    "version": 3
   },
   "file_extension": ".py",
   "mimetype": "text/x-python",
   "name": "python",
   "nbconvert_exporter": "python",
   "pygments_lexer": "ipython3",
   "version": "3.8.8"
  }
 },
 "nbformat": 4,
 "nbformat_minor": 5
}
