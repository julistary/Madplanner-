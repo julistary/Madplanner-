{
 "cells": [
  {
   "cell_type": "code",
   "execution_count": 115,
   "metadata": {},
   "outputs": [],
   "source": [
    "import pandas as pd\n",
    "import geopandas\n",
    "from folium import Circle, Marker, Icon, Map\n",
    "from pymongo import MongoClient, GEOSPHERE\n",
    "conn = MongoClient(\"localhost:27017\")\n",
    "db = conn.get_database(\"madrid\")\n",
    "import random\n",
    "from folium import Circle, Marker, Icon, Map\n",
    "import requests\n",
    "from bs4 import BeautifulSoup\n"
   ]
  },
  {
   "cell_type": "code",
   "execution_count": 2,
   "metadata": {},
   "outputs": [],
   "source": [
    "df_restaurants = pd.read_csv(\"data/restaurants.csv\", index_col=0)\n",
    "df_snacks = pd.read_csv(\"data/snacks.csv\", index_col=0)\n",
    "df_culture = pd.read_csv(\"data/culture.csv\", index_col=0)\n",
    "df_party = pd.read_csv(\"data/party.csv\", index_col=0)\n",
    "df_drinks = pd.read_csv(\"data/drinks.csv\", index_col=0)\n",
    "df_outdoors = pd.read_csv(\"data/outdoors.csv\", index_col=0)\n",
    "df_leisure = pd.read_csv(\"data/leisure.csv\", index_col=0)"
   ]
  },
  {
   "cell_type": "code",
   "execution_count": 3,
   "metadata": {},
   "outputs": [],
   "source": [
    "#list(df_restaurants.CP.unique())"
   ]
  },
  {
   "cell_type": "code",
   "execution_count": 4,
   "metadata": {},
   "outputs": [],
   "source": [
    "leisure = db.get_collection(\"leisure\")\n",
    "outdoors = db.get_collection(\"outdoors\")\n",
    "restaurants = db.get_collection(\"restaurants\")\n",
    "drinks = db.get_collection(\"drinks\")\n",
    "party = db.get_collection(\"party\")\n",
    "snacks = db.get_collection(\"snacks\")\n",
    "culture = db.get_collection(\"culture\")\n",
    "transport = db.get_collection(\"transport\")\n"
   ]
  },
  {
   "cell_type": "markdown",
   "metadata": {},
   "source": [
    "## Team-building"
   ]
  },
  {
   "cell_type": "code",
   "execution_count": 5,
   "metadata": {},
   "outputs": [
    {
     "data": {
      "text/plain": [
       "['culture',\n",
       " 'transport',\n",
       " 'todo',\n",
       " 'leisure',\n",
       " 'party',\n",
       " 'restaurants',\n",
       " 'drinks',\n",
       " 'snacks',\n",
       " 'outdoors']"
      ]
     },
     "execution_count": 5,
     "metadata": {},
     "output_type": "execute_result"
    }
   ],
   "source": [
    "db.list_collection_names()"
   ]
  },
  {
   "cell_type": "code",
   "execution_count": 6,
   "metadata": {},
   "outputs": [],
   "source": [
    "intersection = set(list(df_leisure.CP.unique())).intersection(set(list(df_restaurants.CP.unique())))"
   ]
  },
  {
   "cell_type": "code",
   "execution_count": 7,
   "metadata": {},
   "outputs": [],
   "source": [
    "cp = list(intersection)"
   ]
  },
  {
   "cell_type": "code",
   "execution_count": 8,
   "metadata": {},
   "outputs": [],
   "source": [
    "cp_random = random.choice(cp)"
   ]
  },
  {
   "cell_type": "code",
   "execution_count": 9,
   "metadata": {},
   "outputs": [],
   "source": [
    "leis = list(leisure.find({\"CP\":str(int(cp_random))}))"
   ]
  },
  {
   "cell_type": "code",
   "execution_count": 10,
   "metadata": {},
   "outputs": [],
   "source": [
    "rest = list(restaurants.find({\"CP\":str(int(cp_random))}))"
   ]
  },
  {
   "cell_type": "code",
   "execution_count": 11,
   "metadata": {},
   "outputs": [],
   "source": [
    "l_random = random.choice(leis)\n",
    "r_random = random.choice(rest)"
   ]
  },
  {
   "cell_type": "code",
   "execution_count": 12,
   "metadata": {},
   "outputs": [
    {
     "data": {
      "text/plain": [
       "{'_id': ObjectId('60a0f5a8ca2d1425dcbbdbd9'),\n",
       " 'name': 'Bowling Ilusiona Plenilunio',\n",
       " 'rating': 4.3,\n",
       " 'address': 'C.C. Plenilunio, Calle de Aracne, 3, 28022 Madrid, Spain',\n",
       " 'price_level': 1.0,\n",
       " 'place': 'bowling',\n",
       " 'CP': '28022',\n",
       " 'latitude': 40.4475017,\n",
       " 'longitude': -3.5868256,\n",
       " 'geometry': {'type': 'Point', 'coordinates': [-3.5868256, 40.4475017]},\n",
       " 'price': '1-15€'}"
      ]
     },
     "execution_count": 12,
     "metadata": {},
     "output_type": "execute_result"
    }
   ],
   "source": [
    "l_random"
   ]
  },
  {
   "cell_type": "code",
   "execution_count": 13,
   "metadata": {},
   "outputs": [
    {
     "data": {
      "text/plain": [
       "{'_id': ObjectId('60a0f5a7bd9ddfe838fcbff9'),\n",
       " 'name': 'The Good Burger',\n",
       " 'rating': 3.9,\n",
       " 'address': 'Calle de Aracne, S/N, 28022 Madrid, Spain',\n",
       " 'price_level': 1.0,\n",
       " 'place': 'burger',\n",
       " 'CP': '28022',\n",
       " 'latitude': 40.4473406,\n",
       " 'longitude': -3.5866978,\n",
       " 'geometry': {'type': 'Point', 'coordinates': [-3.5866978, 40.4473406]},\n",
       " 'price': '1-15€'}"
      ]
     },
     "execution_count": 13,
     "metadata": {},
     "output_type": "execute_result"
    }
   ],
   "source": [
    "r_random"
   ]
  },
  {
   "cell_type": "markdown",
   "metadata": {},
   "source": [
    "## Friends"
   ]
  },
  {
   "cell_type": "code",
   "execution_count": 14,
   "metadata": {},
   "outputs": [],
   "source": [
    "intersection = set(list(df_drinks.CP.unique())).intersection(set(list(df_party.CP.unique())))\n",
    "\n",
    "cp = list(intersection)\n",
    "\n",
    "cp_random = random.choice(cp)\n",
    "\n",
    "drinks_ = list(drinks.find({\"CP\":str(int(cp_random))}))\n",
    "\n",
    "party_ = list(party.find({\"CP\":str(int(cp_random))}))\n",
    "\n",
    "d_random = random.choice(drinks_)\n",
    "p_random = random.choice(party_)"
   ]
  },
  {
   "cell_type": "code",
   "execution_count": 15,
   "metadata": {},
   "outputs": [
    {
     "data": {
      "text/plain": [
       "{'_id': ObjectId('60a0f5a7b68aeec84a076b84'),\n",
       " 'name': 'TomeVinos',\n",
       " 'rating': 4.7,\n",
       " 'address': 'Paseo de la Chopera, 194, 28100 Alcobendas, Madrid, Spain',\n",
       " 'price_level': 2.0,\n",
       " 'place': 'wine',\n",
       " 'CP': '28100',\n",
       " 'latitude': 40.5453377,\n",
       " 'longitude': -3.6590494,\n",
       " 'geometry': {'type': 'Point', 'coordinates': [-3.6590494, 40.5453377]},\n",
       " 'price': '1-15€'}"
      ]
     },
     "execution_count": 15,
     "metadata": {},
     "output_type": "execute_result"
    }
   ],
   "source": [
    "d_random"
   ]
  },
  {
   "cell_type": "code",
   "execution_count": 16,
   "metadata": {},
   "outputs": [
    {
     "data": {
      "text/plain": [
       "{'_id': ObjectId('60a0f5a85976320580e34311'),\n",
       " 'name': 'Sala Liverpool Karaoke',\n",
       " 'rating': 3.4,\n",
       " 'address': 'Plaza de Felipe Álvarez Gadea, 28100 Alcobendas, Madrid, Spain',\n",
       " 'price_level': 1.0,\n",
       " 'place': 'karaoke',\n",
       " 'CP': '28100',\n",
       " 'latitude': 40.5404831,\n",
       " 'longitude': -3.6322001,\n",
       " 'geometry': {'type': 'Point', 'coordinates': [-3.6322001, 40.5404831]},\n",
       " 'price': '1-15€'}"
      ]
     },
     "execution_count": 16,
     "metadata": {},
     "output_type": "execute_result"
    }
   ],
   "source": [
    "p_random"
   ]
  },
  {
   "cell_type": "code",
   "execution_count": 17,
   "metadata": {},
   "outputs": [],
   "source": [
    "df1 = pd.DataFrame.from_dict(d_random)\n",
    "df2 = pd.DataFrame.from_dict(p_random)\n",
    "df = pd.concat([df1,df2])"
   ]
  },
  {
   "cell_type": "code",
   "execution_count": 18,
   "metadata": {},
   "outputs": [],
   "source": [
    "#df = df.set_index(\"name\")\n",
    "df =df.drop([\"geometry\"], axis = 1)"
   ]
  },
  {
   "cell_type": "code",
   "execution_count": 19,
   "metadata": {},
   "outputs": [],
   "source": [
    "df = df.drop_duplicates()"
   ]
  },
  {
   "cell_type": "code",
   "execution_count": 20,
   "metadata": {},
   "outputs": [
    {
     "data": {
      "text/html": [
       "<div>\n",
       "<style scoped>\n",
       "    .dataframe tbody tr th:only-of-type {\n",
       "        vertical-align: middle;\n",
       "    }\n",
       "\n",
       "    .dataframe tbody tr th {\n",
       "        vertical-align: top;\n",
       "    }\n",
       "\n",
       "    .dataframe thead th {\n",
       "        text-align: right;\n",
       "    }\n",
       "</style>\n",
       "<table border=\"1\" class=\"dataframe\">\n",
       "  <thead>\n",
       "    <tr style=\"text-align: right;\">\n",
       "      <th></th>\n",
       "      <th>_id</th>\n",
       "      <th>name</th>\n",
       "      <th>rating</th>\n",
       "      <th>address</th>\n",
       "      <th>price_level</th>\n",
       "      <th>place</th>\n",
       "      <th>CP</th>\n",
       "      <th>latitude</th>\n",
       "      <th>longitude</th>\n",
       "      <th>price</th>\n",
       "    </tr>\n",
       "  </thead>\n",
       "  <tbody>\n",
       "    <tr>\n",
       "      <th>coordinates</th>\n",
       "      <td>60a0f5a7b68aeec84a076b84</td>\n",
       "      <td>TomeVinos</td>\n",
       "      <td>4.7</td>\n",
       "      <td>Paseo de la Chopera, 194, 28100 Alcobendas, Ma...</td>\n",
       "      <td>2.0</td>\n",
       "      <td>wine</td>\n",
       "      <td>28100</td>\n",
       "      <td>40.545338</td>\n",
       "      <td>-3.659049</td>\n",
       "      <td>1-15€</td>\n",
       "    </tr>\n",
       "    <tr>\n",
       "      <th>coordinates</th>\n",
       "      <td>60a0f5a85976320580e34311</td>\n",
       "      <td>Sala Liverpool Karaoke</td>\n",
       "      <td>3.4</td>\n",
       "      <td>Plaza de Felipe Álvarez Gadea, 28100 Alcobenda...</td>\n",
       "      <td>1.0</td>\n",
       "      <td>karaoke</td>\n",
       "      <td>28100</td>\n",
       "      <td>40.540483</td>\n",
       "      <td>-3.632200</td>\n",
       "      <td>1-15€</td>\n",
       "    </tr>\n",
       "  </tbody>\n",
       "</table>\n",
       "</div>"
      ],
      "text/plain": [
       "                                  _id                    name  rating  \\\n",
       "coordinates  60a0f5a7b68aeec84a076b84               TomeVinos     4.7   \n",
       "coordinates  60a0f5a85976320580e34311  Sala Liverpool Karaoke     3.4   \n",
       "\n",
       "                                                       address  price_level  \\\n",
       "coordinates  Paseo de la Chopera, 194, 28100 Alcobendas, Ma...          2.0   \n",
       "coordinates  Plaza de Felipe Álvarez Gadea, 28100 Alcobenda...          1.0   \n",
       "\n",
       "               place     CP   latitude  longitude  price  \n",
       "coordinates     wine  28100  40.545338  -3.659049  1-15€  \n",
       "coordinates  karaoke  28100  40.540483  -3.632200  1-15€  "
      ]
     },
     "execution_count": 20,
     "metadata": {},
     "output_type": "execute_result"
    }
   ],
   "source": [
    "df"
   ]
  },
  {
   "cell_type": "markdown",
   "metadata": {},
   "source": [
    "## General"
   ]
  },
  {
   "cell_type": "code",
   "execution_count": 21,
   "metadata": {},
   "outputs": [],
   "source": [
    "def planes(df_1, df_2, coll_1, coll_2):\n",
    "    \n",
    "    intersection = set(list(df_1.CP.unique())).intersection(set(list(df_2.CP.unique())))\n",
    "\n",
    "    cp = list(intersection)\n",
    "\n",
    "    cp_random = random.choice(cp)\n",
    "\n",
    "    plan1 = list(coll_1.find({\"CP\":str(int(cp_random))}))\n",
    "\n",
    "    plan2 = list(coll_2.find({\"CP\":str(int(cp_random))}))\n",
    "    \n",
    "    p1_random = random.choice(plan1)\n",
    "    p2_random = random.choice(plan2)\n",
    "\n",
    "    df1 = pd.DataFrame.from_dict(p1_random)\n",
    "    df2 = pd.DataFrame.from_dict(p2_random)\n",
    "    df = pd.concat([df1,df2])\n",
    "    \n",
    "    df = df.set_index(\"_id\")\n",
    "    df =df.drop([\"geometry\"], axis = 1)\n",
    "    df = df.drop_duplicates()\n",
    "    \n",
    "    return df"
   ]
  },
  {
   "cell_type": "code",
   "execution_count": 22,
   "metadata": {},
   "outputs": [],
   "source": [
    "def get_df(df):\n",
    "    df = df.set_index(\"name\")\n",
    "    return df.drop([\"place\", \"CP\", \"latitude\", \"longitude\"], axis=1)"
   ]
  },
  {
   "cell_type": "code",
   "execution_count": 23,
   "metadata": {},
   "outputs": [],
   "source": [
    "def get_map(df):\n",
    "    map_1 = Map(location=[list(df.latitude.unique())[0],list(df.longitude.unique())[0]],zoom_start=15)\n",
    "    for i, row in df.iterrows():\n",
    "        geom = {\n",
    "                    \"location\":[row[\"latitude\"], row[\"longitude\"]],\n",
    "                    \"tooltip\" : row[\"name\"]\n",
    "                }\n",
    "        icon = Icon(color = \"white\",\n",
    "                                prefix = \"fa\",\n",
    "                                icon = \"trophy\",\n",
    "                                icon_color = \"black\"\n",
    "                )\n",
    "\n",
    "\n",
    "        Marker(**geom,icon = icon ).add_to(map_1)\n",
    "        \n",
    "    return map_1"
   ]
  },
  {
   "cell_type": "code",
   "execution_count": 24,
   "metadata": {},
   "outputs": [],
   "source": [
    "def type_of_plan(plan):\n",
    "    \n",
    "    options_team_building = { \"option_1\" : [df_outdoors, df_restaurants, outdoors, restaurants],\n",
    "                             \"option_2\" : [df_leisure, df_restaurants, leisure, restaurants]\n",
    "                            }\n",
    "\n",
    "    options_friends = { \"option_1\" : [df_restaurants, df_drinks, restaurants, drinks],\n",
    "                        \"option_2\" : [df_outdoors, df_restaurants, outdoors, restaurants],\n",
    "                        \"option_3\" : [df_leisure, df_restaurants, leisure, restaurants],\n",
    "                        \"option_4\" : [df_party, df_restaurants, party, restaurants],\n",
    "                        \"option_5\" : [df_drinks, df_party, drinks, party],\n",
    "                        \"option_6\" : [df_snacks, df_leisure, snacks, leisure],\n",
    "                        \"option_7\" : [df_outdoors, df_snacks, outdoors, snacks]\n",
    "                     }\n",
    "\n",
    "    options_couple = { \"option_1\" : [df_restaurants, df_drinks, restaurants, drinks],\n",
    "                       \"option_2\" : [df_leisure, df_restaurants, leisure, restaurants],\n",
    "                       \"option_3\" : [df_culture, df_restaurants, culture, restaurants],\n",
    "                       \"option_4\" : [df_culture, df_snacks, culture, snacks]\n",
    "                     }\n",
    "\n",
    "    options_individual = { \"option_1\" : [df_culture, df_restaurants, culture, restaurants],\n",
    "                           \"option_2\" : [df_culture, df_snacks, culture, snacks]\n",
    "                         }\n",
    "\n",
    "    options_family = {  \"option_1\" : [df_culture, df_restaurants, culture, restaurants],\n",
    "                        \"option_2\" : [df_culture, df_snacks, culture, snacks],\n",
    "                        \"option_3\" : [df_outdoors, df_restaurants, outdoors, restaurants],\n",
    "                        \"option_4\" : [df_outdoors, df_snacks, outdoors, snacks],\n",
    "                        \"option_5\" : [df_leisure, df_restaurants, leisure, restaurants],\n",
    "                        \"option_6\" : [df_leisure, df_snacks, leisure, snacks]\n",
    "                     }\n",
    "    \n",
    "    if plan == \"family\":\n",
    "        options =  options_family\n",
    "    elif plan == \"friends\":\n",
    "        options = options_friend\n",
    "    elif plan == \"individual\":\n",
    "        options = options_individual\n",
    "    elif plan == \"couple\":\n",
    "        options = options_couple\n",
    "    elif plan == \"team building\":\n",
    "        options = options_team_building\n",
    "     \n",
    "    opt = random.choice(list(options.keys()))\n",
    "    args = options[opt]\n",
    "    arg_1 = args[0]  \n",
    "    arg_2 = args[1]  \n",
    "    arg_3 = args[2]  \n",
    "    arg_4 = args[3]  \n",
    "    \n",
    "    return planes(arg_1, arg_2, arg_3, arg_4)"
   ]
  },
  {
   "cell_type": "code",
   "execution_count": 25,
   "metadata": {},
   "outputs": [],
   "source": [
    "plan = type_of_plan(\"couple\")"
   ]
  },
  {
   "cell_type": "code",
   "execution_count": 26,
   "metadata": {},
   "outputs": [
    {
     "data": {
      "text/html": [
       "<div>\n",
       "<style scoped>\n",
       "    .dataframe tbody tr th:only-of-type {\n",
       "        vertical-align: middle;\n",
       "    }\n",
       "\n",
       "    .dataframe tbody tr th {\n",
       "        vertical-align: top;\n",
       "    }\n",
       "\n",
       "    .dataframe thead th {\n",
       "        text-align: right;\n",
       "    }\n",
       "</style>\n",
       "<table border=\"1\" class=\"dataframe\">\n",
       "  <thead>\n",
       "    <tr style=\"text-align: right;\">\n",
       "      <th></th>\n",
       "      <th>rating</th>\n",
       "      <th>address</th>\n",
       "      <th>price_level</th>\n",
       "      <th>price</th>\n",
       "    </tr>\n",
       "    <tr>\n",
       "      <th>name</th>\n",
       "      <th></th>\n",
       "      <th></th>\n",
       "      <th></th>\n",
       "      <th></th>\n",
       "    </tr>\n",
       "  </thead>\n",
       "  <tbody>\n",
       "    <tr>\n",
       "      <th>Duomo's Pizza</th>\n",
       "      <td>3.7</td>\n",
       "      <td>Calle de Caleruega, 3, 28033 Madrid, Spain</td>\n",
       "      <td>1.0</td>\n",
       "      <td>1-15€</td>\n",
       "    </tr>\n",
       "    <tr>\n",
       "      <th>Soccer Bar Cervecería</th>\n",
       "      <td>3.9</td>\n",
       "      <td>Calle de Caleruega, 1, 28033 Madrid, Spain</td>\n",
       "      <td>2.0</td>\n",
       "      <td>1-15€</td>\n",
       "    </tr>\n",
       "  </tbody>\n",
       "</table>\n",
       "</div>"
      ],
      "text/plain": [
       "                       rating                                     address  \\\n",
       "name                                                                        \n",
       "Duomo's Pizza             3.7  Calle de Caleruega, 3, 28033 Madrid, Spain   \n",
       "Soccer Bar Cervecería     3.9  Calle de Caleruega, 1, 28033 Madrid, Spain   \n",
       "\n",
       "                       price_level  price  \n",
       "name                                       \n",
       "Duomo's Pizza                  1.0  1-15€  \n",
       "Soccer Bar Cervecería          2.0  1-15€  "
      ]
     },
     "execution_count": 26,
     "metadata": {},
     "output_type": "execute_result"
    }
   ],
   "source": [
    "get_df(plan)"
   ]
  },
  {
   "cell_type": "code",
   "execution_count": 44,
   "metadata": {},
   "outputs": [],
   "source": [
    "map_ = get_map(plan)"
   ]
  },
  {
   "cell_type": "code",
   "execution_count": 96,
   "metadata": {},
   "outputs": [],
   "source": [
    "def planes_price(max_):\n",
    "    \n",
    "    options = {\"snacks + restaurant\" : [df_snacks, df_restaurants, snacks, restaurants],\n",
    "     \"snacks + leisure activity\" : [df_snacks, df_leisure, snacks, leisure],\n",
    "     \"snacks + outdoors activity\" : [df_snacks, df_outdoors, snacks, outdoors],\n",
    "     \"snacks + culture\" : [df_snacks, df_culture, snacks, culture],\n",
    "     \"snacks + drinks\" : [df_snacks, df_drinks, snacks, drinks],\n",
    "     \"snacks + party\" : [df_snacks, df_party, snacks, party],\n",
    "     \"restaurant + leisure activity\" : [df_restaurants, df_leisure, restaurants, leisure],\n",
    "     \"restaurant + outdoors activity\" : [df_restaurants, df_outdoors, restaurants, outdoors],\n",
    "     \"restaurant + culture\" : [df_restaurants, df_culture, restaurants, culture],\n",
    "     \"restaurant + drinks\" : [df_restaurants, df_drinks, restaurants, drinks],\n",
    "     \"restaurant + party\" : [df_restaurants, df_party, restaurants, party],\n",
    "     \"leisure activity + outdoors activity\" : [df_leisure, df_outdoors, leisure, outdoors],\n",
    "     \"leisure activity + culture\" : [df_leisure, df_culture, leisure, culture],\n",
    "     \"leisure activity + drinks\" : [df_leisure, df_drinks, leisure, drinks],\n",
    "     \"leisure activity + party\" : [df_leisure, df_party, leisure, party],  \n",
    "     \"outdoors activity + culture\" : [df_outdoors, df_culture, outdoors, culture],\n",
    "     \"outdoors activity + drinks\" : [df_outdoors, df_drinks, outdoors, drinks],\n",
    "     \"outdoors activity + party\" : [df_outdoors, df_party, outdoors, party],\n",
    "     \"culture + drinks\" : [df_culture, df_drinks, culture, drinks],\n",
    "     \"culture + party\" : [df_culture, df_party, culture, party],\n",
    "     \"drinks + party\" : [df_drinks, df_party, drinks, party]\n",
    "    }\n",
    "     \n",
    "    opt = random.choice(list(options.keys()))\n",
    "    args = options[opt]\n",
    "    df_1 = args[0]  \n",
    "    df_2 = args[1]  \n",
    "    coll_1 = args[2]  \n",
    "    coll_2 = args[3] \n",
    "    \n",
    "    intersection = set(list(df_1.CP.unique())).intersection(set(list(df_2.CP.unique())))\n",
    "\n",
    "    cp = list(intersection)\n",
    "\n",
    "    cp_random = random.choice(cp)\n",
    "\n",
    "    plan1 = list(coll_1.find({\"CP\":str(int(cp_random))}))\n",
    "\n",
    "    plan2 = list(coll_2.find({\"CP\":str(int(cp_random))}))\n",
    "    \n",
    "    p1_random = random.choice(plan1)\n",
    "    p2_random = random.choice(plan2)\n",
    "\n",
    "    df1 = pd.DataFrame.from_dict(p1_random)\n",
    "    df2 = pd.DataFrame.from_dict(p2_random)\n",
    "    df = pd.concat([df1,df2])\n",
    "    \n",
    "    df = df.set_index(\"_id\")\n",
    "    df =df.drop([\"geometry\"], axis = 1)\n",
    "    df = df.drop_duplicates()\n",
    "    \n",
    "    prices = []\n",
    "    for p in list(df.price_level):\n",
    "        if p == 0.0:\n",
    "            prices.append(0)\n",
    "        elif p == 1.0:\n",
    "            prices.append(15)\n",
    "        elif p == 2.0:\n",
    "            prices.append(25)\n",
    "        elif p == 3.0:\n",
    "            prices.append(50)\n",
    "        else: \n",
    "            prices.append(150)\n",
    "\n",
    "    if sum(prices) > max_:\n",
    "        return planes_price(max_)\n",
    "    else: \n",
    "        return df"
   ]
  },
  {
   "cell_type": "code",
   "execution_count": 98,
   "metadata": {},
   "outputs": [],
   "source": [
    "def select_plans(max_):\n",
    "    \n",
    "    options = {\"snacks + restaurant\" : [df_snacks, df_restaurants, snacks, restaurants],\n",
    "     \"snacks + leisure activity\" : [df_snacks, df_leisure, snacks, leisure],\n",
    "     \"snacks + outdoors activity\" : [df_snacks, df_outdoors, snacks, outdoors],\n",
    "     \"snacks + culture\" : [df_snacks, df_culture, snacks, culture],\n",
    "     \"snacks + drinks\" : [df_snacks, df_drinks, snacks, drinks],\n",
    "     \"snacks + party\" : [df_snacks, df_party, snacks, party],\n",
    "     \"restaurant + leisure activity\" : [df_restaurants, df_leisure, restaurants, leisure],\n",
    "     \"restaurant + outdoors activity\" : [df_restaurants, df_outdoors, restaurants, outdoors],\n",
    "     \"restaurant + culture\" : [df_restaurants, df_culture, restaurants, culture],\n",
    "     \"restaurant + drinks\" : [df_restaurants, df_drinks, restaurants, drinks],\n",
    "     \"restaurant + party\" : [df_restaurants, df_party, restaurants, party],\n",
    "     \"leisure activity + outdoors activity\" : [df_leisure, df_outdoors, leisure, outdoors],\n",
    "     \"leisure activity + culture\" : [df_leisure, df_culture, leisure, culture],\n",
    "     \"leisure activity + drinks\" : [df_leisure, df_drinks, leisure, drinks],\n",
    "     \"leisure activity + party\" : [df_leisure, df_party, leisure, party],  \n",
    "     \"outdoors activity + culture\" : [df_outdoors, df_culture, outdoors, culture],\n",
    "     \"outdoors activity + drinks\" : [df_outdoors, df_drinks, outdoors, drinks],\n",
    "     \"outdoors activity + party\" : [df_outdoors, df_party, outdoors, party],\n",
    "     \"culture + drinks\" : [df_culture, df_drinks, culture, drinks],\n",
    "     \"culture + party\" : [df_culture, df_party, culture, party],\n",
    "     \"drinks + party\" : [df_drinks, df_party, drinks, party]\n",
    "    }\n",
    "     \n",
    "    opt = random.choice(list(options.keys()))\n",
    "    args = options[opt]\n",
    "    arg_1 = args[0]  \n",
    "    arg_2 = args[1]  \n",
    "    arg_3 = args[2]  \n",
    "    arg_4 = args[3]  \n",
    "    \n",
    "    return planes_price(arg_1, arg_2, arg_3, arg_4,max_)\n",
    "    "
   ]
  },
  {
   "cell_type": "code",
   "execution_count": 97,
   "metadata": {},
   "outputs": [
    {
     "data": {
      "text/plain": [
       "'Not found'"
      ]
     },
     "execution_count": 97,
     "metadata": {},
     "output_type": "execute_result"
    }
   ],
   "source": [
    "planes(df_snacks, df_culture, snacks, culture,10)"
   ]
  },
  {
   "cell_type": "code",
   "execution_count": 55,
   "metadata": {},
   "outputs": [],
   "source": [
    "prices = []\n",
    "for p in list(df.price_level):\n",
    "    if p == 0.0:\n",
    "        prices.append(0)\n",
    "    elif p == 1.0:\n",
    "        prices.append(15)\n",
    "    elif p == 2.0:\n",
    "        prices.append(25)\n",
    "    elif p == 3.0:\n",
    "        prices.append(50)\n",
    "    else: \n",
    "        prices.append(150)"
   ]
  },
  {
   "cell_type": "code",
   "execution_count": 58,
   "metadata": {},
   "outputs": [
    {
     "data": {
      "text/plain": [
       "40"
      ]
     },
     "execution_count": 58,
     "metadata": {},
     "output_type": "execute_result"
    }
   ],
   "source": [
    "sum(prices)"
   ]
  },
  {
   "cell_type": "code",
   "execution_count": 59,
   "metadata": {},
   "outputs": [],
   "source": [
    "max_ = 60"
   ]
  },
  {
   "cell_type": "code",
   "execution_count": 60,
   "metadata": {},
   "outputs": [],
   "source": [
    "call = planes(df_snacks, df_culture, snacks, culture)"
   ]
  },
  {
   "cell_type": "code",
   "execution_count": 77,
   "metadata": {},
   "outputs": [],
   "source": [
    "prices = [100,150]"
   ]
  },
  {
   "cell_type": "code",
   "execution_count": 78,
   "metadata": {},
   "outputs": [],
   "source": [
    "def plan_check(max_):\n",
    "    try:\n",
    "        if sum(prices) > max_:\n",
    "            return call\n",
    "        else: \n",
    "            return df\n",
    "    except:\n",
    "        \"Not found\""
   ]
  },
  {
   "cell_type": "code",
   "execution_count": 79,
   "metadata": {},
   "outputs": [
    {
     "data": {
      "text/html": [
       "<div>\n",
       "<style scoped>\n",
       "    .dataframe tbody tr th:only-of-type {\n",
       "        vertical-align: middle;\n",
       "    }\n",
       "\n",
       "    .dataframe tbody tr th {\n",
       "        vertical-align: top;\n",
       "    }\n",
       "\n",
       "    .dataframe thead th {\n",
       "        text-align: right;\n",
       "    }\n",
       "</style>\n",
       "<table border=\"1\" class=\"dataframe\">\n",
       "  <thead>\n",
       "    <tr style=\"text-align: right;\">\n",
       "      <th></th>\n",
       "      <th>name</th>\n",
       "      <th>rating</th>\n",
       "      <th>address</th>\n",
       "      <th>price_level</th>\n",
       "      <th>place</th>\n",
       "      <th>CP</th>\n",
       "      <th>latitude</th>\n",
       "      <th>longitude</th>\n",
       "      <th>price</th>\n",
       "    </tr>\n",
       "    <tr>\n",
       "      <th>_id</th>\n",
       "      <th></th>\n",
       "      <th></th>\n",
       "      <th></th>\n",
       "      <th></th>\n",
       "      <th></th>\n",
       "      <th></th>\n",
       "      <th></th>\n",
       "      <th></th>\n",
       "      <th></th>\n",
       "    </tr>\n",
       "  </thead>\n",
       "  <tbody>\n",
       "    <tr>\n",
       "      <th>60a0f5a8709918f94d5e6f16</th>\n",
       "      <td>Juicy Avenue</td>\n",
       "      <td>4.1</td>\n",
       "      <td>CC Moraleja Green, Av. de Europa, 13, 28108 Ma...</td>\n",
       "      <td>1.0</td>\n",
       "      <td>juices</td>\n",
       "      <td>28108</td>\n",
       "      <td>40.518858</td>\n",
       "      <td>-3.655867</td>\n",
       "      <td>15-25€</td>\n",
       "    </tr>\n",
       "    <tr>\n",
       "      <th>60a0f5a7469adda97be6c625</th>\n",
       "      <td>Kinépolis Madrid Diversia</td>\n",
       "      <td>4.2</td>\n",
       "      <td>C.C. Heron Diversia, Av. de Bruselas, 21, 2810...</td>\n",
       "      <td>1.0</td>\n",
       "      <td>cinema</td>\n",
       "      <td>28108</td>\n",
       "      <td>40.530082</td>\n",
       "      <td>-3.639672</td>\n",
       "      <td>25-50€</td>\n",
       "    </tr>\n",
       "  </tbody>\n",
       "</table>\n",
       "</div>"
      ],
      "text/plain": [
       "                                               name  rating  \\\n",
       "_id                                                           \n",
       "60a0f5a8709918f94d5e6f16               Juicy Avenue     4.1   \n",
       "60a0f5a7469adda97be6c625  Kinépolis Madrid Diversia     4.2   \n",
       "\n",
       "                                                                    address  \\\n",
       "_id                                                                           \n",
       "60a0f5a8709918f94d5e6f16  CC Moraleja Green, Av. de Europa, 13, 28108 Ma...   \n",
       "60a0f5a7469adda97be6c625  C.C. Heron Diversia, Av. de Bruselas, 21, 2810...   \n",
       "\n",
       "                          price_level   place     CP   latitude  longitude  \\\n",
       "_id                                                                          \n",
       "60a0f5a8709918f94d5e6f16          1.0  juices  28108  40.518858  -3.655867   \n",
       "60a0f5a7469adda97be6c625          1.0  cinema  28108  40.530082  -3.639672   \n",
       "\n",
       "                           price  \n",
       "_id                               \n",
       "60a0f5a8709918f94d5e6f16  15-25€  \n",
       "60a0f5a7469adda97be6c625  25-50€  "
      ]
     },
     "execution_count": 79,
     "metadata": {},
     "output_type": "execute_result"
    }
   ],
   "source": [
    "plan_check(10)"
   ]
  },
  {
   "cell_type": "code",
   "execution_count": 99,
   "metadata": {},
   "outputs": [],
   "source": [
    "def planes_price_2(max_):\n",
    "    \n",
    "    options = {\"snacks + restaurant\" : [df_snacks, df_restaurants, snacks, restaurants],\n",
    "     \"snacks + leisure activity\" : [df_snacks, df_leisure, snacks, leisure],\n",
    "     \"snacks + outdoors activity\" : [df_snacks, df_outdoors, snacks, outdoors],\n",
    "     \"snacks + culture\" : [df_snacks, df_culture, snacks, culture],\n",
    "     \"snacks + drinks\" : [df_snacks, df_drinks, snacks, drinks],\n",
    "     \"snacks + party\" : [df_snacks, df_party, snacks, party],\n",
    "     \"restaurant + leisure activity\" : [df_restaurants, df_leisure, restaurants, leisure],\n",
    "     \"restaurant + outdoors activity\" : [df_restaurants, df_outdoors, restaurants, outdoors],\n",
    "     \"restaurant + culture\" : [df_restaurants, df_culture, restaurants, culture],\n",
    "     \"restaurant + drinks\" : [df_restaurants, df_drinks, restaurants, drinks],\n",
    "     \"restaurant + party\" : [df_restaurants, df_party, restaurants, party],\n",
    "     \"leisure activity + outdoors activity\" : [df_leisure, df_outdoors, leisure, outdoors],\n",
    "     \"leisure activity + culture\" : [df_leisure, df_culture, leisure, culture],\n",
    "     \"leisure activity + drinks\" : [df_leisure, df_drinks, leisure, drinks],\n",
    "     \"leisure activity + party\" : [df_leisure, df_party, leisure, party],  \n",
    "     \"outdoors activity + culture\" : [df_outdoors, df_culture, outdoors, culture],\n",
    "     \"outdoors activity + drinks\" : [df_outdoors, df_drinks, outdoors, drinks],\n",
    "     \"outdoors activity + party\" : [df_outdoors, df_party, outdoors, party],\n",
    "     \"culture + drinks\" : [df_culture, df_drinks, culture, drinks],\n",
    "     \"culture + party\" : [df_culture, df_party, culture, party],\n",
    "     \"drinks + party\" : [df_drinks, df_party, drinks, party]\n",
    "    }\n",
    "     \n",
    "    opt = random.choice(list(options.keys()))\n",
    "    args = options[opt]\n",
    "    df_1 = args[0]  \n",
    "    df_2 = args[1]  \n",
    "    coll_1 = args[2]  \n",
    "    coll_2 = args[3] \n",
    "    \n",
    "    intersection = set(list(df_1.CP.unique())).intersection(set(list(df_2.CP.unique())))\n",
    "\n",
    "    cp = list(intersection)\n",
    "\n",
    "    cp_random = random.choice(cp)\n",
    "\n",
    "    plan1 = list(coll_1.find({\"CP\":str(int(cp_random))}))\n",
    "\n",
    "    plan2 = list(coll_2.find({\"CP\":str(int(cp_random))}))\n",
    "    \n",
    "    p1_random = random.choice(plan1)\n",
    "    p2_random = random.choice(plan2)\n",
    "\n",
    "    df1 = pd.DataFrame.from_dict(p1_random)\n",
    "    df2 = pd.DataFrame.from_dict(p2_random)\n",
    "    df = pd.concat([df1,df2])\n",
    "    \n",
    "    df = df.set_index(\"_id\")\n",
    "    df =df.drop([\"geometry\"], axis = 1)\n",
    "    df = df.drop_duplicates()\n",
    "    \n",
    "    prices = []\n",
    "    for p in list(df.price_level):\n",
    "        if p == 0.0:\n",
    "            prices.append(0)\n",
    "        elif p == 1.0:\n",
    "            prices.append(15)\n",
    "        elif p == 2.0:\n",
    "            prices.append(25)\n",
    "        elif p == 3.0:\n",
    "            prices.append(50)\n",
    "        else: \n",
    "            prices.append(150)\n",
    "\n",
    "    if sum(prices) > max_:\n",
    "        return planes_price_2(max_)\n",
    "    else: \n",
    "        return df"
   ]
  },
  {
   "cell_type": "code",
   "execution_count": 101,
   "metadata": {},
   "outputs": [],
   "source": [
    "df = planes_price_2(50)"
   ]
  },
  {
   "cell_type": "code",
   "execution_count": 103,
   "metadata": {},
   "outputs": [],
   "source": [
    "def get_df(df):\n",
    "    df = df.set_index(\"name\")\n",
    "    return df.drop([\"price_level\", \"CP\", \"latitude\", \"longitude\"], axis=1)"
   ]
  },
  {
   "cell_type": "code",
   "execution_count": 104,
   "metadata": {},
   "outputs": [
    {
     "data": {
      "text/html": [
       "<div>\n",
       "<style scoped>\n",
       "    .dataframe tbody tr th:only-of-type {\n",
       "        vertical-align: middle;\n",
       "    }\n",
       "\n",
       "    .dataframe tbody tr th {\n",
       "        vertical-align: top;\n",
       "    }\n",
       "\n",
       "    .dataframe thead th {\n",
       "        text-align: right;\n",
       "    }\n",
       "</style>\n",
       "<table border=\"1\" class=\"dataframe\">\n",
       "  <thead>\n",
       "    <tr style=\"text-align: right;\">\n",
       "      <th></th>\n",
       "      <th>rating</th>\n",
       "      <th>address</th>\n",
       "      <th>place</th>\n",
       "      <th>price</th>\n",
       "    </tr>\n",
       "    <tr>\n",
       "      <th>name</th>\n",
       "      <th></th>\n",
       "      <th></th>\n",
       "      <th></th>\n",
       "      <th></th>\n",
       "    </tr>\n",
       "  </thead>\n",
       "  <tbody>\n",
       "    <tr>\n",
       "      <th>Cecilio Rodríguez Garden</th>\n",
       "      <td>4.8</td>\n",
       "      <td>Paseo de Fernán Núñez, 1X, 28009 Madrid, Spain</td>\n",
       "      <td>park</td>\n",
       "      <td>Free</td>\n",
       "    </tr>\n",
       "    <tr>\n",
       "      <th>Bespoke Wines</th>\n",
       "      <td>0.0</td>\n",
       "      <td>Calle del Doce de Octubre, 23, 2D, 28009 Madri...</td>\n",
       "      <td>wine</td>\n",
       "      <td>15-25€</td>\n",
       "    </tr>\n",
       "  </tbody>\n",
       "</table>\n",
       "</div>"
      ],
      "text/plain": [
       "                          rating  \\\n",
       "name                               \n",
       "Cecilio Rodríguez Garden     4.8   \n",
       "Bespoke Wines                0.0   \n",
       "\n",
       "                                                                    address  \\\n",
       "name                                                                          \n",
       "Cecilio Rodríguez Garden     Paseo de Fernán Núñez, 1X, 28009 Madrid, Spain   \n",
       "Bespoke Wines             Calle del Doce de Octubre, 23, 2D, 28009 Madri...   \n",
       "\n",
       "                         place   price  \n",
       "name                                    \n",
       "Cecilio Rodríguez Garden  park    Free  \n",
       "Bespoke Wines             wine  15-25€  "
      ]
     },
     "execution_count": 104,
     "metadata": {},
     "output_type": "execute_result"
    }
   ],
   "source": [
    "get_df(df)"
   ]
  },
  {
   "cell_type": "code",
   "execution_count": 144,
   "metadata": {},
   "outputs": [],
   "source": [
    "lat = df.latitude.unique()[0]\n",
    "lon = df.longitude.unique()[0]"
   ]
  },
  {
   "cell_type": "code",
   "execution_count": 145,
   "metadata": {},
   "outputs": [
    {
     "data": {
      "text/plain": [
       "[40.4133196, -3.6779997]"
      ]
     },
     "execution_count": 145,
     "metadata": {},
     "output_type": "execute_result"
    }
   ],
   "source": [
    "[lat,lon]"
   ]
  },
  {
   "cell_type": "code",
   "execution_count": 147,
   "metadata": {},
   "outputs": [
    {
     "data": {
      "text/plain": [
       "{'type': 'Point', 'coordinates': [40.4133196, -3.6779997]}"
      ]
     },
     "execution_count": 147,
     "metadata": {},
     "output_type": "execute_result"
    }
   ],
   "source": [
    "coord_point = {\"type\":\"Point\", \"coordinates\": [lat,lon]}\n",
    "coord_point"
   ]
  },
  {
   "cell_type": "code",
   "execution_count": 166,
   "metadata": {},
   "outputs": [],
   "source": [
    "def geoquery_2(coordinates):\n",
    "    coord_point = {\"type\":\"Point\", \"coordinates\": coordinates}\n",
    "    collection = db.get_collection(\"transport\")\n",
    "    query = {\"geometry\": {\"$near\": {\"$geometry\": coord_point,\"$minDistance\": 0, \"$maxDistance\": 500}}}\n",
    "    query_final = collection.find(query)\n",
    "    df = pd.DataFrame((query_final))\n",
    "    return df"
   ]
  },
  {
   "cell_type": "code",
   "execution_count": 162,
   "metadata": {},
   "outputs": [],
   "source": [
    "df_tr = geoquery_2([df.latitude.unique()[0],df.longitude.unique()[0]])"
   ]
  },
  {
   "cell_type": "code",
   "execution_count": 164,
   "metadata": {},
   "outputs": [],
   "source": [
    "def get_map(df,df_tr):\n",
    "    \"\"\"\n",
    "    Creates a map with the values of a dataframe\n",
    "    Args:\n",
    "        df(df): the dataframe with the places that have to be displayed\n",
    "    Returns:\n",
    "        The map\n",
    "    \"\"\"\n",
    "    \n",
    "    map_1 = Map(location=[list(df.latitude.unique())[0],list(df.longitude.unique())[0]],zoom_start=15)\n",
    "    for i, row in df.iterrows():\n",
    "        geom = {\n",
    "                    \"location\":[row[\"latitude\"], row[\"longitude\"]],\n",
    "                    \"tooltip\" : row[\"name\"]\n",
    "                }\n",
    "        icon = Icon(color = \"white\",\n",
    "                                prefix = \"fa\",\n",
    "                                icon = \"trophy\",\n",
    "                                icon_color = \"black\"\n",
    "                )\n",
    "\n",
    "        Marker(**geom,icon = icon ).add_to(map_1)\n",
    "    \n",
    "    for i, row in df_tr.iterrows():\n",
    "        geom = {\n",
    "                    \"location\":[row[\"latitude\"], row[\"longitude\"]],\n",
    "                    \"tooltip\" : row[\"name\"]\n",
    "                }\n",
    "        if row[\"place\"] == \"bus\":            \n",
    "             icon = Icon(color = \"lightblue\",\n",
    "                                prefix = \"fa\",\n",
    "                                icon = \"bus\",\n",
    "                                icon_color = \"black\"\n",
    "                )   \n",
    "        elif row[\"place\"] == \"train\" or row[\"place\"] == \"metro\":\n",
    "            icon = Icon(color = \"lightblue\",\n",
    "                                prefix = \"fa\",\n",
    "                                icon = \"train\",\n",
    "                                icon_color = \"black\"\n",
    "                )\n",
    "        else:\n",
    "            icon = Icon(color = \"lightblue\",\n",
    "                                prefix = \"fa\",\n",
    "                                icon = \"car\",\n",
    "                                icon_color = \"black\"\n",
    "                ) \n",
    "        Marker(**geom,icon = icon ).add_to(map_1)        \n",
    "    \n",
    "        \n",
    "    return map_1"
   ]
  },
  {
   "cell_type": "code",
   "execution_count": 163,
   "metadata": {},
   "outputs": [
    {
     "data": {
      "text/html": [
       "<div>\n",
       "<style scoped>\n",
       "    .dataframe tbody tr th:only-of-type {\n",
       "        vertical-align: middle;\n",
       "    }\n",
       "\n",
       "    .dataframe tbody tr th {\n",
       "        vertical-align: top;\n",
       "    }\n",
       "\n",
       "    .dataframe thead th {\n",
       "        text-align: right;\n",
       "    }\n",
       "</style>\n",
       "<table border=\"1\" class=\"dataframe\">\n",
       "  <thead>\n",
       "    <tr style=\"text-align: right;\">\n",
       "      <th></th>\n",
       "      <th>_id</th>\n",
       "      <th>name</th>\n",
       "      <th>latitude</th>\n",
       "      <th>longitude</th>\n",
       "      <th>geometry</th>\n",
       "      <th>place</th>\n",
       "      <th>type</th>\n",
       "    </tr>\n",
       "  </thead>\n",
       "  <tbody>\n",
       "    <tr>\n",
       "      <th>0</th>\n",
       "      <td>60a24ebf5f61bc71ee6e550f</td>\n",
       "      <td>Hospital Niño Jesús</td>\n",
       "      <td>40.414430</td>\n",
       "      <td>-3.677553</td>\n",
       "      <td>{'type': 'Point', 'coordinates': [40.414429616...</td>\n",
       "      <td>bus</td>\n",
       "      <td>transport</td>\n",
       "    </tr>\n",
       "    <tr>\n",
       "      <th>1</th>\n",
       "      <td>60a24ebf5f61bc71ee6e5510</td>\n",
       "      <td>Hospital Niño Jesús</td>\n",
       "      <td>40.414944</td>\n",
       "      <td>-3.677334</td>\n",
       "      <td>{'type': 'Point', 'coordinates': [40.414944412...</td>\n",
       "      <td>bus</td>\n",
       "      <td>transport</td>\n",
       "    </tr>\n",
       "    <tr>\n",
       "      <th>2</th>\n",
       "      <td>60a24ebf5f61bc71ee6e5a25</td>\n",
       "      <td>Narváez</td>\n",
       "      <td>40.415682</td>\n",
       "      <td>-3.676764</td>\n",
       "      <td>{'type': 'Point', 'coordinates': [40.415681981...</td>\n",
       "      <td>bus</td>\n",
       "      <td>transport</td>\n",
       "    </tr>\n",
       "    <tr>\n",
       "      <th>3</th>\n",
       "      <td>60a24ebf5f61bc71ee6e5619</td>\n",
       "      <td>Plaza Niño Jesús</td>\n",
       "      <td>40.410957</td>\n",
       "      <td>-3.676660</td>\n",
       "      <td>{'type': 'Point', 'coordinates': [40.410957342...</td>\n",
       "      <td>bus</td>\n",
       "      <td>transport</td>\n",
       "    </tr>\n",
       "    <tr>\n",
       "      <th>4</th>\n",
       "      <td>60a24ebf5f61bc71ee6e561b</td>\n",
       "      <td>Plaza Niño Jesús</td>\n",
       "      <td>40.411104</td>\n",
       "      <td>-3.676211</td>\n",
       "      <td>{'type': 'Point', 'coordinates': [40.411104107...</td>\n",
       "      <td>bus</td>\n",
       "      <td>transport</td>\n",
       "    </tr>\n",
       "    <tr>\n",
       "      <th>5</th>\n",
       "      <td>60a24ebf5f61bc71ee6e5511</td>\n",
       "      <td>Plaza Niño Jesús</td>\n",
       "      <td>40.411157</td>\n",
       "      <td>-3.675652</td>\n",
       "      <td>{'type': 'Point', 'coordinates': [40.411156919...</td>\n",
       "      <td>bus</td>\n",
       "      <td>transport</td>\n",
       "    </tr>\n",
       "    <tr>\n",
       "      <th>6</th>\n",
       "      <td>60a24ebf5f61bc71ee6e550e</td>\n",
       "      <td>Menéndez Pelayo-Sainz de Baranda</td>\n",
       "      <td>40.416832</td>\n",
       "      <td>-3.678094</td>\n",
       "      <td>{'type': 'Point', 'coordinates': [40.416831867...</td>\n",
       "      <td>bus</td>\n",
       "      <td>transport</td>\n",
       "    </tr>\n",
       "    <tr>\n",
       "      <th>7</th>\n",
       "      <td>60a24ebf5f61bc71ee6e5513</td>\n",
       "      <td>Plaza Niño Jesús</td>\n",
       "      <td>40.411191</td>\n",
       "      <td>-3.675201</td>\n",
       "      <td>{'type': 'Point', 'coordinates': [40.411191082...</td>\n",
       "      <td>bus</td>\n",
       "      <td>transport</td>\n",
       "    </tr>\n",
       "    <tr>\n",
       "      <th>8</th>\n",
       "      <td>60a24ebf5f61bc71ee6e562c</td>\n",
       "      <td>Narváez-Doce de Octubre</td>\n",
       "      <td>40.416365</td>\n",
       "      <td>-3.676228</td>\n",
       "      <td>{'type': 'Point', 'coordinates': [40.416365293...</td>\n",
       "      <td>bus</td>\n",
       "      <td>transport</td>\n",
       "    </tr>\n",
       "    <tr>\n",
       "      <th>9</th>\n",
       "      <td>60a24ebf5f61bc71ee6e550d</td>\n",
       "      <td>Menéndez Pelayo-Sainz de Baranda</td>\n",
       "      <td>40.416866</td>\n",
       "      <td>-3.678414</td>\n",
       "      <td>{'type': 'Point', 'coordinates': [40.416866026...</td>\n",
       "      <td>bus</td>\n",
       "      <td>transport</td>\n",
       "    </tr>\n",
       "    <tr>\n",
       "      <th>10</th>\n",
       "      <td>60a24ebf5f61bc71ee6e6379</td>\n",
       "      <td>Menéndez Pelayo-Sainz de Baranda</td>\n",
       "      <td>40.416967</td>\n",
       "      <td>-3.677261</td>\n",
       "      <td>{'type': 'Point', 'coordinates': [40.416967368...</td>\n",
       "      <td>bus</td>\n",
       "      <td>transport</td>\n",
       "    </tr>\n",
       "    <tr>\n",
       "      <th>11</th>\n",
       "      <td>60a24ebebb24a5ab597e2fb1</td>\n",
       "      <td>Aparcamiento para residentes. Doce de Octubre</td>\n",
       "      <td>40.417000</td>\n",
       "      <td>-3.676000</td>\n",
       "      <td>{'type': 'Point', 'coordinates': [40.417, -3.6...</td>\n",
       "      <td>parking</td>\n",
       "      <td>transport</td>\n",
       "    </tr>\n",
       "    <tr>\n",
       "      <th>12</th>\n",
       "      <td>60a24ebf5f61bc71ee6e51de</td>\n",
       "      <td>Sainz de Baranda-Narváez</td>\n",
       "      <td>40.416878</td>\n",
       "      <td>-3.675653</td>\n",
       "      <td>{'type': 'Point', 'coordinates': [40.416877665...</td>\n",
       "      <td>bus</td>\n",
       "      <td>transport</td>\n",
       "    </tr>\n",
       "    <tr>\n",
       "      <th>13</th>\n",
       "      <td>60a24ebf5f61bc71ee6e5447</td>\n",
       "      <td>Sainz de Baranda-Narváez</td>\n",
       "      <td>40.417119</td>\n",
       "      <td>-3.675927</td>\n",
       "      <td>{'type': 'Point', 'coordinates': [40.417119307...</td>\n",
       "      <td>bus</td>\n",
       "      <td>transport</td>\n",
       "    </tr>\n",
       "    <tr>\n",
       "      <th>14</th>\n",
       "      <td>60a24ebebb24a5ab597e3001</td>\n",
       "      <td>Aparcamiento para residentes. Niño Jesús</td>\n",
       "      <td>40.410000</td>\n",
       "      <td>-3.675000</td>\n",
       "      <td>{'type': 'Point', 'coordinates': [40.41, -3.675]}</td>\n",
       "      <td>parking</td>\n",
       "      <td>transport</td>\n",
       "    </tr>\n",
       "  </tbody>\n",
       "</table>\n",
       "</div>"
      ],
      "text/plain": [
       "                         _id                                           name  \\\n",
       "0   60a24ebf5f61bc71ee6e550f                            Hospital Niño Jesús   \n",
       "1   60a24ebf5f61bc71ee6e5510                            Hospital Niño Jesús   \n",
       "2   60a24ebf5f61bc71ee6e5a25                                        Narváez   \n",
       "3   60a24ebf5f61bc71ee6e5619                               Plaza Niño Jesús   \n",
       "4   60a24ebf5f61bc71ee6e561b                               Plaza Niño Jesús   \n",
       "5   60a24ebf5f61bc71ee6e5511                               Plaza Niño Jesús   \n",
       "6   60a24ebf5f61bc71ee6e550e               Menéndez Pelayo-Sainz de Baranda   \n",
       "7   60a24ebf5f61bc71ee6e5513                               Plaza Niño Jesús   \n",
       "8   60a24ebf5f61bc71ee6e562c                        Narváez-Doce de Octubre   \n",
       "9   60a24ebf5f61bc71ee6e550d               Menéndez Pelayo-Sainz de Baranda   \n",
       "10  60a24ebf5f61bc71ee6e6379               Menéndez Pelayo-Sainz de Baranda   \n",
       "11  60a24ebebb24a5ab597e2fb1  Aparcamiento para residentes. Doce de Octubre   \n",
       "12  60a24ebf5f61bc71ee6e51de                       Sainz de Baranda-Narváez   \n",
       "13  60a24ebf5f61bc71ee6e5447                       Sainz de Baranda-Narváez   \n",
       "14  60a24ebebb24a5ab597e3001       Aparcamiento para residentes. Niño Jesús   \n",
       "\n",
       "     latitude  longitude                                           geometry  \\\n",
       "0   40.414430  -3.677553  {'type': 'Point', 'coordinates': [40.414429616...   \n",
       "1   40.414944  -3.677334  {'type': 'Point', 'coordinates': [40.414944412...   \n",
       "2   40.415682  -3.676764  {'type': 'Point', 'coordinates': [40.415681981...   \n",
       "3   40.410957  -3.676660  {'type': 'Point', 'coordinates': [40.410957342...   \n",
       "4   40.411104  -3.676211  {'type': 'Point', 'coordinates': [40.411104107...   \n",
       "5   40.411157  -3.675652  {'type': 'Point', 'coordinates': [40.411156919...   \n",
       "6   40.416832  -3.678094  {'type': 'Point', 'coordinates': [40.416831867...   \n",
       "7   40.411191  -3.675201  {'type': 'Point', 'coordinates': [40.411191082...   \n",
       "8   40.416365  -3.676228  {'type': 'Point', 'coordinates': [40.416365293...   \n",
       "9   40.416866  -3.678414  {'type': 'Point', 'coordinates': [40.416866026...   \n",
       "10  40.416967  -3.677261  {'type': 'Point', 'coordinates': [40.416967368...   \n",
       "11  40.417000  -3.676000  {'type': 'Point', 'coordinates': [40.417, -3.6...   \n",
       "12  40.416878  -3.675653  {'type': 'Point', 'coordinates': [40.416877665...   \n",
       "13  40.417119  -3.675927  {'type': 'Point', 'coordinates': [40.417119307...   \n",
       "14  40.410000  -3.675000  {'type': 'Point', 'coordinates': [40.41, -3.675]}   \n",
       "\n",
       "      place       type  \n",
       "0       bus  transport  \n",
       "1       bus  transport  \n",
       "2       bus  transport  \n",
       "3       bus  transport  \n",
       "4       bus  transport  \n",
       "5       bus  transport  \n",
       "6       bus  transport  \n",
       "7       bus  transport  \n",
       "8       bus  transport  \n",
       "9       bus  transport  \n",
       "10      bus  transport  \n",
       "11  parking  transport  \n",
       "12      bus  transport  \n",
       "13      bus  transport  \n",
       "14  parking  transport  "
      ]
     },
     "execution_count": 163,
     "metadata": {},
     "output_type": "execute_result"
    }
   ],
   "source": [
    "df_tr"
   ]
  },
  {
   "cell_type": "code",
   "execution_count": 165,
   "metadata": {},
   "outputs": [
    {
     "data": {
      "text/html": [
       "<div style=\"width:100%;\"><div style=\"position:relative;width:100%;height:0;padding-bottom:60%;\"><span style=\"color:#565656\">Make this Notebook Trusted to load map: File -> Trust Notebook</span><iframe src=\"about:blank\" style=\"position:absolute;width:100%;height:100%;left:0;top:0;border:none !important;\" data-html=%3C%21DOCTYPE%20html%3E%0A%3Chead%3E%20%20%20%20%0A%20%20%20%20%3Cmeta%20http-equiv%3D%22content-type%22%20content%3D%22text/html%3B%20charset%3DUTF-8%22%20/%3E%0A%20%20%20%20%0A%20%20%20%20%20%20%20%20%3Cscript%3E%0A%20%20%20%20%20%20%20%20%20%20%20%20L_NO_TOUCH%20%3D%20false%3B%0A%20%20%20%20%20%20%20%20%20%20%20%20L_DISABLE_3D%20%3D%20false%3B%0A%20%20%20%20%20%20%20%20%3C/script%3E%0A%20%20%20%20%0A%20%20%20%20%3Cstyle%3Ehtml%2C%20body%20%7Bwidth%3A%20100%25%3Bheight%3A%20100%25%3Bmargin%3A%200%3Bpadding%3A%200%3B%7D%3C/style%3E%0A%20%20%20%20%3Cstyle%3E%23map%20%7Bposition%3Aabsolute%3Btop%3A0%3Bbottom%3A0%3Bright%3A0%3Bleft%3A0%3B%7D%3C/style%3E%0A%20%20%20%20%3Cscript%20src%3D%22https%3A//cdn.jsdelivr.net/npm/leaflet%401.6.0/dist/leaflet.js%22%3E%3C/script%3E%0A%20%20%20%20%3Cscript%20src%3D%22https%3A//code.jquery.com/jquery-1.12.4.min.js%22%3E%3C/script%3E%0A%20%20%20%20%3Cscript%20src%3D%22https%3A//maxcdn.bootstrapcdn.com/bootstrap/3.2.0/js/bootstrap.min.js%22%3E%3C/script%3E%0A%20%20%20%20%3Cscript%20src%3D%22https%3A//cdnjs.cloudflare.com/ajax/libs/Leaflet.awesome-markers/2.0.2/leaflet.awesome-markers.js%22%3E%3C/script%3E%0A%20%20%20%20%3Clink%20rel%3D%22stylesheet%22%20href%3D%22https%3A//cdn.jsdelivr.net/npm/leaflet%401.6.0/dist/leaflet.css%22/%3E%0A%20%20%20%20%3Clink%20rel%3D%22stylesheet%22%20href%3D%22https%3A//maxcdn.bootstrapcdn.com/bootstrap/3.2.0/css/bootstrap.min.css%22/%3E%0A%20%20%20%20%3Clink%20rel%3D%22stylesheet%22%20href%3D%22https%3A//maxcdn.bootstrapcdn.com/bootstrap/3.2.0/css/bootstrap-theme.min.css%22/%3E%0A%20%20%20%20%3Clink%20rel%3D%22stylesheet%22%20href%3D%22https%3A//maxcdn.bootstrapcdn.com/font-awesome/4.6.3/css/font-awesome.min.css%22/%3E%0A%20%20%20%20%3Clink%20rel%3D%22stylesheet%22%20href%3D%22https%3A//cdnjs.cloudflare.com/ajax/libs/Leaflet.awesome-markers/2.0.2/leaflet.awesome-markers.css%22/%3E%0A%20%20%20%20%3Clink%20rel%3D%22stylesheet%22%20href%3D%22https%3A//cdn.jsdelivr.net/gh/python-visualization/folium/folium/templates/leaflet.awesome.rotate.min.css%22/%3E%0A%20%20%20%20%0A%20%20%20%20%20%20%20%20%20%20%20%20%3Cmeta%20name%3D%22viewport%22%20content%3D%22width%3Ddevice-width%2C%0A%20%20%20%20%20%20%20%20%20%20%20%20%20%20%20%20initial-scale%3D1.0%2C%20maximum-scale%3D1.0%2C%20user-scalable%3Dno%22%20/%3E%0A%20%20%20%20%20%20%20%20%20%20%20%20%3Cstyle%3E%0A%20%20%20%20%20%20%20%20%20%20%20%20%20%20%20%20%23map_21a24aad464443dc8edde57e84da232f%20%7B%0A%20%20%20%20%20%20%20%20%20%20%20%20%20%20%20%20%20%20%20%20position%3A%20relative%3B%0A%20%20%20%20%20%20%20%20%20%20%20%20%20%20%20%20%20%20%20%20width%3A%20100.0%25%3B%0A%20%20%20%20%20%20%20%20%20%20%20%20%20%20%20%20%20%20%20%20height%3A%20100.0%25%3B%0A%20%20%20%20%20%20%20%20%20%20%20%20%20%20%20%20%20%20%20%20left%3A%200.0%25%3B%0A%20%20%20%20%20%20%20%20%20%20%20%20%20%20%20%20%20%20%20%20top%3A%200.0%25%3B%0A%20%20%20%20%20%20%20%20%20%20%20%20%20%20%20%20%7D%0A%20%20%20%20%20%20%20%20%20%20%20%20%3C/style%3E%0A%20%20%20%20%20%20%20%20%0A%3C/head%3E%0A%3Cbody%3E%20%20%20%20%0A%20%20%20%20%0A%20%20%20%20%20%20%20%20%20%20%20%20%3Cdiv%20class%3D%22folium-map%22%20id%3D%22map_21a24aad464443dc8edde57e84da232f%22%20%3E%3C/div%3E%0A%20%20%20%20%20%20%20%20%0A%3C/body%3E%0A%3Cscript%3E%20%20%20%20%0A%20%20%20%20%0A%20%20%20%20%20%20%20%20%20%20%20%20var%20map_21a24aad464443dc8edde57e84da232f%20%3D%20L.map%28%0A%20%20%20%20%20%20%20%20%20%20%20%20%20%20%20%20%22map_21a24aad464443dc8edde57e84da232f%22%2C%0A%20%20%20%20%20%20%20%20%20%20%20%20%20%20%20%20%7B%0A%20%20%20%20%20%20%20%20%20%20%20%20%20%20%20%20%20%20%20%20center%3A%20%5B40.4133196%2C%20-3.6779997%5D%2C%0A%20%20%20%20%20%20%20%20%20%20%20%20%20%20%20%20%20%20%20%20crs%3A%20L.CRS.EPSG3857%2C%0A%20%20%20%20%20%20%20%20%20%20%20%20%20%20%20%20%20%20%20%20zoom%3A%2015%2C%0A%20%20%20%20%20%20%20%20%20%20%20%20%20%20%20%20%20%20%20%20zoomControl%3A%20true%2C%0A%20%20%20%20%20%20%20%20%20%20%20%20%20%20%20%20%20%20%20%20preferCanvas%3A%20false%2C%0A%20%20%20%20%20%20%20%20%20%20%20%20%20%20%20%20%7D%0A%20%20%20%20%20%20%20%20%20%20%20%20%29%3B%0A%0A%20%20%20%20%20%20%20%20%20%20%20%20%0A%0A%20%20%20%20%20%20%20%20%0A%20%20%20%20%0A%20%20%20%20%20%20%20%20%20%20%20%20var%20tile_layer_ce7138c959ae428183bd7dfeb2fa85c6%20%3D%20L.tileLayer%28%0A%20%20%20%20%20%20%20%20%20%20%20%20%20%20%20%20%22https%3A//%7Bs%7D.tile.openstreetmap.org/%7Bz%7D/%7Bx%7D/%7By%7D.png%22%2C%0A%20%20%20%20%20%20%20%20%20%20%20%20%20%20%20%20%7B%22attribution%22%3A%20%22Data%20by%20%5Cu0026copy%3B%20%5Cu003ca%20href%3D%5C%22http%3A//openstreetmap.org%5C%22%5Cu003eOpenStreetMap%5Cu003c/a%5Cu003e%2C%20under%20%5Cu003ca%20href%3D%5C%22http%3A//www.openstreetmap.org/copyright%5C%22%5Cu003eODbL%5Cu003c/a%5Cu003e.%22%2C%20%22detectRetina%22%3A%20false%2C%20%22maxNativeZoom%22%3A%2018%2C%20%22maxZoom%22%3A%2018%2C%20%22minZoom%22%3A%200%2C%20%22noWrap%22%3A%20false%2C%20%22opacity%22%3A%201%2C%20%22subdomains%22%3A%20%22abc%22%2C%20%22tms%22%3A%20false%7D%0A%20%20%20%20%20%20%20%20%20%20%20%20%29.addTo%28map_21a24aad464443dc8edde57e84da232f%29%3B%0A%20%20%20%20%20%20%20%20%0A%20%20%20%20%0A%20%20%20%20%20%20%20%20%20%20%20%20var%20marker_45bb44e3af74407e95739e2615ac7c12%20%3D%20L.marker%28%0A%20%20%20%20%20%20%20%20%20%20%20%20%20%20%20%20%5B40.4133196%2C%20-3.6779997%5D%2C%0A%20%20%20%20%20%20%20%20%20%20%20%20%20%20%20%20%7B%7D%0A%20%20%20%20%20%20%20%20%20%20%20%20%29.addTo%28map_21a24aad464443dc8edde57e84da232f%29%3B%0A%20%20%20%20%20%20%20%20%0A%20%20%20%20%0A%20%20%20%20%20%20%20%20%20%20%20%20var%20icon_519c51ca2e1641a190d2df1551660ab8%20%3D%20L.AwesomeMarkers.icon%28%0A%20%20%20%20%20%20%20%20%20%20%20%20%20%20%20%20%7B%22extraClasses%22%3A%20%22fa-rotate-0%22%2C%20%22icon%22%3A%20%22trophy%22%2C%20%22iconColor%22%3A%20%22black%22%2C%20%22markerColor%22%3A%20%22white%22%2C%20%22prefix%22%3A%20%22fa%22%7D%0A%20%20%20%20%20%20%20%20%20%20%20%20%29%3B%0A%20%20%20%20%20%20%20%20%20%20%20%20marker_45bb44e3af74407e95739e2615ac7c12.setIcon%28icon_519c51ca2e1641a190d2df1551660ab8%29%3B%0A%20%20%20%20%20%20%20%20%0A%20%20%20%20%0A%20%20%20%20%20%20%20%20%20%20%20%20marker_45bb44e3af74407e95739e2615ac7c12.bindTooltip%28%0A%20%20%20%20%20%20%20%20%20%20%20%20%20%20%20%20%60%3Cdiv%3E%0A%20%20%20%20%20%20%20%20%20%20%20%20%20%20%20%20%20%20%20%20%20Cecilio%20Rodr%C3%ADguez%20Garden%0A%20%20%20%20%20%20%20%20%20%20%20%20%20%20%20%20%20%3C/div%3E%60%2C%0A%20%20%20%20%20%20%20%20%20%20%20%20%20%20%20%20%7B%22sticky%22%3A%20true%7D%0A%20%20%20%20%20%20%20%20%20%20%20%20%29%3B%0A%20%20%20%20%20%20%20%20%0A%20%20%20%20%0A%20%20%20%20%20%20%20%20%20%20%20%20var%20marker_0d32f7df607442e985f8618151a3b6c6%20%3D%20L.marker%28%0A%20%20%20%20%20%20%20%20%20%20%20%20%20%20%20%20%5B40.416124%2C%20-3.6741859%5D%2C%0A%20%20%20%20%20%20%20%20%20%20%20%20%20%20%20%20%7B%7D%0A%20%20%20%20%20%20%20%20%20%20%20%20%29.addTo%28map_21a24aad464443dc8edde57e84da232f%29%3B%0A%20%20%20%20%20%20%20%20%0A%20%20%20%20%0A%20%20%20%20%20%20%20%20%20%20%20%20var%20icon_61176ea0e11741a2adcd4df373c709ff%20%3D%20L.AwesomeMarkers.icon%28%0A%20%20%20%20%20%20%20%20%20%20%20%20%20%20%20%20%7B%22extraClasses%22%3A%20%22fa-rotate-0%22%2C%20%22icon%22%3A%20%22trophy%22%2C%20%22iconColor%22%3A%20%22black%22%2C%20%22markerColor%22%3A%20%22white%22%2C%20%22prefix%22%3A%20%22fa%22%7D%0A%20%20%20%20%20%20%20%20%20%20%20%20%29%3B%0A%20%20%20%20%20%20%20%20%20%20%20%20marker_0d32f7df607442e985f8618151a3b6c6.setIcon%28icon_61176ea0e11741a2adcd4df373c709ff%29%3B%0A%20%20%20%20%20%20%20%20%0A%20%20%20%20%0A%20%20%20%20%20%20%20%20%20%20%20%20marker_0d32f7df607442e985f8618151a3b6c6.bindTooltip%28%0A%20%20%20%20%20%20%20%20%20%20%20%20%20%20%20%20%60%3Cdiv%3E%0A%20%20%20%20%20%20%20%20%20%20%20%20%20%20%20%20%20%20%20%20%20Bespoke%20Wines%0A%20%20%20%20%20%20%20%20%20%20%20%20%20%20%20%20%20%3C/div%3E%60%2C%0A%20%20%20%20%20%20%20%20%20%20%20%20%20%20%20%20%7B%22sticky%22%3A%20true%7D%0A%20%20%20%20%20%20%20%20%20%20%20%20%29%3B%0A%20%20%20%20%20%20%20%20%0A%20%20%20%20%0A%20%20%20%20%20%20%20%20%20%20%20%20var%20marker_473466af4cf24900bf1ef5af64a8754d%20%3D%20L.marker%28%0A%20%20%20%20%20%20%20%20%20%20%20%20%20%20%20%20%5B40.4144296166%2C%20-3.6775528457%5D%2C%0A%20%20%20%20%20%20%20%20%20%20%20%20%20%20%20%20%7B%7D%0A%20%20%20%20%20%20%20%20%20%20%20%20%29.addTo%28map_21a24aad464443dc8edde57e84da232f%29%3B%0A%20%20%20%20%20%20%20%20%0A%20%20%20%20%0A%20%20%20%20%20%20%20%20%20%20%20%20var%20icon_0fedf651e79941369256c7c2bc592300%20%3D%20L.AwesomeMarkers.icon%28%0A%20%20%20%20%20%20%20%20%20%20%20%20%20%20%20%20%7B%22extraClasses%22%3A%20%22fa-rotate-0%22%2C%20%22icon%22%3A%20%22bus%22%2C%20%22iconColor%22%3A%20%22black%22%2C%20%22markerColor%22%3A%20%22lightblue%22%2C%20%22prefix%22%3A%20%22fa%22%7D%0A%20%20%20%20%20%20%20%20%20%20%20%20%29%3B%0A%20%20%20%20%20%20%20%20%20%20%20%20marker_473466af4cf24900bf1ef5af64a8754d.setIcon%28icon_0fedf651e79941369256c7c2bc592300%29%3B%0A%20%20%20%20%20%20%20%20%0A%20%20%20%20%0A%20%20%20%20%20%20%20%20%20%20%20%20marker_473466af4cf24900bf1ef5af64a8754d.bindTooltip%28%0A%20%20%20%20%20%20%20%20%20%20%20%20%20%20%20%20%60%3Cdiv%3E%0A%20%20%20%20%20%20%20%20%20%20%20%20%20%20%20%20%20%20%20%20%20Hospital%20Ni%C3%B1o%20Jes%C3%BAs%0A%20%20%20%20%20%20%20%20%20%20%20%20%20%20%20%20%20%3C/div%3E%60%2C%0A%20%20%20%20%20%20%20%20%20%20%20%20%20%20%20%20%7B%22sticky%22%3A%20true%7D%0A%20%20%20%20%20%20%20%20%20%20%20%20%29%3B%0A%20%20%20%20%20%20%20%20%0A%20%20%20%20%0A%20%20%20%20%20%20%20%20%20%20%20%20var%20marker_43a64b9f47a5483a9b507b89b4a909dd%20%3D%20L.marker%28%0A%20%20%20%20%20%20%20%20%20%20%20%20%20%20%20%20%5B40.4149444124%2C%20-3.6773340478%5D%2C%0A%20%20%20%20%20%20%20%20%20%20%20%20%20%20%20%20%7B%7D%0A%20%20%20%20%20%20%20%20%20%20%20%20%29.addTo%28map_21a24aad464443dc8edde57e84da232f%29%3B%0A%20%20%20%20%20%20%20%20%0A%20%20%20%20%0A%20%20%20%20%20%20%20%20%20%20%20%20var%20icon_024d0fa8933646ba89bb8a7d0292255d%20%3D%20L.AwesomeMarkers.icon%28%0A%20%20%20%20%20%20%20%20%20%20%20%20%20%20%20%20%7B%22extraClasses%22%3A%20%22fa-rotate-0%22%2C%20%22icon%22%3A%20%22bus%22%2C%20%22iconColor%22%3A%20%22black%22%2C%20%22markerColor%22%3A%20%22lightblue%22%2C%20%22prefix%22%3A%20%22fa%22%7D%0A%20%20%20%20%20%20%20%20%20%20%20%20%29%3B%0A%20%20%20%20%20%20%20%20%20%20%20%20marker_43a64b9f47a5483a9b507b89b4a909dd.setIcon%28icon_024d0fa8933646ba89bb8a7d0292255d%29%3B%0A%20%20%20%20%20%20%20%20%0A%20%20%20%20%0A%20%20%20%20%20%20%20%20%20%20%20%20marker_43a64b9f47a5483a9b507b89b4a909dd.bindTooltip%28%0A%20%20%20%20%20%20%20%20%20%20%20%20%20%20%20%20%60%3Cdiv%3E%0A%20%20%20%20%20%20%20%20%20%20%20%20%20%20%20%20%20%20%20%20%20Hospital%20Ni%C3%B1o%20Jes%C3%BAs%0A%20%20%20%20%20%20%20%20%20%20%20%20%20%20%20%20%20%3C/div%3E%60%2C%0A%20%20%20%20%20%20%20%20%20%20%20%20%20%20%20%20%7B%22sticky%22%3A%20true%7D%0A%20%20%20%20%20%20%20%20%20%20%20%20%29%3B%0A%20%20%20%20%20%20%20%20%0A%20%20%20%20%0A%20%20%20%20%20%20%20%20%20%20%20%20var%20marker_2095e00803ca44bf9120982a67a066f6%20%3D%20L.marker%28%0A%20%20%20%20%20%20%20%20%20%20%20%20%20%20%20%20%5B40.4156819812%2C%20-3.6767642314%5D%2C%0A%20%20%20%20%20%20%20%20%20%20%20%20%20%20%20%20%7B%7D%0A%20%20%20%20%20%20%20%20%20%20%20%20%29.addTo%28map_21a24aad464443dc8edde57e84da232f%29%3B%0A%20%20%20%20%20%20%20%20%0A%20%20%20%20%0A%20%20%20%20%20%20%20%20%20%20%20%20var%20icon_9bb2dd86516740c0a238d9a1ffef65dc%20%3D%20L.AwesomeMarkers.icon%28%0A%20%20%20%20%20%20%20%20%20%20%20%20%20%20%20%20%7B%22extraClasses%22%3A%20%22fa-rotate-0%22%2C%20%22icon%22%3A%20%22bus%22%2C%20%22iconColor%22%3A%20%22black%22%2C%20%22markerColor%22%3A%20%22lightblue%22%2C%20%22prefix%22%3A%20%22fa%22%7D%0A%20%20%20%20%20%20%20%20%20%20%20%20%29%3B%0A%20%20%20%20%20%20%20%20%20%20%20%20marker_2095e00803ca44bf9120982a67a066f6.setIcon%28icon_9bb2dd86516740c0a238d9a1ffef65dc%29%3B%0A%20%20%20%20%20%20%20%20%0A%20%20%20%20%0A%20%20%20%20%20%20%20%20%20%20%20%20marker_2095e00803ca44bf9120982a67a066f6.bindTooltip%28%0A%20%20%20%20%20%20%20%20%20%20%20%20%20%20%20%20%60%3Cdiv%3E%0A%20%20%20%20%20%20%20%20%20%20%20%20%20%20%20%20%20%20%20%20%20Narv%C3%A1ez%0A%20%20%20%20%20%20%20%20%20%20%20%20%20%20%20%20%20%3C/div%3E%60%2C%0A%20%20%20%20%20%20%20%20%20%20%20%20%20%20%20%20%7B%22sticky%22%3A%20true%7D%0A%20%20%20%20%20%20%20%20%20%20%20%20%29%3B%0A%20%20%20%20%20%20%20%20%0A%20%20%20%20%0A%20%20%20%20%20%20%20%20%20%20%20%20var%20marker_ff5b39d204c9415d842bad6ac4d06a8a%20%3D%20L.marker%28%0A%20%20%20%20%20%20%20%20%20%20%20%20%20%20%20%20%5B40.4109573422%2C%20-3.676659895%5D%2C%0A%20%20%20%20%20%20%20%20%20%20%20%20%20%20%20%20%7B%7D%0A%20%20%20%20%20%20%20%20%20%20%20%20%29.addTo%28map_21a24aad464443dc8edde57e84da232f%29%3B%0A%20%20%20%20%20%20%20%20%0A%20%20%20%20%0A%20%20%20%20%20%20%20%20%20%20%20%20var%20icon_494df5bb612441cf80a5cfd401bd2c8e%20%3D%20L.AwesomeMarkers.icon%28%0A%20%20%20%20%20%20%20%20%20%20%20%20%20%20%20%20%7B%22extraClasses%22%3A%20%22fa-rotate-0%22%2C%20%22icon%22%3A%20%22bus%22%2C%20%22iconColor%22%3A%20%22black%22%2C%20%22markerColor%22%3A%20%22lightblue%22%2C%20%22prefix%22%3A%20%22fa%22%7D%0A%20%20%20%20%20%20%20%20%20%20%20%20%29%3B%0A%20%20%20%20%20%20%20%20%20%20%20%20marker_ff5b39d204c9415d842bad6ac4d06a8a.setIcon%28icon_494df5bb612441cf80a5cfd401bd2c8e%29%3B%0A%20%20%20%20%20%20%20%20%0A%20%20%20%20%0A%20%20%20%20%20%20%20%20%20%20%20%20marker_ff5b39d204c9415d842bad6ac4d06a8a.bindTooltip%28%0A%20%20%20%20%20%20%20%20%20%20%20%20%20%20%20%20%60%3Cdiv%3E%0A%20%20%20%20%20%20%20%20%20%20%20%20%20%20%20%20%20%20%20%20%20Plaza%20Ni%C3%B1o%20Jes%C3%BAs%0A%20%20%20%20%20%20%20%20%20%20%20%20%20%20%20%20%20%3C/div%3E%60%2C%0A%20%20%20%20%20%20%20%20%20%20%20%20%20%20%20%20%7B%22sticky%22%3A%20true%7D%0A%20%20%20%20%20%20%20%20%20%20%20%20%29%3B%0A%20%20%20%20%20%20%20%20%0A%20%20%20%20%0A%20%20%20%20%20%20%20%20%20%20%20%20var%20marker_01697d90f89c45ff84141f71388b21dd%20%3D%20L.marker%28%0A%20%20%20%20%20%20%20%20%20%20%20%20%20%20%20%20%5B40.4111041073%2C%20-3.6762112733%5D%2C%0A%20%20%20%20%20%20%20%20%20%20%20%20%20%20%20%20%7B%7D%0A%20%20%20%20%20%20%20%20%20%20%20%20%29.addTo%28map_21a24aad464443dc8edde57e84da232f%29%3B%0A%20%20%20%20%20%20%20%20%0A%20%20%20%20%0A%20%20%20%20%20%20%20%20%20%20%20%20var%20icon_703bc0ab0dfe4a8fac4115a3bd7022b3%20%3D%20L.AwesomeMarkers.icon%28%0A%20%20%20%20%20%20%20%20%20%20%20%20%20%20%20%20%7B%22extraClasses%22%3A%20%22fa-rotate-0%22%2C%20%22icon%22%3A%20%22bus%22%2C%20%22iconColor%22%3A%20%22black%22%2C%20%22markerColor%22%3A%20%22lightblue%22%2C%20%22prefix%22%3A%20%22fa%22%7D%0A%20%20%20%20%20%20%20%20%20%20%20%20%29%3B%0A%20%20%20%20%20%20%20%20%20%20%20%20marker_01697d90f89c45ff84141f71388b21dd.setIcon%28icon_703bc0ab0dfe4a8fac4115a3bd7022b3%29%3B%0A%20%20%20%20%20%20%20%20%0A%20%20%20%20%0A%20%20%20%20%20%20%20%20%20%20%20%20marker_01697d90f89c45ff84141f71388b21dd.bindTooltip%28%0A%20%20%20%20%20%20%20%20%20%20%20%20%20%20%20%20%60%3Cdiv%3E%0A%20%20%20%20%20%20%20%20%20%20%20%20%20%20%20%20%20%20%20%20%20Plaza%20Ni%C3%B1o%20Jes%C3%BAs%0A%20%20%20%20%20%20%20%20%20%20%20%20%20%20%20%20%20%3C/div%3E%60%2C%0A%20%20%20%20%20%20%20%20%20%20%20%20%20%20%20%20%7B%22sticky%22%3A%20true%7D%0A%20%20%20%20%20%20%20%20%20%20%20%20%29%3B%0A%20%20%20%20%20%20%20%20%0A%20%20%20%20%0A%20%20%20%20%20%20%20%20%20%20%20%20var%20marker_c60de2e850f94676b01b018e3c0e3f26%20%3D%20L.marker%28%0A%20%20%20%20%20%20%20%20%20%20%20%20%20%20%20%20%5B40.4111569193%2C%20-3.6756523199%5D%2C%0A%20%20%20%20%20%20%20%20%20%20%20%20%20%20%20%20%7B%7D%0A%20%20%20%20%20%20%20%20%20%20%20%20%29.addTo%28map_21a24aad464443dc8edde57e84da232f%29%3B%0A%20%20%20%20%20%20%20%20%0A%20%20%20%20%0A%20%20%20%20%20%20%20%20%20%20%20%20var%20icon_3435bb9ab5724ba5ae8b95bc2032f964%20%3D%20L.AwesomeMarkers.icon%28%0A%20%20%20%20%20%20%20%20%20%20%20%20%20%20%20%20%7B%22extraClasses%22%3A%20%22fa-rotate-0%22%2C%20%22icon%22%3A%20%22bus%22%2C%20%22iconColor%22%3A%20%22black%22%2C%20%22markerColor%22%3A%20%22lightblue%22%2C%20%22prefix%22%3A%20%22fa%22%7D%0A%20%20%20%20%20%20%20%20%20%20%20%20%29%3B%0A%20%20%20%20%20%20%20%20%20%20%20%20marker_c60de2e850f94676b01b018e3c0e3f26.setIcon%28icon_3435bb9ab5724ba5ae8b95bc2032f964%29%3B%0A%20%20%20%20%20%20%20%20%0A%20%20%20%20%0A%20%20%20%20%20%20%20%20%20%20%20%20marker_c60de2e850f94676b01b018e3c0e3f26.bindTooltip%28%0A%20%20%20%20%20%20%20%20%20%20%20%20%20%20%20%20%60%3Cdiv%3E%0A%20%20%20%20%20%20%20%20%20%20%20%20%20%20%20%20%20%20%20%20%20Plaza%20Ni%C3%B1o%20Jes%C3%BAs%0A%20%20%20%20%20%20%20%20%20%20%20%20%20%20%20%20%20%3C/div%3E%60%2C%0A%20%20%20%20%20%20%20%20%20%20%20%20%20%20%20%20%7B%22sticky%22%3A%20true%7D%0A%20%20%20%20%20%20%20%20%20%20%20%20%29%3B%0A%20%20%20%20%20%20%20%20%0A%20%20%20%20%0A%20%20%20%20%20%20%20%20%20%20%20%20var%20marker_7fd1b5d63f4f4265aeac66c98324ee31%20%3D%20L.marker%28%0A%20%20%20%20%20%20%20%20%20%20%20%20%20%20%20%20%5B40.4168318674%2C%20-3.6780936987%5D%2C%0A%20%20%20%20%20%20%20%20%20%20%20%20%20%20%20%20%7B%7D%0A%20%20%20%20%20%20%20%20%20%20%20%20%29.addTo%28map_21a24aad464443dc8edde57e84da232f%29%3B%0A%20%20%20%20%20%20%20%20%0A%20%20%20%20%0A%20%20%20%20%20%20%20%20%20%20%20%20var%20icon_125f47266dcb496db8601816268bca27%20%3D%20L.AwesomeMarkers.icon%28%0A%20%20%20%20%20%20%20%20%20%20%20%20%20%20%20%20%7B%22extraClasses%22%3A%20%22fa-rotate-0%22%2C%20%22icon%22%3A%20%22bus%22%2C%20%22iconColor%22%3A%20%22black%22%2C%20%22markerColor%22%3A%20%22lightblue%22%2C%20%22prefix%22%3A%20%22fa%22%7D%0A%20%20%20%20%20%20%20%20%20%20%20%20%29%3B%0A%20%20%20%20%20%20%20%20%20%20%20%20marker_7fd1b5d63f4f4265aeac66c98324ee31.setIcon%28icon_125f47266dcb496db8601816268bca27%29%3B%0A%20%20%20%20%20%20%20%20%0A%20%20%20%20%0A%20%20%20%20%20%20%20%20%20%20%20%20marker_7fd1b5d63f4f4265aeac66c98324ee31.bindTooltip%28%0A%20%20%20%20%20%20%20%20%20%20%20%20%20%20%20%20%60%3Cdiv%3E%0A%20%20%20%20%20%20%20%20%20%20%20%20%20%20%20%20%20%20%20%20%20Men%C3%A9ndez%20Pelayo-Sainz%20de%20Baranda%0A%20%20%20%20%20%20%20%20%20%20%20%20%20%20%20%20%20%3C/div%3E%60%2C%0A%20%20%20%20%20%20%20%20%20%20%20%20%20%20%20%20%7B%22sticky%22%3A%20true%7D%0A%20%20%20%20%20%20%20%20%20%20%20%20%29%3B%0A%20%20%20%20%20%20%20%20%0A%20%20%20%20%0A%20%20%20%20%20%20%20%20%20%20%20%20var%20marker_927c7f6fab4f4c858cbb965da2af3682%20%3D%20L.marker%28%0A%20%20%20%20%20%20%20%20%20%20%20%20%20%20%20%20%5B40.4111910825%2C%20-3.6752010979%5D%2C%0A%20%20%20%20%20%20%20%20%20%20%20%20%20%20%20%20%7B%7D%0A%20%20%20%20%20%20%20%20%20%20%20%20%29.addTo%28map_21a24aad464443dc8edde57e84da232f%29%3B%0A%20%20%20%20%20%20%20%20%0A%20%20%20%20%0A%20%20%20%20%20%20%20%20%20%20%20%20var%20icon_5793179766ee4fc8ae4f4314a1e8dab2%20%3D%20L.AwesomeMarkers.icon%28%0A%20%20%20%20%20%20%20%20%20%20%20%20%20%20%20%20%7B%22extraClasses%22%3A%20%22fa-rotate-0%22%2C%20%22icon%22%3A%20%22bus%22%2C%20%22iconColor%22%3A%20%22black%22%2C%20%22markerColor%22%3A%20%22lightblue%22%2C%20%22prefix%22%3A%20%22fa%22%7D%0A%20%20%20%20%20%20%20%20%20%20%20%20%29%3B%0A%20%20%20%20%20%20%20%20%20%20%20%20marker_927c7f6fab4f4c858cbb965da2af3682.setIcon%28icon_5793179766ee4fc8ae4f4314a1e8dab2%29%3B%0A%20%20%20%20%20%20%20%20%0A%20%20%20%20%0A%20%20%20%20%20%20%20%20%20%20%20%20marker_927c7f6fab4f4c858cbb965da2af3682.bindTooltip%28%0A%20%20%20%20%20%20%20%20%20%20%20%20%20%20%20%20%60%3Cdiv%3E%0A%20%20%20%20%20%20%20%20%20%20%20%20%20%20%20%20%20%20%20%20%20Plaza%20Ni%C3%B1o%20Jes%C3%BAs%0A%20%20%20%20%20%20%20%20%20%20%20%20%20%20%20%20%20%3C/div%3E%60%2C%0A%20%20%20%20%20%20%20%20%20%20%20%20%20%20%20%20%7B%22sticky%22%3A%20true%7D%0A%20%20%20%20%20%20%20%20%20%20%20%20%29%3B%0A%20%20%20%20%20%20%20%20%0A%20%20%20%20%0A%20%20%20%20%20%20%20%20%20%20%20%20var%20marker_b4c552233b874a62a6cd5a05e029b06b%20%3D%20L.marker%28%0A%20%20%20%20%20%20%20%20%20%20%20%20%20%20%20%20%5B40.4163652939%2C%20-3.6762284854%5D%2C%0A%20%20%20%20%20%20%20%20%20%20%20%20%20%20%20%20%7B%7D%0A%20%20%20%20%20%20%20%20%20%20%20%20%29.addTo%28map_21a24aad464443dc8edde57e84da232f%29%3B%0A%20%20%20%20%20%20%20%20%0A%20%20%20%20%0A%20%20%20%20%20%20%20%20%20%20%20%20var%20icon_9d6be3af4f564294af36e7fe3a3caba6%20%3D%20L.AwesomeMarkers.icon%28%0A%20%20%20%20%20%20%20%20%20%20%20%20%20%20%20%20%7B%22extraClasses%22%3A%20%22fa-rotate-0%22%2C%20%22icon%22%3A%20%22bus%22%2C%20%22iconColor%22%3A%20%22black%22%2C%20%22markerColor%22%3A%20%22lightblue%22%2C%20%22prefix%22%3A%20%22fa%22%7D%0A%20%20%20%20%20%20%20%20%20%20%20%20%29%3B%0A%20%20%20%20%20%20%20%20%20%20%20%20marker_b4c552233b874a62a6cd5a05e029b06b.setIcon%28icon_9d6be3af4f564294af36e7fe3a3caba6%29%3B%0A%20%20%20%20%20%20%20%20%0A%20%20%20%20%0A%20%20%20%20%20%20%20%20%20%20%20%20marker_b4c552233b874a62a6cd5a05e029b06b.bindTooltip%28%0A%20%20%20%20%20%20%20%20%20%20%20%20%20%20%20%20%60%3Cdiv%3E%0A%20%20%20%20%20%20%20%20%20%20%20%20%20%20%20%20%20%20%20%20%20Narv%C3%A1ez-Doce%20de%20Octubre%0A%20%20%20%20%20%20%20%20%20%20%20%20%20%20%20%20%20%3C/div%3E%60%2C%0A%20%20%20%20%20%20%20%20%20%20%20%20%20%20%20%20%7B%22sticky%22%3A%20true%7D%0A%20%20%20%20%20%20%20%20%20%20%20%20%29%3B%0A%20%20%20%20%20%20%20%20%0A%20%20%20%20%0A%20%20%20%20%20%20%20%20%20%20%20%20var%20marker_738739cf020544c0937756bb67dc65cd%20%3D%20L.marker%28%0A%20%20%20%20%20%20%20%20%20%20%20%20%20%20%20%20%5B40.4168660269%2C%20-3.6784141399%5D%2C%0A%20%20%20%20%20%20%20%20%20%20%20%20%20%20%20%20%7B%7D%0A%20%20%20%20%20%20%20%20%20%20%20%20%29.addTo%28map_21a24aad464443dc8edde57e84da232f%29%3B%0A%20%20%20%20%20%20%20%20%0A%20%20%20%20%0A%20%20%20%20%20%20%20%20%20%20%20%20var%20icon_63a076960af745e0a3d0950453779623%20%3D%20L.AwesomeMarkers.icon%28%0A%20%20%20%20%20%20%20%20%20%20%20%20%20%20%20%20%7B%22extraClasses%22%3A%20%22fa-rotate-0%22%2C%20%22icon%22%3A%20%22bus%22%2C%20%22iconColor%22%3A%20%22black%22%2C%20%22markerColor%22%3A%20%22lightblue%22%2C%20%22prefix%22%3A%20%22fa%22%7D%0A%20%20%20%20%20%20%20%20%20%20%20%20%29%3B%0A%20%20%20%20%20%20%20%20%20%20%20%20marker_738739cf020544c0937756bb67dc65cd.setIcon%28icon_63a076960af745e0a3d0950453779623%29%3B%0A%20%20%20%20%20%20%20%20%0A%20%20%20%20%0A%20%20%20%20%20%20%20%20%20%20%20%20marker_738739cf020544c0937756bb67dc65cd.bindTooltip%28%0A%20%20%20%20%20%20%20%20%20%20%20%20%20%20%20%20%60%3Cdiv%3E%0A%20%20%20%20%20%20%20%20%20%20%20%20%20%20%20%20%20%20%20%20%20Men%C3%A9ndez%20Pelayo-Sainz%20de%20Baranda%0A%20%20%20%20%20%20%20%20%20%20%20%20%20%20%20%20%20%3C/div%3E%60%2C%0A%20%20%20%20%20%20%20%20%20%20%20%20%20%20%20%20%7B%22sticky%22%3A%20true%7D%0A%20%20%20%20%20%20%20%20%20%20%20%20%29%3B%0A%20%20%20%20%20%20%20%20%0A%20%20%20%20%0A%20%20%20%20%20%20%20%20%20%20%20%20var%20marker_17acd05a6029433fa8ce7d9d130171b6%20%3D%20L.marker%28%0A%20%20%20%20%20%20%20%20%20%20%20%20%20%20%20%20%5B40.4169673684%2C%20-3.6772614723%5D%2C%0A%20%20%20%20%20%20%20%20%20%20%20%20%20%20%20%20%7B%7D%0A%20%20%20%20%20%20%20%20%20%20%20%20%29.addTo%28map_21a24aad464443dc8edde57e84da232f%29%3B%0A%20%20%20%20%20%20%20%20%0A%20%20%20%20%0A%20%20%20%20%20%20%20%20%20%20%20%20var%20icon_a4ac96e99f7e4fb6989a76a05a4ca6e2%20%3D%20L.AwesomeMarkers.icon%28%0A%20%20%20%20%20%20%20%20%20%20%20%20%20%20%20%20%7B%22extraClasses%22%3A%20%22fa-rotate-0%22%2C%20%22icon%22%3A%20%22bus%22%2C%20%22iconColor%22%3A%20%22black%22%2C%20%22markerColor%22%3A%20%22lightblue%22%2C%20%22prefix%22%3A%20%22fa%22%7D%0A%20%20%20%20%20%20%20%20%20%20%20%20%29%3B%0A%20%20%20%20%20%20%20%20%20%20%20%20marker_17acd05a6029433fa8ce7d9d130171b6.setIcon%28icon_a4ac96e99f7e4fb6989a76a05a4ca6e2%29%3B%0A%20%20%20%20%20%20%20%20%0A%20%20%20%20%0A%20%20%20%20%20%20%20%20%20%20%20%20marker_17acd05a6029433fa8ce7d9d130171b6.bindTooltip%28%0A%20%20%20%20%20%20%20%20%20%20%20%20%20%20%20%20%60%3Cdiv%3E%0A%20%20%20%20%20%20%20%20%20%20%20%20%20%20%20%20%20%20%20%20%20Men%C3%A9ndez%20Pelayo-Sainz%20de%20Baranda%0A%20%20%20%20%20%20%20%20%20%20%20%20%20%20%20%20%20%3C/div%3E%60%2C%0A%20%20%20%20%20%20%20%20%20%20%20%20%20%20%20%20%7B%22sticky%22%3A%20true%7D%0A%20%20%20%20%20%20%20%20%20%20%20%20%29%3B%0A%20%20%20%20%20%20%20%20%0A%20%20%20%20%0A%20%20%20%20%20%20%20%20%20%20%20%20var%20marker_4973f26ac4584902884b3739f4ef219c%20%3D%20L.marker%28%0A%20%20%20%20%20%20%20%20%20%20%20%20%20%20%20%20%5B40.417%2C%20-3.676%5D%2C%0A%20%20%20%20%20%20%20%20%20%20%20%20%20%20%20%20%7B%7D%0A%20%20%20%20%20%20%20%20%20%20%20%20%29.addTo%28map_21a24aad464443dc8edde57e84da232f%29%3B%0A%20%20%20%20%20%20%20%20%0A%20%20%20%20%0A%20%20%20%20%20%20%20%20%20%20%20%20var%20icon_2b1c157547a74c828fd1facbda87d437%20%3D%20L.AwesomeMarkers.icon%28%0A%20%20%20%20%20%20%20%20%20%20%20%20%20%20%20%20%7B%22extraClasses%22%3A%20%22fa-rotate-0%22%2C%20%22icon%22%3A%20%22car%22%2C%20%22iconColor%22%3A%20%22black%22%2C%20%22markerColor%22%3A%20%22lightblue%22%2C%20%22prefix%22%3A%20%22fa%22%7D%0A%20%20%20%20%20%20%20%20%20%20%20%20%29%3B%0A%20%20%20%20%20%20%20%20%20%20%20%20marker_4973f26ac4584902884b3739f4ef219c.setIcon%28icon_2b1c157547a74c828fd1facbda87d437%29%3B%0A%20%20%20%20%20%20%20%20%0A%20%20%20%20%0A%20%20%20%20%20%20%20%20%20%20%20%20marker_4973f26ac4584902884b3739f4ef219c.bindTooltip%28%0A%20%20%20%20%20%20%20%20%20%20%20%20%20%20%20%20%60%3Cdiv%3E%0A%20%20%20%20%20%20%20%20%20%20%20%20%20%20%20%20%20%20%20%20%20Aparcamiento%20para%20residentes.%20Doce%20de%20Octubre%0A%20%20%20%20%20%20%20%20%20%20%20%20%20%20%20%20%20%3C/div%3E%60%2C%0A%20%20%20%20%20%20%20%20%20%20%20%20%20%20%20%20%7B%22sticky%22%3A%20true%7D%0A%20%20%20%20%20%20%20%20%20%20%20%20%29%3B%0A%20%20%20%20%20%20%20%20%0A%20%20%20%20%0A%20%20%20%20%20%20%20%20%20%20%20%20var%20marker_ab9fb06a3dd849e5bb93c0438f850a4b%20%3D%20L.marker%28%0A%20%20%20%20%20%20%20%20%20%20%20%20%20%20%20%20%5B40.4168776657%2C%20-3.6756527129%5D%2C%0A%20%20%20%20%20%20%20%20%20%20%20%20%20%20%20%20%7B%7D%0A%20%20%20%20%20%20%20%20%20%20%20%20%29.addTo%28map_21a24aad464443dc8edde57e84da232f%29%3B%0A%20%20%20%20%20%20%20%20%0A%20%20%20%20%0A%20%20%20%20%20%20%20%20%20%20%20%20var%20icon_429e9264042a4327a0b8a5dcad28b3ec%20%3D%20L.AwesomeMarkers.icon%28%0A%20%20%20%20%20%20%20%20%20%20%20%20%20%20%20%20%7B%22extraClasses%22%3A%20%22fa-rotate-0%22%2C%20%22icon%22%3A%20%22bus%22%2C%20%22iconColor%22%3A%20%22black%22%2C%20%22markerColor%22%3A%20%22lightblue%22%2C%20%22prefix%22%3A%20%22fa%22%7D%0A%20%20%20%20%20%20%20%20%20%20%20%20%29%3B%0A%20%20%20%20%20%20%20%20%20%20%20%20marker_ab9fb06a3dd849e5bb93c0438f850a4b.setIcon%28icon_429e9264042a4327a0b8a5dcad28b3ec%29%3B%0A%20%20%20%20%20%20%20%20%0A%20%20%20%20%0A%20%20%20%20%20%20%20%20%20%20%20%20marker_ab9fb06a3dd849e5bb93c0438f850a4b.bindTooltip%28%0A%20%20%20%20%20%20%20%20%20%20%20%20%20%20%20%20%60%3Cdiv%3E%0A%20%20%20%20%20%20%20%20%20%20%20%20%20%20%20%20%20%20%20%20%20Sainz%20de%20Baranda-Narv%C3%A1ez%0A%20%20%20%20%20%20%20%20%20%20%20%20%20%20%20%20%20%3C/div%3E%60%2C%0A%20%20%20%20%20%20%20%20%20%20%20%20%20%20%20%20%7B%22sticky%22%3A%20true%7D%0A%20%20%20%20%20%20%20%20%20%20%20%20%29%3B%0A%20%20%20%20%20%20%20%20%0A%20%20%20%20%0A%20%20%20%20%20%20%20%20%20%20%20%20var%20marker_756a9997f24946fe831af4cd27465340%20%3D%20L.marker%28%0A%20%20%20%20%20%20%20%20%20%20%20%20%20%20%20%20%5B40.4171193075%2C%20-3.6759273397%5D%2C%0A%20%20%20%20%20%20%20%20%20%20%20%20%20%20%20%20%7B%7D%0A%20%20%20%20%20%20%20%20%20%20%20%20%29.addTo%28map_21a24aad464443dc8edde57e84da232f%29%3B%0A%20%20%20%20%20%20%20%20%0A%20%20%20%20%0A%20%20%20%20%20%20%20%20%20%20%20%20var%20icon_d61cf5b34a2a4901a8dee29f0a1f016b%20%3D%20L.AwesomeMarkers.icon%28%0A%20%20%20%20%20%20%20%20%20%20%20%20%20%20%20%20%7B%22extraClasses%22%3A%20%22fa-rotate-0%22%2C%20%22icon%22%3A%20%22bus%22%2C%20%22iconColor%22%3A%20%22black%22%2C%20%22markerColor%22%3A%20%22lightblue%22%2C%20%22prefix%22%3A%20%22fa%22%7D%0A%20%20%20%20%20%20%20%20%20%20%20%20%29%3B%0A%20%20%20%20%20%20%20%20%20%20%20%20marker_756a9997f24946fe831af4cd27465340.setIcon%28icon_d61cf5b34a2a4901a8dee29f0a1f016b%29%3B%0A%20%20%20%20%20%20%20%20%0A%20%20%20%20%0A%20%20%20%20%20%20%20%20%20%20%20%20marker_756a9997f24946fe831af4cd27465340.bindTooltip%28%0A%20%20%20%20%20%20%20%20%20%20%20%20%20%20%20%20%60%3Cdiv%3E%0A%20%20%20%20%20%20%20%20%20%20%20%20%20%20%20%20%20%20%20%20%20Sainz%20de%20Baranda-Narv%C3%A1ez%0A%20%20%20%20%20%20%20%20%20%20%20%20%20%20%20%20%20%3C/div%3E%60%2C%0A%20%20%20%20%20%20%20%20%20%20%20%20%20%20%20%20%7B%22sticky%22%3A%20true%7D%0A%20%20%20%20%20%20%20%20%20%20%20%20%29%3B%0A%20%20%20%20%20%20%20%20%0A%20%20%20%20%0A%20%20%20%20%20%20%20%20%20%20%20%20var%20marker_0674665f006949e4b7487e8893a51700%20%3D%20L.marker%28%0A%20%20%20%20%20%20%20%20%20%20%20%20%20%20%20%20%5B40.41%2C%20-3.675%5D%2C%0A%20%20%20%20%20%20%20%20%20%20%20%20%20%20%20%20%7B%7D%0A%20%20%20%20%20%20%20%20%20%20%20%20%29.addTo%28map_21a24aad464443dc8edde57e84da232f%29%3B%0A%20%20%20%20%20%20%20%20%0A%20%20%20%20%0A%20%20%20%20%20%20%20%20%20%20%20%20var%20icon_b4fc2dcb73d34b72adcba1e9b27360b3%20%3D%20L.AwesomeMarkers.icon%28%0A%20%20%20%20%20%20%20%20%20%20%20%20%20%20%20%20%7B%22extraClasses%22%3A%20%22fa-rotate-0%22%2C%20%22icon%22%3A%20%22car%22%2C%20%22iconColor%22%3A%20%22black%22%2C%20%22markerColor%22%3A%20%22lightblue%22%2C%20%22prefix%22%3A%20%22fa%22%7D%0A%20%20%20%20%20%20%20%20%20%20%20%20%29%3B%0A%20%20%20%20%20%20%20%20%20%20%20%20marker_0674665f006949e4b7487e8893a51700.setIcon%28icon_b4fc2dcb73d34b72adcba1e9b27360b3%29%3B%0A%20%20%20%20%20%20%20%20%0A%20%20%20%20%0A%20%20%20%20%20%20%20%20%20%20%20%20marker_0674665f006949e4b7487e8893a51700.bindTooltip%28%0A%20%20%20%20%20%20%20%20%20%20%20%20%20%20%20%20%60%3Cdiv%3E%0A%20%20%20%20%20%20%20%20%20%20%20%20%20%20%20%20%20%20%20%20%20Aparcamiento%20para%20residentes.%20Ni%C3%B1o%20Jes%C3%BAs%0A%20%20%20%20%20%20%20%20%20%20%20%20%20%20%20%20%20%3C/div%3E%60%2C%0A%20%20%20%20%20%20%20%20%20%20%20%20%20%20%20%20%7B%22sticky%22%3A%20true%7D%0A%20%20%20%20%20%20%20%20%20%20%20%20%29%3B%0A%20%20%20%20%20%20%20%20%0A%3C/script%3E onload=\"this.contentDocument.open();this.contentDocument.write(    decodeURIComponent(this.getAttribute('data-html')));this.contentDocument.close();\" allowfullscreen webkitallowfullscreen mozallowfullscreen></iframe></div></div>"
      ],
      "text/plain": [
       "<folium.folium.Map at 0x7f88dfb59610>"
      ]
     },
     "execution_count": 165,
     "metadata": {},
     "output_type": "execute_result"
    }
   ],
   "source": [
    "get_map(df,df_tr)"
   ]
  },
  {
   "cell_type": "code",
   "execution_count": null,
   "metadata": {},
   "outputs": [],
   "source": []
  },
  {
   "cell_type": "code",
   "execution_count": null,
   "metadata": {},
   "outputs": [],
   "source": []
  },
  {
   "cell_type": "code",
   "execution_count": 105,
   "metadata": {},
   "outputs": [],
   "source": [
    "def get_map(df):\n",
    "    map_1 = Map(location=[list(df.latitude.unique())[0],list(df.longitude.unique())[0]],zoom_start=15)\n",
    "    for i, row in df.iterrows():\n",
    "        geom = {\n",
    "                    \"location\":[row[\"latitude\"], row[\"longitude\"]],\n",
    "                    \"tooltip\" : row[\"name\"]\n",
    "                }\n",
    "        icon = Icon(color = \"white\",\n",
    "                                prefix = \"fa\",\n",
    "                                icon = \"trophy\",\n",
    "                                icon_color = \"black\"\n",
    "                )\n",
    "\n",
    "\n",
    "        Marker(**geom,icon = icon ).add_to(map_1)\n",
    "        \n",
    "    return map_1"
   ]
  },
  {
   "cell_type": "code",
   "execution_count": null,
   "metadata": {},
   "outputs": [],
   "source": []
  },
  {
   "cell_type": "code",
   "execution_count": null,
   "metadata": {},
   "outputs": [],
   "source": []
  },
  {
   "cell_type": "code",
   "execution_count": null,
   "metadata": {},
   "outputs": [],
   "source": []
  },
  {
   "cell_type": "code",
   "execution_count": null,
   "metadata": {},
   "outputs": [],
   "source": []
  },
  {
   "cell_type": "code",
   "execution_count": null,
   "metadata": {},
   "outputs": [],
   "source": []
  },
  {
   "cell_type": "code",
   "execution_count": null,
   "metadata": {},
   "outputs": [],
   "source": []
  },
  {
   "cell_type": "code",
   "execution_count": null,
   "metadata": {},
   "outputs": [],
   "source": []
  },
  {
   "cell_type": "code",
   "execution_count": null,
   "metadata": {},
   "outputs": [],
   "source": []
  },
  {
   "cell_type": "code",
   "execution_count": 136,
   "metadata": {},
   "outputs": [],
   "source": [
    "if \"cinema\" in [\"karaoke\",\"tenis\",\"cinema\"]:\n",
    "    df_films_2ffff = films()"
   ]
  },
  {
   "cell_type": "code",
   "execution_count": 131,
   "metadata": {},
   "outputs": [],
   "source": [
    "def films():\n",
    "    url = \"https://www.cinesa.es/peliculas/cartelera\"\n",
    "    html = requests.get(url)\n",
    "    soup = BeautifulSoup(html.content, \"html.parser\")\n",
    "\n",
    "    films = soup.find_all(\"a\", {\"class\": \"vf\"})\n",
    "\n",
    "    list_of_films = [a.getText().strip() for a in films]\n",
    "    list_of_films_cleaned = []\n",
    "    for index,f in enumerate(list_of_films):\n",
    "        if index%2 == 0:\n",
    "            list_of_films_cleaned.append(f)\n",
    "    list_of_films_cleaned\n",
    "\n",
    "    dict_films = {\"film\" : list_of_films_cleaned}\n",
    "\n",
    "    return pd.DataFrame.from_dict(dict_films, orient = \"columns\")\n",
    "    \n",
    "  "
   ]
  },
  {
   "cell_type": "code",
   "execution_count": 137,
   "metadata": {},
   "outputs": [
    {
     "data": {
      "text/html": [
       "<div>\n",
       "<style scoped>\n",
       "    .dataframe tbody tr th:only-of-type {\n",
       "        vertical-align: middle;\n",
       "    }\n",
       "\n",
       "    .dataframe tbody tr th {\n",
       "        vertical-align: top;\n",
       "    }\n",
       "\n",
       "    .dataframe thead th {\n",
       "        text-align: right;\n",
       "    }\n",
       "</style>\n",
       "<table border=\"1\" class=\"dataframe\">\n",
       "  <thead>\n",
       "    <tr style=\"text-align: right;\">\n",
       "      <th></th>\n",
       "      <th>film</th>\n",
       "    </tr>\n",
       "  </thead>\n",
       "  <tbody>\n",
       "    <tr>\n",
       "      <th>0</th>\n",
       "      <td>¡Upsss! 2 ¿Y ahora dónde está Noé?</td>\n",
       "    </tr>\n",
       "    <tr>\n",
       "      <th>1</th>\n",
       "      <td>4 días</td>\n",
       "    </tr>\n",
       "    <tr>\n",
       "      <th>2</th>\n",
       "      <td>Amanece en Calcuta</td>\n",
       "    </tr>\n",
       "    <tr>\n",
       "      <th>3</th>\n",
       "      <td>Aquellos que desean mi muerte</td>\n",
       "    </tr>\n",
       "    <tr>\n",
       "      <th>4</th>\n",
       "      <td>Barbie y Chelsea, el cumpleaños perdido</td>\n",
       "    </tr>\n",
       "    <tr>\n",
       "      <th>5</th>\n",
       "      <td>Boda sin fin</td>\n",
       "    </tr>\n",
       "    <tr>\n",
       "      <th>6</th>\n",
       "      <td>Borrar el historial</td>\n",
       "    </tr>\n",
       "    <tr>\n",
       "      <th>7</th>\n",
       "      <td>Chaos Walking</td>\n",
       "    </tr>\n",
       "    <tr>\n",
       "      <th>8</th>\n",
       "      <td>Cruella</td>\n",
       "    </tr>\n",
       "    <tr>\n",
       "      <th>9</th>\n",
       "      <td>Cuñados</td>\n",
       "    </tr>\n",
       "    <tr>\n",
       "      <th>10</th>\n",
       "      <td>Earwig y la bruja</td>\n",
       "    </tr>\n",
       "    <tr>\n",
       "      <th>11</th>\n",
       "      <td>El fotógrafo de Minamata</td>\n",
       "    </tr>\n",
       "    <tr>\n",
       "      <th>12</th>\n",
       "      <td>El olvido que seremos</td>\n",
       "    </tr>\n",
       "    <tr>\n",
       "      <th>13</th>\n",
       "      <td>El Padre</td>\n",
       "    </tr>\n",
       "    <tr>\n",
       "      <th>14</th>\n",
       "      <td>El señor de los anillos: el retorno del rey</td>\n",
       "    </tr>\n",
       "    <tr>\n",
       "      <th>15</th>\n",
       "      <td>El señor de los anillos: la comunidad del anillo</td>\n",
       "    </tr>\n",
       "    <tr>\n",
       "      <th>16</th>\n",
       "      <td>El señor de los anillos: las dos torres</td>\n",
       "    </tr>\n",
       "    <tr>\n",
       "      <th>17</th>\n",
       "      <td>Este cuerpo me sienta de muerte</td>\n",
       "    </tr>\n",
       "    <tr>\n",
       "      <th>18</th>\n",
       "      <td>Godzilla vs. Kong</td>\n",
       "    </tr>\n",
       "    <tr>\n",
       "      <th>19</th>\n",
       "      <td>Guardianes de la Noche: Tren infinito</td>\n",
       "    </tr>\n",
       "    <tr>\n",
       "      <th>20</th>\n",
       "      <td>Los Croods: Una Nueva Era</td>\n",
       "    </tr>\n",
       "    <tr>\n",
       "      <th>21</th>\n",
       "      <td>Maratón El señor de los anillos</td>\n",
       "    </tr>\n",
       "    <tr>\n",
       "      <th>22</th>\n",
       "      <td>Mortal Kombat</td>\n",
       "    </tr>\n",
       "    <tr>\n",
       "      <th>23</th>\n",
       "      <td>Nadie</td>\n",
       "    </tr>\n",
       "    <tr>\n",
       "      <th>24</th>\n",
       "      <td>Otra ronda</td>\n",
       "    </tr>\n",
       "    <tr>\n",
       "      <th>25</th>\n",
       "      <td>Quo vadis, Aida?</td>\n",
       "    </tr>\n",
       "    <tr>\n",
       "      <th>26</th>\n",
       "      <td>Ruega por nosotros</td>\n",
       "    </tr>\n",
       "    <tr>\n",
       "      <th>27</th>\n",
       "      <td>Saw VIII</td>\n",
       "    </tr>\n",
       "    <tr>\n",
       "      <th>28</th>\n",
       "      <td>Spiral: Saw</td>\n",
       "    </tr>\n",
       "    <tr>\n",
       "      <th>29</th>\n",
       "      <td>Tiburón blanco</td>\n",
       "    </tr>\n",
       "    <tr>\n",
       "      <th>30</th>\n",
       "      <td>Todas las lunas</td>\n",
       "    </tr>\n",
       "    <tr>\n",
       "      <th>31</th>\n",
       "      <td>Tom y Jerry</td>\n",
       "    </tr>\n",
       "    <tr>\n",
       "      <th>32</th>\n",
       "      <td>Una joven prometedora</td>\n",
       "    </tr>\n",
       "    <tr>\n",
       "      <th>33</th>\n",
       "      <td>Una veterinaria en la Borgoña</td>\n",
       "    </tr>\n",
       "    <tr>\n",
       "      <th>34</th>\n",
       "      <td>Wonder Woman 1984</td>\n",
       "    </tr>\n",
       "  </tbody>\n",
       "</table>\n",
       "</div>"
      ],
      "text/plain": [
       "                                                film\n",
       "0                 ¡Upsss! 2 ¿Y ahora dónde está Noé?\n",
       "1                                             4 días\n",
       "2                                 Amanece en Calcuta\n",
       "3                      Aquellos que desean mi muerte\n",
       "4            Barbie y Chelsea, el cumpleaños perdido\n",
       "5                                       Boda sin fin\n",
       "6                                Borrar el historial\n",
       "7                                      Chaos Walking\n",
       "8                                            Cruella\n",
       "9                                            Cuñados\n",
       "10                                 Earwig y la bruja\n",
       "11                          El fotógrafo de Minamata\n",
       "12                             El olvido que seremos\n",
       "13                                          El Padre\n",
       "14       El señor de los anillos: el retorno del rey\n",
       "15  El señor de los anillos: la comunidad del anillo\n",
       "16           El señor de los anillos: las dos torres\n",
       "17                   Este cuerpo me sienta de muerte\n",
       "18                                 Godzilla vs. Kong\n",
       "19             Guardianes de la Noche: Tren infinito\n",
       "20                         Los Croods: Una Nueva Era\n",
       "21                   Maratón El señor de los anillos\n",
       "22                                     Mortal Kombat\n",
       "23                                             Nadie\n",
       "24                                        Otra ronda\n",
       "25                                  Quo vadis, Aida?\n",
       "26                                Ruega por nosotros\n",
       "27                                          Saw VIII\n",
       "28                                       Spiral: Saw\n",
       "29                                    Tiburón blanco\n",
       "30                                   Todas las lunas\n",
       "31                                       Tom y Jerry\n",
       "32                             Una joven prometedora\n",
       "33                     Una veterinaria en la Borgoña\n",
       "34                                 Wonder Woman 1984"
      ]
     },
     "execution_count": 137,
     "metadata": {},
     "output_type": "execute_result"
    }
   ],
   "source": [
    "df_films_2ffff"
   ]
  },
  {
   "cell_type": "code",
   "execution_count": null,
   "metadata": {},
   "outputs": [],
   "source": []
  }
 ],
 "metadata": {
  "kernelspec": {
   "display_name": "plan",
   "language": "python",
   "name": "plan"
  },
  "language_info": {
   "codemirror_mode": {
    "name": "ipython",
    "version": 3
   },
   "file_extension": ".py",
   "mimetype": "text/x-python",
   "name": "python",
   "nbconvert_exporter": "python",
   "pygments_lexer": "ipython3",
   "version": "3.8.8"
  }
 },
 "nbformat": 4,
 "nbformat_minor": 5
}
