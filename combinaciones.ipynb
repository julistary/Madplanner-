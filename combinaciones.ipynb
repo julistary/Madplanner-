{
 "cells": [
  {
   "cell_type": "code",
   "execution_count": null,
   "id": "057eb7d2",
   "metadata": {},
   "outputs": [],
   "source": [
    "import pandas as pd\n",
    "import geopandas\n",
    "from folium import Circle, Marker, Icon, Map\n",
    "from pymongo import MongoClient, GEOSPHERE\n",
    "conn = MongoClient(\"localhost:27017\")\n",
    "db = conn.get_database(\"madrid\")\n",
    "import random\n",
    "from folium import Circle, Marker, Icon, Map"
   ]
  },
  {
   "cell_type": "code",
   "execution_count": null,
   "id": "067449ae",
   "metadata": {},
   "outputs": [],
   "source": [
    "df_restaurants = pd.read_csv(\"data/restaurants.csv\", index_col=0)\n",
    "df_snacks = pd.read_csv(\"data/snacks.csv\", index_col=0)\n",
    "df_culture = pd.read_csv(\"data/culture.csv\", index_col=0)\n",
    "df_party = pd.read_csv(\"data/party.csv\", index_col=0)\n",
    "df_drinks = pd.read_csv(\"data/drinks.csv\", index_col=0)\n",
    "df_outdoors = pd.read_csv(\"data/outdoors.csv\", index_col=0)\n",
    "df_leisure = pd.read_csv(\"data/leisure.csv\", index_col=0)"
   ]
  },
  {
   "cell_type": "code",
   "execution_count": null,
   "id": "2542d3bf",
   "metadata": {},
   "outputs": [],
   "source": [
    "#list(df_restaurants.CP.unique())"
   ]
  },
  {
   "cell_type": "code",
   "execution_count": null,
   "id": "e45a886d",
   "metadata": {},
   "outputs": [],
   "source": [
    "leisure = db.get_collection(\"leisure\")\n",
    "outdoors = db.get_collection(\"outdoors\")\n",
    "restaurants = db.get_collection(\"restaurants\")\n",
    "drinks = db.get_collection(\"drinks\")\n",
    "party = db.get_collection(\"party\")\n",
    "snacks = db.get_collection(\"snacks\")\n",
    "culture = db.get_collection(\"culture\")\n",
    "\n",
    "transport = db.get_collection(\"transport\")\n"
   ]
  },
  {
   "cell_type": "markdown",
   "id": "34dd9bbf",
   "metadata": {},
   "source": [
    "## Team-building"
   ]
  },
  {
   "cell_type": "code",
   "execution_count": null,
   "id": "e1a250b9",
   "metadata": {},
   "outputs": [],
   "source": [
    "db.list_collection_names()"
   ]
  },
  {
   "cell_type": "code",
   "execution_count": null,
   "id": "fe820c7b",
   "metadata": {},
   "outputs": [],
   "source": [
    "intersection = set(list(df_leisure.CP.unique())).intersection(set(list(df_restaurants.CP.unique())))"
   ]
  },
  {
   "cell_type": "code",
   "execution_count": null,
   "id": "b549f6bf",
   "metadata": {},
   "outputs": [],
   "source": [
    "cp = list(intersection)"
   ]
  },
  {
   "cell_type": "code",
   "execution_count": null,
   "id": "784120f0",
   "metadata": {},
   "outputs": [],
   "source": [
    "cp_random = random.choice(cp)"
   ]
  },
  {
   "cell_type": "code",
   "execution_count": null,
   "id": "188d3dc6",
   "metadata": {},
   "outputs": [],
   "source": [
    "leis = list(leisure.find({\"CP\":str(int(cp_random))}))"
   ]
  },
  {
   "cell_type": "code",
   "execution_count": null,
   "id": "236e7802",
   "metadata": {},
   "outputs": [],
   "source": [
    "rest = list(restaurants.find({\"CP\":str(int(cp_random))}))"
   ]
  },
  {
   "cell_type": "code",
   "execution_count": null,
   "id": "3204a2fa",
   "metadata": {},
   "outputs": [],
   "source": [
    "l_random = random.choice(leis)\n",
    "r_random = random.choice(rest)"
   ]
  },
  {
   "cell_type": "code",
   "execution_count": null,
   "id": "7c55efcf",
   "metadata": {},
   "outputs": [],
   "source": [
    "l_random"
   ]
  },
  {
   "cell_type": "code",
   "execution_count": null,
   "id": "26676779",
   "metadata": {},
   "outputs": [],
   "source": [
    "r_random"
   ]
  },
  {
   "cell_type": "markdown",
   "id": "91500028",
   "metadata": {},
   "source": [
    "## Friends"
   ]
  },
  {
   "cell_type": "code",
   "execution_count": null,
   "id": "c2785704",
   "metadata": {},
   "outputs": [],
   "source": [
    "intersection = set(list(df_drinks.CP.unique())).intersection(set(list(df_party.CP.unique())))\n",
    "\n",
    "cp = list(intersection)\n",
    "\n",
    "cp_random = random.choice(cp)\n",
    "\n",
    "drinks_ = list(drinks.find({\"CP\":str(int(cp_random))}))\n",
    "\n",
    "party_ = list(party.find({\"CP\":str(int(cp_random))}))\n",
    "\n",
    "d_random = random.choice(drinks_)\n",
    "p_random = random.choice(party_)"
   ]
  },
  {
   "cell_type": "code",
   "execution_count": null,
   "id": "0e3f84ad",
   "metadata": {},
   "outputs": [],
   "source": [
    "d_random"
   ]
  },
  {
   "cell_type": "code",
   "execution_count": null,
   "id": "9c61fe3a",
   "metadata": {},
   "outputs": [],
   "source": [
    "p_random"
   ]
  },
  {
   "cell_type": "code",
   "execution_count": null,
   "id": "b6018843",
   "metadata": {},
   "outputs": [],
   "source": [
    "df1 = pd.DataFrame.from_dict(d_random)\n",
    "df2 = pd.DataFrame.from_dict(p_random)\n",
    "df = pd.concat([df1,df2])"
   ]
  },
  {
   "cell_type": "code",
   "execution_count": null,
   "id": "0be3d129",
   "metadata": {},
   "outputs": [],
   "source": [
    "#df = df.set_index(\"name\")\n",
    "df =df.drop([\"geometry\"], axis = 1)"
   ]
  },
  {
   "cell_type": "code",
   "execution_count": null,
   "id": "56d84cef",
   "metadata": {},
   "outputs": [],
   "source": [
    "df = df.drop_duplicates()"
   ]
  },
  {
   "cell_type": "code",
   "execution_count": null,
   "id": "8bbd3f52",
   "metadata": {},
   "outputs": [],
   "source": [
    "df"
   ]
  },
  {
   "cell_type": "markdown",
   "id": "94a6269a",
   "metadata": {},
   "source": [
    "## General"
   ]
  },
  {
   "cell_type": "code",
   "execution_count": null,
   "id": "206936b5",
   "metadata": {},
   "outputs": [],
   "source": [
    "def planes(df_1, df_2, coll_1, coll_2):\n",
    "    \n",
    "    intersection = set(list(df_1.CP.unique())).intersection(set(list(df_2.CP.unique())))\n",
    "\n",
    "    cp = list(intersection)\n",
    "\n",
    "    cp_random = random.choice(cp)\n",
    "\n",
    "    plan1 = list(coll_1.find({\"CP\":str(int(cp_random))}))\n",
    "\n",
    "    plan2 = list(coll_2.find({\"CP\":str(int(cp_random))}))\n",
    "    \n",
    "    p1_random = random.choice(plan1)\n",
    "    p2_random = random.choice(plan2)\n",
    "\n",
    "    df1 = pd.DataFrame.from_dict(p1_random)\n",
    "    df2 = pd.DataFrame.from_dict(p2_random)\n",
    "    df = pd.concat([df1,df2])\n",
    "    \n",
    "    df = df.set_index(\"_id\")\n",
    "    df =df.drop([\"geometry\"], axis = 1)\n",
    "    df = df.drop_duplicates()\n",
    "    \n",
    "    return df"
   ]
  },
  {
   "cell_type": "code",
   "execution_count": null,
   "id": "7db1f820",
   "metadata": {},
   "outputs": [],
   "source": [
    "def get_df(df):\n",
    "    df = df.set_index(\"name\")\n",
    "    return df.drop([\"place\", \"CP\", \"latitude\", \"longitude\"], axis=1)"
   ]
  },
  {
   "cell_type": "code",
   "execution_count": null,
   "id": "251265fe",
   "metadata": {},
   "outputs": [],
   "source": [
    "def get_map(df):\n",
    "    map_1 = Map(location=[list(df.latitude.unique())[0],list(df.longitude.unique())[0]],zoom_start=15)\n",
    "    for i, row in df.iterrows():\n",
    "        geom = {\n",
    "                    \"location\":[row[\"latitude\"], row[\"longitude\"]],\n",
    "                    \"tooltip\" : row[\"name\"]\n",
    "                }\n",
    "        icon = Icon(color = \"white\",\n",
    "                                prefix = \"fa\",\n",
    "                                icon = \"trophy\",\n",
    "                                icon_color = \"black\"\n",
    "                )\n",
    "\n",
    "\n",
    "        Marker(**geom,icon = icon ).add_to(map_1)\n",
    "        \n",
    "    return map_1"
   ]
  },
  {
   "cell_type": "code",
   "execution_count": null,
   "id": "e9b62c47",
   "metadata": {},
   "outputs": [],
   "source": [
    "def type_of_plan(plan):\n",
    "    \n",
    "    options_team_building = { \"option_1\" : [df_outdoors, df_restaurants, outdoors, restaurants],\n",
    "                             \"option_2\" : [df_leisure, df_restaurants, leisure, restaurants]\n",
    "                            }\n",
    "\n",
    "    options_friends = { \"option_1\" : [df_restaurants, df_drinks, restaurants, drinks],\n",
    "                        \"option_2\" : [df_outdoors, df_restaurants, outdoors, restaurants],\n",
    "                        \"option_3\" : [df_leisure, df_restaurants, leisure, restaurants],\n",
    "                        \"option_4\" : [df_party, df_restaurants, party, restaurants],\n",
    "                        \"option_5\" : [df_drinks, df_party, drinks, party],\n",
    "                        \"option_6\" : [df_snacks, df_leisure, snacks, leisure],\n",
    "                        \"option_7\" : [df_outdoors, df_snacks, outdoors, snacks]\n",
    "                     }\n",
    "\n",
    "    options_couple = { \"option_1\" : [df_restaurants, df_drinks, restaurants, drinks],\n",
    "                       \"option_2\" : [df_leisure, df_restaurants, leisure, restaurants],\n",
    "                       \"option_3\" : [df_culture, df_restaurants, culture, restaurants],\n",
    "                       \"option_4\" : [df_culture, df_snacks, culture, snacks]\n",
    "                     }\n",
    "\n",
    "    options_individual = { \"option_1\" : [df_culture, df_restaurants, culture, restaurants],\n",
    "                           \"option_2\" : [df_culture, df_snacks, culture, snacks]\n",
    "                         }\n",
    "\n",
    "    options_family = {  \"option_1\" : [df_culture, df_restaurants, culture, restaurants],\n",
    "                        \"option_2\" : [df_culture, df_snacks, culture, snacks],\n",
    "                        \"option_3\" : [df_outdoors, df_restaurants, outdoors, restaurants],\n",
    "                        \"option_4\" : [df_outdoors, df_snacks, outdoors, snacks],\n",
    "                        \"option_5\" : [df_leisure, df_restaurants, leisure, restaurants],\n",
    "                        \"option_6\" : [df_leisure, df_snacks, leisure, snacks]\n",
    "                     }\n",
    "    \n",
    "    if plan == \"family\":\n",
    "        options =  options_family\n",
    "    elif plan == \"friends\":\n",
    "        options = options_friend\n",
    "    elif plan == \"individual\":\n",
    "        options = options_individual\n",
    "    elif plan == \"couple\":\n",
    "        options = options_couple\n",
    "    elif plan == \"team building\":\n",
    "        options = options_team_building\n",
    "     \n",
    "    opt = random.choice(list(options.keys()))\n",
    "    args = options[opt]\n",
    "    arg_1 = args[0]  \n",
    "    arg_2 = args[1]  \n",
    "    arg_3 = args[2]  \n",
    "    arg_4 = args[3]  \n",
    "    \n",
    "    return planes(arg_1, arg_2, arg_3, arg_4)"
   ]
  },
  {
   "cell_type": "code",
   "execution_count": null,
   "id": "6bc78ea7",
   "metadata": {},
   "outputs": [],
   "source": [
    "plan = type_of_plan(\"couple\")"
   ]
  },
  {
   "cell_type": "code",
   "execution_count": null,
   "id": "97271d42",
   "metadata": {},
   "outputs": [],
   "source": [
    "get_df(plan)"
   ]
  },
  {
   "cell_type": "code",
   "execution_count": null,
   "id": "febae932",
   "metadata": {},
   "outputs": [],
   "source": [
    "get_map(plan)"
   ]
  },
  {
   "cell_type": "code",
   "execution_count": null,
   "id": "c2cb73d2",
   "metadata": {},
   "outputs": [],
   "source": []
  }
 ],
 "metadata": {
  "kernelspec": {
   "display_name": "plan",
   "language": "python",
   "name": "plan"
  },
  "language_info": {
   "codemirror_mode": {
    "name": "ipython",
    "version": 3
   },
   "file_extension": ".py",
   "mimetype": "text/x-python",
   "name": "python",
   "nbconvert_exporter": "python",
   "pygments_lexer": "ipython3",
   "version": "3.8.8"
  }
 },
 "nbformat": 4,
 "nbformat_minor": 5
}
