{
 "cells": [
  {
   "cell_type": "code",
   "execution_count": 1,
   "metadata": {},
   "outputs": [],
   "source": [
    "import pandas as pd\n",
    "import geopandas\n",
    "from folium import Circle, Marker, Icon, Map\n",
    "from pymongo import MongoClient, GEOSPHERE\n",
    "conn = MongoClient(\"localhost:27017\")\n",
    "db = conn.get_database(\"madrid\")\n",
    "import random\n",
    "from folium import Circle, Marker, Icon, Map"
   ]
  },
  {
   "cell_type": "code",
   "execution_count": 2,
   "metadata": {},
   "outputs": [],
   "source": [
    "df_restaurants = pd.read_csv(\"data/restaurants.csv\", index_col=0)\n",
    "df_snacks = pd.read_csv(\"data/snacks.csv\", index_col=0)\n",
    "df_culture = pd.read_csv(\"data/culture.csv\", index_col=0)\n",
    "df_party = pd.read_csv(\"data/party.csv\", index_col=0)\n",
    "df_drinks = pd.read_csv(\"data/drinks.csv\", index_col=0)\n",
    "df_outdoors = pd.read_csv(\"data/outdoors.csv\", index_col=0)\n",
    "df_leisure = pd.read_csv(\"data/leisure.csv\", index_col=0)"
   ]
  },
  {
   "cell_type": "code",
   "execution_count": 3,
   "metadata": {},
   "outputs": [],
   "source": [
    "#list(df_restaurants.CP.unique())"
   ]
  },
  {
   "cell_type": "code",
   "execution_count": 4,
   "metadata": {},
   "outputs": [],
   "source": [
    "leisure = db.get_collection(\"leisure\")\n",
    "outdoors = db.get_collection(\"outdoors\")\n",
    "restaurants = db.get_collection(\"restaurants\")\n",
    "drinks = db.get_collection(\"drinks\")\n",
    "party = db.get_collection(\"party\")\n",
    "snacks = db.get_collection(\"snacks\")\n",
    "culture = db.get_collection(\"culture\")\n",
    "transport = db.get_collection(\"transport\")\n"
   ]
  },
  {
   "cell_type": "markdown",
   "metadata": {},
   "source": [
    "## Team-building"
   ]
  },
  {
   "cell_type": "code",
   "execution_count": 5,
   "metadata": {},
   "outputs": [
    {
     "data": {
      "text/plain": [
       "['culture',\n",
       " 'transport',\n",
       " 'todo',\n",
       " 'leisure',\n",
       " 'party',\n",
       " 'restaurants',\n",
       " 'drinks',\n",
       " 'snacks',\n",
       " 'outdoors']"
      ]
     },
     "execution_count": 5,
     "metadata": {},
     "output_type": "execute_result"
    }
   ],
   "source": [
    "db.list_collection_names()"
   ]
  },
  {
   "cell_type": "code",
   "execution_count": 6,
   "metadata": {},
   "outputs": [],
   "source": [
    "intersection = set(list(df_leisure.CP.unique())).intersection(set(list(df_restaurants.CP.unique())))"
   ]
  },
  {
   "cell_type": "code",
   "execution_count": 7,
   "metadata": {},
   "outputs": [],
   "source": [
    "cp = list(intersection)"
   ]
  },
  {
   "cell_type": "code",
   "execution_count": 8,
   "metadata": {},
   "outputs": [],
   "source": [
    "cp_random = random.choice(cp)"
   ]
  },
  {
   "cell_type": "code",
   "execution_count": 9,
   "metadata": {},
   "outputs": [],
   "source": [
    "leis = list(leisure.find({\"CP\":str(int(cp_random))}))"
   ]
  },
  {
   "cell_type": "code",
   "execution_count": 10,
   "metadata": {},
   "outputs": [],
   "source": [
    "rest = list(restaurants.find({\"CP\":str(int(cp_random))}))"
   ]
  },
  {
   "cell_type": "code",
   "execution_count": 11,
   "metadata": {},
   "outputs": [],
   "source": [
    "l_random = random.choice(leis)\n",
    "r_random = random.choice(rest)"
   ]
  },
  {
   "cell_type": "code",
   "execution_count": 12,
   "metadata": {},
   "outputs": [
    {
     "data": {
      "text/plain": [
       "{'_id': ObjectId('60a0f5a8ca2d1425dcbbdbd9'),\n",
       " 'name': 'Bowling Ilusiona Plenilunio',\n",
       " 'rating': 4.3,\n",
       " 'address': 'C.C. Plenilunio, Calle de Aracne, 3, 28022 Madrid, Spain',\n",
       " 'price_level': 1.0,\n",
       " 'place': 'bowling',\n",
       " 'CP': '28022',\n",
       " 'latitude': 40.4475017,\n",
       " 'longitude': -3.5868256,\n",
       " 'geometry': {'type': 'Point', 'coordinates': [-3.5868256, 40.4475017]},\n",
       " 'price': '1-15€'}"
      ]
     },
     "execution_count": 12,
     "metadata": {},
     "output_type": "execute_result"
    }
   ],
   "source": [
    "l_random"
   ]
  },
  {
   "cell_type": "code",
   "execution_count": 13,
   "metadata": {},
   "outputs": [
    {
     "data": {
      "text/plain": [
       "{'_id': ObjectId('60a0f5a7bd9ddfe838fcbff9'),\n",
       " 'name': 'The Good Burger',\n",
       " 'rating': 3.9,\n",
       " 'address': 'Calle de Aracne, S/N, 28022 Madrid, Spain',\n",
       " 'price_level': 1.0,\n",
       " 'place': 'burger',\n",
       " 'CP': '28022',\n",
       " 'latitude': 40.4473406,\n",
       " 'longitude': -3.5866978,\n",
       " 'geometry': {'type': 'Point', 'coordinates': [-3.5866978, 40.4473406]},\n",
       " 'price': '1-15€'}"
      ]
     },
     "execution_count": 13,
     "metadata": {},
     "output_type": "execute_result"
    }
   ],
   "source": [
    "r_random"
   ]
  },
  {
   "cell_type": "markdown",
   "metadata": {},
   "source": [
    "## Friends"
   ]
  },
  {
   "cell_type": "code",
   "execution_count": 14,
   "metadata": {},
   "outputs": [],
   "source": [
    "intersection = set(list(df_drinks.CP.unique())).intersection(set(list(df_party.CP.unique())))\n",
    "\n",
    "cp = list(intersection)\n",
    "\n",
    "cp_random = random.choice(cp)\n",
    "\n",
    "drinks_ = list(drinks.find({\"CP\":str(int(cp_random))}))\n",
    "\n",
    "party_ = list(party.find({\"CP\":str(int(cp_random))}))\n",
    "\n",
    "d_random = random.choice(drinks_)\n",
    "p_random = random.choice(party_)"
   ]
  },
  {
   "cell_type": "code",
   "execution_count": 15,
   "metadata": {},
   "outputs": [
    {
     "data": {
      "text/plain": [
       "{'_id': ObjectId('60a0f5a7b68aeec84a076b84'),\n",
       " 'name': 'TomeVinos',\n",
       " 'rating': 4.7,\n",
       " 'address': 'Paseo de la Chopera, 194, 28100 Alcobendas, Madrid, Spain',\n",
       " 'price_level': 2.0,\n",
       " 'place': 'wine',\n",
       " 'CP': '28100',\n",
       " 'latitude': 40.5453377,\n",
       " 'longitude': -3.6590494,\n",
       " 'geometry': {'type': 'Point', 'coordinates': [-3.6590494, 40.5453377]},\n",
       " 'price': '1-15€'}"
      ]
     },
     "execution_count": 15,
     "metadata": {},
     "output_type": "execute_result"
    }
   ],
   "source": [
    "d_random"
   ]
  },
  {
   "cell_type": "code",
   "execution_count": 16,
   "metadata": {},
   "outputs": [
    {
     "data": {
      "text/plain": [
       "{'_id': ObjectId('60a0f5a85976320580e34311'),\n",
       " 'name': 'Sala Liverpool Karaoke',\n",
       " 'rating': 3.4,\n",
       " 'address': 'Plaza de Felipe Álvarez Gadea, 28100 Alcobendas, Madrid, Spain',\n",
       " 'price_level': 1.0,\n",
       " 'place': 'karaoke',\n",
       " 'CP': '28100',\n",
       " 'latitude': 40.5404831,\n",
       " 'longitude': -3.6322001,\n",
       " 'geometry': {'type': 'Point', 'coordinates': [-3.6322001, 40.5404831]},\n",
       " 'price': '1-15€'}"
      ]
     },
     "execution_count": 16,
     "metadata": {},
     "output_type": "execute_result"
    }
   ],
   "source": [
    "p_random"
   ]
  },
  {
   "cell_type": "code",
   "execution_count": 17,
   "metadata": {},
   "outputs": [],
   "source": [
    "df1 = pd.DataFrame.from_dict(d_random)\n",
    "df2 = pd.DataFrame.from_dict(p_random)\n",
    "df = pd.concat([df1,df2])"
   ]
  },
  {
   "cell_type": "code",
   "execution_count": 18,
   "metadata": {},
   "outputs": [],
   "source": [
    "#df = df.set_index(\"name\")\n",
    "df =df.drop([\"geometry\"], axis = 1)"
   ]
  },
  {
   "cell_type": "code",
   "execution_count": 19,
   "metadata": {},
   "outputs": [],
   "source": [
    "df = df.drop_duplicates()"
   ]
  },
  {
   "cell_type": "code",
   "execution_count": 20,
   "metadata": {},
   "outputs": [
    {
     "data": {
      "text/html": [
       "<div>\n",
       "<style scoped>\n",
       "    .dataframe tbody tr th:only-of-type {\n",
       "        vertical-align: middle;\n",
       "    }\n",
       "\n",
       "    .dataframe tbody tr th {\n",
       "        vertical-align: top;\n",
       "    }\n",
       "\n",
       "    .dataframe thead th {\n",
       "        text-align: right;\n",
       "    }\n",
       "</style>\n",
       "<table border=\"1\" class=\"dataframe\">\n",
       "  <thead>\n",
       "    <tr style=\"text-align: right;\">\n",
       "      <th></th>\n",
       "      <th>_id</th>\n",
       "      <th>name</th>\n",
       "      <th>rating</th>\n",
       "      <th>address</th>\n",
       "      <th>price_level</th>\n",
       "      <th>place</th>\n",
       "      <th>CP</th>\n",
       "      <th>latitude</th>\n",
       "      <th>longitude</th>\n",
       "      <th>price</th>\n",
       "    </tr>\n",
       "  </thead>\n",
       "  <tbody>\n",
       "    <tr>\n",
       "      <th>coordinates</th>\n",
       "      <td>60a0f5a7b68aeec84a076b84</td>\n",
       "      <td>TomeVinos</td>\n",
       "      <td>4.7</td>\n",
       "      <td>Paseo de la Chopera, 194, 28100 Alcobendas, Ma...</td>\n",
       "      <td>2.0</td>\n",
       "      <td>wine</td>\n",
       "      <td>28100</td>\n",
       "      <td>40.545338</td>\n",
       "      <td>-3.659049</td>\n",
       "      <td>1-15€</td>\n",
       "    </tr>\n",
       "    <tr>\n",
       "      <th>coordinates</th>\n",
       "      <td>60a0f5a85976320580e34311</td>\n",
       "      <td>Sala Liverpool Karaoke</td>\n",
       "      <td>3.4</td>\n",
       "      <td>Plaza de Felipe Álvarez Gadea, 28100 Alcobenda...</td>\n",
       "      <td>1.0</td>\n",
       "      <td>karaoke</td>\n",
       "      <td>28100</td>\n",
       "      <td>40.540483</td>\n",
       "      <td>-3.632200</td>\n",
       "      <td>1-15€</td>\n",
       "    </tr>\n",
       "  </tbody>\n",
       "</table>\n",
       "</div>"
      ],
      "text/plain": [
       "                                  _id                    name  rating  \\\n",
       "coordinates  60a0f5a7b68aeec84a076b84               TomeVinos     4.7   \n",
       "coordinates  60a0f5a85976320580e34311  Sala Liverpool Karaoke     3.4   \n",
       "\n",
       "                                                       address  price_level  \\\n",
       "coordinates  Paseo de la Chopera, 194, 28100 Alcobendas, Ma...          2.0   \n",
       "coordinates  Plaza de Felipe Álvarez Gadea, 28100 Alcobenda...          1.0   \n",
       "\n",
       "               place     CP   latitude  longitude  price  \n",
       "coordinates     wine  28100  40.545338  -3.659049  1-15€  \n",
       "coordinates  karaoke  28100  40.540483  -3.632200  1-15€  "
      ]
     },
     "execution_count": 20,
     "metadata": {},
     "output_type": "execute_result"
    }
   ],
   "source": [
    "df"
   ]
  },
  {
   "cell_type": "markdown",
   "metadata": {},
   "source": [
    "## General"
   ]
  },
  {
   "cell_type": "code",
   "execution_count": 21,
   "metadata": {},
   "outputs": [],
   "source": [
    "def planes(df_1, df_2, coll_1, coll_2):\n",
    "    \n",
    "    intersection = set(list(df_1.CP.unique())).intersection(set(list(df_2.CP.unique())))\n",
    "\n",
    "    cp = list(intersection)\n",
    "\n",
    "    cp_random = random.choice(cp)\n",
    "\n",
    "    plan1 = list(coll_1.find({\"CP\":str(int(cp_random))}))\n",
    "\n",
    "    plan2 = list(coll_2.find({\"CP\":str(int(cp_random))}))\n",
    "    \n",
    "    p1_random = random.choice(plan1)\n",
    "    p2_random = random.choice(plan2)\n",
    "\n",
    "    df1 = pd.DataFrame.from_dict(p1_random)\n",
    "    df2 = pd.DataFrame.from_dict(p2_random)\n",
    "    df = pd.concat([df1,df2])\n",
    "    \n",
    "    df = df.set_index(\"_id\")\n",
    "    df =df.drop([\"geometry\"], axis = 1)\n",
    "    df = df.drop_duplicates()\n",
    "    \n",
    "    return df"
   ]
  },
  {
   "cell_type": "code",
   "execution_count": 22,
   "metadata": {},
   "outputs": [],
   "source": [
    "def get_df(df):\n",
    "    df = df.set_index(\"name\")\n",
    "    return df.drop([\"place\", \"CP\", \"latitude\", \"longitude\"], axis=1)"
   ]
  },
  {
   "cell_type": "code",
   "execution_count": 23,
   "metadata": {},
   "outputs": [],
   "source": [
    "def get_map(df):\n",
    "    map_1 = Map(location=[list(df.latitude.unique())[0],list(df.longitude.unique())[0]],zoom_start=15)\n",
    "    for i, row in df.iterrows():\n",
    "        geom = {\n",
    "                    \"location\":[row[\"latitude\"], row[\"longitude\"]],\n",
    "                    \"tooltip\" : row[\"name\"]\n",
    "                }\n",
    "        icon = Icon(color = \"white\",\n",
    "                                prefix = \"fa\",\n",
    "                                icon = \"trophy\",\n",
    "                                icon_color = \"black\"\n",
    "                )\n",
    "\n",
    "\n",
    "        Marker(**geom,icon = icon ).add_to(map_1)\n",
    "        \n",
    "    return map_1"
   ]
  },
  {
   "cell_type": "code",
   "execution_count": 24,
   "metadata": {},
   "outputs": [],
   "source": [
    "def type_of_plan(plan):\n",
    "    \n",
    "    options_team_building = { \"option_1\" : [df_outdoors, df_restaurants, outdoors, restaurants],\n",
    "                             \"option_2\" : [df_leisure, df_restaurants, leisure, restaurants]\n",
    "                            }\n",
    "\n",
    "    options_friends = { \"option_1\" : [df_restaurants, df_drinks, restaurants, drinks],\n",
    "                        \"option_2\" : [df_outdoors, df_restaurants, outdoors, restaurants],\n",
    "                        \"option_3\" : [df_leisure, df_restaurants, leisure, restaurants],\n",
    "                        \"option_4\" : [df_party, df_restaurants, party, restaurants],\n",
    "                        \"option_5\" : [df_drinks, df_party, drinks, party],\n",
    "                        \"option_6\" : [df_snacks, df_leisure, snacks, leisure],\n",
    "                        \"option_7\" : [df_outdoors, df_snacks, outdoors, snacks]\n",
    "                     }\n",
    "\n",
    "    options_couple = { \"option_1\" : [df_restaurants, df_drinks, restaurants, drinks],\n",
    "                       \"option_2\" : [df_leisure, df_restaurants, leisure, restaurants],\n",
    "                       \"option_3\" : [df_culture, df_restaurants, culture, restaurants],\n",
    "                       \"option_4\" : [df_culture, df_snacks, culture, snacks]\n",
    "                     }\n",
    "\n",
    "    options_individual = { \"option_1\" : [df_culture, df_restaurants, culture, restaurants],\n",
    "                           \"option_2\" : [df_culture, df_snacks, culture, snacks]\n",
    "                         }\n",
    "\n",
    "    options_family = {  \"option_1\" : [df_culture, df_restaurants, culture, restaurants],\n",
    "                        \"option_2\" : [df_culture, df_snacks, culture, snacks],\n",
    "                        \"option_3\" : [df_outdoors, df_restaurants, outdoors, restaurants],\n",
    "                        \"option_4\" : [df_outdoors, df_snacks, outdoors, snacks],\n",
    "                        \"option_5\" : [df_leisure, df_restaurants, leisure, restaurants],\n",
    "                        \"option_6\" : [df_leisure, df_snacks, leisure, snacks]\n",
    "                     }\n",
    "    \n",
    "    if plan == \"family\":\n",
    "        options =  options_family\n",
    "    elif plan == \"friends\":\n",
    "        options = options_friend\n",
    "    elif plan == \"individual\":\n",
    "        options = options_individual\n",
    "    elif plan == \"couple\":\n",
    "        options = options_couple\n",
    "    elif plan == \"team building\":\n",
    "        options = options_team_building\n",
    "     \n",
    "    opt = random.choice(list(options.keys()))\n",
    "    args = options[opt]\n",
    "    arg_1 = args[0]  \n",
    "    arg_2 = args[1]  \n",
    "    arg_3 = args[2]  \n",
    "    arg_4 = args[3]  \n",
    "    \n",
    "    return planes(arg_1, arg_2, arg_3, arg_4)"
   ]
  },
  {
   "cell_type": "code",
   "execution_count": 25,
   "metadata": {},
   "outputs": [],
   "source": [
    "plan = type_of_plan(\"couple\")"
   ]
  },
  {
   "cell_type": "code",
   "execution_count": 26,
   "metadata": {},
   "outputs": [
    {
     "data": {
      "text/html": [
       "<div>\n",
       "<style scoped>\n",
       "    .dataframe tbody tr th:only-of-type {\n",
       "        vertical-align: middle;\n",
       "    }\n",
       "\n",
       "    .dataframe tbody tr th {\n",
       "        vertical-align: top;\n",
       "    }\n",
       "\n",
       "    .dataframe thead th {\n",
       "        text-align: right;\n",
       "    }\n",
       "</style>\n",
       "<table border=\"1\" class=\"dataframe\">\n",
       "  <thead>\n",
       "    <tr style=\"text-align: right;\">\n",
       "      <th></th>\n",
       "      <th>rating</th>\n",
       "      <th>address</th>\n",
       "      <th>price_level</th>\n",
       "      <th>price</th>\n",
       "    </tr>\n",
       "    <tr>\n",
       "      <th>name</th>\n",
       "      <th></th>\n",
       "      <th></th>\n",
       "      <th></th>\n",
       "      <th></th>\n",
       "    </tr>\n",
       "  </thead>\n",
       "  <tbody>\n",
       "    <tr>\n",
       "      <th>Duomo's Pizza</th>\n",
       "      <td>3.7</td>\n",
       "      <td>Calle de Caleruega, 3, 28033 Madrid, Spain</td>\n",
       "      <td>1.0</td>\n",
       "      <td>1-15€</td>\n",
       "    </tr>\n",
       "    <tr>\n",
       "      <th>Soccer Bar Cervecería</th>\n",
       "      <td>3.9</td>\n",
       "      <td>Calle de Caleruega, 1, 28033 Madrid, Spain</td>\n",
       "      <td>2.0</td>\n",
       "      <td>1-15€</td>\n",
       "    </tr>\n",
       "  </tbody>\n",
       "</table>\n",
       "</div>"
      ],
      "text/plain": [
       "                       rating                                     address  \\\n",
       "name                                                                        \n",
       "Duomo's Pizza             3.7  Calle de Caleruega, 3, 28033 Madrid, Spain   \n",
       "Soccer Bar Cervecería     3.9  Calle de Caleruega, 1, 28033 Madrid, Spain   \n",
       "\n",
       "                       price_level  price  \n",
       "name                                       \n",
       "Duomo's Pizza                  1.0  1-15€  \n",
       "Soccer Bar Cervecería          2.0  1-15€  "
      ]
     },
     "execution_count": 26,
     "metadata": {},
     "output_type": "execute_result"
    }
   ],
   "source": [
    "get_df(plan)"
   ]
  },
  {
   "cell_type": "code",
   "execution_count": 44,
   "metadata": {},
   "outputs": [],
   "source": [
    "map_ = get_map(plan)"
   ]
  },
  {
   "cell_type": "code",
   "execution_count": 96,
   "metadata": {},
   "outputs": [],
   "source": [
    "def planes_price(max_):\n",
    "    \n",
    "    options = {\"snacks + restaurant\" : [df_snacks, df_restaurants, snacks, restaurants],\n",
    "     \"snacks + leisure activity\" : [df_snacks, df_leisure, snacks, leisure],\n",
    "     \"snacks + outdoors activity\" : [df_snacks, df_outdoors, snacks, outdoors],\n",
    "     \"snacks + culture\" : [df_snacks, df_culture, snacks, culture],\n",
    "     \"snacks + drinks\" : [df_snacks, df_drinks, snacks, drinks],\n",
    "     \"snacks + party\" : [df_snacks, df_party, snacks, party],\n",
    "     \"restaurant + leisure activity\" : [df_restaurants, df_leisure, restaurants, leisure],\n",
    "     \"restaurant + outdoors activity\" : [df_restaurants, df_outdoors, restaurants, outdoors],\n",
    "     \"restaurant + culture\" : [df_restaurants, df_culture, restaurants, culture],\n",
    "     \"restaurant + drinks\" : [df_restaurants, df_drinks, restaurants, drinks],\n",
    "     \"restaurant + party\" : [df_restaurants, df_party, restaurants, party],\n",
    "     \"leisure activity + outdoors activity\" : [df_leisure, df_outdoors, leisure, outdoors],\n",
    "     \"leisure activity + culture\" : [df_leisure, df_culture, leisure, culture],\n",
    "     \"leisure activity + drinks\" : [df_leisure, df_drinks, leisure, drinks],\n",
    "     \"leisure activity + party\" : [df_leisure, df_party, leisure, party],  \n",
    "     \"outdoors activity + culture\" : [df_outdoors, df_culture, outdoors, culture],\n",
    "     \"outdoors activity + drinks\" : [df_outdoors, df_drinks, outdoors, drinks],\n",
    "     \"outdoors activity + party\" : [df_outdoors, df_party, outdoors, party],\n",
    "     \"culture + drinks\" : [df_culture, df_drinks, culture, drinks],\n",
    "     \"culture + party\" : [df_culture, df_party, culture, party],\n",
    "     \"drinks + party\" : [df_drinks, df_party, drinks, party]\n",
    "    }\n",
    "     \n",
    "    opt = random.choice(list(options.keys()))\n",
    "    args = options[opt]\n",
    "    df_1 = args[0]  \n",
    "    df_2 = args[1]  \n",
    "    coll_1 = args[2]  \n",
    "    coll_2 = args[3] \n",
    "    \n",
    "    intersection = set(list(df_1.CP.unique())).intersection(set(list(df_2.CP.unique())))\n",
    "\n",
    "    cp = list(intersection)\n",
    "\n",
    "    cp_random = random.choice(cp)\n",
    "\n",
    "    plan1 = list(coll_1.find({\"CP\":str(int(cp_random))}))\n",
    "\n",
    "    plan2 = list(coll_2.find({\"CP\":str(int(cp_random))}))\n",
    "    \n",
    "    p1_random = random.choice(plan1)\n",
    "    p2_random = random.choice(plan2)\n",
    "\n",
    "    df1 = pd.DataFrame.from_dict(p1_random)\n",
    "    df2 = pd.DataFrame.from_dict(p2_random)\n",
    "    df = pd.concat([df1,df2])\n",
    "    \n",
    "    df = df.set_index(\"_id\")\n",
    "    df =df.drop([\"geometry\"], axis = 1)\n",
    "    df = df.drop_duplicates()\n",
    "    \n",
    "    prices = []\n",
    "    for p in list(df.price_level):\n",
    "        if p == 0.0:\n",
    "            prices.append(0)\n",
    "        elif p == 1.0:\n",
    "            prices.append(15)\n",
    "        elif p == 2.0:\n",
    "            prices.append(25)\n",
    "        elif p == 3.0:\n",
    "            prices.append(50)\n",
    "        else: \n",
    "            prices.append(150)\n",
    "\n",
    "    if sum(prices) > max_:\n",
    "        return planes_price(max_)\n",
    "    else: \n",
    "        return df"
   ]
  },
  {
   "cell_type": "code",
   "execution_count": 98,
   "metadata": {},
   "outputs": [],
   "source": [
    "def select_plans(max_):\n",
    "    \n",
    "    options = {\"snacks + restaurant\" : [df_snacks, df_restaurants, snacks, restaurants],\n",
    "     \"snacks + leisure activity\" : [df_snacks, df_leisure, snacks, leisure],\n",
    "     \"snacks + outdoors activity\" : [df_snacks, df_outdoors, snacks, outdoors],\n",
    "     \"snacks + culture\" : [df_snacks, df_culture, snacks, culture],\n",
    "     \"snacks + drinks\" : [df_snacks, df_drinks, snacks, drinks],\n",
    "     \"snacks + party\" : [df_snacks, df_party, snacks, party],\n",
    "     \"restaurant + leisure activity\" : [df_restaurants, df_leisure, restaurants, leisure],\n",
    "     \"restaurant + outdoors activity\" : [df_restaurants, df_outdoors, restaurants, outdoors],\n",
    "     \"restaurant + culture\" : [df_restaurants, df_culture, restaurants, culture],\n",
    "     \"restaurant + drinks\" : [df_restaurants, df_drinks, restaurants, drinks],\n",
    "     \"restaurant + party\" : [df_restaurants, df_party, restaurants, party],\n",
    "     \"leisure activity + outdoors activity\" : [df_leisure, df_outdoors, leisure, outdoors],\n",
    "     \"leisure activity + culture\" : [df_leisure, df_culture, leisure, culture],\n",
    "     \"leisure activity + drinks\" : [df_leisure, df_drinks, leisure, drinks],\n",
    "     \"leisure activity + party\" : [df_leisure, df_party, leisure, party],  \n",
    "     \"outdoors activity + culture\" : [df_outdoors, df_culture, outdoors, culture],\n",
    "     \"outdoors activity + drinks\" : [df_outdoors, df_drinks, outdoors, drinks],\n",
    "     \"outdoors activity + party\" : [df_outdoors, df_party, outdoors, party],\n",
    "     \"culture + drinks\" : [df_culture, df_drinks, culture, drinks],\n",
    "     \"culture + party\" : [df_culture, df_party, culture, party],\n",
    "     \"drinks + party\" : [df_drinks, df_party, drinks, party]\n",
    "    }\n",
    "     \n",
    "    opt = random.choice(list(options.keys()))\n",
    "    args = options[opt]\n",
    "    arg_1 = args[0]  \n",
    "    arg_2 = args[1]  \n",
    "    arg_3 = args[2]  \n",
    "    arg_4 = args[3]  \n",
    "    \n",
    "    return planes_price(arg_1, arg_2, arg_3, arg_4,max_)\n",
    "    "
   ]
  },
  {
   "cell_type": "code",
   "execution_count": 97,
   "metadata": {},
   "outputs": [
    {
     "data": {
      "text/plain": [
       "'Not found'"
      ]
     },
     "execution_count": 97,
     "metadata": {},
     "output_type": "execute_result"
    }
   ],
   "source": [
    "planes(df_snacks, df_culture, snacks, culture,10)"
   ]
  },
  {
   "cell_type": "code",
   "execution_count": 55,
   "metadata": {},
   "outputs": [],
   "source": [
    "prices = []\n",
    "for p in list(df.price_level):\n",
    "    if p == 0.0:\n",
    "        prices.append(0)\n",
    "    elif p == 1.0:\n",
    "        prices.append(15)\n",
    "    elif p == 2.0:\n",
    "        prices.append(25)\n",
    "    elif p == 3.0:\n",
    "        prices.append(50)\n",
    "    else: \n",
    "        prices.append(150)"
   ]
  },
  {
   "cell_type": "code",
   "execution_count": 58,
   "metadata": {},
   "outputs": [
    {
     "data": {
      "text/plain": [
       "40"
      ]
     },
     "execution_count": 58,
     "metadata": {},
     "output_type": "execute_result"
    }
   ],
   "source": [
    "sum(prices)"
   ]
  },
  {
   "cell_type": "code",
   "execution_count": 59,
   "metadata": {},
   "outputs": [],
   "source": [
    "max_ = 60"
   ]
  },
  {
   "cell_type": "code",
   "execution_count": 60,
   "metadata": {},
   "outputs": [],
   "source": [
    "call = planes(df_snacks, df_culture, snacks, culture)"
   ]
  },
  {
   "cell_type": "code",
   "execution_count": 77,
   "metadata": {},
   "outputs": [],
   "source": [
    "prices = [100,150]"
   ]
  },
  {
   "cell_type": "code",
   "execution_count": 78,
   "metadata": {},
   "outputs": [],
   "source": [
    "def plan_check(max_):\n",
    "    try:\n",
    "        if sum(prices) > max_:\n",
    "            return call\n",
    "        else: \n",
    "            return df\n",
    "    except:\n",
    "        \"Not found\""
   ]
  },
  {
   "cell_type": "code",
   "execution_count": 79,
   "metadata": {},
   "outputs": [
    {
     "data": {
      "text/html": [
       "<div>\n",
       "<style scoped>\n",
       "    .dataframe tbody tr th:only-of-type {\n",
       "        vertical-align: middle;\n",
       "    }\n",
       "\n",
       "    .dataframe tbody tr th {\n",
       "        vertical-align: top;\n",
       "    }\n",
       "\n",
       "    .dataframe thead th {\n",
       "        text-align: right;\n",
       "    }\n",
       "</style>\n",
       "<table border=\"1\" class=\"dataframe\">\n",
       "  <thead>\n",
       "    <tr style=\"text-align: right;\">\n",
       "      <th></th>\n",
       "      <th>name</th>\n",
       "      <th>rating</th>\n",
       "      <th>address</th>\n",
       "      <th>price_level</th>\n",
       "      <th>place</th>\n",
       "      <th>CP</th>\n",
       "      <th>latitude</th>\n",
       "      <th>longitude</th>\n",
       "      <th>price</th>\n",
       "    </tr>\n",
       "    <tr>\n",
       "      <th>_id</th>\n",
       "      <th></th>\n",
       "      <th></th>\n",
       "      <th></th>\n",
       "      <th></th>\n",
       "      <th></th>\n",
       "      <th></th>\n",
       "      <th></th>\n",
       "      <th></th>\n",
       "      <th></th>\n",
       "    </tr>\n",
       "  </thead>\n",
       "  <tbody>\n",
       "    <tr>\n",
       "      <th>60a0f5a8709918f94d5e6f16</th>\n",
       "      <td>Juicy Avenue</td>\n",
       "      <td>4.1</td>\n",
       "      <td>CC Moraleja Green, Av. de Europa, 13, 28108 Ma...</td>\n",
       "      <td>1.0</td>\n",
       "      <td>juices</td>\n",
       "      <td>28108</td>\n",
       "      <td>40.518858</td>\n",
       "      <td>-3.655867</td>\n",
       "      <td>15-25€</td>\n",
       "    </tr>\n",
       "    <tr>\n",
       "      <th>60a0f5a7469adda97be6c625</th>\n",
       "      <td>Kinépolis Madrid Diversia</td>\n",
       "      <td>4.2</td>\n",
       "      <td>C.C. Heron Diversia, Av. de Bruselas, 21, 2810...</td>\n",
       "      <td>1.0</td>\n",
       "      <td>cinema</td>\n",
       "      <td>28108</td>\n",
       "      <td>40.530082</td>\n",
       "      <td>-3.639672</td>\n",
       "      <td>25-50€</td>\n",
       "    </tr>\n",
       "  </tbody>\n",
       "</table>\n",
       "</div>"
      ],
      "text/plain": [
       "                                               name  rating  \\\n",
       "_id                                                           \n",
       "60a0f5a8709918f94d5e6f16               Juicy Avenue     4.1   \n",
       "60a0f5a7469adda97be6c625  Kinépolis Madrid Diversia     4.2   \n",
       "\n",
       "                                                                    address  \\\n",
       "_id                                                                           \n",
       "60a0f5a8709918f94d5e6f16  CC Moraleja Green, Av. de Europa, 13, 28108 Ma...   \n",
       "60a0f5a7469adda97be6c625  C.C. Heron Diversia, Av. de Bruselas, 21, 2810...   \n",
       "\n",
       "                          price_level   place     CP   latitude  longitude  \\\n",
       "_id                                                                          \n",
       "60a0f5a8709918f94d5e6f16          1.0  juices  28108  40.518858  -3.655867   \n",
       "60a0f5a7469adda97be6c625          1.0  cinema  28108  40.530082  -3.639672   \n",
       "\n",
       "                           price  \n",
       "_id                               \n",
       "60a0f5a8709918f94d5e6f16  15-25€  \n",
       "60a0f5a7469adda97be6c625  25-50€  "
      ]
     },
     "execution_count": 79,
     "metadata": {},
     "output_type": "execute_result"
    }
   ],
   "source": [
    "plan_check(10)"
   ]
  },
  {
   "cell_type": "code",
   "execution_count": null,
   "metadata": {},
   "outputs": [],
   "source": []
  }
 ],
 "metadata": {
  "kernelspec": {
   "display_name": "plan",
   "language": "python",
   "name": "plan"
  },
  "language_info": {
   "codemirror_mode": {
    "name": "ipython",
    "version": 3
   },
   "file_extension": ".py",
   "mimetype": "text/x-python",
   "name": "python",
   "nbconvert_exporter": "python",
   "pygments_lexer": "ipython3",
   "version": "3.8.8"
  }
 },
 "nbformat": 4,
 "nbformat_minor": 5
}
